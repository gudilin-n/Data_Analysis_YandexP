{
 "cells": [
  {
   "cell_type": "raw",
   "metadata": {},
   "source": [
    "<div class=\"alert alert-success\">\n",
    "<h2> Комментарий ревьюера</h2>\n",
    "    \n",
    "Привет! Меня зовут Алексей Тюрин, я буду делать ревью этой работы. Давай будем общаться на «ты».\n",
    "\n",
    "У тебя хорошая, внимательная работа, я её приму 👍. Тем не менее есть комментарии по мелочи, на которые надо обратить внимание. Удачи в следующих спринтах :)\n",
    "\n",
    "\n",
    "Зелёным цветом отмечены комментарии, формально не требующие правки, но правки приветствуются. Жёлтым цветом выделено то, что в следующий раз можно сделать по-другому или можно поправить прямо сейчас.\n",
    "\n",
    "Давай работать над проектом в диалоге: если ты **что-то меняешь** в проекте по моим рекомендациям — **пиши об этом**. Выбери для своих комментариев какой-то заметный цвет, так мне будет легче отследить изменения. Пожалуйста, **не перемещай, не изменяй и не удаляй мои комментарии**. Всё это поможет выполнить повторную проверку твоего проекта оперативнее». Если оставляешь комментарии на какой-то итерации ревью, пиши что-то вроде `комментарий студента V.номер итерации`\n",
    "</div>\n",
    "\n",
    "Цвет можно сделать, например, так\n",
    "\n",
    "<div class = \"alert alert-info\" >\n",
    "<h2>Комментарий студента</h2>\n",
    "Ревьюер душнила :)\n",
    "</div>\n",
    "\n",
    "Или так:\n",
    "    \n",
    "<div class=\"alert alert-info\" style=\"background:pink;color:#A91E69\">\n",
    "<h2>Комментарий студента </h2>\n",
    "    ...\n",
    "</div>"
   ]
  },
  {
   "cell_type": "markdown",
   "metadata": {},
   "source": [
    "# Оглавление\n",
    "1. [Изучение данных из файла](#start)\n",
    "    1. [Вывод](#conclusion1)\n",
    "2. [Предобработка данных](#preprocessing)\n",
    "    1. [Вывод](#conclusion2)\n",
    "3. [Исследовательский анализ данных](#eda)\n",
    "    1. [Вывод](#conclusion3)\n",
    "4. [Анализ данных](#data_analysis)\n",
    "    1. [Вывод](#conclusion4)\n",
    "5. [Проверка гипотез](#hypothesis_testing)\n",
    "    1. [Вывод](#conclusion5)\n",
    "6. [Общий вывод](#conclusion) "
   ]
  },
  {
   "cell_type": "markdown",
   "metadata": {},
   "source": [
    "# Описание данных\n",
    "Данные за 2016 год могут быть неполными."
   ]
  },
  {
   "cell_type": "markdown",
   "metadata": {},
   "source": [
    "**1. Количественные (числовые):**\n",
    "\n",
    "    1. Непрерывные\n",
    "        1. Year_of_Release — год выпуска\n",
    "    2. Дискретные\n",
    "        1. Critic_Score — оценка критиков (максимум 100)\n",
    "        2. User_Score — оценка пользователей (максимум 10)\n",
    "        3. Rating — рейтинг от организации ESRB (англ. Entertainment Software Rating Board). Эта ассоциация определяет рейтинг компьютерных игр и присваивает им подходящую возрастную категорию.\n",
    "        4. NA_sales — продажи в Северной Америке (миллионы проданных копий)\n",
    "        5. EU_sales — продажи в Европе (миллионы проданных копий)\n",
    "        6. JP_sales — продажи в Японии (миллионы проданных копий)\n",
    "        7. Other_sales — продажи в других странах (миллионы проданных копий)\n",
    "   \n",
    "**2. Категориальные (качественные):**\n",
    "* Name — название игры\n",
    "* Platform — платформа\n",
    "* Genre — жанр игры\n",
    "\n",
    "\n",
    "**3. Логические (булевы):**\n",
    "* Отсутсвуют\n"
   ]
  },
  {
   "cell_type": "markdown",
   "metadata": {},
   "source": [
    "# Описание проекта"
   ]
  },
  {
   "cell_type": "markdown",
   "metadata": {},
   "source": [
    "Вы работаете в интернет-магазине «Стримчик», который продаёт по всему миру компьютерные игры. Из открытых источников доступны исторические данные о продажах игр, оценки пользователей и экспертов, жанры и платформы (например, Xbox или PlayStation). Вам нужно выявить определяющие успешность игры закономерности. Это позволит сделать ставку на потенциально популярный продукт и спланировать рекламные кампании.\n",
    "Перед вами данные до 2016 года. Представим, что сейчас декабрь 2016 г., и вы планируете кампанию на 2017-й. Нужно отработать принцип работы с данными. Неважно, прогнозируете ли вы продажи на 2017 год по данным 2016-го или же 2027-й — по данным 2026 года.\n",
    "В наборе данных попадается аббревиатура ESRB (Entertainment Software Rating Board) — это ассоциация, определяющая возрастной рейтинг компьютерных игр. ESRB оценивает игровой контент и присваивает ему подходящую возрастную категорию, например, «Для взрослых», «Для детей младшего возраста» или «Для подростков»."
   ]
  },
  {
   "cell_type": "markdown",
   "metadata": {},
   "source": [
    "## Изучение данных из файла\n",
    "<a id=\"start\"></a>"
   ]
  },
  {
   "cell_type": "code",
   "execution_count": 1,
   "metadata": {},
   "outputs": [],
   "source": [
    "import pandas as pd\n",
    "import numpy as np\n",
    "import matplotlib.pyplot as plt\n",
    "from scipy import stats as st"
   ]
  },
  {
   "cell_type": "code",
   "execution_count": 2,
   "metadata": {},
   "outputs": [],
   "source": [
    "pd.set_option('display.float_format', lambda x: '%.3f' % x) # для нормального отображение вещественных чисел"
   ]
  },
  {
   "cell_type": "code",
   "execution_count": 3,
   "metadata": {},
   "outputs": [],
   "source": [
    "try:\n",
    "    df = pd.read_csv('/datasets/games.csv')\n",
    "except:\n",
    "    df = pd.read_csv('/Users/nikitagudilin/Desktop/YANDEX_PRAKTIKUM/PROJECTS/sborniy/games.csv')"
   ]
  },
  {
   "cell_type": "markdown",
   "metadata": {},
   "source": [
    "<div class=\"alert alert-success\">\n",
    "<h2>Комментарий ревьюера</h2>\n",
    "\n",
    "Пустой `except` лучше не писать, т.к. он ловит <b>все</b> исключения вообще, даже те, которые бросил не твой код, например, при нажатии на стоп в тетрадке (прервать работу ядра) будет обрабатываться в таком случае внутри `except`, и если там в `except'e` написано что-то странное, то поведение будет не то, которое ожидается в таких ситуациях. ЛУчше либо указывать тип исключения, либо здесь просто можно пользоваться `import os; if os.path.exsits(..): else:..` \n",
    "    \n",
    "Раз ты делаешь проект локально, то надеюсь у тебя окружение совпадает с окружением из тренажера, если нет, то здесь стоят такие библиотеки:\n",
    "</div>"
   ]
  },
  {
   "cell_type": "code",
   "execution_count": 4,
   "metadata": {},
   "outputs": [
    {
     "name": "stdout",
     "output_type": "stream",
     "text": [
      "# This file may be used to create an environment using:\n",
      "# $ conda create --name <env> --file <this file>\n",
      "# platform: linux-64\n",
      "_libgcc_mutex=0.1=conda_forge\n",
      "_openmp_mutex=4.5=1_gnu\n",
      "absl-py=0.12.0=pypi_0\n",
      "alembic=1.4.3=pyh9f0ad1d_0\n",
      "argon2-cffi=20.1.0=pypi_0\n",
      "astor=0.8.1=pypi_0\n",
      "async_generator=1.10=py_0\n",
      "attrs=19.1.0=pypi_0\n",
      "backcall=0.2.0=pyh9f0ad1d_0\n",
      "backports=1.0=py_2\n",
      "backports.functools_lru_cache=1.6.1=py_0\n",
      "beautifulsoup4=4.8.0=pypi_0\n",
      "bleach=3.2.1=pyh9f0ad1d_0\n",
      "blinker=1.4=py_1\n",
      "blis=0.7.4=pypi_0\n",
      "boto3=1.17.89=pypi_0\n",
      "botocore=1.20.89=pypi_0\n",
      "brotlipy=0.7.0=py37h5e8e339_1001\n",
      "c-ares=1.16.1=h516909a_3\n",
      "ca-certificates=2021.5.30=ha878542_0\n",
      "cached-property=1.5.2=pypi_0\n",
      "cachetools=4.2.2=pypi_0\n",
      "catalogue=1.0.0=pypi_0\n",
      "catboost=0.20.2=pypi_0\n",
      "certifi=2021.5.30=py37h89c1867_0\n",
      "certipy=0.1.3=py_0\n",
      "cffi=1.14.4=py37h11fe52a_0\n",
      "chardet=3.0.4=py37he5f6b98_1008\n",
      "click=8.0.1=pypi_0\n",
      "combo=0.1.2=pypi_0\n",
      "conda=4.9.0=py37he5f6b98_1\n",
      "conda-package-handling=1.7.3=py37h5e8e339_0\n",
      "configurable-http-proxy=1.3.0=0\n",
      "cryptography=3.4.7=py37h5d9358c_0\n",
      "cycler=0.10.0=pypi_0\n",
      "cymem=2.0.5=pypi_0\n",
      "dawg-python=0.7.2=pypi_0\n",
      "decorator=4.4.2=py_0\n",
      "defusedxml=0.6.0=py_0\n",
      "docopt=0.6.2=pypi_0\n",
      "entrypoints=0.3=pypi_0\n",
      "filelock=3.0.12=pypi_0\n",
      "findspark=1.3.0=pypi_0\n",
      "future=0.18.2=pypi_0\n",
      "fuzzywuzzy=0.18.0=pypi_0\n",
      "gast=0.2.2=pypi_0\n",
      "gensim=3.8.1=pypi_0\n",
      "google-auth=1.30.1=pypi_0\n",
      "google-auth-oauthlib=0.4.4=pypi_0\n",
      "google-pasta=0.2.0=pypi_0\n",
      "greenlet=1.1.0=py37hcd2ae1e_0\n",
      "grpcio=1.38.0=pypi_0\n",
      "gspread=3.1.0=pypi_0\n",
      "h5py=3.2.1=pypi_0\n",
      "holidays=0.9.12=pypi_0\n",
      "icu=67.1=he1b5a44_0\n",
      "idna=2.8=pypi_0\n",
      "importlib-metadata=2.0.0=py_1\n",
      "importlib_metadata=2.0.0=1\n",
      "ipykernel=5.5.5=pypi_0\n",
      "ipython=7.24.1=pypi_0\n",
      "ipython_genutils=0.2.0=py_1\n",
      "ipywidgets=7.2.0=pypi_0\n",
      "jedi=0.17.2=pypi_0\n",
      "jinja2=2.11.2=pyh9f0ad1d_0\n",
      "jmespath=0.10.0=pypi_0\n",
      "joblib=1.0.1=pypi_0\n",
      "json5=0.9.5=pyh9f0ad1d_0\n",
      "jsonschema=3.2.0=py_2\n",
      "jupyter=1.0.0=pypi_0\n",
      "jupyter-client=5.3.4=pypi_0\n",
      "jupyter-console=6.4.0=pypi_0\n",
      "jupyter-contrib-core=0.3.3=pypi_0\n",
      "jupyter-contrib-nbextensions=0.5.1=pypi_0\n",
      "jupyter-core=4.6.2=pypi_0\n",
      "jupyter-highlight-selected-word=0.2.0=pypi_0\n",
      "jupyter-latex-envs=1.4.6=pypi_0\n",
      "jupyter-nbextensions-configurator=0.4.1=pypi_0\n",
      "jupyter_core=4.6.3=py38h32f6830_2\n",
      "jupyter_telemetry=0.0.5=py_0\n",
      "jupyterhub=1.2.1=pypi_0\n",
      "jupyterhub-base=1.2.1=py38h578d9bd_0\n",
      "jupyterlab=2.2.9=py_0\n",
      "jupyterlab_pygments=0.1.2=pyh9f0ad1d_0\n",
      "jupyterlab_server=1.2.0=py_0\n",
      "keras-applications=1.0.8=pypi_0\n",
      "keras-preprocessing=1.1.2=pypi_0\n",
      "kiwisolver=1.3.1=pypi_0\n",
      "krb5=1.17.1=hfafb76e_3\n",
      "ld_impl_linux-64=2.35=h769bd43_9\n",
      "libcurl=7.71.1=hcdd3856_8\n",
      "libedit=3.1.20191231=he28a2e2_2\n",
      "libev=4.33=h516909a_1\n",
      "libffi=3.2.1=he1b5a44_1007\n",
      "libgcc-ng=9.3.0=h5dbcf3e_17\n",
      "libgomp=9.3.0=h5dbcf3e_17\n",
      "libnghttp2=1.41.0=h8cfc5f6_2\n",
      "libsodium=1.0.18=h516909a_1\n",
      "libssh2=1.9.0=hab1572f_5\n",
      "libstdcxx-ng=9.3.0=h2ae2ef3_17\n",
      "libuv=1.40.0=hd18ef5c_0\n",
      "lightgbm=2.3.1=pypi_0\n",
      "llvmlite=0.36.0=pypi_0\n",
      "lxml=4.4.1=pypi_0\n",
      "mako=1.1.3=pyh9f0ad1d_0\n",
      "markdown=3.3.4=pypi_0\n",
      "markupsafe=2.0.1=pypi_0\n",
      "matplotlib=3.1.0=pypi_0\n",
      "matplotlib-inline=0.1.2=pyhd8ed1ab_2\n",
      "mistune=0.8.4=pypi_0\n",
      "murmurhash=1.0.5=pypi_0\n",
      "nbclient=0.5.1=py_0\n",
      "nbconvert=5.5.0=pypi_0\n",
      "nbformat=4.4.0=pypi_0\n",
      "nbgrader=0.6.1=pypi_0\n",
      "ncurses=6.2=h58526e2_3\n",
      "nest-asyncio=1.4.2=pyhd8ed1ab_0\n",
      "nltk=3.4.1=pypi_0\n",
      "nodejs=14.14.0=h568c755_0\n",
      "notebook=6.1.4=pypi_0\n",
      "numba=0.53.1=pypi_0\n",
      "numpy=1.19.5=pypi_0\n",
      "oauthlib=3.0.1=py_0\n",
      "openssl=1.1.1k=h7f98852_0\n",
      "opt-einsum=3.3.0=pypi_0\n",
      "packaging=20.4=pyh9f0ad1d_0\n",
      "pamela=1.0.0=py_0\n",
      "pandas=0.25.1=pypi_0\n",
      "pandoc=2.11.0.4=hd18ef5c_0\n",
      "pandocfilters=1.4.2=py_1\n",
      "parso=0.7.1=pyh9f0ad1d_0\n",
      "patsy=0.5.1=pypi_0\n",
      "pexpect=4.8.0=pyh9f0ad1d_2\n",
      "pickleshare=0.7.5=py_1003\n",
      "pillow=7.0.0=pypi_0\n",
      "pip=20.2.4=py_0\n",
      "plac=1.1.3=pypi_0\n",
      "plotly=4.1.0=pypi_0\n",
      "preshed=3.0.5=pypi_0\n",
      "prometheus_client=0.8.0=pyh9f0ad1d_0\n",
      "prompt-toolkit=3.0.8=py_0\n",
      "protobuf=3.17.2=pypi_0\n",
      "psutil=5.8.0=pypi_0\n",
      "psycopg2-binary=2.8.4=pypi_0\n",
      "ptyprocess=0.6.0=py_1001\n",
      "py4j=0.10.7=pypi_0\n",
      "pyasn1=0.4.8=pypi_0\n",
      "pyasn1-modules=0.2.8=pypi_0\n",
      "pycosat=0.6.3=py37h5e8e339_1006\n",
      "pycparser=2.20=pyh9f0ad1d_2\n",
      "pycurl=7.43.0.6=pypi_0\n",
      "pygments=2.7.2=py_0\n",
      "pyjwt=1.7.1=py_0\n",
      "pymorphy2=0.8=pypi_0\n",
      "pymorphy2-dicts=2.4.393442.3710985=pypi_0\n",
      "pymystem3=0.2.0=pypi_0\n",
      "pyod=0.7.8.2=pypi_0\n",
      "pyopenssl=19.1.0=py_1\n",
      "pyparsing=2.4.7=pyh9f0ad1d_0\n",
      "pyrsistent=0.17.3=pypi_0\n",
      "pysocks=1.7.1=py37h89c1867_3\n",
      "python=3.7.8=h8bdb77d_2_cpython\n",
      "python-dateutil=2.8.1=py_0\n",
      "python-editor=1.0.4=py_0\n",
      "python-graphviz=0.16=pypi_0\n",
      "python-json-logger=2.0.1=pyh9f0ad1d_0\n",
      "python_abi=3.7=1_cp37m\n",
      "pytz=2021.1=pypi_0\n",
      "pyyaml=5.4.1=pypi_0\n",
      "pyzmq=22.0.3=pypi_0\n",
      "qtconsole=5.1.0=pypi_0\n",
      "qtpy=1.9.0=pypi_0\n",
      "readline=8.0=he28a2e2_2\n",
      "regex=2021.4.4=pypi_0\n",
      "requests=2.22.0=pypi_0\n",
      "requests-oauthlib=1.3.0=pypi_0\n",
      "retrying=1.3.3=pypi_0\n",
      "rsa=4.7.2=pypi_0\n",
      "ruamel=1.0=py37h89c1867_4\n",
      "ruamel-yaml=0.16.5=pypi_0\n",
      "ruamel.yaml=0.16.12=py38h1e0a361_1\n",
      "ruamel.yaml.clib=0.2.2=py38h1e0a361_1\n",
      "ruamel_yaml=0.15.80=py37h5e8e339_1004\n",
      "s3transfer=0.4.2=pypi_0\n",
      "sacremoses=0.0.45=pypi_0\n",
      "scikit-learn=0.21.2=pypi_0\n",
      "scipy=1.4.1=pypi_0\n",
      "seaborn=0.9.0=pypi_0\n",
      "send2trash=1.5.0=py_0\n",
      "sentencepiece=0.1.95=pypi_0\n",
      "setuptools=49.6.0=py37h89c1867_3\n",
      "six=1.15.0=pyh9f0ad1d_0\n",
      "smart-open=5.1.0=pypi_0\n",
      "soupsieve=2.2.1=pypi_0\n",
      "spacy=2.3.4=pypi_0\n",
      "sqlalchemy=1.3.11=pypi_0\n",
      "sqlite=3.33.0=h4cf870e_1\n",
      "srsly=1.0.5=pypi_0\n",
      "statsmodels=0.10.1=pypi_0\n",
      "suod=0.0.6=pypi_0\n",
      "tensorboard=2.1.1=pypi_0\n",
      "tensorflow=2.1.0=pypi_0\n",
      "tensorflow-estimator=2.1.0=pypi_0\n",
      "termcolor=1.1.0=pypi_0\n",
      "terminado=0.10.0=pypi_0\n",
      "testpath=0.4.4=py_0\n",
      "thinc=7.4.5=pypi_0\n",
      "tini=0.18.0=h14c3975_1001\n",
      "tk=8.6.10=hed695b0_1\n",
      "tokenizers=0.5.0=pypi_0\n",
      "torch=1.5.1=pypi_0\n",
      "tornado=6.1=pypi_0\n",
      "tqdm=4.51.0=pyh9f0ad1d_0\n",
      "traitlets=5.0.5=py_0\n",
      "transformers=2.5.0=pypi_0\n",
      "urllib3=1.25.11=py_0\n",
      "wasabi=0.8.2=pypi_0\n",
      "wcwidth=0.2.5=pyh9f0ad1d_2\n",
      "webencodings=0.5.1=py_1\n",
      "werkzeug=2.0.1=pypi_0\n",
      "wheel=0.35.1=pyh9f0ad1d_0\n",
      "widgetsnbextension=3.2.1=pypi_0\n",
      "wrapt=1.12.1=pypi_0\n",
      "xgboost=0.90=pypi_0\n",
      "xlrd=1.2.0=pypi_0\n",
      "xmltodict=0.12.0=pypi_0\n",
      "xz=5.2.5=h516909a_1\n",
      "yaml=0.2.5=h516909a_0\n",
      "zeromq=4.3.3=he1b5a44_2\n",
      "zipp=3.4.0=py_0\n",
      "zlib=1.2.11=h516909a_1010\n"
     ]
    }
   ],
   "source": [
    "! conda list -e"
   ]
  },
  {
   "cell_type": "code",
   "execution_count": 5,
   "metadata": {},
   "outputs": [
    {
     "name": "stdout",
     "output_type": "stream",
     "text": [
      "<class 'pandas.core.frame.DataFrame'>\n",
      "RangeIndex: 16715 entries, 0 to 16714\n",
      "Data columns (total 11 columns):\n",
      "Name               16713 non-null object\n",
      "Platform           16715 non-null object\n",
      "Year_of_Release    16446 non-null float64\n",
      "Genre              16713 non-null object\n",
      "NA_sales           16715 non-null float64\n",
      "EU_sales           16715 non-null float64\n",
      "JP_sales           16715 non-null float64\n",
      "Other_sales        16715 non-null float64\n",
      "Critic_Score       8137 non-null float64\n",
      "User_Score         10014 non-null object\n",
      "Rating             9949 non-null object\n",
      "dtypes: float64(6), object(5)\n",
      "memory usage: 1.4+ MB\n"
     ]
    }
   ],
   "source": [
    "df.info() #Получим общую информацию"
   ]
  },
  {
   "cell_type": "code",
   "execution_count": 6,
   "metadata": {},
   "outputs": [
    {
     "data": {
      "text/plain": [
       "Index(['Name', 'Platform', 'Year_of_Release', 'Genre', 'NA_sales', 'EU_sales',\n",
       "       'JP_sales', 'Other_sales', 'Critic_Score', 'User_Score', 'Rating'],\n",
       "      dtype='object')"
      ]
     },
     "execution_count": 6,
     "metadata": {},
     "output_type": "execute_result"
    }
   ],
   "source": [
    "df.columns #Проверим названия столбцов"
   ]
  },
  {
   "cell_type": "code",
   "execution_count": 7,
   "metadata": {},
   "outputs": [
    {
     "data": {
      "text/plain": [
       "2008.000    1427\n",
       "2009.000    1426\n",
       "2010.000    1255\n",
       "2007.000    1197\n",
       "2011.000    1136\n",
       "2006.000    1006\n",
       "2005.000     939\n",
       "2002.000     829\n",
       "2003.000     775\n",
       "2004.000     762\n",
       "2012.000     653\n",
       "2015.000     606\n",
       "2014.000     581\n",
       "2013.000     544\n",
       "2016.000     502\n",
       "2001.000     482\n",
       "1998.000     379\n",
       "2000.000     350\n",
       "1999.000     338\n",
       "1997.000     289\n",
       "1996.000     263\n",
       "1995.000     219\n",
       "1994.000     121\n",
       "1993.000      62\n",
       "1981.000      46\n",
       "1992.000      43\n",
       "1991.000      41\n",
       "1982.000      36\n",
       "1986.000      21\n",
       "1989.000      17\n",
       "1983.000      17\n",
       "1990.000      16\n",
       "1987.000      16\n",
       "1988.000      15\n",
       "1985.000      14\n",
       "1984.000      14\n",
       "1980.000       9\n",
       "Name: Year_of_Release, dtype: int64"
      ]
     },
     "execution_count": 7,
     "metadata": {},
     "output_type": "execute_result"
    }
   ],
   "source": [
    "df['Year_of_Release'].value_counts() #Проверим уникальные значения "
   ]
  },
  {
   "cell_type": "markdown",
   "metadata": {},
   "source": [
    "Необходимо изменить тип данных в Year_of_Release"
   ]
  },
  {
   "cell_type": "code",
   "execution_count": 8,
   "metadata": {},
   "outputs": [
    {
     "data": {
      "text/plain": [
       "E       3990\n",
       "T       2961\n",
       "M       1563\n",
       "E10+    1420\n",
       "EC         8\n",
       "RP         3\n",
       "K-A        3\n",
       "AO         1\n",
       "Name: Rating, dtype: int64"
      ]
     },
     "execution_count": 8,
     "metadata": {},
     "output_type": "execute_result"
    }
   ],
   "source": [
    "df['Rating'].value_counts() #Проверим уникальные значения "
   ]
  },
  {
   "cell_type": "code",
   "execution_count": 9,
   "metadata": {},
   "outputs": [
    {
     "data": {
      "text/plain": [
       "Action          3369\n",
       "Sports          2348\n",
       "Misc            1750\n",
       "Role-Playing    1498\n",
       "Shooter         1323\n",
       "Adventure       1303\n",
       "Racing          1249\n",
       "Platform         888\n",
       "Simulation       873\n",
       "Fighting         849\n",
       "Strategy         683\n",
       "Puzzle           580\n",
       "Name: Genre, dtype: int64"
      ]
     },
     "execution_count": 9,
     "metadata": {},
     "output_type": "execute_result"
    }
   ],
   "source": [
    "df['Genre'].value_counts() #Проверим уникальные значения "
   ]
  },
  {
   "cell_type": "code",
   "execution_count": 10,
   "metadata": {},
   "outputs": [
    {
     "data": {
      "text/plain": [
       "PS2     2161\n",
       "DS      2151\n",
       "PS3     1331\n",
       "Wii     1320\n",
       "X360    1262\n",
       "PSP     1209\n",
       "PS      1197\n",
       "PC       974\n",
       "XB       824\n",
       "GBA      822\n",
       "GC       556\n",
       "3DS      520\n",
       "PSV      430\n",
       "PS4      392\n",
       "N64      319\n",
       "XOne     247\n",
       "SNES     239\n",
       "SAT      173\n",
       "WiiU     147\n",
       "2600     133\n",
       "GB        98\n",
       "NES       98\n",
       "DC        52\n",
       "GEN       29\n",
       "NG        12\n",
       "SCD        6\n",
       "WS         6\n",
       "3DO        3\n",
       "TG16       2\n",
       "PCFX       1\n",
       "GG         1\n",
       "Name: Platform, dtype: int64"
      ]
     },
     "execution_count": 10,
     "metadata": {},
     "output_type": "execute_result"
    }
   ],
   "source": [
    "df['Platform'].value_counts() #Проверим уникальные значения "
   ]
  },
  {
   "cell_type": "markdown",
   "metadata": {},
   "source": [
    "Необходимо привести названия столбцов к нижнему регистру"
   ]
  },
  {
   "cell_type": "code",
   "execution_count": 11,
   "metadata": {},
   "outputs": [
    {
     "data": {
      "text/html": [
       "<div>\n",
       "<style scoped>\n",
       "    .dataframe tbody tr th:only-of-type {\n",
       "        vertical-align: middle;\n",
       "    }\n",
       "\n",
       "    .dataframe tbody tr th {\n",
       "        vertical-align: top;\n",
       "    }\n",
       "\n",
       "    .dataframe thead th {\n",
       "        text-align: right;\n",
       "    }\n",
       "</style>\n",
       "<table border=\"1\" class=\"dataframe\">\n",
       "  <thead>\n",
       "    <tr style=\"text-align: right;\">\n",
       "      <th></th>\n",
       "      <th>Name</th>\n",
       "      <th>Platform</th>\n",
       "      <th>Year_of_Release</th>\n",
       "      <th>Genre</th>\n",
       "      <th>NA_sales</th>\n",
       "      <th>EU_sales</th>\n",
       "      <th>JP_sales</th>\n",
       "      <th>Other_sales</th>\n",
       "      <th>Critic_Score</th>\n",
       "      <th>User_Score</th>\n",
       "      <th>Rating</th>\n",
       "    </tr>\n",
       "  </thead>\n",
       "  <tbody>\n",
       "    <tr>\n",
       "      <td>11833</td>\n",
       "      <td>Open Season</td>\n",
       "      <td>PSP</td>\n",
       "      <td>2006.000</td>\n",
       "      <td>Platform</td>\n",
       "      <td>0.070</td>\n",
       "      <td>0.000</td>\n",
       "      <td>0.000</td>\n",
       "      <td>0.010</td>\n",
       "      <td>nan</td>\n",
       "      <td>tbd</td>\n",
       "      <td>E10+</td>\n",
       "    </tr>\n",
       "    <tr>\n",
       "      <td>13784</td>\n",
       "      <td>Mat Hoffman's Pro BMX 2</td>\n",
       "      <td>GC</td>\n",
       "      <td>2002.000</td>\n",
       "      <td>Sports</td>\n",
       "      <td>0.030</td>\n",
       "      <td>0.010</td>\n",
       "      <td>0.000</td>\n",
       "      <td>0.000</td>\n",
       "      <td>70.000</td>\n",
       "      <td>tbd</td>\n",
       "      <td>T</td>\n",
       "    </tr>\n",
       "    <tr>\n",
       "      <td>10363</td>\n",
       "      <td>Jampack Volume 14 (RP-T)</td>\n",
       "      <td>PS2</td>\n",
       "      <td>2006.000</td>\n",
       "      <td>Misc</td>\n",
       "      <td>0.050</td>\n",
       "      <td>0.040</td>\n",
       "      <td>0.000</td>\n",
       "      <td>0.010</td>\n",
       "      <td>nan</td>\n",
       "      <td>NaN</td>\n",
       "      <td>NaN</td>\n",
       "    </tr>\n",
       "    <tr>\n",
       "      <td>3054</td>\n",
       "      <td>100 Classic Books</td>\n",
       "      <td>DS</td>\n",
       "      <td>2008.000</td>\n",
       "      <td>Misc</td>\n",
       "      <td>0.120</td>\n",
       "      <td>0.520</td>\n",
       "      <td>0.000</td>\n",
       "      <td>0.020</td>\n",
       "      <td>70.000</td>\n",
       "      <td>6</td>\n",
       "      <td>NaN</td>\n",
       "    </tr>\n",
       "    <tr>\n",
       "      <td>11004</td>\n",
       "      <td>Blood of Bahamut</td>\n",
       "      <td>DS</td>\n",
       "      <td>2009.000</td>\n",
       "      <td>Role-Playing</td>\n",
       "      <td>0.000</td>\n",
       "      <td>0.000</td>\n",
       "      <td>0.090</td>\n",
       "      <td>0.000</td>\n",
       "      <td>nan</td>\n",
       "      <td>NaN</td>\n",
       "      <td>NaN</td>\n",
       "    </tr>\n",
       "    <tr>\n",
       "      <td>9939</td>\n",
       "      <td>CSI: Crime Scene Investigation</td>\n",
       "      <td>XB</td>\n",
       "      <td>2004.000</td>\n",
       "      <td>Adventure</td>\n",
       "      <td>0.090</td>\n",
       "      <td>0.030</td>\n",
       "      <td>0.000</td>\n",
       "      <td>0.000</td>\n",
       "      <td>45.000</td>\n",
       "      <td>7.3</td>\n",
       "      <td>M</td>\n",
       "    </tr>\n",
       "    <tr>\n",
       "      <td>4613</td>\n",
       "      <td>Crash: Mind Over Mutant</td>\n",
       "      <td>DS</td>\n",
       "      <td>2008.000</td>\n",
       "      <td>Platform</td>\n",
       "      <td>0.380</td>\n",
       "      <td>0.000</td>\n",
       "      <td>0.000</td>\n",
       "      <td>0.030</td>\n",
       "      <td>45.000</td>\n",
       "      <td>5.8</td>\n",
       "      <td>E</td>\n",
       "    </tr>\n",
       "    <tr>\n",
       "      <td>13868</td>\n",
       "      <td>Headhunter: Redemption</td>\n",
       "      <td>PS2</td>\n",
       "      <td>2004.000</td>\n",
       "      <td>Action</td>\n",
       "      <td>0.020</td>\n",
       "      <td>0.010</td>\n",
       "      <td>0.000</td>\n",
       "      <td>0.000</td>\n",
       "      <td>62.000</td>\n",
       "      <td>6.7</td>\n",
       "      <td>M</td>\n",
       "    </tr>\n",
       "    <tr>\n",
       "      <td>1345</td>\n",
       "      <td>Hasbro Family Game Night</td>\n",
       "      <td>Wii</td>\n",
       "      <td>2008.000</td>\n",
       "      <td>Puzzle</td>\n",
       "      <td>0.960</td>\n",
       "      <td>0.330</td>\n",
       "      <td>0.000</td>\n",
       "      <td>0.130</td>\n",
       "      <td>63.000</td>\n",
       "      <td>7.5</td>\n",
       "      <td>E</td>\n",
       "    </tr>\n",
       "    <tr>\n",
       "      <td>6885</td>\n",
       "      <td>Grand Theft Auto</td>\n",
       "      <td>GBA</td>\n",
       "      <td>2004.000</td>\n",
       "      <td>Action</td>\n",
       "      <td>0.170</td>\n",
       "      <td>0.060</td>\n",
       "      <td>0.000</td>\n",
       "      <td>0.000</td>\n",
       "      <td>68.000</td>\n",
       "      <td>7.1</td>\n",
       "      <td>M</td>\n",
       "    </tr>\n",
       "  </tbody>\n",
       "</table>\n",
       "</div>"
      ],
      "text/plain": [
       "                                 Name Platform  Year_of_Release         Genre  \\\n",
       "11833                     Open Season      PSP         2006.000      Platform   \n",
       "13784         Mat Hoffman's Pro BMX 2       GC         2002.000        Sports   \n",
       "10363        Jampack Volume 14 (RP-T)      PS2         2006.000          Misc   \n",
       "3054                100 Classic Books       DS         2008.000          Misc   \n",
       "11004                Blood of Bahamut       DS         2009.000  Role-Playing   \n",
       "9939   CSI: Crime Scene Investigation       XB         2004.000     Adventure   \n",
       "4613          Crash: Mind Over Mutant       DS         2008.000      Platform   \n",
       "13868          Headhunter: Redemption      PS2         2004.000        Action   \n",
       "1345         Hasbro Family Game Night      Wii         2008.000        Puzzle   \n",
       "6885                 Grand Theft Auto      GBA         2004.000        Action   \n",
       "\n",
       "       NA_sales  EU_sales  JP_sales  Other_sales  Critic_Score User_Score  \\\n",
       "11833     0.070     0.000     0.000        0.010           nan        tbd   \n",
       "13784     0.030     0.010     0.000        0.000        70.000        tbd   \n",
       "10363     0.050     0.040     0.000        0.010           nan        NaN   \n",
       "3054      0.120     0.520     0.000        0.020        70.000          6   \n",
       "11004     0.000     0.000     0.090        0.000           nan        NaN   \n",
       "9939      0.090     0.030     0.000        0.000        45.000        7.3   \n",
       "4613      0.380     0.000     0.000        0.030        45.000        5.8   \n",
       "13868     0.020     0.010     0.000        0.000        62.000        6.7   \n",
       "1345      0.960     0.330     0.000        0.130        63.000        7.5   \n",
       "6885      0.170     0.060     0.000        0.000        68.000        7.1   \n",
       "\n",
       "      Rating  \n",
       "11833   E10+  \n",
       "13784      T  \n",
       "10363    NaN  \n",
       "3054     NaN  \n",
       "11004    NaN  \n",
       "9939       M  \n",
       "4613       E  \n",
       "13868      M  \n",
       "1345       E  \n",
       "6885       M  "
      ]
     },
     "execution_count": 11,
     "metadata": {},
     "output_type": "execute_result"
    }
   ],
   "source": [
    "df.sample(10) #Посмотрим на содержание "
   ]
  },
  {
   "cell_type": "markdown",
   "metadata": {},
   "source": [
    "В User_Score присутствует tbd, следует выяснить"
   ]
  },
  {
   "cell_type": "code",
   "execution_count": 12,
   "metadata": {},
   "outputs": [
    {
     "data": {
      "text/plain": [
       "tbd    2424\n",
       "7.8     324\n",
       "8       290\n",
       "8.2     282\n",
       "8.3     254\n",
       "       ... \n",
       "0.5       2\n",
       "0.7       2\n",
       "1.5       2\n",
       "0         1\n",
       "9.7       1\n",
       "Name: User_Score, Length: 96, dtype: int64"
      ]
     },
     "execution_count": 12,
     "metadata": {},
     "output_type": "execute_result"
    }
   ],
   "source": [
    "df['User_Score'].value_counts()"
   ]
  },
  {
   "cell_type": "code",
   "execution_count": 13,
   "metadata": {},
   "outputs": [
    {
     "data": {
      "text/html": [
       "<div>\n",
       "<style scoped>\n",
       "    .dataframe tbody tr th:only-of-type {\n",
       "        vertical-align: middle;\n",
       "    }\n",
       "\n",
       "    .dataframe tbody tr th {\n",
       "        vertical-align: top;\n",
       "    }\n",
       "\n",
       "    .dataframe thead th {\n",
       "        text-align: right;\n",
       "    }\n",
       "</style>\n",
       "<table border=\"1\" class=\"dataframe\">\n",
       "  <thead>\n",
       "    <tr style=\"text-align: right;\">\n",
       "      <th></th>\n",
       "      <th>Name</th>\n",
       "      <th>Platform</th>\n",
       "      <th>Year_of_Release</th>\n",
       "      <th>Genre</th>\n",
       "      <th>NA_sales</th>\n",
       "      <th>EU_sales</th>\n",
       "      <th>JP_sales</th>\n",
       "      <th>Other_sales</th>\n",
       "      <th>Critic_Score</th>\n",
       "      <th>User_Score</th>\n",
       "      <th>Rating</th>\n",
       "    </tr>\n",
       "  </thead>\n",
       "  <tbody>\n",
       "    <tr>\n",
       "      <td>0</td>\n",
       "      <td>Wii Sports</td>\n",
       "      <td>Wii</td>\n",
       "      <td>2006.000</td>\n",
       "      <td>Sports</td>\n",
       "      <td>41.360</td>\n",
       "      <td>28.960</td>\n",
       "      <td>3.770</td>\n",
       "      <td>8.450</td>\n",
       "      <td>76.000</td>\n",
       "      <td>8</td>\n",
       "      <td>E</td>\n",
       "    </tr>\n",
       "    <tr>\n",
       "      <td>1</td>\n",
       "      <td>Super Mario Bros.</td>\n",
       "      <td>NES</td>\n",
       "      <td>1985.000</td>\n",
       "      <td>Platform</td>\n",
       "      <td>29.080</td>\n",
       "      <td>3.580</td>\n",
       "      <td>6.810</td>\n",
       "      <td>0.770</td>\n",
       "      <td>nan</td>\n",
       "      <td>NaN</td>\n",
       "      <td>NaN</td>\n",
       "    </tr>\n",
       "    <tr>\n",
       "      <td>2</td>\n",
       "      <td>Mario Kart Wii</td>\n",
       "      <td>Wii</td>\n",
       "      <td>2008.000</td>\n",
       "      <td>Racing</td>\n",
       "      <td>15.680</td>\n",
       "      <td>12.760</td>\n",
       "      <td>3.790</td>\n",
       "      <td>3.290</td>\n",
       "      <td>82.000</td>\n",
       "      <td>8.3</td>\n",
       "      <td>E</td>\n",
       "    </tr>\n",
       "    <tr>\n",
       "      <td>3</td>\n",
       "      <td>Wii Sports Resort</td>\n",
       "      <td>Wii</td>\n",
       "      <td>2009.000</td>\n",
       "      <td>Sports</td>\n",
       "      <td>15.610</td>\n",
       "      <td>10.930</td>\n",
       "      <td>3.280</td>\n",
       "      <td>2.950</td>\n",
       "      <td>80.000</td>\n",
       "      <td>8</td>\n",
       "      <td>E</td>\n",
       "    </tr>\n",
       "    <tr>\n",
       "      <td>4</td>\n",
       "      <td>Pokemon Red/Pokemon Blue</td>\n",
       "      <td>GB</td>\n",
       "      <td>1996.000</td>\n",
       "      <td>Role-Playing</td>\n",
       "      <td>11.270</td>\n",
       "      <td>8.890</td>\n",
       "      <td>10.220</td>\n",
       "      <td>1.000</td>\n",
       "      <td>nan</td>\n",
       "      <td>NaN</td>\n",
       "      <td>NaN</td>\n",
       "    </tr>\n",
       "    <tr>\n",
       "      <td>5</td>\n",
       "      <td>Tetris</td>\n",
       "      <td>GB</td>\n",
       "      <td>1989.000</td>\n",
       "      <td>Puzzle</td>\n",
       "      <td>23.200</td>\n",
       "      <td>2.260</td>\n",
       "      <td>4.220</td>\n",
       "      <td>0.580</td>\n",
       "      <td>nan</td>\n",
       "      <td>NaN</td>\n",
       "      <td>NaN</td>\n",
       "    </tr>\n",
       "    <tr>\n",
       "      <td>6</td>\n",
       "      <td>New Super Mario Bros.</td>\n",
       "      <td>DS</td>\n",
       "      <td>2006.000</td>\n",
       "      <td>Platform</td>\n",
       "      <td>11.280</td>\n",
       "      <td>9.140</td>\n",
       "      <td>6.500</td>\n",
       "      <td>2.880</td>\n",
       "      <td>89.000</td>\n",
       "      <td>8.5</td>\n",
       "      <td>E</td>\n",
       "    </tr>\n",
       "    <tr>\n",
       "      <td>7</td>\n",
       "      <td>Wii Play</td>\n",
       "      <td>Wii</td>\n",
       "      <td>2006.000</td>\n",
       "      <td>Misc</td>\n",
       "      <td>13.960</td>\n",
       "      <td>9.180</td>\n",
       "      <td>2.930</td>\n",
       "      <td>2.840</td>\n",
       "      <td>58.000</td>\n",
       "      <td>6.6</td>\n",
       "      <td>E</td>\n",
       "    </tr>\n",
       "    <tr>\n",
       "      <td>8</td>\n",
       "      <td>New Super Mario Bros. Wii</td>\n",
       "      <td>Wii</td>\n",
       "      <td>2009.000</td>\n",
       "      <td>Platform</td>\n",
       "      <td>14.440</td>\n",
       "      <td>6.940</td>\n",
       "      <td>4.700</td>\n",
       "      <td>2.240</td>\n",
       "      <td>87.000</td>\n",
       "      <td>8.4</td>\n",
       "      <td>E</td>\n",
       "    </tr>\n",
       "    <tr>\n",
       "      <td>9</td>\n",
       "      <td>Duck Hunt</td>\n",
       "      <td>NES</td>\n",
       "      <td>1984.000</td>\n",
       "      <td>Shooter</td>\n",
       "      <td>26.930</td>\n",
       "      <td>0.630</td>\n",
       "      <td>0.280</td>\n",
       "      <td>0.470</td>\n",
       "      <td>nan</td>\n",
       "      <td>NaN</td>\n",
       "      <td>NaN</td>\n",
       "    </tr>\n",
       "  </tbody>\n",
       "</table>\n",
       "</div>"
      ],
      "text/plain": [
       "                        Name Platform  Year_of_Release         Genre  \\\n",
       "0                 Wii Sports      Wii         2006.000        Sports   \n",
       "1          Super Mario Bros.      NES         1985.000      Platform   \n",
       "2             Mario Kart Wii      Wii         2008.000        Racing   \n",
       "3          Wii Sports Resort      Wii         2009.000        Sports   \n",
       "4   Pokemon Red/Pokemon Blue       GB         1996.000  Role-Playing   \n",
       "5                     Tetris       GB         1989.000        Puzzle   \n",
       "6      New Super Mario Bros.       DS         2006.000      Platform   \n",
       "7                   Wii Play      Wii         2006.000          Misc   \n",
       "8  New Super Mario Bros. Wii      Wii         2009.000      Platform   \n",
       "9                  Duck Hunt      NES         1984.000       Shooter   \n",
       "\n",
       "   NA_sales  EU_sales  JP_sales  Other_sales  Critic_Score User_Score Rating  \n",
       "0    41.360    28.960     3.770        8.450        76.000          8      E  \n",
       "1    29.080     3.580     6.810        0.770           nan        NaN    NaN  \n",
       "2    15.680    12.760     3.790        3.290        82.000        8.3      E  \n",
       "3    15.610    10.930     3.280        2.950        80.000          8      E  \n",
       "4    11.270     8.890    10.220        1.000           nan        NaN    NaN  \n",
       "5    23.200     2.260     4.220        0.580           nan        NaN    NaN  \n",
       "6    11.280     9.140     6.500        2.880        89.000        8.5      E  \n",
       "7    13.960     9.180     2.930        2.840        58.000        6.6      E  \n",
       "8    14.440     6.940     4.700        2.240        87.000        8.4      E  \n",
       "9    26.930     0.630     0.280        0.470           nan        NaN    NaN  "
      ]
     },
     "execution_count": 13,
     "metadata": {},
     "output_type": "execute_result"
    }
   ],
   "source": [
    "df.head(10) #Посмотрим на содержание "
   ]
  },
  {
   "cell_type": "code",
   "execution_count": 14,
   "metadata": {},
   "outputs": [
    {
     "data": {
      "text/html": [
       "<div>\n",
       "<style scoped>\n",
       "    .dataframe tbody tr th:only-of-type {\n",
       "        vertical-align: middle;\n",
       "    }\n",
       "\n",
       "    .dataframe tbody tr th {\n",
       "        vertical-align: top;\n",
       "    }\n",
       "\n",
       "    .dataframe thead th {\n",
       "        text-align: right;\n",
       "    }\n",
       "</style>\n",
       "<table border=\"1\" class=\"dataframe\">\n",
       "  <thead>\n",
       "    <tr style=\"text-align: right;\">\n",
       "      <th></th>\n",
       "      <th>Name</th>\n",
       "      <th>Platform</th>\n",
       "      <th>Year_of_Release</th>\n",
       "      <th>Genre</th>\n",
       "      <th>NA_sales</th>\n",
       "      <th>EU_sales</th>\n",
       "      <th>JP_sales</th>\n",
       "      <th>Other_sales</th>\n",
       "      <th>Critic_Score</th>\n",
       "      <th>User_Score</th>\n",
       "      <th>Rating</th>\n",
       "    </tr>\n",
       "  </thead>\n",
       "  <tbody>\n",
       "    <tr>\n",
       "      <td>16705</td>\n",
       "      <td>15 Days</td>\n",
       "      <td>PC</td>\n",
       "      <td>2009.000</td>\n",
       "      <td>Adventure</td>\n",
       "      <td>0.000</td>\n",
       "      <td>0.010</td>\n",
       "      <td>0.000</td>\n",
       "      <td>0.000</td>\n",
       "      <td>63.000</td>\n",
       "      <td>5.8</td>\n",
       "      <td>NaN</td>\n",
       "    </tr>\n",
       "    <tr>\n",
       "      <td>16706</td>\n",
       "      <td>Men in Black II: Alien Escape</td>\n",
       "      <td>GC</td>\n",
       "      <td>2003.000</td>\n",
       "      <td>Shooter</td>\n",
       "      <td>0.010</td>\n",
       "      <td>0.000</td>\n",
       "      <td>0.000</td>\n",
       "      <td>0.000</td>\n",
       "      <td>nan</td>\n",
       "      <td>tbd</td>\n",
       "      <td>T</td>\n",
       "    </tr>\n",
       "    <tr>\n",
       "      <td>16707</td>\n",
       "      <td>Aiyoku no Eustia</td>\n",
       "      <td>PSV</td>\n",
       "      <td>2014.000</td>\n",
       "      <td>Misc</td>\n",
       "      <td>0.000</td>\n",
       "      <td>0.000</td>\n",
       "      <td>0.010</td>\n",
       "      <td>0.000</td>\n",
       "      <td>nan</td>\n",
       "      <td>NaN</td>\n",
       "      <td>NaN</td>\n",
       "    </tr>\n",
       "    <tr>\n",
       "      <td>16708</td>\n",
       "      <td>Woody Woodpecker in Crazy Castle 5</td>\n",
       "      <td>GBA</td>\n",
       "      <td>2002.000</td>\n",
       "      <td>Platform</td>\n",
       "      <td>0.010</td>\n",
       "      <td>0.000</td>\n",
       "      <td>0.000</td>\n",
       "      <td>0.000</td>\n",
       "      <td>nan</td>\n",
       "      <td>NaN</td>\n",
       "      <td>NaN</td>\n",
       "    </tr>\n",
       "    <tr>\n",
       "      <td>16709</td>\n",
       "      <td>SCORE International Baja 1000: The Official Game</td>\n",
       "      <td>PS2</td>\n",
       "      <td>2008.000</td>\n",
       "      <td>Racing</td>\n",
       "      <td>0.000</td>\n",
       "      <td>0.000</td>\n",
       "      <td>0.000</td>\n",
       "      <td>0.000</td>\n",
       "      <td>nan</td>\n",
       "      <td>NaN</td>\n",
       "      <td>NaN</td>\n",
       "    </tr>\n",
       "    <tr>\n",
       "      <td>16710</td>\n",
       "      <td>Samurai Warriors: Sanada Maru</td>\n",
       "      <td>PS3</td>\n",
       "      <td>2016.000</td>\n",
       "      <td>Action</td>\n",
       "      <td>0.000</td>\n",
       "      <td>0.000</td>\n",
       "      <td>0.010</td>\n",
       "      <td>0.000</td>\n",
       "      <td>nan</td>\n",
       "      <td>NaN</td>\n",
       "      <td>NaN</td>\n",
       "    </tr>\n",
       "    <tr>\n",
       "      <td>16711</td>\n",
       "      <td>LMA Manager 2007</td>\n",
       "      <td>X360</td>\n",
       "      <td>2006.000</td>\n",
       "      <td>Sports</td>\n",
       "      <td>0.000</td>\n",
       "      <td>0.010</td>\n",
       "      <td>0.000</td>\n",
       "      <td>0.000</td>\n",
       "      <td>nan</td>\n",
       "      <td>NaN</td>\n",
       "      <td>NaN</td>\n",
       "    </tr>\n",
       "    <tr>\n",
       "      <td>16712</td>\n",
       "      <td>Haitaka no Psychedelica</td>\n",
       "      <td>PSV</td>\n",
       "      <td>2016.000</td>\n",
       "      <td>Adventure</td>\n",
       "      <td>0.000</td>\n",
       "      <td>0.000</td>\n",
       "      <td>0.010</td>\n",
       "      <td>0.000</td>\n",
       "      <td>nan</td>\n",
       "      <td>NaN</td>\n",
       "      <td>NaN</td>\n",
       "    </tr>\n",
       "    <tr>\n",
       "      <td>16713</td>\n",
       "      <td>Spirits &amp; Spells</td>\n",
       "      <td>GBA</td>\n",
       "      <td>2003.000</td>\n",
       "      <td>Platform</td>\n",
       "      <td>0.010</td>\n",
       "      <td>0.000</td>\n",
       "      <td>0.000</td>\n",
       "      <td>0.000</td>\n",
       "      <td>nan</td>\n",
       "      <td>NaN</td>\n",
       "      <td>NaN</td>\n",
       "    </tr>\n",
       "    <tr>\n",
       "      <td>16714</td>\n",
       "      <td>Winning Post 8 2016</td>\n",
       "      <td>PSV</td>\n",
       "      <td>2016.000</td>\n",
       "      <td>Simulation</td>\n",
       "      <td>0.000</td>\n",
       "      <td>0.000</td>\n",
       "      <td>0.010</td>\n",
       "      <td>0.000</td>\n",
       "      <td>nan</td>\n",
       "      <td>NaN</td>\n",
       "      <td>NaN</td>\n",
       "    </tr>\n",
       "  </tbody>\n",
       "</table>\n",
       "</div>"
      ],
      "text/plain": [
       "                                                   Name Platform  \\\n",
       "16705                                           15 Days       PC   \n",
       "16706                     Men in Black II: Alien Escape       GC   \n",
       "16707                                  Aiyoku no Eustia      PSV   \n",
       "16708                Woody Woodpecker in Crazy Castle 5      GBA   \n",
       "16709  SCORE International Baja 1000: The Official Game      PS2   \n",
       "16710                     Samurai Warriors: Sanada Maru      PS3   \n",
       "16711                                  LMA Manager 2007     X360   \n",
       "16712                           Haitaka no Psychedelica      PSV   \n",
       "16713                                  Spirits & Spells      GBA   \n",
       "16714                               Winning Post 8 2016      PSV   \n",
       "\n",
       "       Year_of_Release       Genre  NA_sales  EU_sales  JP_sales  Other_sales  \\\n",
       "16705         2009.000   Adventure     0.000     0.010     0.000        0.000   \n",
       "16706         2003.000     Shooter     0.010     0.000     0.000        0.000   \n",
       "16707         2014.000        Misc     0.000     0.000     0.010        0.000   \n",
       "16708         2002.000    Platform     0.010     0.000     0.000        0.000   \n",
       "16709         2008.000      Racing     0.000     0.000     0.000        0.000   \n",
       "16710         2016.000      Action     0.000     0.000     0.010        0.000   \n",
       "16711         2006.000      Sports     0.000     0.010     0.000        0.000   \n",
       "16712         2016.000   Adventure     0.000     0.000     0.010        0.000   \n",
       "16713         2003.000    Platform     0.010     0.000     0.000        0.000   \n",
       "16714         2016.000  Simulation     0.000     0.000     0.010        0.000   \n",
       "\n",
       "       Critic_Score User_Score Rating  \n",
       "16705        63.000        5.8    NaN  \n",
       "16706           nan        tbd      T  \n",
       "16707           nan        NaN    NaN  \n",
       "16708           nan        NaN    NaN  \n",
       "16709           nan        NaN    NaN  \n",
       "16710           nan        NaN    NaN  \n",
       "16711           nan        NaN    NaN  \n",
       "16712           nan        NaN    NaN  \n",
       "16713           nan        NaN    NaN  \n",
       "16714           nan        NaN    NaN  "
      ]
     },
     "execution_count": 14,
     "metadata": {},
     "output_type": "execute_result"
    }
   ],
   "source": [
    "df.tail(10) #Посмотрим на содержание "
   ]
  },
  {
   "cell_type": "code",
   "execution_count": 15,
   "metadata": {},
   "outputs": [
    {
     "data": {
      "text/plain": [
       "Name                  2\n",
       "Platform              0\n",
       "Year_of_Release     269\n",
       "Genre                 2\n",
       "NA_sales              0\n",
       "EU_sales              0\n",
       "JP_sales              0\n",
       "Other_sales           0\n",
       "Critic_Score       8578\n",
       "User_Score         6701\n",
       "Rating             6766\n",
       "dtype: int64"
      ]
     },
     "execution_count": 15,
     "metadata": {},
     "output_type": "execute_result"
    }
   ],
   "source": [
    "df.isna().sum() #Проверим на пропуски"
   ]
  },
  {
   "cell_type": "code",
   "execution_count": 16,
   "metadata": {},
   "outputs": [
    {
     "name": "stdout",
     "output_type": "stream",
     "text": [
      "0.01%\n",
      "0.00%\n",
      "1.61%\n",
      "0.01%\n",
      "0.00%\n",
      "0.00%\n",
      "0.00%\n",
      "0.00%\n",
      "51.32%\n",
      "40.09%\n",
      "40.48%\n"
     ]
    }
   ],
   "source": [
    "for el in df.isna().sum(): #Посмотрим сколько пропуски занимают процентов в df\n",
    "    print(\"{:.2%}\".format(el/df.shape[0]))"
   ]
  },
  {
   "cell_type": "markdown",
   "metadata": {},
   "source": [
    "<div class=\"alert alert-success\">\n",
    "<h2>Комментарий ревьюера</h2>\n",
    "\n",
    "Хорошая идея, реализовать её можно так:\n",
    "</div>"
   ]
  },
  {
   "cell_type": "code",
   "execution_count": 23,
   "metadata": {},
   "outputs": [
    {
     "data": {
      "text/html": [
       "<style  type=\"text/css\" >\n",
       "    #T_26e54e70_d02c_11eb_9e11_02420a39dc62row0_col0 {\n",
       "            background-color:  #3b4cc0;\n",
       "            color:  #f1f1f1;\n",
       "        }    #T_26e54e70_d02c_11eb_9e11_02420a39dc62row1_col0 {\n",
       "            background-color:  #3b4cc0;\n",
       "            color:  #f1f1f1;\n",
       "        }    #T_26e54e70_d02c_11eb_9e11_02420a39dc62row2_col0 {\n",
       "            background-color:  #445acc;\n",
       "            color:  #f1f1f1;\n",
       "        }    #T_26e54e70_d02c_11eb_9e11_02420a39dc62row3_col0 {\n",
       "            background-color:  #3b4cc0;\n",
       "            color:  #f1f1f1;\n",
       "        }    #T_26e54e70_d02c_11eb_9e11_02420a39dc62row4_col0 {\n",
       "            background-color:  #3b4cc0;\n",
       "            color:  #f1f1f1;\n",
       "        }    #T_26e54e70_d02c_11eb_9e11_02420a39dc62row5_col0 {\n",
       "            background-color:  #3b4cc0;\n",
       "            color:  #f1f1f1;\n",
       "        }    #T_26e54e70_d02c_11eb_9e11_02420a39dc62row6_col0 {\n",
       "            background-color:  #3b4cc0;\n",
       "            color:  #f1f1f1;\n",
       "        }    #T_26e54e70_d02c_11eb_9e11_02420a39dc62row7_col0 {\n",
       "            background-color:  #3b4cc0;\n",
       "            color:  #f1f1f1;\n",
       "        }    #T_26e54e70_d02c_11eb_9e11_02420a39dc62row8_col0 {\n",
       "            background-color:  #b40426;\n",
       "            color:  #f1f1f1;\n",
       "        }    #T_26e54e70_d02c_11eb_9e11_02420a39dc62row9_col0 {\n",
       "            background-color:  #f18d6f;\n",
       "            color:  #000000;\n",
       "        }    #T_26e54e70_d02c_11eb_9e11_02420a39dc62row10_col0 {\n",
       "            background-color:  #f08a6c;\n",
       "            color:  #000000;\n",
       "        }</style><table id=\"T_26e54e70_d02c_11eb_9e11_02420a39dc62\" ><thead>    <tr>        <th class=\"blank level0\" ></th>        <th class=\"col_heading level0 col0\" >0</th>    </tr></thead><tbody>\n",
       "                <tr>\n",
       "                        <th id=\"T_26e54e70_d02c_11eb_9e11_02420a39dc62level0_row0\" class=\"row_heading level0 row0\" >Name</th>\n",
       "                        <td id=\"T_26e54e70_d02c_11eb_9e11_02420a39dc62row0_col0\" class=\"data row0 col0\" >0.0119653</td>\n",
       "            </tr>\n",
       "            <tr>\n",
       "                        <th id=\"T_26e54e70_d02c_11eb_9e11_02420a39dc62level0_row1\" class=\"row_heading level0 row1\" >Platform</th>\n",
       "                        <td id=\"T_26e54e70_d02c_11eb_9e11_02420a39dc62row1_col0\" class=\"data row1 col0\" >0</td>\n",
       "            </tr>\n",
       "            <tr>\n",
       "                        <th id=\"T_26e54e70_d02c_11eb_9e11_02420a39dc62level0_row2\" class=\"row_heading level0 row2\" >Year_of_Release</th>\n",
       "                        <td id=\"T_26e54e70_d02c_11eb_9e11_02420a39dc62row2_col0\" class=\"data row2 col0\" >1.60933</td>\n",
       "            </tr>\n",
       "            <tr>\n",
       "                        <th id=\"T_26e54e70_d02c_11eb_9e11_02420a39dc62level0_row3\" class=\"row_heading level0 row3\" >Genre</th>\n",
       "                        <td id=\"T_26e54e70_d02c_11eb_9e11_02420a39dc62row3_col0\" class=\"data row3 col0\" >0.0119653</td>\n",
       "            </tr>\n",
       "            <tr>\n",
       "                        <th id=\"T_26e54e70_d02c_11eb_9e11_02420a39dc62level0_row4\" class=\"row_heading level0 row4\" >NA_sales</th>\n",
       "                        <td id=\"T_26e54e70_d02c_11eb_9e11_02420a39dc62row4_col0\" class=\"data row4 col0\" >0</td>\n",
       "            </tr>\n",
       "            <tr>\n",
       "                        <th id=\"T_26e54e70_d02c_11eb_9e11_02420a39dc62level0_row5\" class=\"row_heading level0 row5\" >EU_sales</th>\n",
       "                        <td id=\"T_26e54e70_d02c_11eb_9e11_02420a39dc62row5_col0\" class=\"data row5 col0\" >0</td>\n",
       "            </tr>\n",
       "            <tr>\n",
       "                        <th id=\"T_26e54e70_d02c_11eb_9e11_02420a39dc62level0_row6\" class=\"row_heading level0 row6\" >JP_sales</th>\n",
       "                        <td id=\"T_26e54e70_d02c_11eb_9e11_02420a39dc62row6_col0\" class=\"data row6 col0\" >0</td>\n",
       "            </tr>\n",
       "            <tr>\n",
       "                        <th id=\"T_26e54e70_d02c_11eb_9e11_02420a39dc62level0_row7\" class=\"row_heading level0 row7\" >Other_sales</th>\n",
       "                        <td id=\"T_26e54e70_d02c_11eb_9e11_02420a39dc62row7_col0\" class=\"data row7 col0\" >0</td>\n",
       "            </tr>\n",
       "            <tr>\n",
       "                        <th id=\"T_26e54e70_d02c_11eb_9e11_02420a39dc62level0_row8\" class=\"row_heading level0 row8\" >Critic_Score</th>\n",
       "                        <td id=\"T_26e54e70_d02c_11eb_9e11_02420a39dc62row8_col0\" class=\"data row8 col0\" >51.3192</td>\n",
       "            </tr>\n",
       "            <tr>\n",
       "                        <th id=\"T_26e54e70_d02c_11eb_9e11_02420a39dc62level0_row9\" class=\"row_heading level0 row9\" >User_Score</th>\n",
       "                        <td id=\"T_26e54e70_d02c_11eb_9e11_02420a39dc62row9_col0\" class=\"data row9 col0\" >40.0897</td>\n",
       "            </tr>\n",
       "            <tr>\n",
       "                        <th id=\"T_26e54e70_d02c_11eb_9e11_02420a39dc62level0_row10\" class=\"row_heading level0 row10\" >Rating</th>\n",
       "                        <td id=\"T_26e54e70_d02c_11eb_9e11_02420a39dc62row10_col0\" class=\"data row10 col0\" >40.4786</td>\n",
       "            </tr>\n",
       "    </tbody></table>"
      ],
      "text/plain": [
       "<pandas.io.formats.style.Styler at 0x7f083c6a6b10>"
      ]
     },
     "execution_count": 23,
     "metadata": {},
     "output_type": "execute_result"
    }
   ],
   "source": [
    "# Код ревьюера\n",
    "(df.isna().mean() * 100).to_frame().style.background_gradient(cmap='coolwarm')"
   ]
  },
  {
   "cell_type": "markdown",
   "metadata": {},
   "source": [
    "Необходимо заполнить пропуски в Critic_Score, User_Score, Rating, поскольку Название игры и Год релиза заполнить нет возможности\n"
   ]
  },
  {
   "cell_type": "code",
   "execution_count": 24,
   "metadata": {},
   "outputs": [
    {
     "data": {
      "text/plain": [
       "0"
      ]
     },
     "execution_count": 24,
     "metadata": {},
     "output_type": "execute_result"
    }
   ],
   "source": [
    "df.duplicated().sum() #Проверим на дублированные строки"
   ]
  },
  {
   "cell_type": "code",
   "execution_count": 25,
   "metadata": {},
   "outputs": [
    {
     "data": {
      "text/html": [
       "<div>\n",
       "<style scoped>\n",
       "    .dataframe tbody tr th:only-of-type {\n",
       "        vertical-align: middle;\n",
       "    }\n",
       "\n",
       "    .dataframe tbody tr th {\n",
       "        vertical-align: top;\n",
       "    }\n",
       "\n",
       "    .dataframe thead th {\n",
       "        text-align: right;\n",
       "    }\n",
       "</style>\n",
       "<table border=\"1\" class=\"dataframe\">\n",
       "  <thead>\n",
       "    <tr style=\"text-align: right;\">\n",
       "      <th></th>\n",
       "      <th>Year_of_Release</th>\n",
       "      <th>NA_sales</th>\n",
       "      <th>EU_sales</th>\n",
       "      <th>JP_sales</th>\n",
       "      <th>Other_sales</th>\n",
       "      <th>Critic_Score</th>\n",
       "    </tr>\n",
       "  </thead>\n",
       "  <tbody>\n",
       "    <tr>\n",
       "      <td>count</td>\n",
       "      <td>16446.000</td>\n",
       "      <td>16715.000</td>\n",
       "      <td>16715.000</td>\n",
       "      <td>16715.000</td>\n",
       "      <td>16715.000</td>\n",
       "      <td>8137.000</td>\n",
       "    </tr>\n",
       "    <tr>\n",
       "      <td>mean</td>\n",
       "      <td>2006.485</td>\n",
       "      <td>0.263</td>\n",
       "      <td>0.145</td>\n",
       "      <td>0.078</td>\n",
       "      <td>0.047</td>\n",
       "      <td>68.968</td>\n",
       "    </tr>\n",
       "    <tr>\n",
       "      <td>std</td>\n",
       "      <td>5.877</td>\n",
       "      <td>0.814</td>\n",
       "      <td>0.503</td>\n",
       "      <td>0.309</td>\n",
       "      <td>0.187</td>\n",
       "      <td>13.938</td>\n",
       "    </tr>\n",
       "    <tr>\n",
       "      <td>min</td>\n",
       "      <td>1980.000</td>\n",
       "      <td>0.000</td>\n",
       "      <td>0.000</td>\n",
       "      <td>0.000</td>\n",
       "      <td>0.000</td>\n",
       "      <td>13.000</td>\n",
       "    </tr>\n",
       "    <tr>\n",
       "      <td>25%</td>\n",
       "      <td>2003.000</td>\n",
       "      <td>0.000</td>\n",
       "      <td>0.000</td>\n",
       "      <td>0.000</td>\n",
       "      <td>0.000</td>\n",
       "      <td>60.000</td>\n",
       "    </tr>\n",
       "    <tr>\n",
       "      <td>50%</td>\n",
       "      <td>2007.000</td>\n",
       "      <td>0.080</td>\n",
       "      <td>0.020</td>\n",
       "      <td>0.000</td>\n",
       "      <td>0.010</td>\n",
       "      <td>71.000</td>\n",
       "    </tr>\n",
       "    <tr>\n",
       "      <td>75%</td>\n",
       "      <td>2010.000</td>\n",
       "      <td>0.240</td>\n",
       "      <td>0.110</td>\n",
       "      <td>0.040</td>\n",
       "      <td>0.030</td>\n",
       "      <td>79.000</td>\n",
       "    </tr>\n",
       "    <tr>\n",
       "      <td>max</td>\n",
       "      <td>2016.000</td>\n",
       "      <td>41.360</td>\n",
       "      <td>28.960</td>\n",
       "      <td>10.220</td>\n",
       "      <td>10.570</td>\n",
       "      <td>98.000</td>\n",
       "    </tr>\n",
       "  </tbody>\n",
       "</table>\n",
       "</div>"
      ],
      "text/plain": [
       "       Year_of_Release  NA_sales  EU_sales  JP_sales  Other_sales  \\\n",
       "count        16446.000 16715.000 16715.000 16715.000    16715.000   \n",
       "mean          2006.485     0.263     0.145     0.078        0.047   \n",
       "std              5.877     0.814     0.503     0.309        0.187   \n",
       "min           1980.000     0.000     0.000     0.000        0.000   \n",
       "25%           2003.000     0.000     0.000     0.000        0.000   \n",
       "50%           2007.000     0.080     0.020     0.000        0.010   \n",
       "75%           2010.000     0.240     0.110     0.040        0.030   \n",
       "max           2016.000    41.360    28.960    10.220       10.570   \n",
       "\n",
       "       Critic_Score  \n",
       "count      8137.000  \n",
       "mean         68.968  \n",
       "std          13.938  \n",
       "min          13.000  \n",
       "25%          60.000  \n",
       "50%          71.000  \n",
       "75%          79.000  \n",
       "max          98.000  "
      ]
     },
     "execution_count": 25,
     "metadata": {},
     "output_type": "execute_result"
    }
   ],
   "source": [
    "df.describe()"
   ]
  },
  {
   "cell_type": "markdown",
   "metadata": {},
   "source": [
    "Посмотрим на расположение данных и на выбросы"
   ]
  },
  {
   "cell_type": "code",
   "execution_count": 26,
   "metadata": {},
   "outputs": [
    {
     "data": {
      "text/plain": [
       "<matplotlib.axes._subplots.AxesSubplot at 0x7f085497da50>"
      ]
     },
     "execution_count": 26,
     "metadata": {},
     "output_type": "execute_result"
    },
    {
     "data": {
      "image/png": "[encoded data removed]",
      "text/plain": [
       "<Figure size 1152x576 with 1 Axes>"
      ]
     },
     "metadata": {
      "needs_background": "light"
     },
     "output_type": "display_data"
    }
   ],
   "source": [
    "df.boxplot([\"NA_sales\", 'EU_sales', 'JP_sales', 'Other_sales'], figsize=(16,8))"
   ]
  },
  {
   "cell_type": "code",
   "execution_count": 27,
   "metadata": {},
   "outputs": [
    {
     "data": {
      "text/plain": [
       "<matplotlib.axes._subplots.AxesSubplot at 0x7f083c552090>"
      ]
     },
     "execution_count": 27,
     "metadata": {},
     "output_type": "execute_result"
    },
    {
     "data": {
      "image/png": "[encoded data removed]",
      "text/plain": [
       "<Figure size 1152x576 with 1 Axes>"
      ]
     },
     "metadata": {
      "needs_background": "light"
     },
     "output_type": "display_data"
    }
   ],
   "source": [
    "df.boxplot(['Critic_Score'], figsize=(16,8))"
   ]
  },
  {
   "cell_type": "markdown",
   "metadata": {},
   "source": [
    "Построим гистограммы"
   ]
  },
  {
   "cell_type": "code",
   "execution_count": 28,
   "metadata": {},
   "outputs": [
    {
     "data": {
      "text/plain": [
       "<matplotlib.collections.LineCollection at 0x7f0837b33c90>"
      ]
     },
     "execution_count": 28,
     "metadata": {},
     "output_type": "execute_result"
    },
    {
     "data": {
      "image/png": "[encoded data removed]",
      "text/plain": [
       "<Figure size 1152x576 with 1 Axes>"
      ]
     },
     "metadata": {
      "needs_background": "light"
     },
     "output_type": "display_data"
    }
   ],
   "source": [
    "df['Critic_Score'].hist(bins=20, figsize=(16,8))\n",
    "plt.vlines(x=df['Critic_Score'].median(), ymin=0, ymax=1200, label='median', colors='red')\n",
    "plt.vlines(x=df['Critic_Score'].mean(), ymin=0, ymax=1200, label='mean', colors='green')"
   ]
  },
  {
   "cell_type": "code",
   "execution_count": 29,
   "metadata": {},
   "outputs": [
    {
     "data": {
      "text/plain": [
       "array([[<matplotlib.axes._subplots.AxesSubplot object at 0x7f0837ac3b50>,\n",
       "        <matplotlib.axes._subplots.AxesSubplot object at 0x7f0837a69a10>],\n",
       "       [<matplotlib.axes._subplots.AxesSubplot object at 0x7f0837a28cd0>,\n",
       "        <matplotlib.axes._subplots.AxesSubplot object at 0x7f0837a607d0>]],\n",
       "      dtype=object)"
      ]
     },
     "execution_count": 29,
     "metadata": {},
     "output_type": "execute_result"
    },
    {
     "data": {
      "image/png": "[encoded data removed]",
      "text/plain": [
       "<Figure size 1152x576 with 4 Axes>"
      ]
     },
     "metadata": {
      "needs_background": "light"
     },
     "output_type": "display_data"
    }
   ],
   "source": [
    "df[[\"NA_sales\", 'EU_sales', 'JP_sales', 'Other_sales']].hist(bins=100, figsize=(16,8))"
   ]
  },
  {
   "cell_type": "markdown",
   "metadata": {},
   "source": [
    "###  Вывод\n",
    "<a id=\"conclusion1\"></a>"
   ]
  },
  {
   "cell_type": "markdown",
   "metadata": {},
   "source": [
    "1. Необходимо привести названия столбцов к нижнему регистру\n",
    "2. Следует заполнить пропуски в Critic_Score, User_Score, Rating, поскольку Название игры (Name) и Год релиза (Year_of_Release) заполнить нет возможности;\n",
    "3. Дублированных записей нет\n",
    "4. Требуется изменить тип данных в Year_of_Release \n",
    "5. В User_Score часто встречается tbd, следует выяснить откуда она появилось и заменить тип данных\n",
    "6. В Critic_Score хранятся целые числа, следовательно, нужен тип данных int\n",
    "7. В названиях некоторых игр присутсвуют годы их выпуска, следует выяснить - обрабатывать ли эти названия\n",
    "8. В NA_sales и EU_sales много выбросов"
   ]
  },
  {
   "cell_type": "markdown",
   "metadata": {},
   "source": [
    "## Предобработка данных\n",
    "<a id=\"preprocessing\"></a> "
   ]
  },
  {
   "cell_type": "markdown",
   "metadata": {},
   "source": [
    "Значения оказались пропущены в Name, например, по причине сбоя в кодировке, в Year_of_Release из-за правильного формата записи даты, а здесь вместо даты - год и он вещественное число, в Critic_Score, User_Score большой процент пропуска, который связан, видимио, с ошибкой при выгрузке, т.к. если их не заполнили из-за того, что они не набрали нужного кол-ва отзывов, заполнили бы их tbd. А в Rating организация ESRB еще не определила рейтинг и не присвоила подходящую возрастную категорию из-за чего появились пропуски."
   ]
  },
  {
   "cell_type": "markdown",
   "metadata": {},
   "source": [
    "Как уточнялось, TBD это обычно не вышедшие игры, или вышедшие совсем недавно и не набравшие критическую массу отзывов. Заменим на -1 и не будем учитывать при обработке. Годы в названиях игр - сохраним.\n"
   ]
  },
  {
   "cell_type": "markdown",
   "metadata": {},
   "source": [
    "Приведем названия столбцов к нижнему регистру\n"
   ]
  },
  {
   "cell_type": "code",
   "execution_count": 30,
   "metadata": {},
   "outputs": [],
   "source": [
    "df.columns = map(lambda x: x.lower(), df.columns)"
   ]
  },
  {
   "cell_type": "markdown",
   "metadata": {},
   "source": [
    "<div class=\"alert alert-success\">\n",
    "<h2>Комментарий ревьюера</h2>\n",
    "\n",
    "Можно ещё так: `df.columns = df.columns.str.lower()`\n",
    "</div>"
   ]
  },
  {
   "cell_type": "code",
   "execution_count": 31,
   "metadata": {},
   "outputs": [
    {
     "data": {
      "text/plain": [
       "Index(['name', 'platform', 'year_of_release', 'genre', 'na_sales', 'eu_sales',\n",
       "       'jp_sales', 'other_sales', 'critic_score', 'user_score', 'rating'],\n",
       "      dtype='object')"
      ]
     },
     "execution_count": 31,
     "metadata": {},
     "output_type": "execute_result"
    }
   ],
   "source": [
    "df.columns"
   ]
  },
  {
   "cell_type": "code",
   "execution_count": 32,
   "metadata": {},
   "outputs": [],
   "source": [
    "df['user_score'] = df['user_score'].replace('tbd', -1)"
   ]
  },
  {
   "cell_type": "markdown",
   "metadata": {},
   "source": [
    "Теперь изменим тип данных, а некорректные значения пока проигнорируем"
   ]
  },
  {
   "cell_type": "code",
   "execution_count": 33,
   "metadata": {},
   "outputs": [],
   "source": [
    "df['user_score'] = pd.to_numeric(df['user_score'], errors='ignore') "
   ]
  },
  {
   "cell_type": "markdown",
   "metadata": {},
   "source": [
    "Изменим тип данных в Year_of_Release и заполним пропуски. Как было отмечено выше, пропуски составляют 1.6%, а возможности заполнить нет - их смело можно удалить "
   ]
  },
  {
   "cell_type": "code",
   "execution_count": 34,
   "metadata": {},
   "outputs": [],
   "source": [
    "df.dropna(subset=['year_of_release'], inplace=True)"
   ]
  },
  {
   "cell_type": "code",
   "execution_count": 35,
   "metadata": {},
   "outputs": [],
   "source": [
    "df['year_of_release'] = df['year_of_release'].astype(int)"
   ]
  },
  {
   "cell_type": "markdown",
   "metadata": {},
   "source": [
    "Удалим игры без названия, их всего 0.01% "
   ]
  },
  {
   "cell_type": "code",
   "execution_count": 36,
   "metadata": {},
   "outputs": [],
   "source": [
    "df.dropna(subset=['name'], inplace=True)"
   ]
  },
  {
   "cell_type": "markdown",
   "metadata": {},
   "source": [
    "Заполним пропуски в critic_score(51.32%), user_score(40.09%), rating(40.48%)"
   ]
  },
  {
   "cell_type": "markdown",
   "metadata": {},
   "source": [
    "Rating — рейтинг от организации ESRB. Эта ассоциация определяет рейтинг компьютерных игр и присваивает им подходящую возрастную категорию, поэтому мы не можем определить категорию на основании средних или частых значений по определенному жанру, поскольку это может сильно отличаться от действительности. Заполним пропущенные значений 'missed'  "
   ]
  },
  {
   "cell_type": "markdown",
   "metadata": {},
   "source": [
    "А user_score и critic_score заполним на основании среднего по жанру и конкретизированному уровню продаж"
   ]
  },
  {
   "cell_type": "markdown",
   "metadata": {},
   "source": [
    "Посчитаем суммарные продажи во всех регионах"
   ]
  },
  {
   "cell_type": "code",
   "execution_count": 37,
   "metadata": {},
   "outputs": [],
   "source": [
    "df['sales'] = df['na_sales'] + df['eu_sales'] + df['jp_sales'] + df['other_sales'] "
   ]
  },
  {
   "cell_type": "markdown",
   "metadata": {},
   "source": [
    "<div class=\"alert alert-success\">\n",
    "<h2>Комментарий ревьюера</h2>\n",
    "\n",
    "Можно так: `df['sales'] = df[['na_sales','eu_sales',..]].sum(axis=1)`\n",
    "</div>"
   ]
  },
  {
   "cell_type": "code",
   "execution_count": 38,
   "metadata": {},
   "outputs": [
    {
     "data": {
      "text/plain": [
       "count   16444.000\n",
       "mean        0.536\n",
       "std         1.559\n",
       "min         0.000\n",
       "25%         0.060\n",
       "50%         0.170\n",
       "75%         0.470\n",
       "max        82.540\n",
       "Name: sales, dtype: float64"
      ]
     },
     "execution_count": 38,
     "metadata": {},
     "output_type": "execute_result"
    }
   ],
   "source": [
    "df['sales'].describe() #Посмотрим на их распределение "
   ]
  },
  {
   "cell_type": "code",
   "execution_count": 39,
   "metadata": {},
   "outputs": [
    {
     "data": {
      "text/plain": [
       "<matplotlib.collections.LineCollection at 0x7f08372b7d10>"
      ]
     },
     "execution_count": 39,
     "metadata": {},
     "output_type": "execute_result"
    },
    {
     "data": {
      "image/png": "[encoded data removed]",
      "text/plain": [
       "<Figure size 1152x576 with 1 Axes>"
      ]
     },
     "metadata": {
      "needs_background": "light"
     },
     "output_type": "display_data"
    }
   ],
   "source": [
    "df['sales'].hist(bins=30, figsize=(16,8), alpha=0.7)\n",
    "plt.vlines(x=df['sales'].median(), ymin=0, ymax=18000, label='median', colors='red')\n",
    "plt.vlines(x=df['sales'].mean(), ymin=0, ymax=18000, label='mean', colors='green')"
   ]
  },
  {
   "cell_type": "markdown",
   "metadata": {},
   "source": [
    "Конкретизируем продажи на 3 уровня - низкий, средний, высокий"
   ]
  },
  {
   "cell_type": "code",
   "execution_count": 40,
   "metadata": {},
   "outputs": [],
   "source": [
    "def level_sales(sales):\n",
    "    if sales < 0.1:\n",
    "        return 'Низкий'\n",
    "    elif sales <= 0.5:\n",
    "        return 'Средний'\n",
    "    elif sales > 0.5:\n",
    "        return 'Высокий'"
   ]
  },
  {
   "cell_type": "code",
   "execution_count": 41,
   "metadata": {},
   "outputs": [],
   "source": [
    "df['level_sales'] = df['sales'].apply(level_sales)"
   ]
  },
  {
   "cell_type": "markdown",
   "metadata": {},
   "source": [
    "Теперь заполним пропуски в critic_score, user_score и rating"
   ]
  },
  {
   "cell_type": "code",
   "execution_count": 42,
   "metadata": {},
   "outputs": [],
   "source": [
    "df['critic_score'] = df['critic_score'].fillna(df.groupby(['genre',\n",
    "                                        'level_sales'])['critic_score'].transform('median'))"
   ]
  },
  {
   "cell_type": "code",
   "execution_count": 43,
   "metadata": {},
   "outputs": [],
   "source": [
    "df['user_score'] = df['user_score'].fillna(df.groupby(['genre',\n",
    "                                        'level_sales'])['user_score'].transform('median'))"
   ]
  },
  {
   "cell_type": "code",
   "execution_count": 44,
   "metadata": {},
   "outputs": [],
   "source": [
    "df['rating'] = df['rating'].fillna('missed')"
   ]
  },
  {
   "cell_type": "markdown",
   "metadata": {},
   "source": [
    "Теперь изменим тип данных у critic_score"
   ]
  },
  {
   "cell_type": "code",
   "execution_count": 45,
   "metadata": {},
   "outputs": [],
   "source": [
    "df['critic_score'] = df['critic_score'].astype(int)"
   ]
  },
  {
   "cell_type": "code",
   "execution_count": 46,
   "metadata": {},
   "outputs": [
    {
     "name": "stdout",
     "output_type": "stream",
     "text": [
      "<class 'pandas.core.frame.DataFrame'>\n",
      "Int64Index: 16444 entries, 0 to 16714\n",
      "Data columns (total 13 columns):\n",
      "name               16444 non-null object\n",
      "platform           16444 non-null object\n",
      "year_of_release    16444 non-null int64\n",
      "genre              16444 non-null object\n",
      "na_sales           16444 non-null float64\n",
      "eu_sales           16444 non-null float64\n",
      "jp_sales           16444 non-null float64\n",
      "other_sales        16444 non-null float64\n",
      "critic_score       16444 non-null int64\n",
      "user_score         16444 non-null float64\n",
      "rating             16444 non-null object\n",
      "sales              16444 non-null float64\n",
      "level_sales        16444 non-null object\n",
      "dtypes: float64(6), int64(2), object(5)\n",
      "memory usage: 1.8+ MB\n"
     ]
    }
   ],
   "source": [
    "df.info()"
   ]
  },
  {
   "cell_type": "markdown",
   "metadata": {},
   "source": [
    "###  Вывод\n",
    "<a id=\"conclusion2\"></a>"
   ]
  },
  {
   "cell_type": "markdown",
   "metadata": {},
   "source": [
    "1. Описали проблемы появления пропусков\n",
    "2. Заполнили пропуски\n",
    "3. Преобразовали данные в нужные типы данных\n",
    "4. Обработали tbd\n",
    "5. Изменили названия столбцов (ниж. регистр) \n",
    "6. Удалили некоторые строки с пропусками  "
   ]
  },
  {
   "cell_type": "markdown",
   "metadata": {},
   "source": [
    "<div class=\"alert alert-success\">\n",
    "<h2>Комментарий ревьюера</h2>\n",
    "\n",
    "В целом адекватное решение, но всё таки это не совсем корректная замена, можно было пропуски просто оставить\n",
    "</div>"
   ]
  },
  {
   "cell_type": "markdown",
   "metadata": {},
   "source": [
    "## Исследовательский анализ данных\n",
    "<a id=\"eda\"></a>"
   ]
  },
  {
   "cell_type": "markdown",
   "metadata": {},
   "source": [
    "Посмотрим, сколько игр выпускалось в разные годы. Важны ли данные за все периоды?"
   ]
  },
  {
   "cell_type": "code",
   "execution_count": 47,
   "metadata": {},
   "outputs": [
    {
     "data": {
      "text/plain": [
       "<matplotlib.axes._subplots.AxesSubplot at 0x7f0837261890>"
      ]
     },
     "execution_count": 47,
     "metadata": {},
     "output_type": "execute_result"
    },
    {
     "data": {
      "image/png": "[encoded data removed]",
      "text/plain": [
       "<Figure size 1152x576 with 1 Axes>"
      ]
     },
     "metadata": {
      "needs_background": "light"
     },
     "output_type": "display_data"
    }
   ],
   "source": [
    "df.groupby('year_of_release')['name'].count().plot(title=\"Количество выпущенных игр по годам\", kind='bar',\n",
    "                                                   figsize=(16,8), grid=True)"
   ]
  },
  {
   "cell_type": "markdown",
   "metadata": {},
   "source": [
    "Исходя из данных видно 4 этапа: 1 - 1980-1993, 2 - 1994-2001, 3 - 2002-2011, 4 - 2012-2016. НО Цель - предсказание продаж на 2017 год. Тогда, очевидно, что нас интересуют ближайшие годы (4 этап) и самые популярные в эти годы платформы."
   ]
  },
  {
   "cell_type": "markdown",
   "metadata": {},
   "source": [
    "Посмотрим, как менялись продажи по платформам. Выберем платформы с наибольшими суммарными продажами (10 платформ) и построим распределение по годам. За какой характерный срок появляются новые и исчезают старые платформы?"
   ]
  },
  {
   "cell_type": "code",
   "execution_count": 48,
   "metadata": {},
   "outputs": [
    {
     "data": {
      "text/plain": [
       "<matplotlib.axes._subplots.AxesSubplot at 0x7f0837143c50>"
      ]
     },
     "execution_count": 48,
     "metadata": {},
     "output_type": "execute_result"
    },
    {
     "data": {
      "image/png": "[encoded data removed]",
      "text/plain": [
       "<Figure size 1152x576 with 1 Axes>"
      ]
     },
     "metadata": {
      "needs_background": "light"
     },
     "output_type": "display_data"
    }
   ],
   "source": [
    "platforms = df.groupby('platform')['sales'].sum().sort_values(ascending=False)[0:10]\n",
    "platforms.plot(title=\"Суммарные продажи игр по топ-платформам\", kind='bar', figsize=(16,8), grid=True)"
   ]
  },
  {
   "cell_type": "markdown",
   "metadata": {},
   "source": [
    "<div class=\"alert alert-success\">\n",
    "<h2>Комментарий ревьюера</h2>\n",
    "\n",
    "`head` на мой взгля выглядит аккуратнее, чем `[0:10]`\n",
    "</div>"
   ]
  },
  {
   "cell_type": "code",
   "execution_count": 49,
   "metadata": {},
   "outputs": [
    {
     "data": {
      "text/plain": [
       "<matplotlib.axes._subplots.AxesSubplot at 0x7f08370a5d90>"
      ]
     },
     "execution_count": 49,
     "metadata": {},
     "output_type": "execute_result"
    },
    {
     "data": {
      "image/png": "[encoded data removed]",
      "text/plain": [
       "<Figure size 1152x576 with 1 Axes>"
      ]
     },
     "metadata": {
      "needs_background": "light"
     },
     "output_type": "display_data"
    }
   ],
   "source": [
    "df.query('platform in @platforms.index').pivot_table(index='year_of_release', columns='platform',\n",
    "values='sales', aggfunc='sum').plot(title=\"Суммарные продажи игр на топ-платформах по годам\", figsize=(16,8), grid=True)"
   ]
  },
  {
   "cell_type": "markdown",
   "metadata": {},
   "source": [
    "Заметим, что жизненный цикл платформы составляет около 9 лет, а платформы с наибольшими суммарными продажами это PS2, X360, PS3, Wii, DS, PS, PS4, GBA, PSP и 3DS"
   ]
  },
  {
   "cell_type": "markdown",
   "metadata": {},
   "source": [
    "Возьмем данные за соответствующий актуальный период, определим его на основании прошлых заданий. Основной фактор — эти данные помогут построить прогноз на 2017 год. Данные за другие периоды учитывать не будем. Поскольку жизненный цикл платформы составляет около 9 лет, то возьмем данные с 2013 года (2017 - 9/2), чтобы платформы к 2017 году не успели погибнуть, а были приблизительно на пике."
   ]
  },
  {
   "cell_type": "markdown",
   "metadata": {},
   "source": [
    "<div class=\"alert alert-success\">\n",
    "<h2>Комментарий ревьюера</h2>\n",
    "\n",
    "> Возьмем данные с 2013 года (2017 - 9/2)\n",
    "\n",
    "Абсолютно верно 👍\n",
    "</div>"
   ]
  },
  {
   "cell_type": "code",
   "execution_count": 50,
   "metadata": {},
   "outputs": [],
   "source": [
    "df_prognoz = df.query(\"year_of_release >= 2013\")"
   ]
  },
  {
   "cell_type": "markdown",
   "metadata": {},
   "source": [
    "Какие платформы лидируют по продажам, растут или падают? Выберем несколько потенциально прибыльных платформ."
   ]
  },
  {
   "cell_type": "code",
   "execution_count": 51,
   "metadata": {},
   "outputs": [
    {
     "data": {
      "text/plain": [
       "<matplotlib.axes._subplots.AxesSubplot at 0x7f07ee3bded0>"
      ]
     },
     "execution_count": 51,
     "metadata": {},
     "output_type": "execute_result"
    },
    {
     "data": {
      "image/png": "[encoded data removed]",
      "text/plain": [
       "<Figure size 1152x576 with 1 Axes>"
      ]
     },
     "metadata": {
      "needs_background": "light"
     },
     "output_type": "display_data"
    }
   ],
   "source": [
    "platforms = df_prognoz.groupby('platform')['sales'].sum().sort_values(ascending=False)[0:10]\n",
    "platforms.plot(title=\"Суммарные продажи игр по топ-платформам с 2013 года\", kind='bar', figsize=(16,8), grid=True)"
   ]
  },
  {
   "cell_type": "code",
   "execution_count": 52,
   "metadata": {},
   "outputs": [
    {
     "data": {
      "text/plain": [
       "<matplotlib.axes._subplots.AxesSubplot at 0x7f07ee33c750>"
      ]
     },
     "execution_count": 52,
     "metadata": {},
     "output_type": "execute_result"
    },
    {
     "data": {
      "image/png": "[encoded data removed]",
      "text/plain": [
       "<Figure size 1152x576 with 1 Axes>"
      ]
     },
     "metadata": {
      "needs_background": "light"
     },
     "output_type": "display_data"
    }
   ],
   "source": [
    "df_prognoz.query('platform in @platforms.index').pivot_table(index='year_of_release', columns='platform',\n",
    "values='sales', aggfunc='sum').plot(title=\"Суммарные продажи игр на топ-платформах по годам с 2013\", \n",
    "                                    figsize=(16,8), grid=True)"
   ]
  },
  {
   "cell_type": "markdown",
   "metadata": {},
   "source": [
    "<div class=\"alert alert-success\">\n",
    "<h2>Комментарий ревьюера</h2>\n",
    "\n",
    "Тут, возможно, удобнее было бы сделать `subplots` на одной фигуре\n",
    "</div>"
   ]
  },
  {
   "cell_type": "markdown",
   "metadata": {},
   "source": [
    "Лидирует PS4 и Xone, падают продажи по всем платформам, НО заметим, что в Wii, PSP, X360 совсем плохие результаты, видно, что жизненный цикл подходит к концу"
   ]
  },
  {
   "cell_type": "markdown",
   "metadata": {},
   "source": [
    "Построим график «ящик с усами» по глобальным продажам игр в разбивке по платформам. Опишием результат."
   ]
  },
  {
   "cell_type": "code",
   "execution_count": 53,
   "metadata": {},
   "outputs": [
    {
     "name": "stderr",
     "output_type": "stream",
     "text": [
      "/opt/conda/lib/python3.7/site-packages/numpy/core/_asarray.py:83: VisibleDeprecationWarning: Creating an ndarray from ragged nested sequences (which is a list-or-tuple of lists-or-tuples-or ndarrays with different lengths or shapes) is deprecated. If you meant to do this, you must specify 'dtype=object' when creating the ndarray\n",
      "  return array(a, dtype, copy=False, order=order)\n"
     ]
    },
    {
     "data": {
      "text/plain": [
       "<matplotlib.axes._subplots.AxesSubplot at 0x7f07ee2aba10>"
      ]
     },
     "execution_count": 53,
     "metadata": {},
     "output_type": "execute_result"
    },
    {
     "data": {
      "image/png": "[encoded data removed]",
      "text/plain": [
       "<Figure size 1152x576 with 1 Axes>"
      ]
     },
     "metadata": {
      "needs_background": "light"
     },
     "output_type": "display_data"
    }
   ],
   "source": [
    "df_prognoz.query('platform in @platforms.index').pivot_table(index='year_of_release', columns='platform',\n",
    "               values='sales', aggfunc='sum').boxplot(figsize=(16,8))"
   ]
  },
  {
   "cell_type": "markdown",
   "metadata": {},
   "source": [
    "Заметим, выбросов нет, ящики расположены на разных уровнях из-за разных уровней продаж на каждой платформе. Также датасеты (PS3, Wii, X360) скошены вправо, датасеты (PS4, WiiU, ) влево, а датасеты (3DS, PC, PSV, XOne) посередине. Теперь посмотрим на статистические данные"
   ]
  },
  {
   "cell_type": "code",
   "execution_count": 54,
   "metadata": {},
   "outputs": [
    {
     "data": {
      "text/html": [
       "<div>\n",
       "<style scoped>\n",
       "    .dataframe tbody tr th:only-of-type {\n",
       "        vertical-align: middle;\n",
       "    }\n",
       "\n",
       "    .dataframe tbody tr th {\n",
       "        vertical-align: top;\n",
       "    }\n",
       "\n",
       "    .dataframe thead th {\n",
       "        text-align: right;\n",
       "    }\n",
       "</style>\n",
       "<table border=\"1\" class=\"dataframe\">\n",
       "  <thead>\n",
       "    <tr style=\"text-align: right;\">\n",
       "      <th>platform</th>\n",
       "      <th>3DS</th>\n",
       "      <th>PC</th>\n",
       "      <th>PS3</th>\n",
       "      <th>PS4</th>\n",
       "      <th>PSP</th>\n",
       "      <th>PSV</th>\n",
       "      <th>Wii</th>\n",
       "      <th>WiiU</th>\n",
       "      <th>X360</th>\n",
       "      <th>XOne</th>\n",
       "    </tr>\n",
       "  </thead>\n",
       "  <tbody>\n",
       "    <tr>\n",
       "      <td>count</td>\n",
       "      <td>4.000</td>\n",
       "      <td>4.000</td>\n",
       "      <td>4.000</td>\n",
       "      <td>4.000</td>\n",
       "      <td>3.000</td>\n",
       "      <td>4.000</td>\n",
       "      <td>4.000</td>\n",
       "      <td>4.000</td>\n",
       "      <td>4.000</td>\n",
       "      <td>4.000</td>\n",
       "    </tr>\n",
       "    <tr>\n",
       "      <td>mean</td>\n",
       "      <td>35.813</td>\n",
       "      <td>9.857</td>\n",
       "      <td>45.357</td>\n",
       "      <td>78.535</td>\n",
       "      <td>1.167</td>\n",
       "      <td>8.247</td>\n",
       "      <td>3.415</td>\n",
       "      <td>16.157</td>\n",
       "      <td>34.200</td>\n",
       "      <td>39.830</td>\n",
       "    </tr>\n",
       "    <tr>\n",
       "      <td>std</td>\n",
       "      <td>18.128</td>\n",
       "      <td>3.701</td>\n",
       "      <td>48.899</td>\n",
       "      <td>40.568</td>\n",
       "      <td>1.710</td>\n",
       "      <td>3.596</td>\n",
       "      <td>3.765</td>\n",
       "      <td>8.130</td>\n",
       "      <td>38.816</td>\n",
       "      <td>20.314</td>\n",
       "    </tr>\n",
       "    <tr>\n",
       "      <td>min</td>\n",
       "      <td>15.140</td>\n",
       "      <td>5.250</td>\n",
       "      <td>3.600</td>\n",
       "      <td>25.990</td>\n",
       "      <td>0.120</td>\n",
       "      <td>4.250</td>\n",
       "      <td>0.180</td>\n",
       "      <td>4.600</td>\n",
       "      <td>1.520</td>\n",
       "      <td>18.960</td>\n",
       "    </tr>\n",
       "    <tr>\n",
       "      <td>25%</td>\n",
       "      <td>24.620</td>\n",
       "      <td>7.702</td>\n",
       "      <td>13.515</td>\n",
       "      <td>58.435</td>\n",
       "      <td>0.180</td>\n",
       "      <td>5.750</td>\n",
       "      <td>0.900</td>\n",
       "      <td>13.413</td>\n",
       "      <td>9.350</td>\n",
       "      <td>24.353</td>\n",
       "    </tr>\n",
       "    <tr>\n",
       "      <td>50%</td>\n",
       "      <td>35.770</td>\n",
       "      <td>10.450</td>\n",
       "      <td>32.290</td>\n",
       "      <td>84.625</td>\n",
       "      <td>0.240</td>\n",
       "      <td>8.420</td>\n",
       "      <td>2.445</td>\n",
       "      <td>19.000</td>\n",
       "      <td>23.350</td>\n",
       "      <td>40.110</td>\n",
       "    </tr>\n",
       "    <tr>\n",
       "      <td>75%</td>\n",
       "      <td>46.963</td>\n",
       "      <td>12.605</td>\n",
       "      <td>64.133</td>\n",
       "      <td>104.725</td>\n",
       "      <td>1.690</td>\n",
       "      <td>10.917</td>\n",
       "      <td>4.960</td>\n",
       "      <td>21.745</td>\n",
       "      <td>48.200</td>\n",
       "      <td>55.587</td>\n",
       "    </tr>\n",
       "    <tr>\n",
       "      <td>max</td>\n",
       "      <td>56.570</td>\n",
       "      <td>13.280</td>\n",
       "      <td>113.250</td>\n",
       "      <td>118.900</td>\n",
       "      <td>3.140</td>\n",
       "      <td>11.900</td>\n",
       "      <td>8.590</td>\n",
       "      <td>22.030</td>\n",
       "      <td>88.580</td>\n",
       "      <td>60.140</td>\n",
       "    </tr>\n",
       "  </tbody>\n",
       "</table>\n",
       "</div>"
      ],
      "text/plain": [
       "platform    3DS     PC     PS3     PS4   PSP    PSV   Wii   WiiU   X360   XOne\n",
       "count     4.000  4.000   4.000   4.000 3.000  4.000 4.000  4.000  4.000  4.000\n",
       "mean     35.813  9.857  45.357  78.535 1.167  8.247 3.415 16.157 34.200 39.830\n",
       "std      18.128  3.701  48.899  40.568 1.710  3.596 3.765  8.130 38.816 20.314\n",
       "min      15.140  5.250   3.600  25.990 0.120  4.250 0.180  4.600  1.520 18.960\n",
       "25%      24.620  7.702  13.515  58.435 0.180  5.750 0.900 13.413  9.350 24.353\n",
       "50%      35.770 10.450  32.290  84.625 0.240  8.420 2.445 19.000 23.350 40.110\n",
       "75%      46.963 12.605  64.133 104.725 1.690 10.917 4.960 21.745 48.200 55.587\n",
       "max      56.570 13.280 113.250 118.900 3.140 11.900 8.590 22.030 88.580 60.140"
      ]
     },
     "execution_count": 54,
     "metadata": {},
     "output_type": "execute_result"
    }
   ],
   "source": [
    "df_prognoz.query('platform in @platforms.index').pivot_table(index='year_of_release', columns='platform',\n",
    "               values='sales', aggfunc='sum').describe() "
   ]
  },
  {
   "cell_type": "markdown",
   "metadata": {},
   "source": [
    "Посмотрим, как влияют на продажи внутри одной популярной платформы отзывы пользователей и критиков. Построим диаграмму рассеяния и посчитаем корреляцию между отзывами и продажами. Сформулируем выводы."
   ]
  },
  {
   "cell_type": "code",
   "execution_count": 55,
   "metadata": {},
   "outputs": [
    {
     "data": {
      "image/png": "[encoded data removed]",
      "text/plain": [
       "<Figure size 1152x576 with 9 Axes>"
      ]
     },
     "metadata": {
      "needs_background": "light"
     },
     "output_type": "display_data"
    }
   ],
   "source": [
    "_ = pd.plotting.scatter_matrix(df_prognoz.query('platform == \"PS4\"')[['critic_score', 'user_score', 'sales']],\n",
    "                           figsize=(16, 8))"
   ]
  },
  {
   "cell_type": "code",
   "execution_count": 56,
   "metadata": {},
   "outputs": [
    {
     "data": {
      "text/html": [
       "<div>\n",
       "<style scoped>\n",
       "    .dataframe tbody tr th:only-of-type {\n",
       "        vertical-align: middle;\n",
       "    }\n",
       "\n",
       "    .dataframe tbody tr th {\n",
       "        vertical-align: top;\n",
       "    }\n",
       "\n",
       "    .dataframe thead th {\n",
       "        text-align: right;\n",
       "    }\n",
       "</style>\n",
       "<table border=\"1\" class=\"dataframe\">\n",
       "  <thead>\n",
       "    <tr style=\"text-align: right;\">\n",
       "      <th></th>\n",
       "      <th>critic_score</th>\n",
       "      <th>user_score</th>\n",
       "      <th>sales</th>\n",
       "    </tr>\n",
       "  </thead>\n",
       "  <tbody>\n",
       "    <tr>\n",
       "      <td>critic_score</td>\n",
       "      <td>1.000</td>\n",
       "      <td>0.402</td>\n",
       "      <td>0.418</td>\n",
       "    </tr>\n",
       "    <tr>\n",
       "      <td>user_score</td>\n",
       "      <td>0.402</td>\n",
       "      <td>1.000</td>\n",
       "      <td>0.090</td>\n",
       "    </tr>\n",
       "    <tr>\n",
       "      <td>sales</td>\n",
       "      <td>0.418</td>\n",
       "      <td>0.090</td>\n",
       "      <td>1.000</td>\n",
       "    </tr>\n",
       "  </tbody>\n",
       "</table>\n",
       "</div>"
      ],
      "text/plain": [
       "              critic_score  user_score  sales\n",
       "critic_score         1.000       0.402  0.418\n",
       "user_score           0.402       1.000  0.090\n",
       "sales                0.418       0.090  1.000"
      ]
     },
     "execution_count": 56,
     "metadata": {},
     "output_type": "execute_result"
    }
   ],
   "source": [
    "df_prognoz.query('platform == \"PS4\"')[['critic_score', 'user_score', 'sales']].corr()"
   ]
  },
  {
   "cell_type": "markdown",
   "metadata": {},
   "source": [
    "1. Средняя положительная корреляция между отзывами критиков и продажами\n",
    "2. Очень низкая положительная корреляция между отзывами пользователей и продажами\n",
    "3. Средняя положительная корреляция между отзывами критиков и отзывами пользователей"
   ]
  },
  {
   "cell_type": "markdown",
   "metadata": {},
   "source": [
    "<div class=\"alert alert-success\">\n",
    "<h2>Комментарий ревьюера</h2>\n",
    "\n",
    "Перед тем, как считать корреляцию `-1` неплохо было бы выкинуть :) `pd.to_numeric('coerce')` бы заменил `tbd` на `NaN` и не надо было бы руками убирать, т.к. `corr()` пропуски не учитывает. В дальнейшем может быть полезно определять статистическую значимость корреляции https://docs.google.com/viewer?a=v&pid=sites&srcid=ZGVmYXVsdGRvbWFpbnxsdHdvb2R8Z3g6NDlhN2UwZTJkYWVhMTZkZQ\n",
    "\n",
    "Чтобы в тетрадку не выводились строки типа `array([[<matplotlib.axes._subplots.AxesSubplot object at 0x7fc1a182cb50>, ...` можно вниз ячейки добавить, например, пустой `print()` или так `_ = pd.plotting.scatter_matrix`\n",
    "</div>"
   ]
  },
  {
   "cell_type": "markdown",
   "metadata": {},
   "source": [
    "Соотнесем выводы с продажами игр на других платформах."
   ]
  },
  {
   "cell_type": "code",
   "execution_count": 58,
   "metadata": {},
   "outputs": [
    {
     "data": {
      "image/png": "[encoded data removed]",
      "text/plain": [
       "<Figure size 1152x576 with 9 Axes>"
      ]
     },
     "metadata": {
      "needs_background": "light"
     },
     "output_type": "display_data"
    }
   ],
   "source": [
    "_ = pd.plotting.scatter_matrix(df_prognoz.query('platform in @platforms.index')[['critic_score', 'user_score', 'sales']],\n",
    "                           figsize=(16, 8))"
   ]
  },
  {
   "cell_type": "code",
   "execution_count": 59,
   "metadata": {},
   "outputs": [
    {
     "data": {
      "text/html": [
       "<div>\n",
       "<style scoped>\n",
       "    .dataframe tbody tr th:only-of-type {\n",
       "        vertical-align: middle;\n",
       "    }\n",
       "\n",
       "    .dataframe tbody tr th {\n",
       "        vertical-align: top;\n",
       "    }\n",
       "\n",
       "    .dataframe thead th {\n",
       "        text-align: right;\n",
       "    }\n",
       "</style>\n",
       "<table border=\"1\" class=\"dataframe\">\n",
       "  <thead>\n",
       "    <tr style=\"text-align: right;\">\n",
       "      <th></th>\n",
       "      <th>critic_score</th>\n",
       "      <th>user_score</th>\n",
       "      <th>sales</th>\n",
       "    </tr>\n",
       "  </thead>\n",
       "  <tbody>\n",
       "    <tr>\n",
       "      <td>critic_score</td>\n",
       "      <td>1.000</td>\n",
       "      <td>0.311</td>\n",
       "      <td>0.375</td>\n",
       "    </tr>\n",
       "    <tr>\n",
       "      <td>user_score</td>\n",
       "      <td>0.311</td>\n",
       "      <td>1.000</td>\n",
       "      <td>0.121</td>\n",
       "    </tr>\n",
       "    <tr>\n",
       "      <td>sales</td>\n",
       "      <td>0.375</td>\n",
       "      <td>0.121</td>\n",
       "      <td>1.000</td>\n",
       "    </tr>\n",
       "  </tbody>\n",
       "</table>\n",
       "</div>"
      ],
      "text/plain": [
       "              critic_score  user_score  sales\n",
       "critic_score         1.000       0.311  0.375\n",
       "user_score           0.311       1.000  0.121\n",
       "sales                0.375       0.121  1.000"
      ]
     },
     "execution_count": 59,
     "metadata": {},
     "output_type": "execute_result"
    }
   ],
   "source": [
    "df_prognoz.query('platform in @platforms.index')[['critic_score', 'user_score', 'sales']].corr()"
   ]
  },
  {
   "cell_type": "markdown",
   "metadata": {},
   "source": [
    "1. В этом случае, положительная корреляция между отзывами критиков и продажами немного уменьшилась, но по прежнему средняя \n",
    "2. положительная корреляция между отзывами пользователей и продажами немного увеличилась, но по прежнему низкая \n",
    "3. А положительная корреляция между отзывами критиков и отзывами пользователей тоже немного уменьшилась, но по прежнему очень низкая "
   ]
  },
  {
   "cell_type": "markdown",
   "metadata": {},
   "source": [
    "Посмотрим на общее распределение игр по жанрам. Что можно сказать о самых прибыльных жанрах? Выделяются ли жанры с высокими и низкими продажами?"
   ]
  },
  {
   "cell_type": "code",
   "execution_count": 60,
   "metadata": {},
   "outputs": [
    {
     "data": {
      "text/plain": [
       "<matplotlib.axes._subplots.AxesSubplot at 0x7f07d52a4290>"
      ]
     },
     "execution_count": 60,
     "metadata": {},
     "output_type": "execute_result"
    },
    {
     "data": {
      "image/png": "[encoded data removed]",
      "text/plain": [
       "<Figure size 1152x576 with 1 Axes>"
      ]
     },
     "metadata": {
      "needs_background": "light"
     },
     "output_type": "display_data"
    }
   ],
   "source": [
    "df_prognoz.groupby('genre')['name'].count().sort_values(ascending=False).plot(kind='bar',\n",
    "                        title='Количество проданных игр по жанрам по возрастанию', figsize=(16,8), grid=True)"
   ]
  },
  {
   "cell_type": "code",
   "execution_count": 61,
   "metadata": {},
   "outputs": [
    {
     "data": {
      "text/plain": [
       "<matplotlib.axes._subplots.AxesSubplot at 0x7f07d5233690>"
      ]
     },
     "execution_count": 61,
     "metadata": {},
     "output_type": "execute_result"
    },
    {
     "data": {
      "image/png": "[encoded data removed]",
      "text/plain": [
       "<Figure size 1152x576 with 1 Axes>"
      ]
     },
     "metadata": {
      "needs_background": "light"
     },
     "output_type": "display_data"
    }
   ],
   "source": [
    "df_prognoz.groupby('genre')['sales'].sum().sort_values(ascending=False).plot(kind='bar', \n",
    "                                 title='Продажи по жанрам', figsize=(16,8), grid=True)"
   ]
  },
  {
   "cell_type": "markdown",
   "metadata": {},
   "source": [
    "* Самые прибыльные жанры: Action, Shooter, Sports, Role-Playing\n",
    "* Жанры с низкими продажами: Puzzle, Strategy, Simulation, Adventure\n",
    "* Больше всего игр жанра: Action, Role-Playing, Adventure, Sports, Shooter и Misc\n",
    "* Меньше всего игр жанра: Puzzle, Strategy, Simulation, Platform"
   ]
  },
  {
   "cell_type": "markdown",
   "metadata": {},
   "source": [
    "<div class=\"alert alert-success\">\n",
    "<h2>Комментарий ревьюера</h2>\n",
    "\n",
    "Если наложить эти два графика друг на дргуа, получится среднее число продаж, и как можно заметить, шутер будет в среднем самым успешным\n",
    "</div>"
   ]
  },
  {
   "cell_type": "markdown",
   "metadata": {},
   "source": [
    "### Вывод\n",
    "<a id=\"conclusion3\"></a>"
   ]
  },
  {
   "cell_type": "markdown",
   "metadata": {},
   "source": [
    "В результате ИАД получились следующие выводы:\n",
    "1. Выявили актуальный период - начиная с 2013 года\n",
    "2. Определили жизненный цикл платформы - приблизительно 9 лет\n",
    "3. Представили лидирующие платформы - PS4 и Xone, но стоит отметить, что падают продажи по всем платформам, а у Wii, PSP, X360 совсем плохие результаты, видно, что их жизненный цикл подходит к концу\n",
    "4. По корреляции в общем и частном случаях (на примере PS4):\n",
    "    * Средняя положительная корреляция между отзывами критиков и продажами\n",
    "    * Очень низкая положительная корреляция между отзывами пользователей и продажами\n",
    "    * Средняя положительная корреляция между отзывами критиков и отзывами пользователей\n",
    "5. По продажам: \n",
    "    * Самые прибыльные жанры: Action, Shooter, Sports, Role-Playing\n",
    "    * Жанры с низкими продажами: Puzzle, Strategy, Simulation, Adventure\n",
    "    * Больше всего игр жанра: Action, Role-Playing, Adventure, Sports, Shooter и Misc\n",
    "    * Меньше всего игр жанра: Puzzle, Strategy, Simulation, Platform"
   ]
  },
  {
   "cell_type": "markdown",
   "metadata": {},
   "source": [
    "## Анализ данных\n",
    "<a id=\"data_analysis\"></a>"
   ]
  },
  {
   "cell_type": "markdown",
   "metadata": {},
   "source": [
    "Cоставим портрет пользователя каждого региона, определим для пользователя каждого региона (NA, EU, JP):\n",
    "* Самые популярные платформы (топ-5). Опишите различия в долях продаж.\n",
    "* Самые популярные жанры (топ-5). Поясните разницу.\n",
    "* Влияет ли рейтинг ESRB на продажи в отдельном регионе?"
   ]
  },
  {
   "cell_type": "markdown",
   "metadata": {},
   "source": [
    "Сгруппируем данные по платформе и посчитаем продажи для каждой платформы в отдельном регионе"
   ]
  },
  {
   "cell_type": "code",
   "execution_count": 62,
   "metadata": {},
   "outputs": [
    {
     "data": {
      "text/html": [
       "<div>\n",
       "<style scoped>\n",
       "    .dataframe tbody tr th:only-of-type {\n",
       "        vertical-align: middle;\n",
       "    }\n",
       "\n",
       "    .dataframe tbody tr th {\n",
       "        vertical-align: top;\n",
       "    }\n",
       "\n",
       "    .dataframe thead th {\n",
       "        text-align: right;\n",
       "    }\n",
       "</style>\n",
       "<table border=\"1\" class=\"dataframe\">\n",
       "  <thead>\n",
       "    <tr style=\"text-align: right;\">\n",
       "      <th></th>\n",
       "      <th>na_sales</th>\n",
       "    </tr>\n",
       "    <tr>\n",
       "      <th>platform</th>\n",
       "      <th></th>\n",
       "    </tr>\n",
       "  </thead>\n",
       "  <tbody>\n",
       "    <tr>\n",
       "      <td>PS4</td>\n",
       "      <td>108.740</td>\n",
       "    </tr>\n",
       "    <tr>\n",
       "      <td>XOne</td>\n",
       "      <td>93.120</td>\n",
       "    </tr>\n",
       "    <tr>\n",
       "      <td>X360</td>\n",
       "      <td>81.660</td>\n",
       "    </tr>\n",
       "    <tr>\n",
       "      <td>PS3</td>\n",
       "      <td>63.500</td>\n",
       "    </tr>\n",
       "    <tr>\n",
       "      <td>3DS</td>\n",
       "      <td>38.200</td>\n",
       "    </tr>\n",
       "  </tbody>\n",
       "</table>\n",
       "</div>"
      ],
      "text/plain": [
       "          na_sales\n",
       "platform          \n",
       "PS4        108.740\n",
       "XOne        93.120\n",
       "X360        81.660\n",
       "PS3         63.500\n",
       "3DS         38.200"
      ]
     },
     "execution_count": 62,
     "metadata": {},
     "output_type": "execute_result"
    }
   ],
   "source": [
    "top_na_p = df_prognoz.pivot_table(index='platform', values='na_sales', aggfunc='sum').sort_values(by='na_sales', \n",
    "                                                                                        ascending=False)[0:5]\n",
    "top_na_p"
   ]
  },
  {
   "cell_type": "code",
   "execution_count": 63,
   "metadata": {},
   "outputs": [
    {
     "data": {
      "text/html": [
       "<div>\n",
       "<style scoped>\n",
       "    .dataframe tbody tr th:only-of-type {\n",
       "        vertical-align: middle;\n",
       "    }\n",
       "\n",
       "    .dataframe tbody tr th {\n",
       "        vertical-align: top;\n",
       "    }\n",
       "\n",
       "    .dataframe thead th {\n",
       "        text-align: right;\n",
       "    }\n",
       "</style>\n",
       "<table border=\"1\" class=\"dataframe\">\n",
       "  <thead>\n",
       "    <tr style=\"text-align: right;\">\n",
       "      <th></th>\n",
       "      <th>eu_sales</th>\n",
       "    </tr>\n",
       "    <tr>\n",
       "      <th>platform</th>\n",
       "      <th></th>\n",
       "    </tr>\n",
       "  </thead>\n",
       "  <tbody>\n",
       "    <tr>\n",
       "      <td>PS4</td>\n",
       "      <td>141.090</td>\n",
       "    </tr>\n",
       "    <tr>\n",
       "      <td>PS3</td>\n",
       "      <td>67.810</td>\n",
       "    </tr>\n",
       "    <tr>\n",
       "      <td>XOne</td>\n",
       "      <td>51.590</td>\n",
       "    </tr>\n",
       "    <tr>\n",
       "      <td>X360</td>\n",
       "      <td>42.520</td>\n",
       "    </tr>\n",
       "    <tr>\n",
       "      <td>3DS</td>\n",
       "      <td>30.960</td>\n",
       "    </tr>\n",
       "  </tbody>\n",
       "</table>\n",
       "</div>"
      ],
      "text/plain": [
       "          eu_sales\n",
       "platform          \n",
       "PS4        141.090\n",
       "PS3         67.810\n",
       "XOne        51.590\n",
       "X360        42.520\n",
       "3DS         30.960"
      ]
     },
     "execution_count": 63,
     "metadata": {},
     "output_type": "execute_result"
    }
   ],
   "source": [
    "top_eu_p = df_prognoz.pivot_table(index='platform', values='eu_sales', aggfunc='sum').sort_values(by='eu_sales', \n",
    "                                                                                        ascending=False)[0:5]\n",
    "top_eu_p"
   ]
  },
  {
   "cell_type": "code",
   "execution_count": 64,
   "metadata": {},
   "outputs": [
    {
     "data": {
      "text/html": [
       "<div>\n",
       "<style scoped>\n",
       "    .dataframe tbody tr th:only-of-type {\n",
       "        vertical-align: middle;\n",
       "    }\n",
       "\n",
       "    .dataframe tbody tr th {\n",
       "        vertical-align: top;\n",
       "    }\n",
       "\n",
       "    .dataframe thead th {\n",
       "        text-align: right;\n",
       "    }\n",
       "</style>\n",
       "<table border=\"1\" class=\"dataframe\">\n",
       "  <thead>\n",
       "    <tr style=\"text-align: right;\">\n",
       "      <th></th>\n",
       "      <th>jp_sales</th>\n",
       "    </tr>\n",
       "    <tr>\n",
       "      <th>platform</th>\n",
       "      <th></th>\n",
       "    </tr>\n",
       "  </thead>\n",
       "  <tbody>\n",
       "    <tr>\n",
       "      <td>3DS</td>\n",
       "      <td>67.810</td>\n",
       "    </tr>\n",
       "    <tr>\n",
       "      <td>PS3</td>\n",
       "      <td>23.350</td>\n",
       "    </tr>\n",
       "    <tr>\n",
       "      <td>PSV</td>\n",
       "      <td>18.590</td>\n",
       "    </tr>\n",
       "    <tr>\n",
       "      <td>PS4</td>\n",
       "      <td>15.960</td>\n",
       "    </tr>\n",
       "    <tr>\n",
       "      <td>WiiU</td>\n",
       "      <td>10.880</td>\n",
       "    </tr>\n",
       "  </tbody>\n",
       "</table>\n",
       "</div>"
      ],
      "text/plain": [
       "          jp_sales\n",
       "platform          \n",
       "3DS         67.810\n",
       "PS3         23.350\n",
       "PSV         18.590\n",
       "PS4         15.960\n",
       "WiiU        10.880"
      ]
     },
     "execution_count": 64,
     "metadata": {},
     "output_type": "execute_result"
    }
   ],
   "source": [
    "top_jp_p = df_prognoz.pivot_table(index='platform', values='jp_sales', aggfunc='sum').sort_values(by='jp_sales', \n",
    "                                                                                        ascending=False)[0:5]\n",
    "top_jp_p"
   ]
  },
  {
   "cell_type": "markdown",
   "metadata": {},
   "source": [
    "1. Самые популярные платформы (топ-5) для NA:\n",
    "    * PS4 - 108.740\n",
    "    * XOne - 93.120\n",
    "    * X360 - 81.660\n",
    "    * PS3 - 63.500\n",
    "    * 3DS - 38.200\n",
    "2. Самые популярные платформы (топ-5) для EU:\n",
    "    * PS4 - 141.090\n",
    "    * PS4 - 67.810\n",
    "    * XOne - 51.590\n",
    "    * X360 - 42.520\n",
    "    * 3DS - 30.960\n",
    "3. Самые популярные платформы (топ-5) для JP:\n",
    "    * 3DS - 67.810\n",
    "    * PS3 - 23.350\n",
    "    * PSV - 18.590\n",
    "    * PS4 - 15.960\n",
    "    * WiiU - 10.880"
   ]
  },
  {
   "cell_type": "markdown",
   "metadata": {},
   "source": [
    "В NA и EU списки лидеров приблизительно идентичны, что нельзя сказать о JP, здесь побеждает платформа 3DS, причем значительно по отношению к другим платформам, также в этом топе появились WiiU и PSV. Стоит отметить, что в EU выделяетя существенная разница в продажах между PS4 (1 место) и PS3 (2 место)."
   ]
  },
  {
   "cell_type": "markdown",
   "metadata": {},
   "source": [
    "Сгруппируем данные по жанру и посчитаем продажи для каждого жанра в отдельном регионе"
   ]
  },
  {
   "cell_type": "code",
   "execution_count": 65,
   "metadata": {},
   "outputs": [
    {
     "data": {
      "text/html": [
       "<div>\n",
       "<style scoped>\n",
       "    .dataframe tbody tr th:only-of-type {\n",
       "        vertical-align: middle;\n",
       "    }\n",
       "\n",
       "    .dataframe tbody tr th {\n",
       "        vertical-align: top;\n",
       "    }\n",
       "\n",
       "    .dataframe thead th {\n",
       "        text-align: right;\n",
       "    }\n",
       "</style>\n",
       "<table border=\"1\" class=\"dataframe\">\n",
       "  <thead>\n",
       "    <tr style=\"text-align: right;\">\n",
       "      <th></th>\n",
       "      <th>na_sales</th>\n",
       "    </tr>\n",
       "    <tr>\n",
       "      <th>genre</th>\n",
       "      <th></th>\n",
       "    </tr>\n",
       "  </thead>\n",
       "  <tbody>\n",
       "    <tr>\n",
       "      <td>Action</td>\n",
       "      <td>126.050</td>\n",
       "    </tr>\n",
       "    <tr>\n",
       "      <td>Shooter</td>\n",
       "      <td>109.740</td>\n",
       "    </tr>\n",
       "    <tr>\n",
       "      <td>Sports</td>\n",
       "      <td>65.270</td>\n",
       "    </tr>\n",
       "    <tr>\n",
       "      <td>Role-Playing</td>\n",
       "      <td>46.400</td>\n",
       "    </tr>\n",
       "    <tr>\n",
       "      <td>Misc</td>\n",
       "      <td>27.490</td>\n",
       "    </tr>\n",
       "  </tbody>\n",
       "</table>\n",
       "</div>"
      ],
      "text/plain": [
       "              na_sales\n",
       "genre                 \n",
       "Action         126.050\n",
       "Shooter        109.740\n",
       "Sports          65.270\n",
       "Role-Playing    46.400\n",
       "Misc            27.490"
      ]
     },
     "execution_count": 65,
     "metadata": {},
     "output_type": "execute_result"
    }
   ],
   "source": [
    "top_na_g = df_prognoz.pivot_table(index='genre', values='na_sales', aggfunc='sum').sort_values(by='na_sales', \n",
    "                                                                                        ascending=False)[0:5]\n",
    "top_na_g"
   ]
  },
  {
   "cell_type": "code",
   "execution_count": 66,
   "metadata": {},
   "outputs": [
    {
     "data": {
      "text/html": [
       "<div>\n",
       "<style scoped>\n",
       "    .dataframe tbody tr th:only-of-type {\n",
       "        vertical-align: middle;\n",
       "    }\n",
       "\n",
       "    .dataframe tbody tr th {\n",
       "        vertical-align: top;\n",
       "    }\n",
       "\n",
       "    .dataframe thead th {\n",
       "        text-align: right;\n",
       "    }\n",
       "</style>\n",
       "<table border=\"1\" class=\"dataframe\">\n",
       "  <thead>\n",
       "    <tr style=\"text-align: right;\">\n",
       "      <th></th>\n",
       "      <th>eu_sales</th>\n",
       "    </tr>\n",
       "    <tr>\n",
       "      <th>genre</th>\n",
       "      <th></th>\n",
       "    </tr>\n",
       "  </thead>\n",
       "  <tbody>\n",
       "    <tr>\n",
       "      <td>Action</td>\n",
       "      <td>118.130</td>\n",
       "    </tr>\n",
       "    <tr>\n",
       "      <td>Shooter</td>\n",
       "      <td>87.860</td>\n",
       "    </tr>\n",
       "    <tr>\n",
       "      <td>Sports</td>\n",
       "      <td>60.520</td>\n",
       "    </tr>\n",
       "    <tr>\n",
       "      <td>Role-Playing</td>\n",
       "      <td>36.970</td>\n",
       "    </tr>\n",
       "    <tr>\n",
       "      <td>Racing</td>\n",
       "      <td>20.190</td>\n",
       "    </tr>\n",
       "  </tbody>\n",
       "</table>\n",
       "</div>"
      ],
      "text/plain": [
       "              eu_sales\n",
       "genre                 \n",
       "Action         118.130\n",
       "Shooter         87.860\n",
       "Sports          60.520\n",
       "Role-Playing    36.970\n",
       "Racing          20.190"
      ]
     },
     "execution_count": 66,
     "metadata": {},
     "output_type": "execute_result"
    }
   ],
   "source": [
    "top_eu_g = df_prognoz.pivot_table(index='genre', values='eu_sales', aggfunc='sum').sort_values(by='eu_sales', \n",
    "                                                                                        ascending=False)[0:5]\n",
    "top_eu_g"
   ]
  },
  {
   "cell_type": "code",
   "execution_count": 67,
   "metadata": {},
   "outputs": [
    {
     "data": {
      "text/html": [
       "<div>\n",
       "<style scoped>\n",
       "    .dataframe tbody tr th:only-of-type {\n",
       "        vertical-align: middle;\n",
       "    }\n",
       "\n",
       "    .dataframe tbody tr th {\n",
       "        vertical-align: top;\n",
       "    }\n",
       "\n",
       "    .dataframe thead th {\n",
       "        text-align: right;\n",
       "    }\n",
       "</style>\n",
       "<table border=\"1\" class=\"dataframe\">\n",
       "  <thead>\n",
       "    <tr style=\"text-align: right;\">\n",
       "      <th></th>\n",
       "      <th>jp_sales</th>\n",
       "    </tr>\n",
       "    <tr>\n",
       "      <th>genre</th>\n",
       "      <th></th>\n",
       "    </tr>\n",
       "  </thead>\n",
       "  <tbody>\n",
       "    <tr>\n",
       "      <td>Role-Playing</td>\n",
       "      <td>51.040</td>\n",
       "    </tr>\n",
       "    <tr>\n",
       "      <td>Action</td>\n",
       "      <td>40.490</td>\n",
       "    </tr>\n",
       "    <tr>\n",
       "      <td>Misc</td>\n",
       "      <td>9.200</td>\n",
       "    </tr>\n",
       "    <tr>\n",
       "      <td>Fighting</td>\n",
       "      <td>7.650</td>\n",
       "    </tr>\n",
       "    <tr>\n",
       "      <td>Shooter</td>\n",
       "      <td>6.610</td>\n",
       "    </tr>\n",
       "  </tbody>\n",
       "</table>\n",
       "</div>"
      ],
      "text/plain": [
       "              jp_sales\n",
       "genre                 \n",
       "Role-Playing    51.040\n",
       "Action          40.490\n",
       "Misc             9.200\n",
       "Fighting         7.650\n",
       "Shooter          6.610"
      ]
     },
     "execution_count": 67,
     "metadata": {},
     "output_type": "execute_result"
    }
   ],
   "source": [
    "top_jp_g = df_prognoz.pivot_table(index='genre', values='jp_sales', aggfunc='sum').sort_values(by='jp_sales', \n",
    "                                                                                        ascending=False)[0:5]\n",
    "top_jp_g"
   ]
  },
  {
   "cell_type": "markdown",
   "metadata": {},
   "source": [
    "1. Самые популярные жанры (топ-5) для NA:\n",
    "    * Action - 126.050\n",
    "    * Shooter - 109.740\n",
    "    * Sports - 65.270\n",
    "    * Role-Playing - 46.400\n",
    "    * Misc - 27.490\n",
    "2. Самые популярные жанры (топ-5) для EU:\n",
    "    * Action - 118.130\n",
    "    * Shooter - 87.860\n",
    "    * Sports - 60.520\n",
    "    * Role-Playing - 36.970\n",
    "    * Racing - 20.190\n",
    "3. Самые популярные жанры (топ-5) для JP:\n",
    "    * Role-Playing - 51.040\n",
    "    * Action - 40.490\n",
    "    * Misc - 9.200\n",
    "    * Fighting - 7.650\n",
    "    * Shooter - 6.610"
   ]
  },
  {
   "cell_type": "markdown",
   "metadata": {},
   "source": [
    "Аналогичная ситуация и с жанрами, топы у EU и NA приблизительно идентичны, но последний жанр в этих списках отличается, в NA больше любят аркады, а в EU гонки. Равным образом, ситуация и в JP, здесь порядок в топе кардинально отличается от EU и NA. В JP больше всего любят ролевые игры и 'боевые', а также в этот список попали драки"
   ]
  },
  {
   "cell_type": "code",
   "execution_count": 68,
   "metadata": {},
   "outputs": [
    {
     "data": {
      "text/html": [
       "<div>\n",
       "<style scoped>\n",
       "    .dataframe tbody tr th:only-of-type {\n",
       "        vertical-align: middle;\n",
       "    }\n",
       "\n",
       "    .dataframe tbody tr th {\n",
       "        vertical-align: top;\n",
       "    }\n",
       "\n",
       "    .dataframe thead th {\n",
       "        text-align: right;\n",
       "    }\n",
       "</style>\n",
       "<table border=\"1\" class=\"dataframe\">\n",
       "  <thead>\n",
       "    <tr style=\"text-align: right;\">\n",
       "      <th></th>\n",
       "      <th>na_sales</th>\n",
       "    </tr>\n",
       "    <tr>\n",
       "      <th>rating</th>\n",
       "      <th></th>\n",
       "    </tr>\n",
       "  </thead>\n",
       "  <tbody>\n",
       "    <tr>\n",
       "      <td>M</td>\n",
       "      <td>165.210</td>\n",
       "    </tr>\n",
       "    <tr>\n",
       "      <td>missed</td>\n",
       "      <td>89.420</td>\n",
       "    </tr>\n",
       "    <tr>\n",
       "      <td>E</td>\n",
       "      <td>79.050</td>\n",
       "    </tr>\n",
       "    <tr>\n",
       "      <td>E10+</td>\n",
       "      <td>54.240</td>\n",
       "    </tr>\n",
       "    <tr>\n",
       "      <td>T</td>\n",
       "      <td>49.790</td>\n",
       "    </tr>\n",
       "  </tbody>\n",
       "</table>\n",
       "</div>"
      ],
      "text/plain": [
       "        na_sales\n",
       "rating          \n",
       "M        165.210\n",
       "missed    89.420\n",
       "E         79.050\n",
       "E10+      54.240\n",
       "T         49.790"
      ]
     },
     "execution_count": 68,
     "metadata": {},
     "output_type": "execute_result"
    }
   ],
   "source": [
    "top_np_e = df_prognoz.pivot_table(index='rating', values='na_sales', aggfunc='sum').sort_values(by='na_sales', \n",
    "                                                                                        ascending=False)\n",
    "top_np_e"
   ]
  },
  {
   "cell_type": "code",
   "execution_count": 69,
   "metadata": {},
   "outputs": [
    {
     "data": {
      "text/html": [
       "<div>\n",
       "<style scoped>\n",
       "    .dataframe tbody tr th:only-of-type {\n",
       "        vertical-align: middle;\n",
       "    }\n",
       "\n",
       "    .dataframe tbody tr th {\n",
       "        vertical-align: top;\n",
       "    }\n",
       "\n",
       "    .dataframe thead th {\n",
       "        text-align: right;\n",
       "    }\n",
       "</style>\n",
       "<table border=\"1\" class=\"dataframe\">\n",
       "  <thead>\n",
       "    <tr style=\"text-align: right;\">\n",
       "      <th></th>\n",
       "      <th>eu_sales</th>\n",
       "    </tr>\n",
       "    <tr>\n",
       "      <th>rating</th>\n",
       "      <th></th>\n",
       "    </tr>\n",
       "  </thead>\n",
       "  <tbody>\n",
       "    <tr>\n",
       "      <td>M</td>\n",
       "      <td>145.320</td>\n",
       "    </tr>\n",
       "    <tr>\n",
       "      <td>E</td>\n",
       "      <td>83.360</td>\n",
       "    </tr>\n",
       "    <tr>\n",
       "      <td>missed</td>\n",
       "      <td>78.910</td>\n",
       "    </tr>\n",
       "    <tr>\n",
       "      <td>E10+</td>\n",
       "      <td>42.690</td>\n",
       "    </tr>\n",
       "    <tr>\n",
       "      <td>T</td>\n",
       "      <td>41.950</td>\n",
       "    </tr>\n",
       "  </tbody>\n",
       "</table>\n",
       "</div>"
      ],
      "text/plain": [
       "        eu_sales\n",
       "rating          \n",
       "M        145.320\n",
       "E         83.360\n",
       "missed    78.910\n",
       "E10+      42.690\n",
       "T         41.950"
      ]
     },
     "execution_count": 69,
     "metadata": {},
     "output_type": "execute_result"
    }
   ],
   "source": [
    "top_eu_e = df_prognoz.pivot_table(index='rating', values='eu_sales', aggfunc='sum').sort_values(by='eu_sales', \n",
    "                                                                                        ascending=False)\n",
    "top_eu_e"
   ]
  },
  {
   "cell_type": "code",
   "execution_count": 70,
   "metadata": {},
   "outputs": [
    {
     "data": {
      "text/html": [
       "<div>\n",
       "<style scoped>\n",
       "    .dataframe tbody tr th:only-of-type {\n",
       "        vertical-align: middle;\n",
       "    }\n",
       "\n",
       "    .dataframe tbody tr th {\n",
       "        vertical-align: top;\n",
       "    }\n",
       "\n",
       "    .dataframe thead th {\n",
       "        text-align: right;\n",
       "    }\n",
       "</style>\n",
       "<table border=\"1\" class=\"dataframe\">\n",
       "  <thead>\n",
       "    <tr style=\"text-align: right;\">\n",
       "      <th></th>\n",
       "      <th>jp_sales</th>\n",
       "    </tr>\n",
       "    <tr>\n",
       "      <th>rating</th>\n",
       "      <th></th>\n",
       "    </tr>\n",
       "  </thead>\n",
       "  <tbody>\n",
       "    <tr>\n",
       "      <td>missed</td>\n",
       "      <td>85.050</td>\n",
       "    </tr>\n",
       "    <tr>\n",
       "      <td>T</td>\n",
       "      <td>20.590</td>\n",
       "    </tr>\n",
       "    <tr>\n",
       "      <td>E</td>\n",
       "      <td>15.140</td>\n",
       "    </tr>\n",
       "    <tr>\n",
       "      <td>M</td>\n",
       "      <td>14.110</td>\n",
       "    </tr>\n",
       "    <tr>\n",
       "      <td>E10+</td>\n",
       "      <td>5.890</td>\n",
       "    </tr>\n",
       "  </tbody>\n",
       "</table>\n",
       "</div>"
      ],
      "text/plain": [
       "        jp_sales\n",
       "rating          \n",
       "missed    85.050\n",
       "T         20.590\n",
       "E         15.140\n",
       "M         14.110\n",
       "E10+       5.890"
      ]
     },
     "execution_count": 70,
     "metadata": {},
     "output_type": "execute_result"
    }
   ],
   "source": [
    "top_jp_e = df_prognoz.pivot_table(index='rating', values='jp_sales', aggfunc='sum').sort_values(by='jp_sales', \n",
    "                                                                                        ascending=False)\n",
    "top_jp_e"
   ]
  },
  {
   "cell_type": "markdown",
   "metadata": {},
   "source": [
    "В результате, рейтинг ESRB влияет на продажи в каждом отдельном регионе, если не учитывать пропущенные значения, то EU и NA опять же аналогичная ситуация, а в JP список представлен в другом порядке, в JP лидируют игры с ограничением T (16 лет) и E (7 лет), когда в EU и NA лидируют с M (18 лет) и E (12 лет). В общем лидируют игры с возрастным ограничением в 18 и 12 лет.\n",
    "* Самые популярные рейтинги для NA:\n",
    "    * M\t- 165.210\n",
    "    * E - 79.050\n",
    "    * E10+ - 54.240\n",
    "    * T - 49.790\n",
    "* Самые популярные платформы для EU:\n",
    "    * M - 145.320\n",
    "    * E - 83.360\n",
    "    * E10+ - 42.690\n",
    "    * T - 41.950\n",
    "* Самые популярные платформы для JP:\n",
    "    * T\t- 20.590\n",
    "    * E\t- 15.140\n",
    "    * M\t- 14.110\n",
    "    * E10+ - 5.890"
   ]
  },
  {
   "cell_type": "markdown",
   "metadata": {},
   "source": [
    "<div class=\"alert alert-success\">\n",
    "<h2>Комментарий ревьюера</h2>\n",
    "\n",
    "Здесь пропуски на первом месте для Японии должны были насторожить :) Если сделать срез по `missed` там будут в основном японские игры, т.е. для локального рынка. Так как ESRB это западная организация, то игры для неамериканского рынка она не рецензирует. Таблица выше показывает, что в Японии крепкий локальный рынок \n",
    "</div>"
   ]
  },
  {
   "cell_type": "markdown",
   "metadata": {},
   "source": [
    "### Вывод\n",
    "<a id=\"conclusion4\"></a>"
   ]
  },
  {
   "cell_type": "markdown",
   "metadata": {},
   "source": [
    "1. В NA и EU списки лидеров приблизительно идентичны, что нельзя сказать о JP, здесь побеждает платформа 3DS, причем значительно по отношению к другим платформам, также в этом топе появились WiiU и PSV. Стоит отметить, что в EU выделяетя существенная разница в продажах между PS4 (1 место) и PS3 (2 место).\n",
    "* Самые популярные платформы (топ-5) для NA:\n",
    "    * PS4 - 108.740\n",
    "    * XOne - 93.120\n",
    "    * X360 - 81.660\n",
    "    * PS3 - 63.500\n",
    "    * 3DS - 38.200\n",
    "* Самые популярные платформы (топ-5) для EU:\n",
    "    * PS4 - 141.090\n",
    "    * PS4 - 67.810\n",
    "    * XOne - 51.590\n",
    "    * X360 - 42.520\n",
    "    * 3DS - 30.960\n",
    "* Самые популярные платформы (топ-5) для JP:\n",
    "    * 3DS - 67.810\n",
    "    * PS3 - 23.350\n",
    "    * PSV - 18.590\n",
    "    * PS4 - 15.960\n",
    "    * WiiU - 10.880\n",
    "2. Аналогичная ситуация и с жанрами, топы у EU и NA приблизительно идентичны, но последний жанр в этих списках отличается, в NA больше любят аркады, а в EU гонки. Равным образом, ситуация и в JP, здесь порядок в топе кардинально отличается от EU и NA. В JP больше всего любят ролевые игры и 'боевые', а также в этот список попали драки\n",
    "* Самые популярные жанры (топ-5) для NA:\n",
    "    * Action - 126.050\n",
    "    * Shooter - 109.740\n",
    "    * Sports - 65.270\n",
    "    * Role-Playing - 46.400\n",
    "    * Misc - 27.490\n",
    "* Самые популярные жанры (топ-5) для EU:\n",
    "    * Action - 118.130\n",
    "    * Shooter - 87.860\n",
    "    * Sports - 60.520\n",
    "    * Role-Playing - 36.970\n",
    "    * Racing - 20.190\n",
    "* Самые популярные жанры (топ-5) для JP:\n",
    "    * Role-Playing - 51.040\n",
    "    * Action - 40.490\n",
    "    * Misc - 9.200\n",
    "    * Fighting - 7.650\n",
    "    * Shooter - 6.610\n",
    "3. В результате, рейтинг ESRB влияет на продажи в каждом отдельном регионе, если не учитывать пропущенные значения, то EU и NA опять же аналогичная ситуация, а в JP список представлен в другом порядке, в JP лидируют игры с ограничением T (16 лет) и E (7 лет), когда в EU и NA лидируют с M (18 лет) и E (12 лет). В общем лидируют игры с возрастным ограничением в 18 и 12 лет.\n",
    "* Самые популярные рейтинги для NA:\n",
    "    * M - 165.210\n",
    "    * E - 79.050\n",
    "    * E10+ - 54.240\n",
    "    * T - 49.790\n",
    "* Самые популярные платформы для EU:\n",
    "    * M - 145.320\n",
    "    * E - 83.360\n",
    "    * E10+ - 42.690\n",
    "    * T - 41.950\n",
    "* Самые популярные платформы для JP:\n",
    "    * T - 20.590\n",
    "    * E - 15.140\n",
    "    * M - 14.110\n",
    "    * E10+ - 5.890"
   ]
  },
  {
   "cell_type": "markdown",
   "metadata": {},
   "source": [
    "## Проверка гипотез\n",
    "<a id=\"hypothesis_testing\"></a>"
   ]
  },
  {
   "cell_type": "markdown",
   "metadata": {},
   "source": [
    "Проверим гипотезы:\n",
    "* Средние пользовательские рейтинги платформ Xbox One и PC одинаковые;\n",
    "* Средние пользовательские рейтинги жанров Action (англ. «действие», экшен-игры) и Sports (англ. «спортивные соревнования») разные.\n",
    "Как вы сформулировали нулевую и альтернативную гипотезы;\n",
    "Какой критерий применили для проверки гипотез и почему."
   ]
  },
  {
   "cell_type": "markdown",
   "metadata": {},
   "source": [
    "То есть необходимо проверить гипотезы о равенстве средних 2 генеральных совокупностей и они двусторонние\n",
    "1. В первом случае:\n",
    "    * H0 - Средние пользовательские рейтинги платформ Xbox One и PC одинаковые (равны) (т.к. H0 всегда формулируется так, чтобы использовать знак равенства), тогда\n",
    "    * H1 - Средние пользовательские рейтинги платформ Xbox One и PC различаются;\n",
    "2. Во втором случае:\n",
    "    * H0 - Средние пользовательские рейтинги жанров Action  и Sports одинаковые (равны), тогда\n",
    "    * H1 - Средние пользовательские рейтинги жанров Action и Sports разные."
   ]
  },
  {
   "cell_type": "code",
   "execution_count": 71,
   "metadata": {},
   "outputs": [],
   "source": [
    "alpha = 0.05 # критический уровень статистической значимости"
   ]
  },
  {
   "cell_type": "markdown",
   "metadata": {},
   "source": [
    "Построим распределения каждой выборки и узнаем дисперсии"
   ]
  },
  {
   "cell_type": "code",
   "execution_count": 72,
   "metadata": {},
   "outputs": [
    {
     "data": {
      "text/plain": [
       "<matplotlib.axes._subplots.AxesSubplot at 0x7f07d516a9d0>"
      ]
     },
     "execution_count": 72,
     "metadata": {},
     "output_type": "execute_result"
    },
    {
     "data": {
      "image/png": "[encoded data removed]",
      "text/plain": [
       "<Figure size 1152x576 with 1 Axes>"
      ]
     },
     "metadata": {
      "needs_background": "light"
     },
     "output_type": "display_data"
    }
   ],
   "source": [
    "df.query('platform==\"PC\"')['user_score'].hist(figsize=(16,8), bins=30)"
   ]
  },
  {
   "cell_type": "code",
   "execution_count": 73,
   "metadata": {},
   "outputs": [
    {
     "data": {
      "text/plain": [
       "<matplotlib.axes._subplots.AxesSubplot at 0x7f07d50f6f90>"
      ]
     },
     "execution_count": 73,
     "metadata": {},
     "output_type": "execute_result"
    },
    {
     "data": {
      "image/png": "[encoded data removed]",
      "text/plain": [
       "<Figure size 1152x576 with 1 Axes>"
      ]
     },
     "metadata": {
      "needs_background": "light"
     },
     "output_type": "display_data"
    }
   ],
   "source": [
    "df.query('platform==\"XOne\"')['user_score'].hist(figsize=(16,8), bins=30)"
   ]
  },
  {
   "cell_type": "code",
   "execution_count": 74,
   "metadata": {},
   "outputs": [
    {
     "data": {
      "text/plain": [
       "count   247.000\n",
       "mean      6.059\n",
       "std       2.238\n",
       "min      -1.000\n",
       "25%       5.700\n",
       "50%       6.600\n",
       "75%       7.400\n",
       "max       9.200\n",
       "Name: user_score, dtype: float64"
      ]
     },
     "execution_count": 74,
     "metadata": {},
     "output_type": "execute_result"
    }
   ],
   "source": [
    "df.query('platform==\"XOne\"')['user_score'].describe()"
   ]
  },
  {
   "cell_type": "code",
   "execution_count": 75,
   "metadata": {},
   "outputs": [
    {
     "data": {
      "text/plain": [
       "count   957.000\n",
       "mean      6.339\n",
       "std       2.663\n",
       "min      -1.000\n",
       "25%       5.800\n",
       "50%       7.300\n",
       "75%       8.100\n",
       "max       9.300\n",
       "Name: user_score, dtype: float64"
      ]
     },
     "execution_count": 75,
     "metadata": {},
     "output_type": "execute_result"
    }
   ],
   "source": [
    "df.query('platform==\"PC\"')['user_score'].describe()"
   ]
  },
  {
   "cell_type": "markdown",
   "metadata": {},
   "source": [
    "Заметили наш из 2 пункта -1, то есть значения tbd, а также нормальное распределение и можем сделать equal_var = False, поскольку дисперсии разные"
   ]
  },
  {
   "cell_type": "code",
   "execution_count": 76,
   "metadata": {},
   "outputs": [],
   "source": [
    "results1 = st.ttest_ind(df.query('platform==\"XOne\"')['user_score'], df.query('platform==\"PC\"')['user_score']\n",
    "                        , equal_var = False) #проверка о равенстве в 1 случае"
   ]
  },
  {
   "cell_type": "code",
   "execution_count": 77,
   "metadata": {},
   "outputs": [
    {
     "data": {
      "text/plain": [
       "0.0937212113640699"
      ]
     },
     "execution_count": 77,
     "metadata": {},
     "output_type": "execute_result"
    }
   ],
   "source": [
    "results1.pvalue"
   ]
  },
  {
   "cell_type": "code",
   "execution_count": 78,
   "metadata": {},
   "outputs": [
    {
     "name": "stdout",
     "output_type": "stream",
     "text": [
      "Не получилось отвергнуть нулевую гипотезу\n"
     ]
    }
   ],
   "source": [
    "if (results1.pvalue < alpha) and \\\n",
    "(df.query('platform==\"XOne\"')['user_score'].mean() != df.query('platform==\"PC\"')['user_score'].mean()):\n",
    "    print('Отвергаем нулевую гипотезу')\n",
    "else:\n",
    "    print('Не получилось отвергнуть нулевую гипотезу') "
   ]
  },
  {
   "cell_type": "markdown",
   "metadata": {},
   "source": [
    "Теперь для 2 гипотезы построим распределения каждой выборки и узнаем дисперсии, уберем -1 с помощью range"
   ]
  },
  {
   "cell_type": "code",
   "execution_count": null,
   "metadata": {},
   "outputs": [
    {
     "data": {
      "text/plain": [
       "<matplotlib.axes._subplots.AxesSubplot at 0x7f07d4fdfb10>"
      ]
     },
     "execution_count": 79,
     "metadata": {},
     "output_type": "execute_result"
    }
   ],
   "source": [
    "df.query('genre==\"Action\"')['user_score'].hist(figsize=(16,8), bins=20, range=(0,10))"
   ]
  },
  {
   "cell_type": "code",
   "execution_count": 91,
   "metadata": {},
   "outputs": [
    {
     "data": {
      "text/plain": [
       "<matplotlib.axes._subplots.AxesSubplot at 0x7fc189cdff90>"
      ]
     },
     "execution_count": 91,
     "metadata": {},
     "output_type": "execute_result"
    },
    {
     "data": {
      "image/png": "[encoded data removed]",
      "text/plain": [
       "<Figure size 1152x576 with 1 Axes>"
      ]
     },
     "metadata": {
      "needs_background": "light"
     },
     "output_type": "display_data"
    }
   ],
   "source": [
    "df.query('genre==\"Sports\"')['user_score'].hist(figsize=(16,8), bins=20, range=(0,10))"
   ]
  },
  {
   "cell_type": "code",
   "execution_count": 92,
   "metadata": {},
   "outputs": [
    {
     "data": {
      "text/plain": [
       "count   3307.000\n",
       "mean       6.014\n",
       "std        2.718\n",
       "min       -1.000\n",
       "25%        6.200\n",
       "50%        6.800\n",
       "75%        7.600\n",
       "max        9.500\n",
       "Name: user_score, dtype: float64"
      ]
     },
     "execution_count": 92,
     "metadata": {},
     "output_type": "execute_result"
    }
   ],
   "source": [
    "df.query('genre==\"Action\"')['user_score'].describe()"
   ]
  },
  {
   "cell_type": "code",
   "execution_count": 93,
   "metadata": {},
   "outputs": [
    {
     "data": {
      "text/plain": [
       "count   2306.000\n",
       "mean       4.577\n",
       "std        3.777\n",
       "min       -1.000\n",
       "25%       -1.000\n",
       "50%        6.500\n",
       "75%        7.500\n",
       "max        9.500\n",
       "Name: user_score, dtype: float64"
      ]
     },
     "execution_count": 93,
     "metadata": {},
     "output_type": "execute_result"
    }
   ],
   "source": [
    "df.query('genre==\"Sports\"')['user_score'].describe()"
   ]
  },
  {
   "cell_type": "markdown",
   "metadata": {},
   "source": [
    "У нас также нормальное распределение и мы можем сделать equal_var = False, поскольку дисперсии разные"
   ]
  },
  {
   "cell_type": "code",
   "execution_count": 94,
   "metadata": {},
   "outputs": [],
   "source": [
    "results2 = st.ttest_ind(df.query('genre==\"Action\"')['user_score'], df.query('genre==\"Sports\"')['user_score']\n",
    "                        , equal_var = False) #проверка о равенстве в 1 случае"
   ]
  },
  {
   "cell_type": "code",
   "execution_count": 95,
   "metadata": {},
   "outputs": [
    {
     "data": {
      "text/plain": [
       "1.1219447589709392e-53"
      ]
     },
     "execution_count": 95,
     "metadata": {},
     "output_type": "execute_result"
    }
   ],
   "source": [
    "results2.pvalue"
   ]
  },
  {
   "cell_type": "code",
   "execution_count": 96,
   "metadata": {},
   "outputs": [
    {
     "name": "stdout",
     "output_type": "stream",
     "text": [
      "Отвергаем нулевую гипотезу\n"
     ]
    }
   ],
   "source": [
    "if (results2.pvalue < alpha) and \\\n",
    "(df.query('genre==\"Action\"')['user_score'].mean() != df.query('genre==\"Sports\"')['user_score'].mean()):\n",
    "    print('Отвергаем нулевую гипотезу')\n",
    "else:\n",
    "    print('Не получилось отвергнуть нулевую гипотезу') "
   ]
  },
  {
   "cell_type": "markdown",
   "metadata": {},
   "source": [
    "### Вывод\n",
    "<a id=\"conclusion5\"></a>"
   ]
  },
  {
   "cell_type": "markdown",
   "metadata": {},
   "source": [
    "1. В первом случае не удалось отвергнуть H0 (Средние пользовательские рейтинги платформ Xbox One и PC одинаковые (равны)), значит,\n",
    "   Средние пользовательские рейтинги платформ Xbox One и PC различаются - не подтвердилась;\n",
    "2. Во втором случае отвергли H0 (Средние пользовательские рейтинги жанров Action  и Sports одинаковые (равны)), значит, средние пользовательские рейтинги жанров Action и Sports разные - подтвердилась."
   ]
  },
  {
   "cell_type": "markdown",
   "metadata": {},
   "source": [
    "<div class=\"alert alert-success\">\n",
    "<h2>Комментарий ревьюера</h2>\n",
    "\n",
    "В целом верно, `-1` конечно тоже надо было выкинуть, чтобы не смещал средние. Молодец, что не забываешь про `equal_var`. Для т-теста вообще говоря нужно не нормальное распределение, а нормальное распределение для выборочных средних, что достигается на практике в целом на выборках размера > 30 . В теории для этого есть центральная предельная теорема https://ru.wikipedia.org/wiki/%D0%A6%D0%B5%D0%BD%D1%82%D1%80%D0%B0%D0%BB%D1%8C%D0%BD%D0%B0%D1%8F_%D0%BF%D1%80%D0%B5%D0%B4%D0%B5%D0%BB%D1%8C%D0%BD%D0%B0%D1%8F_%D1%82%D0%B5%D0%BE%D1%80%D0%B5%D0%BC%D0%B0\n",
    "    \n",
    "    \n",
    "> `(df.query('genre==\"Action\"')['user_score'].mean() != df.query('genre==\"Sports\"')['user_score'].mean()`\n",
    "    \n",
    "Так писать не надо, т.к. это по факту ещё один тест и в таком случае ты уже по-другому должен интерпретировать `p-value` и уровень значимости. Равенство выборочных средних вообще говоря ни о чём не говорит\n",
    "</div>"
   ]
  },
  {
   "cell_type": "markdown",
   "metadata": {},
   "source": [
    "## Общий вывод\n",
    "<a id=\"conclusion\"></a>"
   ]
  },
  {
   "cell_type": "markdown",
   "metadata": {},
   "source": [
    "В результате проделанной работы было выполнено:\n",
    "1. В изучении данных из файла:\n",
    "    * Обнаружили странное значение tbd\n",
    "    * Продемонстрировали в NA_sales и EU_sales выбросы\n",
    "    * Заметили, что нужно изменить тип данных в Critic_Score, Year_of_Release\n",
    "    * Выявили пропуски в Critic_Score, User_Score, Rating, Name и Year_of_Release\n",
    "2. В предобработке данных:\n",
    "    * Описали проблемы появления пропусков. Значения оказались пропущены в Name, например, по причине сбоя в кодировке, в Year_of_Release из-за правильного формата записи даты, а здесь вместо даты - год и он вещественное число, в Critic_Score, User_Score большой процент пропуска, который связан, видимио, с ошибкой при выгрузке, т.к. если их не заполнили из-за того, что они не набрали нужного кол-ва отзывов, заполнили бы их tbd. А в Rating организация ESRB еще не определила рейтинг и не присвоила подходящую возрастную категорию из-за чего появились пропуски.\n",
    "    * Описали причину появления tbd и обработали его. Как уточнялось, TBD это обычно не вышедшие игры, или вышедшие совсем недавно и не набравшие критическую массу отзывов. Заменили его на -1 и не учитывали при обработке.\n",
    "    * Заполнили пропуски в User_Score и Critic_Score на основании среднего по жанру и конкретизированному уровню продаж, а в Rating - значением missed, т.к определить категорию на основании средних или частых значений по определенному жанру не можем, поскольку это может сильно отличаться от действительности.. \n",
    "    * Изменили названия столбцов (ниж. регистр) \n",
    "    * Удалили строки с пропусками в Name и Year_of_Release\n",
    "    * Преобразовали данные в нужные типы данных: Critic_Score - int,а Year_of_Release - int\n",
    "    * Посчитали общие продажи sales\n",
    "    * Конкретизировали продажи на 3 уровня - низкий, средний, высокий \n",
    "3. В исследовательском анализе данных:\n",
    "    * Выявили актуальный период - начиная с 2013 года\n",
    "    * Определили жизненный цикл платформы - приблизительно 9 лет\n",
    "    * Представили лидирующие платформы - PS4 и Xone, но стоит отметить, что падают продажи по всем платформам, а у Wii, PSP, X360 совсем плохие результаты, видно, что их жизненный цикл подходит к концу\n",
    "    * По корреляции в общем и частном случаях (на примере PS4):\n",
    "        1. Средняя положительная корреляция между отзывами критиков и продажами\n",
    "        2. Очень низкая положительная корреляция между отзывами пользователей и продажами\n",
    "        3. Средняя положительная корреляция между отзывами критиков и отзывами пользователей\n",
    "    * По продажам: \n",
    "        1. Самые прибыльные жанры: Action, Shooter, Sports, Role-Playing\n",
    "        2. Жанры с низкими продажами: Puzzle, Strategy, Simulation, Adventure\n",
    "        3. Больше всего игр жанра: Action, Role-Playing, Adventure, Sports, Shooter и Misc\n",
    "        4. Меньше всего игр жанра: Puzzle, Strategy, Simulation, Platform\n",
    "4. В анализе данных cоставим портрет пользователя каждого региона, определим для пользователя каждого региона (NA, EU, JP):\n",
    "    1. Самые популярные платформы (топ-5). Опишем различия в долях продаж. В NA и EU списки лидеров приблизительно идентичны, что нельзя сказать о JP, здесь побеждает платформа 3DS, причем значительно по отношению к другим платформам, также в этом топе появились WiiU и PSV. Стоит отметить, что в EU выделяетя существенная разница в продажах между PS4 (1 место) и PS3 (2 место).\n",
    "    * Самые популярные платформы (топ-5) для NA:\n",
    "        * PS4 - 108.740\n",
    "        * XOne - 93.120\n",
    "        * X360 - 81.660\n",
    "        * PS3 - 63.500\n",
    "        * 3DS - 38.200\n",
    "    * Самые популярные платформы (топ-5) для EU:\n",
    "        * PS4 - 141.090\n",
    "        * PS4 - 67.810\n",
    "        * XOne - 51.590\n",
    "        * X360 - 42.520\n",
    "        * 3DS - 30.960\n",
    "    * Самые популярные платформы (топ-5) для JP:\n",
    "        * 3DS - 67.810\n",
    "        * PS3 - 23.350\n",
    "        * PSV - 18.590\n",
    "        * PS4 - 15.960\n",
    "        * WiiU - 10.880\n",
    "    2. Самые популярные жанры (топ-5). Поясним разницу. Аналогичная ситуация и с жанрами, топы у EU и NA приблизительно идентичны, но последний жанр в этих списках отличается, в NA больше любят аркады, а в EU гонки. Равным образом, ситуация и в JP, здесь порядок в топе кардинально отличается от EU и NA. В JP больше всего любят ролевые игры и 'боевые', а также в этот список попали драки\n",
    "    * Самые популярные жанры (топ-5) для NA:\n",
    "        * Action - 126.050\n",
    "        * Shooter - 109.740\n",
    "        * Sports - 65.270\n",
    "        * Role-Playing - 46.400\n",
    "        * Misc - 27.490\n",
    "    * Самые популярные жанры (топ-5) для EU:\n",
    "        * Action - 118.130\n",
    "        * Shooter - 87.860\n",
    "        * Sports - 60.520\n",
    "        * Role-Playing - 36.970\n",
    "        * Racing - 20.190\n",
    "    * Самые популярные жанры (топ-5) для JP:\n",
    "        * Role-Playing - 51.040\n",
    "        * Action - 40.490\n",
    "        * Misc - 9.200\n",
    "        * Fighting - 7.650\n",
    "        * Shooter - 6.610\n",
    "    3. В результате, рейтинг ESRB влияет на продажи в каждом отдельном регионе, если не учитывать пропущенные значения, то EU и NA опять же аналогичная ситуация, а в JP список представлен в другом порядке, в JP лидируют игры с ограничением T (16 лет) и E (7 лет), когда в EU и NA лидируют с M (18 лет) и E (12 лет). В общем лидируют игры с возрастным ограничением в 18 и 12 лет.\n",
    "    * Самые популярные рейтинги для NA:\n",
    "        * M - 165.210\n",
    "        * E - 79.050\n",
    "        * E10+ - 54.240\n",
    "        * T - 49.790\n",
    "    * Самые популярные платформы для EU:\n",
    "        * M - 145.320\n",
    "        * E - 83.360\n",
    "        * E10+ - 42.690\n",
    "        * T - 41.950\n",
    "    * Самые популярные платформы для JP:\n",
    "        * T - 20.590\n",
    "        * E - 15.140\n",
    "        * M - 14.110\n",
    "        * E10+ - 5.890\n",
    "5. В проверке гипотез проверим гипотезы:\n",
    "    1. Средние пользовательские рейтинги платформ Xbox One и PC одинаковые;\n",
    "    2. Средние пользовательские рейтинги жанров Action (англ. «действие», экшен-игры) и Sports (англ. «спортивные соревнования») разные.\n",
    "    * В первом случае не удалось отвергнуть H0 (Средние пользовательские рейтинги платформ Xbox One и PC одинаковые (равны)), значит, Средние пользовательские рейтинги платформ Xbox One и PC различаются - не подтвердилась;\n",
    "    * Во втором случае отвергли H0 (Средние пользовательские рейтинги жанров Action и Sports одинаковые (равны)), значит, средние пользовательские рейтинги жанров Action и Sports разные - подтвердилась."
   ]
  }
 ],
 "metadata": {
  "ExecuteTimeLog": [
   {
    "duration": 746,
    "start_time": "2021-06-10T16:10:00.540Z"
   },
   {
    "duration": 408,
    "start_time": "2021-06-10T16:10:25.976Z"
   },
   {
    "duration": 262,
    "start_time": "2021-06-10T16:10:33.906Z"
   },
   {
    "duration": 408,
    "start_time": "2021-06-10T16:11:20.863Z"
   },
   {
    "duration": 158,
    "start_time": "2021-06-10T16:11:36.869Z"
   },
   {
    "duration": 96,
    "start_time": "2021-06-10T16:12:44.468Z"
   },
   {
    "duration": 3,
    "start_time": "2021-06-10T16:12:50.671Z"
   },
   {
    "duration": 4,
    "start_time": "2021-06-10T16:13:12.731Z"
   },
   {
    "duration": 48,
    "start_time": "2021-06-10T16:13:45.884Z"
   },
   {
    "duration": 48,
    "start_time": "2021-06-10T16:14:17.839Z"
   },
   {
    "duration": 31,
    "start_time": "2021-06-10T16:14:22.916Z"
   },
   {
    "duration": 18,
    "start_time": "2021-06-10T16:14:32.882Z"
   },
   {
    "duration": 14,
    "start_time": "2021-06-10T16:15:04.549Z"
   },
   {
    "duration": 5,
    "start_time": "2021-06-10T16:16:50.892Z"
   },
   {
    "duration": 13,
    "start_time": "2021-06-10T16:17:35.070Z"
   },
   {
    "duration": 6,
    "start_time": "2021-06-10T16:17:35.495Z"
   },
   {
    "duration": 13,
    "start_time": "2021-06-10T16:23:40.696Z"
   },
   {
    "duration": 13,
    "start_time": "2021-06-10T16:23:54.267Z"
   },
   {
    "duration": 3,
    "start_time": "2021-06-10T16:26:11.867Z"
   },
   {
    "duration": 23,
    "start_time": "2021-06-10T16:26:22.144Z"
   },
   {
    "duration": 42,
    "start_time": "2021-06-10T16:47:18.231Z"
   },
   {
    "duration": 27,
    "start_time": "2021-06-10T16:51:27.055Z"
   },
   {
    "duration": 17,
    "start_time": "2021-06-10T16:51:34.644Z"
   },
   {
    "duration": 17,
    "start_time": "2021-06-10T16:51:40.184Z"
   },
   {
    "duration": 18,
    "start_time": "2021-06-10T16:51:54.684Z"
   },
   {
    "duration": 3,
    "start_time": "2021-06-10T17:00:58.074Z"
   },
   {
    "duration": 6261,
    "start_time": "2021-06-10T17:01:11.248Z"
   },
   {
    "duration": 11,
    "start_time": "2021-06-10T17:01:18.692Z"
   },
   {
    "duration": 11,
    "start_time": "2021-06-10T17:02:02.650Z"
   },
   {
    "duration": 10,
    "start_time": "2021-06-10T17:02:18.286Z"
   },
   {
    "duration": 9,
    "start_time": "2021-06-10T17:05:55.625Z"
   },
   {
    "duration": 10,
    "start_time": "2021-06-10T17:09:08.236Z"
   },
   {
    "duration": 9,
    "start_time": "2021-06-10T17:09:15.203Z"
   },
   {
    "duration": 9,
    "start_time": "2021-06-10T17:09:20.667Z"
   },
   {
    "duration": 9,
    "start_time": "2021-06-10T17:09:34.848Z"
   },
   {
    "duration": 16,
    "start_time": "2021-06-10T17:17:03.301Z"
   },
   {
    "duration": 11,
    "start_time": "2021-06-10T17:18:11.299Z"
   },
   {
    "duration": 6,
    "start_time": "2021-06-10T17:35:57.984Z"
   },
   {
    "duration": 26,
    "start_time": "2021-06-10T17:35:57.993Z"
   },
   {
    "duration": 1320,
    "start_time": "2021-06-10T21:33:15.703Z"
   },
   {
    "duration": 4,
    "start_time": "2021-06-10T21:33:17.025Z"
   },
   {
    "duration": 51,
    "start_time": "2021-06-10T21:33:17.031Z"
   },
   {
    "duration": 14,
    "start_time": "2021-06-10T21:33:18.214Z"
   },
   {
    "duration": 9,
    "start_time": "2021-06-10T21:33:23.050Z"
   },
   {
    "duration": 9,
    "start_time": "2021-06-10T21:33:27.625Z"
   },
   {
    "duration": 9,
    "start_time": "2021-06-10T21:33:32.923Z"
   },
   {
    "duration": 10,
    "start_time": "2021-06-10T21:33:33.507Z"
   },
   {
    "duration": 10,
    "start_time": "2021-06-10T21:33:34.791Z"
   },
   {
    "duration": 20,
    "start_time": "2021-06-10T21:34:08.113Z"
   },
   {
    "duration": 18,
    "start_time": "2021-06-10T21:34:09.797Z"
   },
   {
    "duration": 11,
    "start_time": "2021-06-10T21:40:11.458Z"
   },
   {
    "duration": 10,
    "start_time": "2021-06-10T21:40:52.109Z"
   },
   {
    "duration": 36,
    "start_time": "2021-06-10T21:45:07.290Z"
   },
   {
    "duration": 28,
    "start_time": "2021-06-10T21:45:14.604Z"
   },
   {
    "duration": 35,
    "start_time": "2021-06-10T21:47:12.455Z"
   },
   {
    "duration": 31,
    "start_time": "2021-06-10T21:48:18.911Z"
   },
   {
    "duration": 39,
    "start_time": "2021-06-10T21:48:32.150Z"
   },
   {
    "duration": 32,
    "start_time": "2021-06-10T21:48:45.884Z"
   },
   {
    "duration": 428,
    "start_time": "2021-06-10T21:48:54.565Z"
   },
   {
    "duration": 296,
    "start_time": "2021-06-10T21:50:44.271Z"
   },
   {
    "duration": 251,
    "start_time": "2021-06-10T21:51:50.525Z"
   },
   {
    "duration": 957,
    "start_time": "2021-06-10T21:52:01.091Z"
   },
   {
    "duration": 247,
    "start_time": "2021-06-10T21:52:13.793Z"
   },
   {
    "duration": 278,
    "start_time": "2021-06-10T21:52:18.265Z"
   },
   {
    "duration": 7,
    "start_time": "2021-06-10T21:52:30.294Z"
   },
   {
    "duration": 30,
    "start_time": "2021-06-10T21:52:33.353Z"
   },
   {
    "duration": 14,
    "start_time": "2021-06-10T21:52:48.005Z"
   },
   {
    "duration": 207,
    "start_time": "2021-06-10T21:59:51.377Z"
   },
   {
    "duration": 240,
    "start_time": "2021-06-10T22:00:05.270Z"
   },
   {
    "duration": 250,
    "start_time": "2021-06-10T22:00:11.980Z"
   },
   {
    "duration": 256,
    "start_time": "2021-06-10T22:00:15.757Z"
   },
   {
    "duration": 401,
    "start_time": "2021-06-10T22:00:33.580Z"
   },
   {
    "duration": 506,
    "start_time": "2021-06-10T22:00:40.667Z"
   },
   {
    "duration": 226,
    "start_time": "2021-06-10T22:00:49.702Z"
   },
   {
    "duration": 555,
    "start_time": "2021-06-10T22:00:54.123Z"
   },
   {
    "duration": 311,
    "start_time": "2021-06-10T22:01:00.976Z"
   },
   {
    "duration": 703,
    "start_time": "2021-06-10T22:01:02.972Z"
   },
   {
    "duration": 656,
    "start_time": "2021-06-10T22:01:13.976Z"
   },
   {
    "duration": 6550,
    "start_time": "2021-06-10T22:02:07.198Z"
   },
   {
    "duration": 89,
    "start_time": "2021-06-10T22:02:24.410Z"
   },
   {
    "duration": 1195,
    "start_time": "2021-06-10T22:02:28.034Z"
   },
   {
    "duration": 1155,
    "start_time": "2021-06-10T22:02:42.818Z"
   },
   {
    "duration": 2221,
    "start_time": "2021-06-10T22:02:59.937Z"
   },
   {
    "duration": 373,
    "start_time": "2021-06-10T22:04:40.471Z"
   },
   {
    "duration": 461,
    "start_time": "2021-06-10T22:05:29.284Z"
   },
   {
    "duration": 481,
    "start_time": "2021-06-10T22:05:38.253Z"
   },
   {
    "duration": 467,
    "start_time": "2021-06-10T22:05:43.519Z"
   },
   {
    "duration": 508,
    "start_time": "2021-06-10T22:05:48.980Z"
   },
   {
    "duration": 477,
    "start_time": "2021-06-10T22:05:56.712Z"
   },
   {
    "duration": 473,
    "start_time": "2021-06-10T22:06:02.339Z"
   },
   {
    "duration": 477,
    "start_time": "2021-06-10T22:07:24.079Z"
   },
   {
    "duration": 499,
    "start_time": "2021-06-10T22:07:33.668Z"
   },
   {
    "duration": 22,
    "start_time": "2021-06-10T22:09:03.488Z"
   },
   {
    "duration": 19,
    "start_time": "2021-06-10T22:09:10.597Z"
   },
   {
    "duration": 5117,
    "start_time": "2021-06-10T22:09:35.705Z"
   },
   {
    "duration": 15,
    "start_time": "2021-06-10T22:09:50.386Z"
   },
   {
    "duration": 293,
    "start_time": "2021-06-10T22:10:12.146Z"
   },
   {
    "duration": 3,
    "start_time": "2021-06-10T22:10:15.751Z"
   },
   {
    "duration": 13,
    "start_time": "2021-06-10T22:10:16.087Z"
   },
   {
    "duration": 3,
    "start_time": "2021-06-10T22:10:45.308Z"
   },
   {
    "duration": 15,
    "start_time": "2021-06-10T22:10:45.608Z"
   },
   {
    "duration": 4,
    "start_time": "2021-06-10T22:11:09.030Z"
   },
   {
    "duration": 13,
    "start_time": "2021-06-10T22:11:09.256Z"
   },
   {
    "duration": 267,
    "start_time": "2021-06-10T22:12:18.415Z"
   },
   {
    "duration": 14,
    "start_time": "2021-06-10T22:12:48.649Z"
   },
   {
    "duration": 14,
    "start_time": "2021-06-10T22:12:53.235Z"
   },
   {
    "duration": 15,
    "start_time": "2021-06-10T22:12:58.897Z"
   },
   {
    "duration": 19,
    "start_time": "2021-06-10T22:13:03.092Z"
   },
   {
    "duration": 14,
    "start_time": "2021-06-10T22:13:11.065Z"
   },
   {
    "duration": 14,
    "start_time": "2021-06-10T22:13:14.060Z"
   },
   {
    "duration": 362,
    "start_time": "2021-06-11T19:49:08.273Z"
   },
   {
    "duration": 1412,
    "start_time": "2021-06-11T19:49:14.281Z"
   },
   {
    "duration": 4,
    "start_time": "2021-06-11T19:49:15.695Z"
   },
   {
    "duration": 51,
    "start_time": "2021-06-11T19:49:15.702Z"
   },
   {
    "duration": 16,
    "start_time": "2021-06-11T19:49:15.755Z"
   },
   {
    "duration": 7,
    "start_time": "2021-06-11T19:49:15.773Z"
   },
   {
    "duration": 10,
    "start_time": "2021-06-11T19:49:15.783Z"
   },
   {
    "duration": 9,
    "start_time": "2021-06-11T19:49:15.826Z"
   },
   {
    "duration": 10,
    "start_time": "2021-06-11T19:49:15.838Z"
   },
   {
    "duration": 12,
    "start_time": "2021-06-11T19:49:15.852Z"
   },
   {
    "duration": 67,
    "start_time": "2021-06-11T19:49:15.867Z"
   },
   {
    "duration": 10,
    "start_time": "2021-06-11T19:49:15.937Z"
   },
   {
    "duration": 17,
    "start_time": "2021-06-11T19:49:15.950Z"
   },
   {
    "duration": 17,
    "start_time": "2021-06-11T19:49:16.018Z"
   },
   {
    "duration": 12,
    "start_time": "2021-06-11T19:49:16.113Z"
   },
   {
    "duration": 23,
    "start_time": "2021-06-11T19:49:16.265Z"
   },
   {
    "duration": 40,
    "start_time": "2021-06-11T19:49:16.350Z"
   },
   {
    "duration": 497,
    "start_time": "2021-06-11T19:49:16.484Z"
   },
   {
    "duration": 416,
    "start_time": "2021-06-11T19:49:16.984Z"
   },
   {
    "duration": 509,
    "start_time": "2021-06-11T19:49:17.403Z"
   },
   {
    "duration": 2165,
    "start_time": "2021-06-11T19:49:17.914Z"
   },
   {
    "duration": 5,
    "start_time": "2021-06-11T19:49:20.082Z"
   },
   {
    "duration": 425,
    "start_time": "2021-06-11T19:49:37.122Z"
   },
   {
    "duration": 132,
    "start_time": "2021-06-11T19:51:59.669Z"
   },
   {
    "duration": 4,
    "start_time": "2021-06-11T19:52:03.415Z"
   },
   {
    "duration": 5,
    "start_time": "2021-06-11T19:52:09.231Z"
   },
   {
    "duration": 4,
    "start_time": "2021-06-11T19:53:28.762Z"
   },
   {
    "duration": 6,
    "start_time": "2021-06-11T19:54:26.690Z"
   },
   {
    "duration": 352,
    "start_time": "2021-06-11T19:54:47.894Z"
   },
   {
    "duration": 26,
    "start_time": "2021-06-11T19:54:51.250Z"
   },
   {
    "duration": 360,
    "start_time": "2021-06-11T19:56:02.454Z"
   },
   {
    "duration": 7,
    "start_time": "2021-06-11T19:56:04.523Z"
   },
   {
    "duration": 11,
    "start_time": "2021-06-11T19:56:31.275Z"
   },
   {
    "duration": 14,
    "start_time": "2021-06-11T19:56:33.939Z"
   },
   {
    "duration": 322,
    "start_time": "2021-06-11T19:57:11.818Z"
   },
   {
    "duration": 12,
    "start_time": "2021-06-11T19:57:24.012Z"
   },
   {
    "duration": 5,
    "start_time": "2021-06-11T19:57:36.746Z"
   },
   {
    "duration": 11,
    "start_time": "2021-06-11T19:58:07.004Z"
   },
   {
    "duration": 11,
    "start_time": "2021-06-11T19:58:09.318Z"
   },
   {
    "duration": 87,
    "start_time": "2021-06-11T19:58:11.932Z"
   },
   {
    "duration": 12,
    "start_time": "2021-06-11T19:59:08.399Z"
   },
   {
    "duration": 365,
    "start_time": "2021-06-11T19:59:38.072Z"
   },
   {
    "duration": 335,
    "start_time": "2021-06-11T19:59:45.436Z"
   },
   {
    "duration": 388,
    "start_time": "2021-06-11T19:59:47.894Z"
   },
   {
    "duration": 347,
    "start_time": "2021-06-11T19:59:53.048Z"
   },
   {
    "duration": 351,
    "start_time": "2021-06-11T19:59:58.494Z"
   },
   {
    "duration": 350,
    "start_time": "2021-06-11T20:00:29.722Z"
   },
   {
    "duration": 365,
    "start_time": "2021-06-11T20:00:35.009Z"
   },
   {
    "duration": 342,
    "start_time": "2021-06-11T20:00:39.315Z"
   },
   {
    "duration": 359,
    "start_time": "2021-06-11T20:00:44.257Z"
   },
   {
    "duration": 12,
    "start_time": "2021-06-11T20:00:50.928Z"
   },
   {
    "duration": 13,
    "start_time": "2021-06-11T20:00:55.368Z"
   },
   {
    "duration": 374,
    "start_time": "2021-06-11T20:01:02.292Z"
   },
   {
    "duration": 140,
    "start_time": "2021-06-11T20:01:06.775Z"
   },
   {
    "duration": 12,
    "start_time": "2021-06-11T20:01:11.084Z"
   },
   {
    "duration": 35,
    "start_time": "2021-06-11T20:01:55.462Z"
   },
   {
    "duration": 39,
    "start_time": "2021-06-11T20:01:59.644Z"
   },
   {
    "duration": 363,
    "start_time": "2021-06-11T20:02:38.903Z"
   },
   {
    "duration": 13,
    "start_time": "2021-06-11T20:03:03.327Z"
   },
   {
    "duration": 10,
    "start_time": "2021-06-11T20:07:37.885Z"
   },
   {
    "duration": 5,
    "start_time": "2021-06-11T20:07:38.497Z"
   },
   {
    "duration": 12,
    "start_time": "2021-06-11T20:09:14.120Z"
   },
   {
    "duration": 23,
    "start_time": "2021-06-11T20:10:14.239Z"
   },
   {
    "duration": 13,
    "start_time": "2021-06-11T20:10:44.247Z"
   },
   {
    "duration": 12,
    "start_time": "2021-06-11T20:12:03.187Z"
   },
   {
    "duration": 7,
    "start_time": "2021-06-11T20:17:43.707Z"
   },
   {
    "duration": 403,
    "start_time": "2021-06-11T20:18:10.039Z"
   },
   {
    "duration": 14,
    "start_time": "2021-06-11T20:18:19.271Z"
   },
   {
    "duration": 6,
    "start_time": "2021-06-11T20:18:25.421Z"
   },
   {
    "duration": 23,
    "start_time": "2021-06-11T20:42:13.268Z"
   },
   {
    "duration": 7,
    "start_time": "2021-06-11T20:52:10.149Z"
   },
   {
    "duration": 27,
    "start_time": "2021-06-11T20:52:12.821Z"
   },
   {
    "duration": 5,
    "start_time": "2021-06-11T20:52:13.070Z"
   },
   {
    "duration": 39,
    "start_time": "2021-06-11T20:59:14.607Z"
   },
   {
    "duration": 15,
    "start_time": "2021-06-11T21:13:59.095Z"
   },
   {
    "duration": 6,
    "start_time": "2021-06-11T21:19:47.052Z"
   },
   {
    "duration": 118,
    "start_time": "2021-06-11T21:21:29.064Z"
   },
   {
    "duration": 133,
    "start_time": "2021-06-11T21:21:43.909Z"
   },
   {
    "duration": 12,
    "start_time": "2021-06-11T21:22:07.321Z"
   },
   {
    "duration": 430,
    "start_time": "2021-06-11T21:22:26.715Z"
   },
   {
    "duration": 288,
    "start_time": "2021-06-11T21:22:33.980Z"
   },
   {
    "duration": 414,
    "start_time": "2021-06-11T21:22:40.549Z"
   },
   {
    "duration": 14,
    "start_time": "2021-06-11T21:22:45.069Z"
   },
   {
    "duration": 10,
    "start_time": "2021-06-11T21:22:55.306Z"
   },
   {
    "duration": 349,
    "start_time": "2021-06-11T21:24:52.514Z"
   },
   {
    "duration": 114,
    "start_time": "2021-06-11T21:25:04.342Z"
   },
   {
    "duration": 139,
    "start_time": "2021-06-11T21:27:54.757Z"
   },
   {
    "duration": 5,
    "start_time": "2021-06-11T21:28:00.155Z"
   },
   {
    "duration": 11,
    "start_time": "2021-06-11T21:28:00.903Z"
   },
   {
    "duration": 33,
    "start_time": "2021-06-11T21:29:23.554Z"
   },
   {
    "duration": 10,
    "start_time": "2021-06-11T21:32:20.656Z"
   },
   {
    "duration": 12,
    "start_time": "2021-06-11T21:32:37.800Z"
   },
   {
    "duration": 129,
    "start_time": "2021-06-11T21:33:24.835Z"
   },
   {
    "duration": 352,
    "start_time": "2021-06-11T21:33:29.509Z"
   },
   {
    "duration": 355,
    "start_time": "2021-06-11T21:34:19.580Z"
   },
   {
    "duration": 15,
    "start_time": "2021-06-11T21:34:31.983Z"
   },
   {
    "duration": 144,
    "start_time": "2021-06-11T21:34:50.314Z"
   },
   {
    "duration": 16,
    "start_time": "2021-06-11T21:34:56.621Z"
   },
   {
    "duration": 16,
    "start_time": "2021-06-11T21:35:20.981Z"
   },
   {
    "duration": 581,
    "start_time": "2021-06-11T21:35:59.542Z"
   },
   {
    "duration": 12,
    "start_time": "2021-06-11T21:36:40.393Z"
   },
   {
    "duration": 35,
    "start_time": "2021-06-11T21:36:58.770Z"
   },
   {
    "duration": 4,
    "start_time": "2021-06-11T21:38:05.481Z"
   },
   {
    "duration": 4,
    "start_time": "2021-06-11T21:38:05.564Z"
   },
   {
    "duration": 48,
    "start_time": "2021-06-11T21:38:05.649Z"
   },
   {
    "duration": 15,
    "start_time": "2021-06-11T21:38:05.734Z"
   },
   {
    "duration": 6,
    "start_time": "2021-06-11T21:38:05.815Z"
   },
   {
    "duration": 8,
    "start_time": "2021-06-11T21:38:05.901Z"
   },
   {
    "duration": 10,
    "start_time": "2021-06-11T21:38:06.065Z"
   },
   {
    "duration": 13,
    "start_time": "2021-06-11T21:38:06.152Z"
   },
   {
    "duration": 11,
    "start_time": "2021-06-11T21:38:06.233Z"
   },
   {
    "duration": 19,
    "start_time": "2021-06-11T21:38:06.402Z"
   },
   {
    "duration": 10,
    "start_time": "2021-06-11T21:38:06.571Z"
   },
   {
    "duration": 17,
    "start_time": "2021-06-11T21:38:06.656Z"
   },
   {
    "duration": 28,
    "start_time": "2021-06-11T21:38:06.737Z"
   },
   {
    "duration": 15,
    "start_time": "2021-06-11T21:38:06.820Z"
   },
   {
    "duration": 18,
    "start_time": "2021-06-11T21:38:06.903Z"
   },
   {
    "duration": 24,
    "start_time": "2021-06-11T21:38:07.072Z"
   },
   {
    "duration": 41,
    "start_time": "2021-06-11T21:38:07.154Z"
   },
   {
    "duration": 494,
    "start_time": "2021-06-11T21:38:07.552Z"
   },
   {
    "duration": 407,
    "start_time": "2021-06-11T21:38:08.050Z"
   },
   {
    "duration": 529,
    "start_time": "2021-06-11T21:38:08.461Z"
   },
   {
    "duration": 2171,
    "start_time": "2021-06-11T21:38:08.994Z"
   },
   {
    "duration": 9411,
    "start_time": "2021-06-11T21:38:11.169Z"
   },
   {
    "duration": 1235,
    "start_time": "2021-06-11T21:38:19.348Z"
   },
   {
    "duration": 1231,
    "start_time": "2021-06-11T21:38:19.354Z"
   },
   {
    "duration": 1228,
    "start_time": "2021-06-11T21:38:19.359Z"
   },
   {
    "duration": 4,
    "start_time": "2021-06-11T21:38:49.806Z"
   },
   {
    "duration": 6,
    "start_time": "2021-06-11T21:38:50.440Z"
   },
   {
    "duration": 6,
    "start_time": "2021-06-11T21:38:56.501Z"
   },
   {
    "duration": 6,
    "start_time": "2021-06-11T21:38:57.153Z"
   },
   {
    "duration": 9,
    "start_time": "2021-06-11T21:38:58.017Z"
   },
   {
    "duration": 6,
    "start_time": "2021-06-11T21:38:58.465Z"
   },
   {
    "duration": 11,
    "start_time": "2021-06-11T21:38:59.169Z"
   },
   {
    "duration": 9973,
    "start_time": "2021-06-11T21:39:00.798Z"
   },
   {
    "duration": 1243,
    "start_time": "2021-06-11T21:39:09.531Z"
   },
   {
    "duration": 1242,
    "start_time": "2021-06-11T21:39:09.535Z"
   },
   {
    "duration": 9,
    "start_time": "2021-06-11T21:39:30.557Z"
   },
   {
    "duration": 11,
    "start_time": "2021-06-11T21:39:31.106Z"
   },
   {
    "duration": 14,
    "start_time": "2021-06-11T21:39:45.342Z"
   },
   {
    "duration": 499,
    "start_time": "2021-06-11T21:39:55.381Z"
   },
   {
    "duration": 537,
    "start_time": "2021-06-11T21:40:02.101Z"
   },
   {
    "duration": 711,
    "start_time": "2021-06-11T21:40:12.034Z"
   },
   {
    "duration": 695,
    "start_time": "2021-06-11T21:40:18.269Z"
   },
   {
    "duration": 702,
    "start_time": "2021-06-11T21:40:23.988Z"
   },
   {
    "duration": 553,
    "start_time": "2021-06-11T21:40:29.447Z"
   },
   {
    "duration": 563,
    "start_time": "2021-06-11T21:41:05.277Z"
   },
   {
    "duration": 689,
    "start_time": "2021-06-11T21:41:21.099Z"
   },
   {
    "duration": 621,
    "start_time": "2021-06-11T21:41:32.235Z"
   },
   {
    "duration": 574,
    "start_time": "2021-06-11T21:41:37.744Z"
   },
   {
    "duration": 572,
    "start_time": "2021-06-11T21:41:43.209Z"
   },
   {
    "duration": 627,
    "start_time": "2021-06-11T21:41:49.912Z"
   },
   {
    "duration": 521,
    "start_time": "2021-06-11T21:41:58.947Z"
   },
   {
    "duration": 13,
    "start_time": "2021-06-11T21:42:48.757Z"
   },
   {
    "duration": 529,
    "start_time": "2021-06-11T21:42:50.103Z"
   },
   {
    "duration": 5,
    "start_time": "2021-06-11T21:42:50.635Z"
   },
   {
    "duration": 16,
    "start_time": "2021-06-11T21:42:50.718Z"
   },
   {
    "duration": 21,
    "start_time": "2021-06-11T21:42:55.944Z"
   },
   {
    "duration": 383,
    "start_time": "2021-06-11T21:43:02.418Z"
   },
   {
    "duration": 21,
    "start_time": "2021-06-11T21:44:25.891Z"
   },
   {
    "duration": 31,
    "start_time": "2021-06-11T21:45:20.260Z"
   },
   {
    "duration": 9,
    "start_time": "2021-06-11T21:45:20.591Z"
   },
   {
    "duration": 14,
    "start_time": "2021-06-11T21:46:47.267Z"
   },
   {
    "duration": 1953,
    "start_time": "2021-06-11T21:48:27.417Z"
   },
   {
    "duration": 5,
    "start_time": "2021-06-11T21:48:29.373Z"
   },
   {
    "duration": 76,
    "start_time": "2021-06-11T21:48:29.383Z"
   },
   {
    "duration": 24,
    "start_time": "2021-06-11T21:48:29.463Z"
   },
   {
    "duration": 8,
    "start_time": "2021-06-11T21:48:29.489Z"
   },
   {
    "duration": 32,
    "start_time": "2021-06-11T21:48:29.500Z"
   },
   {
    "duration": 11,
    "start_time": "2021-06-11T21:48:29.534Z"
   },
   {
    "duration": 13,
    "start_time": "2021-06-11T21:48:29.549Z"
   },
   {
    "duration": 11,
    "start_time": "2021-06-11T21:48:29.566Z"
   },
   {
    "duration": 22,
    "start_time": "2021-06-11T21:48:29.626Z"
   },
   {
    "duration": 10,
    "start_time": "2021-06-11T21:48:29.650Z"
   },
   {
    "duration": 18,
    "start_time": "2021-06-11T21:48:29.663Z"
   },
   {
    "duration": 19,
    "start_time": "2021-06-11T21:48:29.727Z"
   },
   {
    "duration": 22,
    "start_time": "2021-06-11T21:48:29.749Z"
   },
   {
    "duration": 55,
    "start_time": "2021-06-11T21:48:29.773Z"
   },
   {
    "duration": 35,
    "start_time": "2021-06-11T21:48:30.119Z"
   },
   {
    "duration": 63,
    "start_time": "2021-06-11T21:48:30.359Z"
   },
   {
    "duration": 734,
    "start_time": "2021-06-11T21:48:30.698Z"
   },
   {
    "duration": 562,
    "start_time": "2021-06-11T21:48:31.435Z"
   },
   {
    "duration": 515,
    "start_time": "2021-06-11T21:48:32.000Z"
   },
   {
    "duration": 2215,
    "start_time": "2021-06-11T21:48:32.517Z"
   },
   {
    "duration": 4,
    "start_time": "2021-06-11T21:48:36.612Z"
   },
   {
    "duration": 6,
    "start_time": "2021-06-11T21:48:37.218Z"
   },
   {
    "duration": 4,
    "start_time": "2021-06-11T21:49:22.754Z"
   },
   {
    "duration": 6,
    "start_time": "2021-06-11T21:49:23.170Z"
   },
   {
    "duration": 7,
    "start_time": "2021-06-11T21:49:23.786Z"
   },
   {
    "duration": 13,
    "start_time": "2021-06-11T21:49:33.482Z"
   },
   {
    "duration": 10,
    "start_time": "2021-06-11T21:51:49.608Z"
   },
   {
    "duration": 5,
    "start_time": "2021-06-11T21:52:18.244Z"
   },
   {
    "duration": 10,
    "start_time": "2021-06-11T21:52:21.657Z"
   },
   {
    "duration": 5,
    "start_time": "2021-06-11T21:52:21.882Z"
   },
   {
    "duration": 11,
    "start_time": "2021-06-11T21:52:22.458Z"
   },
   {
    "duration": 11,
    "start_time": "2021-06-11T21:52:35.200Z"
   },
   {
    "duration": 12,
    "start_time": "2021-06-11T21:52:36.727Z"
   },
   {
    "duration": 612,
    "start_time": "2021-06-11T21:52:38.936Z"
   },
   {
    "duration": 4,
    "start_time": "2021-06-11T21:52:41.474Z"
   },
   {
    "duration": 11,
    "start_time": "2021-06-11T21:52:42.101Z"
   },
   {
    "duration": 16,
    "start_time": "2021-06-11T21:52:45.189Z"
   },
   {
    "duration": 17,
    "start_time": "2021-06-11T21:53:01.373Z"
   },
   {
    "duration": 18,
    "start_time": "2021-06-11T21:53:08.732Z"
   },
   {
    "duration": 9,
    "start_time": "2021-06-11T21:53:09.117Z"
   },
   {
    "duration": 29,
    "start_time": "2021-06-11T21:53:23.560Z"
   },
   {
    "duration": 5,
    "start_time": "2021-06-11T21:54:32.744Z"
   },
   {
    "duration": 14,
    "start_time": "2021-06-11T21:54:38.873Z"
   },
   {
    "duration": 50,
    "start_time": "2021-06-11T21:58:30.960Z"
   },
   {
    "duration": 48,
    "start_time": "2021-06-11T22:01:39.482Z"
   },
   {
    "duration": 29,
    "start_time": "2021-06-11T22:04:40.507Z"
   },
   {
    "duration": 1452,
    "start_time": "2021-06-14T14:31:47.211Z"
   },
   {
    "duration": 5,
    "start_time": "2021-06-14T14:31:48.666Z"
   },
   {
    "duration": 59,
    "start_time": "2021-06-14T14:31:48.674Z"
   },
   {
    "duration": 17,
    "start_time": "2021-06-14T14:31:55.032Z"
   },
   {
    "duration": 8,
    "start_time": "2021-06-14T14:31:56.052Z"
   },
   {
    "duration": 10,
    "start_time": "2021-06-14T14:31:56.658Z"
   },
   {
    "duration": 18,
    "start_time": "2021-06-14T14:32:05.044Z"
   },
   {
    "duration": 9,
    "start_time": "2021-06-14T14:32:10.108Z"
   },
   {
    "duration": 10,
    "start_time": "2021-06-14T14:32:35.108Z"
   },
   {
    "duration": 21,
    "start_time": "2021-06-14T14:39:43.324Z"
   },
   {
    "duration": 10,
    "start_time": "2021-06-14T14:39:51.810Z"
   },
   {
    "duration": 18,
    "start_time": "2021-06-14T14:40:27.602Z"
   },
   {
    "duration": 17,
    "start_time": "2021-06-14T14:40:31.790Z"
   },
   {
    "duration": 1315,
    "start_time": "2021-06-15T16:57:47.648Z"
   },
   {
    "duration": 4,
    "start_time": "2021-06-15T16:57:48.966Z"
   },
   {
    "duration": 46,
    "start_time": "2021-06-15T16:57:49.674Z"
   },
   {
    "duration": 16,
    "start_time": "2021-06-15T16:57:50.285Z"
   },
   {
    "duration": 8,
    "start_time": "2021-06-15T16:57:54.575Z"
   },
   {
    "duration": 9,
    "start_time": "2021-06-15T16:57:58.281Z"
   },
   {
    "duration": 10,
    "start_time": "2021-06-15T16:58:36.009Z"
   },
   {
    "duration": 10,
    "start_time": "2021-06-15T16:58:36.883Z"
   },
   {
    "duration": 9,
    "start_time": "2021-06-15T16:58:37.467Z"
   },
   {
    "duration": 23,
    "start_time": "2021-06-15T16:58:38.473Z"
   },
   {
    "duration": 11,
    "start_time": "2021-06-15T16:58:40.412Z"
   },
   {
    "duration": 16,
    "start_time": "2021-06-15T16:58:42.784Z"
   },
   {
    "duration": 19,
    "start_time": "2021-06-15T16:58:43.898Z"
   },
   {
    "duration": 12,
    "start_time": "2021-06-15T16:58:48.464Z"
   },
   {
    "duration": 12,
    "start_time": "2021-06-15T17:08:50.120Z"
   },
   {
    "duration": 22,
    "start_time": "2021-06-15T17:09:03.444Z"
   },
   {
    "duration": 39,
    "start_time": "2021-06-15T17:09:03.861Z"
   },
   {
    "duration": 13,
    "start_time": "2021-06-15T17:09:21.876Z"
   },
   {
    "duration": 22,
    "start_time": "2021-06-15T17:09:22.202Z"
   },
   {
    "duration": 39,
    "start_time": "2021-06-15T17:09:22.357Z"
   },
   {
    "duration": 453,
    "start_time": "2021-06-15T17:09:22.690Z"
   },
   {
    "duration": 379,
    "start_time": "2021-06-15T17:09:23.145Z"
   },
   {
    "duration": 466,
    "start_time": "2021-06-15T17:12:10.556Z"
   },
   {
    "duration": 4,
    "start_time": "2021-06-15T17:13:23.822Z"
   },
   {
    "duration": 3,
    "start_time": "2021-06-15T17:13:23.895Z"
   },
   {
    "duration": 51,
    "start_time": "2021-06-15T17:13:23.979Z"
   },
   {
    "duration": 14,
    "start_time": "2021-06-15T17:13:24.063Z"
   },
   {
    "duration": 5,
    "start_time": "2021-06-15T17:13:24.146Z"
   },
   {
    "duration": 8,
    "start_time": "2021-06-15T17:13:24.232Z"
   },
   {
    "duration": 10,
    "start_time": "2021-06-15T17:13:24.398Z"
   },
   {
    "duration": 9,
    "start_time": "2021-06-15T17:13:24.495Z"
   },
   {
    "duration": 10,
    "start_time": "2021-06-15T17:13:24.570Z"
   },
   {
    "duration": 18,
    "start_time": "2021-06-15T17:13:24.733Z"
   },
   {
    "duration": 10,
    "start_time": "2021-06-15T17:13:24.900Z"
   },
   {
    "duration": 21,
    "start_time": "2021-06-15T17:13:24.983Z"
   },
   {
    "duration": 17,
    "start_time": "2021-06-15T17:13:25.072Z"
   },
   {
    "duration": 12,
    "start_time": "2021-06-15T17:13:25.156Z"
   },
   {
    "duration": 13,
    "start_time": "2021-06-15T17:13:25.235Z"
   },
   {
    "duration": 24,
    "start_time": "2021-06-15T17:13:25.403Z"
   },
   {
    "duration": 38,
    "start_time": "2021-06-15T17:13:25.495Z"
   },
   {
    "duration": 542,
    "start_time": "2021-06-15T17:13:25.654Z"
   },
   {
    "duration": 361,
    "start_time": "2021-06-15T17:13:26.199Z"
   },
   {
    "duration": 486,
    "start_time": "2021-06-15T17:13:26.562Z"
   },
   {
    "duration": 2080,
    "start_time": "2021-06-15T17:13:27.051Z"
   },
   {
    "duration": 4,
    "start_time": "2021-06-15T17:40:25.790Z"
   },
   {
    "duration": 6,
    "start_time": "2021-06-15T17:40:26.222Z"
   },
   {
    "duration": 7,
    "start_time": "2021-06-15T17:40:26.921Z"
   },
   {
    "duration": 10,
    "start_time": "2021-06-15T17:40:27.957Z"
   },
   {
    "duration": 12,
    "start_time": "2021-06-15T17:40:27.970Z"
   },
   {
    "duration": 5,
    "start_time": "2021-06-15T17:40:27.985Z"
   },
   {
    "duration": 10,
    "start_time": "2021-06-15T17:40:29.518Z"
   },
   {
    "duration": 12,
    "start_time": "2021-06-15T17:40:46.215Z"
   },
   {
    "duration": 11,
    "start_time": "2021-06-15T17:40:47.068Z"
   },
   {
    "duration": 511,
    "start_time": "2021-06-15T17:41:05.623Z"
   },
   {
    "duration": 4,
    "start_time": "2021-06-15T17:41:06.137Z"
   },
   {
    "duration": 14,
    "start_time": "2021-06-15T17:41:06.144Z"
   },
   {
    "duration": 35,
    "start_time": "2021-06-15T17:41:06.160Z"
   },
   {
    "duration": 13,
    "start_time": "2021-06-15T17:41:06.306Z"
   },
   {
    "duration": 6,
    "start_time": "2021-06-15T17:54:50.392Z"
   },
   {
    "duration": 6,
    "start_time": "2021-06-15T17:54:51.896Z"
   },
   {
    "duration": 14,
    "start_time": "2021-06-15T17:54:52.342Z"
   },
   {
    "duration": 16,
    "start_time": "2021-06-15T18:22:10.464Z"
   },
   {
    "duration": 9,
    "start_time": "2021-06-15T18:22:37.560Z"
   },
   {
    "duration": 21,
    "start_time": "2021-06-15T18:22:57.314Z"
   },
   {
    "duration": 316,
    "start_time": "2021-06-15T18:23:41.584Z"
   },
   {
    "duration": 10,
    "start_time": "2021-06-15T18:24:01.011Z"
   },
   {
    "duration": 24,
    "start_time": "2021-06-15T18:40:37.240Z"
   },
   {
    "duration": 356,
    "start_time": "2021-06-15T18:40:41.880Z"
   },
   {
    "duration": 388,
    "start_time": "2021-06-15T19:45:41.577Z"
   },
   {
    "duration": 271,
    "start_time": "2021-06-15T19:45:44.954Z"
   },
   {
    "duration": 264,
    "start_time": "2021-06-15T19:45:49.855Z"
   },
   {
    "duration": 265,
    "start_time": "2021-06-15T19:45:57.918Z"
   },
   {
    "duration": 430,
    "start_time": "2021-06-15T19:46:17.833Z"
   },
   {
    "duration": 5,
    "start_time": "2021-06-15T19:46:38.735Z"
   },
   {
    "duration": 5,
    "start_time": "2021-06-15T19:46:42.972Z"
   },
   {
    "duration": 5,
    "start_time": "2021-06-15T19:46:46.307Z"
   },
   {
    "duration": 5,
    "start_time": "2021-06-15T19:46:51.422Z"
   },
   {
    "duration": 5,
    "start_time": "2021-06-15T19:46:55.057Z"
   },
   {
    "duration": 61,
    "start_time": "2021-06-15T19:46:57.135Z"
   },
   {
    "duration": 435,
    "start_time": "2021-06-15T19:47:16.320Z"
   },
   {
    "duration": 646,
    "start_time": "2021-06-15T19:47:28.668Z"
   },
   {
    "duration": 770,
    "start_time": "2021-06-15T19:47:38.542Z"
   },
   {
    "duration": 457,
    "start_time": "2021-06-15T19:47:55.878Z"
   },
   {
    "duration": 677,
    "start_time": "2021-06-15T19:48:00.689Z"
   },
   {
    "duration": 681,
    "start_time": "2021-06-15T19:48:20.325Z"
   },
   {
    "duration": 831,
    "start_time": "2021-06-15T19:56:41.752Z"
   },
   {
    "duration": 711,
    "start_time": "2021-06-15T19:56:45.909Z"
   },
   {
    "duration": 819,
    "start_time": "2021-06-15T19:56:56.036Z"
   },
   {
    "duration": 680,
    "start_time": "2021-06-15T19:57:16.825Z"
   },
   {
    "duration": 715,
    "start_time": "2021-06-15T19:57:19.986Z"
   },
   {
    "duration": 715,
    "start_time": "2021-06-15T19:57:42.549Z"
   },
   {
    "duration": 687,
    "start_time": "2021-06-15T19:57:52.057Z"
   },
   {
    "duration": 707,
    "start_time": "2021-06-15T19:57:55.402Z"
   },
   {
    "duration": 840,
    "start_time": "2021-06-15T19:58:07.208Z"
   },
   {
    "duration": 679,
    "start_time": "2021-06-15T19:58:16.244Z"
   },
   {
    "duration": 727,
    "start_time": "2021-06-15T19:58:28.078Z"
   },
   {
    "duration": 671,
    "start_time": "2021-06-15T19:58:31.965Z"
   },
   {
    "duration": 669,
    "start_time": "2021-06-15T19:58:38.966Z"
   },
   {
    "duration": 288,
    "start_time": "2021-06-15T20:04:36.731Z"
   },
   {
    "duration": 748,
    "start_time": "2021-06-15T20:04:41.535Z"
   },
   {
    "duration": 31,
    "start_time": "2021-06-15T20:05:06.412Z"
   },
   {
    "duration": 606,
    "start_time": "2021-06-15T20:05:34.086Z"
   },
   {
    "duration": 305,
    "start_time": "2021-06-15T20:06:13.973Z"
   },
   {
    "duration": 624,
    "start_time": "2021-06-15T20:06:17.164Z"
   },
   {
    "duration": 592,
    "start_time": "2021-06-15T20:12:48.504Z"
   },
   {
    "duration": 750,
    "start_time": "2021-06-15T20:12:58.419Z"
   },
   {
    "duration": 260,
    "start_time": "2021-06-15T20:13:20.814Z"
   },
   {
    "duration": 619,
    "start_time": "2021-06-15T20:13:42.136Z"
   },
   {
    "duration": 608,
    "start_time": "2021-06-15T20:13:53.736Z"
   },
   {
    "duration": 886,
    "start_time": "2021-06-15T20:14:04.879Z"
   },
   {
    "duration": 919,
    "start_time": "2021-06-15T20:14:15.652Z"
   },
   {
    "duration": 394,
    "start_time": "2021-06-15T20:14:30.363Z"
   },
   {
    "duration": 363,
    "start_time": "2021-06-15T20:19:27.376Z"
   },
   {
    "duration": 8,
    "start_time": "2021-06-15T20:19:45.463Z"
   },
   {
    "duration": 379,
    "start_time": "2021-06-15T20:19:56.411Z"
   },
   {
    "duration": 11,
    "start_time": "2021-06-15T20:38:34.036Z"
   },
   {
    "duration": 7870,
    "start_time": "2021-06-15T20:38:41.695Z"
   },
   {
    "duration": 11,
    "start_time": "2021-06-15T20:38:59.366Z"
   },
   {
    "duration": 10,
    "start_time": "2021-06-15T20:39:02.909Z"
   },
   {
    "duration": 10,
    "start_time": "2021-06-15T20:39:09.187Z"
   },
   {
    "duration": 10,
    "start_time": "2021-06-15T20:39:11.507Z"
   },
   {
    "duration": 10,
    "start_time": "2021-06-15T20:39:18.002Z"
   },
   {
    "duration": 384,
    "start_time": "2021-06-15T20:45:09.151Z"
   },
   {
    "duration": 30,
    "start_time": "2021-06-15T20:45:52.755Z"
   },
   {
    "duration": 312,
    "start_time": "2021-06-15T20:46:03.191Z"
   },
   {
    "duration": 302,
    "start_time": "2021-06-15T20:47:05.469Z"
   },
   {
    "duration": 370,
    "start_time": "2021-06-15T20:47:26.096Z"
   },
   {
    "duration": 303,
    "start_time": "2021-06-15T20:47:28.322Z"
   },
   {
    "duration": 3,
    "start_time": "2021-06-15T20:48:50.811Z"
   },
   {
    "duration": 4,
    "start_time": "2021-06-15T20:48:50.894Z"
   },
   {
    "duration": 47,
    "start_time": "2021-06-15T20:48:50.978Z"
   },
   {
    "duration": 15,
    "start_time": "2021-06-15T20:48:51.060Z"
   },
   {
    "duration": 7,
    "start_time": "2021-06-15T20:48:51.146Z"
   },
   {
    "duration": 9,
    "start_time": "2021-06-15T20:48:51.231Z"
   },
   {
    "duration": 10,
    "start_time": "2021-06-15T20:48:51.420Z"
   },
   {
    "duration": 9,
    "start_time": "2021-06-15T20:48:51.488Z"
   },
   {
    "duration": 10,
    "start_time": "2021-06-15T20:48:51.569Z"
   },
   {
    "duration": 19,
    "start_time": "2021-06-15T20:48:51.734Z"
   },
   {
    "duration": 10,
    "start_time": "2021-06-15T20:48:51.901Z"
   },
   {
    "duration": 17,
    "start_time": "2021-06-15T20:48:51.986Z"
   },
   {
    "duration": 17,
    "start_time": "2021-06-15T20:48:52.067Z"
   },
   {
    "duration": 12,
    "start_time": "2021-06-15T20:48:52.151Z"
   },
   {
    "duration": 13,
    "start_time": "2021-06-15T20:48:52.232Z"
   },
   {
    "duration": 23,
    "start_time": "2021-06-15T20:48:52.401Z"
   },
   {
    "duration": 38,
    "start_time": "2021-06-15T20:48:52.485Z"
   },
   {
    "duration": 491,
    "start_time": "2021-06-15T20:48:52.654Z"
   },
   {
    "duration": 374,
    "start_time": "2021-06-15T20:48:53.148Z"
   },
   {
    "duration": 490,
    "start_time": "2021-06-15T20:48:53.525Z"
   },
   {
    "duration": 2372,
    "start_time": "2021-06-15T20:48:54.018Z"
   },
   {
    "duration": 4,
    "start_time": "2021-06-15T20:48:56.392Z"
   },
   {
    "duration": 10,
    "start_time": "2021-06-15T20:48:56.399Z"
   },
   {
    "duration": 8,
    "start_time": "2021-06-15T20:48:56.412Z"
   },
   {
    "duration": 12,
    "start_time": "2021-06-15T20:48:56.422Z"
   },
   {
    "duration": 13,
    "start_time": "2021-06-15T20:48:56.436Z"
   },
   {
    "duration": 33,
    "start_time": "2021-06-15T20:48:56.452Z"
   },
   {
    "duration": 14,
    "start_time": "2021-06-15T20:48:56.488Z"
   },
   {
    "duration": 7,
    "start_time": "2021-06-15T20:48:56.505Z"
   },
   {
    "duration": 13,
    "start_time": "2021-06-15T20:48:56.514Z"
   },
   {
    "duration": 582,
    "start_time": "2021-06-15T20:48:56.531Z"
   },
   {
    "duration": 4,
    "start_time": "2021-06-15T20:48:57.116Z"
   },
   {
    "duration": 19,
    "start_time": "2021-06-15T20:48:57.123Z"
   },
   {
    "duration": 38,
    "start_time": "2021-06-15T20:48:57.145Z"
   },
   {
    "duration": 12,
    "start_time": "2021-06-15T20:48:57.185Z"
   },
   {
    "duration": 6,
    "start_time": "2021-06-15T20:48:57.200Z"
   },
   {
    "duration": 9,
    "start_time": "2021-06-15T20:48:57.208Z"
   },
   {
    "duration": 24,
    "start_time": "2021-06-15T20:48:57.220Z"
   },
   {
    "duration": 679,
    "start_time": "2021-06-15T20:48:57.592Z"
   },
   {
    "duration": 611,
    "start_time": "2021-06-15T20:49:01.939Z"
   },
   {
    "duration": 376,
    "start_time": "2021-06-15T20:49:03.167Z"
   },
   {
    "duration": 305,
    "start_time": "2021-06-15T20:49:06.031Z"
   },
   {
    "duration": 6,
    "start_time": "2021-06-15T20:50:10.265Z"
   },
   {
    "duration": 3,
    "start_time": "2021-06-15T20:50:16.848Z"
   },
   {
    "duration": 7,
    "start_time": "2021-06-15T20:50:23.742Z"
   },
   {
    "duration": 502,
    "start_time": "2021-06-15T20:50:47.857Z"
   },
   {
    "duration": 509,
    "start_time": "2021-06-15T20:51:00.667Z"
   },
   {
    "duration": 362,
    "start_time": "2021-06-15T20:55:05.495Z"
   },
   {
    "duration": 382,
    "start_time": "2021-06-15T20:55:21.019Z"
   },
   {
    "duration": 435,
    "start_time": "2021-06-15T20:55:58.875Z"
   },
   {
    "duration": 502,
    "start_time": "2021-06-15T20:56:49.651Z"
   },
   {
    "duration": 366,
    "start_time": "2021-06-15T20:56:53.999Z"
   },
   {
    "duration": 412,
    "start_time": "2021-06-15T20:56:57.396Z"
   },
   {
    "duration": 411,
    "start_time": "2021-06-15T20:57:15.222Z"
   },
   {
    "duration": 879,
    "start_time": "2021-06-15T20:57:31.164Z"
   },
   {
    "duration": 801,
    "start_time": "2021-06-15T20:58:09.743Z"
   },
   {
    "duration": 839,
    "start_time": "2021-06-15T20:58:24.930Z"
   },
   {
    "duration": 959,
    "start_time": "2021-06-15T20:59:11.419Z"
   },
   {
    "duration": 388,
    "start_time": "2021-06-15T20:59:33.702Z"
   },
   {
    "duration": 613,
    "start_time": "2021-06-15T20:59:43.802Z"
   },
   {
    "duration": 821,
    "start_time": "2021-06-15T21:00:06.930Z"
   },
   {
    "duration": 295,
    "start_time": "2021-06-15T21:00:15.205Z"
   },
   {
    "duration": 383,
    "start_time": "2021-06-15T21:00:27.745Z"
   },
   {
    "duration": 287,
    "start_time": "2021-06-15T21:00:29.677Z"
   },
   {
    "duration": 509,
    "start_time": "2021-06-15T21:00:50.042Z"
   },
   {
    "duration": 381,
    "start_time": "2021-06-15T21:05:30.739Z"
   },
   {
    "duration": 426,
    "start_time": "2021-06-15T21:08:24.355Z"
   },
   {
    "duration": 322,
    "start_time": "2021-06-15T21:08:27.856Z"
   },
   {
    "duration": 428,
    "start_time": "2021-06-15T21:08:39.123Z"
   },
   {
    "duration": 286,
    "start_time": "2021-06-15T21:08:39.778Z"
   },
   {
    "duration": 300,
    "start_time": "2021-06-15T21:08:54.001Z"
   },
   {
    "duration": 405,
    "start_time": "2021-06-15T21:09:00.606Z"
   },
   {
    "duration": 397,
    "start_time": "2021-06-15T21:09:06.528Z"
   },
   {
    "duration": 298,
    "start_time": "2021-06-15T21:09:07.547Z"
   },
   {
    "duration": 391,
    "start_time": "2021-06-15T21:09:30.312Z"
   },
   {
    "duration": 512,
    "start_time": "2021-06-15T21:09:34.015Z"
   },
   {
    "duration": 452,
    "start_time": "2021-06-15T21:09:44.246Z"
   },
   {
    "duration": 561,
    "start_time": "2021-06-15T21:09:45.365Z"
   },
   {
    "duration": 389,
    "start_time": "2021-06-15T21:09:59.055Z"
   },
   {
    "duration": 567,
    "start_time": "2021-06-15T21:10:02.166Z"
   },
   {
    "duration": 5,
    "start_time": "2021-06-15T21:18:55.383Z"
   },
   {
    "duration": 36,
    "start_time": "2021-06-15T21:24:27.978Z"
   },
   {
    "duration": 529,
    "start_time": "2021-06-15T21:24:40.869Z"
   },
   {
    "duration": 454,
    "start_time": "2021-06-15T21:29:12.446Z"
   },
   {
    "duration": 401,
    "start_time": "2021-06-15T21:29:32.820Z"
   },
   {
    "duration": 8,
    "start_time": "2021-06-15T21:29:40.364Z"
   },
   {
    "duration": 10,
    "start_time": "2021-06-15T21:29:46.520Z"
   },
   {
    "duration": 11,
    "start_time": "2021-06-15T21:29:50.483Z"
   },
   {
    "duration": 434,
    "start_time": "2021-06-15T21:32:09.279Z"
   },
   {
    "duration": 562,
    "start_time": "2021-06-15T21:32:09.716Z"
   },
   {
    "duration": 34,
    "start_time": "2021-06-15T21:59:26.940Z"
   },
   {
    "duration": 96,
    "start_time": "2021-06-15T21:59:45.667Z"
   },
   {
    "duration": 7,
    "start_time": "2021-06-15T21:59:49.883Z"
   },
   {
    "duration": 419,
    "start_time": "2021-06-15T22:04:59.955Z"
   },
   {
    "duration": 415,
    "start_time": "2021-06-15T22:05:22.168Z"
   },
   {
    "duration": 526,
    "start_time": "2021-06-15T22:06:06.975Z"
   },
   {
    "duration": 8,
    "start_time": "2021-06-15T22:07:13.417Z"
   },
   {
    "duration": 391,
    "start_time": "2021-06-15T22:07:14.163Z"
   },
   {
    "duration": 8,
    "start_time": "2021-06-15T22:07:44.019Z"
   },
   {
    "duration": 399,
    "start_time": "2021-06-15T22:07:45.010Z"
   },
   {
    "duration": 426,
    "start_time": "2021-06-15T22:08:25.849Z"
   },
   {
    "duration": 525,
    "start_time": "2021-06-15T22:08:36.170Z"
   },
   {
    "duration": 427,
    "start_time": "2021-06-15T22:10:24.808Z"
   },
   {
    "duration": 423,
    "start_time": "2021-06-15T22:10:39.140Z"
   },
   {
    "duration": 566,
    "start_time": "2021-06-15T22:10:40.723Z"
   },
   {
    "duration": 6,
    "start_time": "2021-06-15T22:11:02.909Z"
   },
   {
    "duration": 7,
    "start_time": "2021-06-15T22:11:38.017Z"
   },
   {
    "duration": 430,
    "start_time": "2021-06-15T22:11:43.295Z"
   },
   {
    "duration": 828,
    "start_time": "2021-06-15T22:11:45.533Z"
   },
   {
    "duration": 439,
    "start_time": "2021-06-15T22:15:09.608Z"
   },
   {
    "duration": 608,
    "start_time": "2021-06-15T22:15:24.860Z"
   },
   {
    "duration": 66,
    "start_time": "2021-06-15T22:28:20.008Z"
   },
   {
    "duration": 62,
    "start_time": "2021-06-15T22:28:29.792Z"
   },
   {
    "duration": 5,
    "start_time": "2021-06-15T22:35:23.883Z"
   },
   {
    "duration": 4,
    "start_time": "2021-06-15T22:35:23.968Z"
   },
   {
    "duration": 46,
    "start_time": "2021-06-15T22:35:24.051Z"
   },
   {
    "duration": 14,
    "start_time": "2021-06-15T22:35:24.131Z"
   },
   {
    "duration": 6,
    "start_time": "2021-06-15T22:35:24.216Z"
   },
   {
    "duration": 9,
    "start_time": "2021-06-15T22:35:24.302Z"
   },
   {
    "duration": 10,
    "start_time": "2021-06-15T22:35:24.467Z"
   },
   {
    "duration": 10,
    "start_time": "2021-06-15T22:35:24.551Z"
   },
   {
    "duration": 10,
    "start_time": "2021-06-15T22:35:24.637Z"
   },
   {
    "duration": 18,
    "start_time": "2021-06-15T22:35:24.802Z"
   },
   {
    "duration": 10,
    "start_time": "2021-06-15T22:35:24.969Z"
   },
   {
    "duration": 16,
    "start_time": "2021-06-15T22:35:25.053Z"
   },
   {
    "duration": 18,
    "start_time": "2021-06-15T22:35:25.146Z"
   },
   {
    "duration": 12,
    "start_time": "2021-06-15T22:35:25.230Z"
   },
   {
    "duration": 11,
    "start_time": "2021-06-15T22:35:25.324Z"
   },
   {
    "duration": 22,
    "start_time": "2021-06-15T22:35:25.469Z"
   },
   {
    "duration": 40,
    "start_time": "2021-06-15T22:35:25.557Z"
   },
   {
    "duration": 463,
    "start_time": "2021-06-15T22:35:25.720Z"
   },
   {
    "duration": 359,
    "start_time": "2021-06-15T22:35:26.185Z"
   },
   {
    "duration": 626,
    "start_time": "2021-06-15T22:35:26.547Z"
   },
   {
    "duration": 2024,
    "start_time": "2021-06-15T22:35:27.184Z"
   },
   {
    "duration": 5,
    "start_time": "2021-06-15T22:35:29.212Z"
   },
   {
    "duration": 10,
    "start_time": "2021-06-15T22:35:29.220Z"
   },
   {
    "duration": 9,
    "start_time": "2021-06-15T22:35:29.233Z"
   },
   {
    "duration": 37,
    "start_time": "2021-06-15T22:35:29.246Z"
   },
   {
    "duration": 13,
    "start_time": "2021-06-15T22:35:29.286Z"
   },
   {
    "duration": 6,
    "start_time": "2021-06-15T22:35:29.301Z"
   },
   {
    "duration": 15,
    "start_time": "2021-06-15T22:35:29.310Z"
   },
   {
    "duration": 9,
    "start_time": "2021-06-15T22:35:29.327Z"
   },
   {
    "duration": 12,
    "start_time": "2021-06-15T22:35:29.600Z"
   },
   {
    "duration": 502,
    "start_time": "2021-06-15T22:35:29.690Z"
   },
   {
    "duration": 5,
    "start_time": "2021-06-15T22:35:30.195Z"
   },
   {
    "duration": 15,
    "start_time": "2021-06-15T22:35:30.204Z"
   },
   {
    "duration": 32,
    "start_time": "2021-06-15T22:35:30.222Z"
   },
   {
    "duration": 30,
    "start_time": "2021-06-15T22:35:30.257Z"
   },
   {
    "duration": 7,
    "start_time": "2021-06-15T22:35:30.289Z"
   },
   {
    "duration": 5,
    "start_time": "2021-06-15T22:35:31.044Z"
   },
   {
    "duration": 15,
    "start_time": "2021-06-15T22:35:31.129Z"
   },
   {
    "duration": 675,
    "start_time": "2021-06-15T22:35:31.549Z"
   },
   {
    "duration": 430,
    "start_time": "2021-06-15T22:35:32.227Z"
   },
   {
    "duration": 572,
    "start_time": "2021-06-15T22:35:32.660Z"
   },
   {
    "duration": 8,
    "start_time": "2021-06-15T22:35:34.839Z"
   },
   {
    "duration": 422,
    "start_time": "2021-06-15T22:35:35.008Z"
   },
   {
    "duration": 591,
    "start_time": "2021-06-15T22:35:35.433Z"
   },
   {
    "duration": 608,
    "start_time": "2021-06-15T22:35:36.027Z"
   },
   {
    "duration": 76,
    "start_time": "2021-06-15T22:35:36.637Z"
   },
   {
    "duration": 32,
    "start_time": "2021-06-15T22:35:36.715Z"
   },
   {
    "duration": 997,
    "start_time": "2021-06-15T22:37:52.289Z"
   },
   {
    "duration": 701,
    "start_time": "2021-06-15T22:38:07.974Z"
   },
   {
    "duration": 561,
    "start_time": "2021-06-15T22:38:30.875Z"
   },
   {
    "duration": 275,
    "start_time": "2021-06-15T22:38:57.284Z"
   },
   {
    "duration": 712,
    "start_time": "2021-06-15T22:39:04.329Z"
   },
   {
    "duration": 448,
    "start_time": "2021-06-15T22:39:08.533Z"
   },
   {
    "duration": 466,
    "start_time": "2021-06-15T22:39:42.329Z"
   },
   {
    "duration": 447,
    "start_time": "2021-06-15T22:39:50.088Z"
   },
   {
    "duration": 451,
    "start_time": "2021-06-15T22:39:55.115Z"
   },
   {
    "duration": 446,
    "start_time": "2021-06-15T22:39:59.441Z"
   },
   {
    "duration": 31,
    "start_time": "2021-06-15T22:46:06.441Z"
   },
   {
    "duration": 387,
    "start_time": "2021-06-15T22:46:22.031Z"
   },
   {
    "duration": 394,
    "start_time": "2021-06-15T22:47:16.166Z"
   },
   {
    "duration": 18,
    "start_time": "2021-06-15T22:50:21.552Z"
   },
   {
    "duration": 7038,
    "start_time": "2021-06-15T22:52:37.619Z"
   },
   {
    "duration": 1989,
    "start_time": "2021-06-15T22:53:47.010Z"
   },
   {
    "duration": 1600,
    "start_time": "2021-06-15T22:53:55.486Z"
   },
   {
    "duration": 15,
    "start_time": "2021-06-15T22:54:40.106Z"
   },
   {
    "duration": 16,
    "start_time": "2021-06-15T22:59:36.467Z"
   },
   {
    "duration": 1862,
    "start_time": "2021-06-15T22:59:46.393Z"
   },
   {
    "duration": 16,
    "start_time": "2021-06-15T23:06:54.036Z"
   },
   {
    "duration": 255,
    "start_time": "2021-06-15T23:07:33.292Z"
   },
   {
    "duration": 405,
    "start_time": "2021-06-15T23:07:51.841Z"
   },
   {
    "duration": 403,
    "start_time": "2021-06-15T23:08:43.907Z"
   },
   {
    "duration": 581,
    "start_time": "2021-06-15T23:10:04.906Z"
   },
   {
    "duration": 497,
    "start_time": "2021-06-15T23:10:47.901Z"
   },
   {
    "duration": 276,
    "start_time": "2021-06-15T23:13:17.595Z"
   },
   {
    "duration": 486,
    "start_time": "2021-06-15T23:14:23.580Z"
   },
   {
    "duration": 471,
    "start_time": "2021-06-15T23:14:53.489Z"
   },
   {
    "duration": 1365,
    "start_time": "2021-06-16T14:17:48.950Z"
   },
   {
    "duration": 6,
    "start_time": "2021-06-16T14:17:50.318Z"
   },
   {
    "duration": 54,
    "start_time": "2021-06-16T14:17:50.327Z"
   },
   {
    "duration": 19,
    "start_time": "2021-06-16T14:17:50.384Z"
   },
   {
    "duration": 8,
    "start_time": "2021-06-16T14:17:50.425Z"
   },
   {
    "duration": 12,
    "start_time": "2021-06-16T14:17:50.436Z"
   },
   {
    "duration": 17,
    "start_time": "2021-06-16T14:17:50.450Z"
   },
   {
    "duration": 11,
    "start_time": "2021-06-16T14:17:50.471Z"
   },
   {
    "duration": 43,
    "start_time": "2021-06-16T14:17:50.485Z"
   },
   {
    "duration": 21,
    "start_time": "2021-06-16T14:17:50.531Z"
   },
   {
    "duration": 11,
    "start_time": "2021-06-16T14:17:50.555Z"
   },
   {
    "duration": 63,
    "start_time": "2021-06-16T14:17:50.569Z"
   },
   {
    "duration": 24,
    "start_time": "2021-06-16T14:17:50.635Z"
   },
   {
    "duration": 14,
    "start_time": "2021-06-16T14:17:50.794Z"
   },
   {
    "duration": 12,
    "start_time": "2021-06-16T14:17:51.309Z"
   },
   {
    "duration": 23,
    "start_time": "2021-06-16T14:17:51.851Z"
   },
   {
    "duration": 42,
    "start_time": "2021-06-16T14:17:52.034Z"
   },
   {
    "duration": 494,
    "start_time": "2021-06-16T14:17:52.382Z"
   },
   {
    "duration": 510,
    "start_time": "2021-06-16T14:17:52.878Z"
   },
   {
    "duration": 508,
    "start_time": "2021-06-16T14:17:53.391Z"
   },
   {
    "duration": 2130,
    "start_time": "2021-06-16T14:17:53.902Z"
   },
   {
    "duration": 4,
    "start_time": "2021-06-16T14:17:57.785Z"
   },
   {
    "duration": 6,
    "start_time": "2021-06-16T14:17:57.962Z"
   },
   {
    "duration": 6,
    "start_time": "2021-06-16T14:17:58.118Z"
   },
   {
    "duration": 9,
    "start_time": "2021-06-16T14:17:58.707Z"
   },
   {
    "duration": 10,
    "start_time": "2021-06-16T14:17:58.871Z"
   },
   {
    "duration": 5,
    "start_time": "2021-06-16T14:17:58.952Z"
   },
   {
    "duration": 11,
    "start_time": "2021-06-16T14:17:59.121Z"
   },
   {
    "duration": 13,
    "start_time": "2021-06-16T14:17:59.544Z"
   },
   {
    "duration": 11,
    "start_time": "2021-06-16T14:17:59.631Z"
   },
   {
    "duration": 606,
    "start_time": "2021-06-16T14:17:59.718Z"
   },
   {
    "duration": 5,
    "start_time": "2021-06-16T14:18:00.327Z"
   },
   {
    "duration": 13,
    "start_time": "2021-06-16T14:18:00.336Z"
   },
   {
    "duration": 19,
    "start_time": "2021-06-16T14:18:00.352Z"
   },
   {
    "duration": 14,
    "start_time": "2021-06-16T14:18:00.374Z"
   },
   {
    "duration": 6,
    "start_time": "2021-06-16T14:18:00.896Z"
   },
   {
    "duration": 5,
    "start_time": "2021-06-16T14:18:48.259Z"
   },
   {
    "duration": 11,
    "start_time": "2021-06-16T14:18:51.125Z"
   },
   {
    "duration": 12,
    "start_time": "2021-06-16T14:18:51.714Z"
   },
   {
    "duration": 12,
    "start_time": "2021-06-16T14:18:51.910Z"
   },
   {
    "duration": 5,
    "start_time": "2021-06-16T14:18:52.219Z"
   },
   {
    "duration": 12,
    "start_time": "2021-06-16T14:19:19.702Z"
   },
   {
    "duration": 12,
    "start_time": "2021-06-16T14:19:20.086Z"
   },
   {
    "duration": 6,
    "start_time": "2021-06-16T14:19:21.136Z"
   },
   {
    "duration": 14,
    "start_time": "2021-06-16T14:19:28.383Z"
   },
   {
    "duration": 11,
    "start_time": "2021-06-16T14:19:28.572Z"
   },
   {
    "duration": 6,
    "start_time": "2021-06-16T14:19:28.742Z"
   },
   {
    "duration": 4,
    "start_time": "2021-06-16T14:19:29.457Z"
   },
   {
    "duration": 17,
    "start_time": "2021-06-16T14:19:29.933Z"
   },
   {
    "duration": 725,
    "start_time": "2021-06-16T14:22:14.101Z"
   },
   {
    "duration": 910,
    "start_time": "2021-06-16T14:22:35.234Z"
   },
   {
    "duration": 704,
    "start_time": "2021-06-16T14:22:55.863Z"
   },
   {
    "duration": 463,
    "start_time": "2021-06-16T14:24:06.609Z"
   },
   {
    "duration": 598,
    "start_time": "2021-06-16T14:25:05.327Z"
   },
   {
    "duration": 675,
    "start_time": "2021-06-16T14:25:50.639Z"
   },
   {
    "duration": 8,
    "start_time": "2021-06-16T14:25:59.246Z"
   },
   {
    "duration": 462,
    "start_time": "2021-06-16T14:26:48.396Z"
   },
   {
    "duration": 570,
    "start_time": "2021-06-16T14:27:25.464Z"
   },
   {
    "duration": 619,
    "start_time": "2021-06-16T14:28:20.230Z"
   },
   {
    "duration": 631,
    "start_time": "2021-06-16T14:28:24.485Z"
   },
   {
    "duration": 644,
    "start_time": "2021-06-16T14:29:14.306Z"
   },
   {
    "duration": 20,
    "start_time": "2021-06-16T14:30:16.285Z"
   },
   {
    "duration": 1884,
    "start_time": "2021-06-16T14:30:53.195Z"
   },
   {
    "duration": 531,
    "start_time": "2021-06-16T14:33:11.503Z"
   },
   {
    "duration": 510,
    "start_time": "2021-06-16T14:33:27.244Z"
   },
   {
    "duration": 631,
    "start_time": "2021-06-16T14:33:50.918Z"
   },
   {
    "duration": 529,
    "start_time": "2021-06-16T14:47:11.976Z"
   },
   {
    "duration": 4,
    "start_time": "2021-06-16T14:49:15.158Z"
   },
   {
    "duration": 33,
    "start_time": "2021-06-16T14:57:49.994Z"
   },
   {
    "duration": 35,
    "start_time": "2021-06-16T14:59:05.989Z"
   },
   {
    "duration": 35,
    "start_time": "2021-06-16T14:59:19.792Z"
   },
   {
    "duration": 32,
    "start_time": "2021-06-16T14:59:29.512Z"
   },
   {
    "duration": 13,
    "start_time": "2021-06-16T14:59:55.778Z"
   },
   {
    "duration": 303,
    "start_time": "2021-06-16T15:00:08.280Z"
   },
   {
    "duration": 303,
    "start_time": "2021-06-16T15:00:18.129Z"
   },
   {
    "duration": 310,
    "start_time": "2021-06-16T15:00:20.932Z"
   },
   {
    "duration": 357,
    "start_time": "2021-06-16T15:00:24.107Z"
   },
   {
    "duration": 281,
    "start_time": "2021-06-16T15:00:34.054Z"
   },
   {
    "duration": 296,
    "start_time": "2021-06-16T15:01:11.261Z"
   },
   {
    "duration": 15,
    "start_time": "2021-06-16T15:02:18.794Z"
   },
   {
    "duration": 15,
    "start_time": "2021-06-16T15:02:28.064Z"
   },
   {
    "duration": 12,
    "start_time": "2021-06-16T15:05:55.536Z"
   },
   {
    "duration": 6,
    "start_time": "2021-06-16T15:05:56.237Z"
   },
   {
    "duration": 108,
    "start_time": "2021-06-16T15:07:09.295Z"
   },
   {
    "duration": 6,
    "start_time": "2021-06-16T15:07:16.015Z"
   },
   {
    "duration": 98,
    "start_time": "2021-06-16T15:07:22.230Z"
   },
   {
    "duration": 103,
    "start_time": "2021-06-16T15:07:27.372Z"
   },
   {
    "duration": 4,
    "start_time": "2021-06-16T15:07:40.448Z"
   },
   {
    "duration": 6,
    "start_time": "2021-06-16T15:07:44.938Z"
   },
   {
    "duration": 6,
    "start_time": "2021-06-16T15:07:59.959Z"
   },
   {
    "duration": 4,
    "start_time": "2021-06-16T15:09:04.064Z"
   },
   {
    "duration": 4,
    "start_time": "2021-06-16T15:09:04.151Z"
   },
   {
    "duration": 49,
    "start_time": "2021-06-16T15:09:04.228Z"
   },
   {
    "duration": 15,
    "start_time": "2021-06-16T15:09:04.314Z"
   },
   {
    "duration": 6,
    "start_time": "2021-06-16T15:09:04.412Z"
   },
   {
    "duration": 9,
    "start_time": "2021-06-16T15:09:04.481Z"
   },
   {
    "duration": 9,
    "start_time": "2021-06-16T15:09:04.643Z"
   },
   {
    "duration": 9,
    "start_time": "2021-06-16T15:09:04.727Z"
   },
   {
    "duration": 10,
    "start_time": "2021-06-16T15:09:04.811Z"
   },
   {
    "duration": 18,
    "start_time": "2021-06-16T15:09:04.977Z"
   },
   {
    "duration": 11,
    "start_time": "2021-06-16T15:09:05.143Z"
   },
   {
    "duration": 16,
    "start_time": "2021-06-16T15:09:05.231Z"
   },
   {
    "duration": 17,
    "start_time": "2021-06-16T15:09:05.330Z"
   },
   {
    "duration": 12,
    "start_time": "2021-06-16T15:09:05.409Z"
   },
   {
    "duration": 12,
    "start_time": "2021-06-16T15:09:05.496Z"
   },
   {
    "duration": 24,
    "start_time": "2021-06-16T15:09:05.649Z"
   },
   {
    "duration": 42,
    "start_time": "2021-06-16T15:09:05.745Z"
   },
   {
    "duration": 484,
    "start_time": "2021-06-16T15:09:05.900Z"
   },
   {
    "duration": 410,
    "start_time": "2021-06-16T15:09:06.387Z"
   },
   {
    "duration": 513,
    "start_time": "2021-06-16T15:09:06.800Z"
   },
   {
    "duration": 2314,
    "start_time": "2021-06-16T15:09:07.316Z"
   },
   {
    "duration": 5,
    "start_time": "2021-06-16T15:09:09.632Z"
   },
   {
    "duration": 9,
    "start_time": "2021-06-16T15:09:09.640Z"
   },
   {
    "duration": 10,
    "start_time": "2021-06-16T15:09:09.652Z"
   },
   {
    "duration": 13,
    "start_time": "2021-06-16T15:09:09.665Z"
   },
   {
    "duration": 47,
    "start_time": "2021-06-16T15:09:09.680Z"
   },
   {
    "duration": 6,
    "start_time": "2021-06-16T15:09:09.729Z"
   },
   {
    "duration": 14,
    "start_time": "2021-06-16T15:09:09.737Z"
   },
   {
    "duration": 19,
    "start_time": "2021-06-16T15:09:09.754Z"
   },
   {
    "duration": 17,
    "start_time": "2021-06-16T15:09:09.775Z"
   },
   {
    "duration": 574,
    "start_time": "2021-06-16T15:09:09.796Z"
   },
   {
    "duration": 5,
    "start_time": "2021-06-16T15:09:10.374Z"
   },
   {
    "duration": 24,
    "start_time": "2021-06-16T15:09:10.382Z"
   },
   {
    "duration": 29,
    "start_time": "2021-06-16T15:09:10.409Z"
   },
   {
    "duration": 14,
    "start_time": "2021-06-16T15:09:10.440Z"
   },
   {
    "duration": 7,
    "start_time": "2021-06-16T15:09:10.457Z"
   },
   {
    "duration": 11,
    "start_time": "2021-06-16T15:09:10.467Z"
   },
   {
    "duration": 48,
    "start_time": "2021-06-16T15:09:10.480Z"
   },
   {
    "duration": 737,
    "start_time": "2021-06-16T15:09:12.413Z"
   },
   {
    "duration": 502,
    "start_time": "2021-06-16T15:09:13.153Z"
   },
   {
    "duration": 638,
    "start_time": "2021-06-16T15:09:13.659Z"
   },
   {
    "duration": 8,
    "start_time": "2021-06-16T15:09:14.301Z"
   },
   {
    "duration": 500,
    "start_time": "2021-06-16T15:09:14.324Z"
   },
   {
    "duration": 662,
    "start_time": "2021-06-16T15:09:14.827Z"
   },
   {
    "duration": 673,
    "start_time": "2021-06-16T15:09:15.492Z"
   },
   {
    "duration": 82,
    "start_time": "2021-06-16T15:09:16.169Z"
   },
   {
    "duration": 1692,
    "start_time": "2021-06-16T15:09:16.254Z"
   },
   {
    "duration": 16,
    "start_time": "2021-06-16T15:09:17.949Z"
   },
   {
    "duration": 1860,
    "start_time": "2021-06-16T15:09:17.968Z"
   },
   {
    "duration": 16,
    "start_time": "2021-06-16T15:09:19.830Z"
   },
   {
    "duration": 540,
    "start_time": "2021-06-16T15:09:19.848Z"
   },
   {
    "duration": 517,
    "start_time": "2021-06-16T15:09:20.391Z"
   },
   {
    "duration": 3,
    "start_time": "2021-06-16T15:09:27.175Z"
   },
   {
    "duration": 312,
    "start_time": "2021-06-16T15:09:27.521Z"
   },
   {
    "duration": 313,
    "start_time": "2021-06-16T15:09:27.836Z"
   },
   {
    "duration": 19,
    "start_time": "2021-06-16T15:09:28.153Z"
   },
   {
    "duration": 27,
    "start_time": "2021-06-16T15:09:28.175Z"
   },
   {
    "duration": 16,
    "start_time": "2021-06-16T15:09:28.366Z"
   },
   {
    "duration": 6,
    "start_time": "2021-06-16T15:09:28.546Z"
   },
   {
    "duration": 6,
    "start_time": "2021-06-16T15:09:28.728Z"
   },
   {
    "duration": 19,
    "start_time": "2021-06-16T15:10:56.885Z"
   },
   {
    "duration": 13,
    "start_time": "2021-06-16T15:10:57.695Z"
   },
   {
    "duration": 15,
    "start_time": "2021-06-16T15:11:07.539Z"
   },
   {
    "duration": 383,
    "start_time": "2021-06-16T15:11:33.769Z"
   },
   {
    "duration": 452,
    "start_time": "2021-06-16T15:11:37.399Z"
   },
   {
    "duration": 444,
    "start_time": "2021-06-16T15:11:46.599Z"
   },
   {
    "duration": 513,
    "start_time": "2021-06-16T15:11:50.816Z"
   },
   {
    "duration": 750,
    "start_time": "2021-06-16T15:11:54.544Z"
   },
   {
    "duration": 680,
    "start_time": "2021-06-16T15:12:00.498Z"
   },
   {
    "duration": 703,
    "start_time": "2021-06-16T15:12:04.465Z"
   },
   {
    "duration": 524,
    "start_time": "2021-06-16T15:12:07.585Z"
   },
   {
    "duration": 506,
    "start_time": "2021-06-16T15:12:15.148Z"
   },
   {
    "duration": 507,
    "start_time": "2021-06-16T15:12:36.562Z"
   },
   {
    "duration": 737,
    "start_time": "2021-06-16T15:12:47.192Z"
   },
   {
    "duration": 505,
    "start_time": "2021-06-16T15:12:52.621Z"
   },
   {
    "duration": 597,
    "start_time": "2021-06-16T15:12:57.232Z"
   },
   {
    "duration": 895,
    "start_time": "2021-06-16T15:13:14.276Z"
   },
   {
    "duration": 492,
    "start_time": "2021-06-16T15:13:17.569Z"
   },
   {
    "duration": 96,
    "start_time": "2021-06-16T15:13:33.305Z"
   },
   {
    "duration": 525,
    "start_time": "2021-06-16T15:13:38.189Z"
   },
   {
    "duration": 503,
    "start_time": "2021-06-16T15:13:47.136Z"
   },
   {
    "duration": 477,
    "start_time": "2021-06-16T15:13:58.480Z"
   },
   {
    "duration": 487,
    "start_time": "2021-06-16T15:14:04.364Z"
   },
   {
    "duration": 476,
    "start_time": "2021-06-16T15:14:07.748Z"
   },
   {
    "duration": 15,
    "start_time": "2021-06-16T15:15:31.336Z"
   },
   {
    "duration": 6,
    "start_time": "2021-06-16T15:15:32.415Z"
   },
   {
    "duration": 14,
    "start_time": "2021-06-16T15:16:18.631Z"
   },
   {
    "duration": 1028,
    "start_time": "2021-06-17T11:03:14.244Z"
   },
   {
    "duration": 3,
    "start_time": "2021-06-17T11:03:15.273Z"
   },
   {
    "duration": 47,
    "start_time": "2021-06-17T11:03:15.278Z"
   },
   {
    "duration": 9,
    "start_time": "2021-06-17T11:03:15.327Z"
   },
   {
    "duration": 6,
    "start_time": "2021-06-17T11:03:15.648Z"
   },
   {
    "duration": 6,
    "start_time": "2021-06-17T11:03:15.916Z"
   },
   {
    "duration": 9,
    "start_time": "2021-06-17T11:03:16.285Z"
   },
   {
    "duration": 7,
    "start_time": "2021-06-17T11:03:16.729Z"
   },
   {
    "duration": 7,
    "start_time": "2021-06-17T11:03:16.945Z"
   },
   {
    "duration": 12,
    "start_time": "2021-06-17T11:03:17.530Z"
   },
   {
    "duration": 11,
    "start_time": "2021-06-17T11:03:17.696Z"
   },
   {
    "duration": 16,
    "start_time": "2021-06-17T11:03:17.790Z"
   },
   {
    "duration": 11,
    "start_time": "2021-06-17T11:03:17.874Z"
   },
   {
    "duration": 9,
    "start_time": "2021-06-17T11:03:17.972Z"
   },
   {
    "duration": 9,
    "start_time": "2021-06-17T11:03:18.036Z"
   },
   {
    "duration": 17,
    "start_time": "2021-06-17T11:03:18.204Z"
   },
   {
    "duration": 34,
    "start_time": "2021-06-17T11:03:18.282Z"
   },
   {
    "duration": 321,
    "start_time": "2021-06-17T11:03:18.453Z"
   },
   {
    "duration": 258,
    "start_time": "2021-06-17T11:03:18.775Z"
   },
   {
    "duration": 322,
    "start_time": "2021-06-17T11:03:19.035Z"
   },
   {
    "duration": 1449,
    "start_time": "2021-06-17T11:03:19.359Z"
   },
   {
    "duration": 4,
    "start_time": "2021-06-17T11:03:20.810Z"
   },
   {
    "duration": 10,
    "start_time": "2021-06-17T11:03:20.816Z"
   },
   {
    "duration": 6,
    "start_time": "2021-06-17T11:03:20.827Z"
   },
   {
    "duration": 13,
    "start_time": "2021-06-17T11:03:20.835Z"
   },
   {
    "duration": 9,
    "start_time": "2021-06-17T11:03:20.850Z"
   },
   {
    "duration": 3,
    "start_time": "2021-06-17T11:03:20.860Z"
   },
   {
    "duration": 20,
    "start_time": "2021-06-17T11:03:20.865Z"
   },
   {
    "duration": 6,
    "start_time": "2021-06-17T11:03:22.262Z"
   },
   {
    "duration": 8,
    "start_time": "2021-06-17T11:03:22.342Z"
   },
   {
    "duration": 401,
    "start_time": "2021-06-17T11:03:22.444Z"
   },
   {
    "duration": 3,
    "start_time": "2021-06-17T11:03:27.427Z"
   },
   {
    "duration": 8,
    "start_time": "2021-06-17T11:03:27.863Z"
   },
   {
    "duration": 11,
    "start_time": "2021-06-17T11:03:28.375Z"
   },
   {
    "duration": 13,
    "start_time": "2021-06-17T11:03:28.593Z"
   },
   {
    "duration": 7,
    "start_time": "2021-06-17T11:03:28.788Z"
   },
   {
    "duration": 4,
    "start_time": "2021-06-17T11:03:29.158Z"
   },
   {
    "duration": 10,
    "start_time": "2021-06-17T11:03:29.323Z"
   },
   {
    "duration": 489,
    "start_time": "2021-06-17T11:03:30.804Z"
   },
   {
    "duration": 287,
    "start_time": "2021-06-17T11:03:34.876Z"
   },
   {
    "duration": 392,
    "start_time": "2021-06-17T11:03:35.165Z"
   },
   {
    "duration": 5,
    "start_time": "2021-06-17T11:03:36.068Z"
   },
   {
    "duration": 316,
    "start_time": "2021-06-17T11:03:36.401Z"
   },
   {
    "duration": 407,
    "start_time": "2021-06-17T11:03:36.719Z"
   },
   {
    "duration": 409,
    "start_time": "2021-06-17T11:04:06.685Z"
   },
   {
    "duration": 42,
    "start_time": "2021-06-17T11:04:07.096Z"
   },
   {
    "duration": 1210,
    "start_time": "2021-06-17T11:04:07.140Z"
   },
   {
    "duration": 12,
    "start_time": "2021-06-17T11:04:08.353Z"
   },
   {
    "duration": 1389,
    "start_time": "2021-06-17T11:04:08.367Z"
   },
   {
    "duration": 11,
    "start_time": "2021-06-17T11:04:09.758Z"
   },
   {
    "duration": 395,
    "start_time": "2021-06-17T11:04:09.771Z"
   },
   {
    "duration": 362,
    "start_time": "2021-06-17T11:04:10.168Z"
   },
   {
    "duration": 2,
    "start_time": "2021-06-17T11:07:59.814Z"
   },
   {
    "duration": 359,
    "start_time": "2021-06-17T11:07:59.982Z"
   },
   {
    "duration": 340,
    "start_time": "2021-06-17T11:08:00.343Z"
   },
   {
    "duration": 12,
    "start_time": "2021-06-17T11:08:00.685Z"
   },
   {
    "duration": 18,
    "start_time": "2021-06-17T11:08:00.699Z"
   },
   {
    "duration": 10,
    "start_time": "2021-06-17T11:08:00.719Z"
   },
   {
    "duration": 16,
    "start_time": "2021-06-17T11:08:00.731Z"
   },
   {
    "duration": 13,
    "start_time": "2021-06-17T11:08:00.749Z"
   },
   {
    "duration": 321,
    "start_time": "2021-06-17T11:08:00.764Z"
   },
   {
    "duration": 310,
    "start_time": "2021-06-17T11:08:01.087Z"
   },
   {
    "duration": 13,
    "start_time": "2021-06-17T11:08:01.399Z"
   },
   {
    "duration": 10,
    "start_time": "2021-06-17T11:08:01.414Z"
   },
   {
    "duration": 18,
    "start_time": "2021-06-17T11:08:01.426Z"
   },
   {
    "duration": 8,
    "start_time": "2021-06-17T11:08:01.446Z"
   },
   {
    "duration": 33,
    "start_time": "2021-06-17T11:08:01.456Z"
   },
   {
    "duration": 3,
    "start_time": "2021-06-17T11:59:39.577Z"
   },
   {
    "duration": 3,
    "start_time": "2021-06-17T11:59:39.746Z"
   },
   {
    "duration": 39,
    "start_time": "2021-06-17T11:59:39.946Z"
   },
   {
    "duration": 11,
    "start_time": "2021-06-17T11:59:40.074Z"
   },
   {
    "duration": 5,
    "start_time": "2021-06-17T11:59:40.215Z"
   },
   {
    "duration": 7,
    "start_time": "2021-06-17T11:59:40.718Z"
   },
   {
    "duration": 8,
    "start_time": "2021-06-17T11:59:40.880Z"
   },
   {
    "duration": 7,
    "start_time": "2021-06-17T11:59:40.970Z"
   },
   {
    "duration": 8,
    "start_time": "2021-06-17T11:59:41.070Z"
   },
   {
    "duration": 124,
    "start_time": "2021-06-17T11:59:41.222Z"
   },
   {
    "duration": 8,
    "start_time": "2021-06-17T11:59:41.382Z"
   },
   {
    "duration": 14,
    "start_time": "2021-06-17T11:59:41.475Z"
   },
   {
    "duration": 12,
    "start_time": "2021-06-17T11:59:41.553Z"
   },
   {
    "duration": 10,
    "start_time": "2021-06-17T11:59:41.652Z"
   },
   {
    "duration": 9,
    "start_time": "2021-06-17T11:59:41.752Z"
   },
   {
    "duration": 17,
    "start_time": "2021-06-17T11:59:41.892Z"
   },
   {
    "duration": 30,
    "start_time": "2021-06-17T11:59:41.990Z"
   },
   {
    "duration": 311,
    "start_time": "2021-06-17T11:59:42.153Z"
   },
   {
    "duration": 249,
    "start_time": "2021-06-17T11:59:42.466Z"
   },
   {
    "duration": 333,
    "start_time": "2021-06-17T11:59:42.718Z"
   },
   {
    "duration": 1368,
    "start_time": "2021-06-17T11:59:43.052Z"
   },
   {
    "duration": 4,
    "start_time": "2021-06-17T11:59:44.422Z"
   },
   {
    "duration": 6,
    "start_time": "2021-06-17T11:59:44.428Z"
   },
   {
    "duration": 4,
    "start_time": "2021-06-17T11:59:44.484Z"
   },
   {
    "duration": 7,
    "start_time": "2021-06-17T11:59:44.804Z"
   },
   {
    "duration": 8,
    "start_time": "2021-06-17T11:59:45.138Z"
   },
   {
    "duration": 4,
    "start_time": "2021-06-17T11:59:45.312Z"
   },
   {
    "duration": 8,
    "start_time": "2021-06-17T11:59:45.848Z"
   },
   {
    "duration": 4,
    "start_time": "2021-06-17T11:59:46.713Z"
   },
   {
    "duration": 9,
    "start_time": "2021-06-17T11:59:46.899Z"
   },
   {
    "duration": 342,
    "start_time": "2021-06-17T11:59:47.084Z"
   },
   {
    "duration": 3,
    "start_time": "2021-06-17T11:59:47.427Z"
   },
   {
    "duration": 8,
    "start_time": "2021-06-17T11:59:47.599Z"
   },
   {
    "duration": 12,
    "start_time": "2021-06-17T11:59:47.959Z"
   },
   {
    "duration": 8,
    "start_time": "2021-06-17T11:59:48.145Z"
   },
   {
    "duration": 4,
    "start_time": "2021-06-17T11:59:48.330Z"
   },
   {
    "duration": 4,
    "start_time": "2021-06-17T11:59:48.656Z"
   },
   {
    "duration": 10,
    "start_time": "2021-06-17T11:59:48.849Z"
   },
   {
    "duration": 3,
    "start_time": "2021-06-17T12:03:33.495Z"
   },
   {
    "duration": 320,
    "start_time": "2021-06-17T12:03:33.652Z"
   },
   {
    "duration": 475,
    "start_time": "2021-06-17T12:03:33.974Z"
   },
   {
    "duration": 10,
    "start_time": "2021-06-17T12:03:34.451Z"
   },
   {
    "duration": 24,
    "start_time": "2021-06-17T12:03:34.463Z"
   },
   {
    "duration": 11,
    "start_time": "2021-06-17T12:03:34.488Z"
   },
   {
    "duration": 7,
    "start_time": "2021-06-17T12:03:34.500Z"
   },
   {
    "duration": 15,
    "start_time": "2021-06-17T12:03:34.508Z"
   },
   {
    "duration": 296,
    "start_time": "2021-06-17T12:03:35.430Z"
   },
   {
    "duration": 298,
    "start_time": "2021-06-17T12:03:35.816Z"
   },
   {
    "duration": 12,
    "start_time": "2021-06-17T12:03:36.312Z"
   },
   {
    "duration": 11,
    "start_time": "2021-06-17T12:03:37.324Z"
   },
   {
    "duration": 9,
    "start_time": "2021-06-17T12:03:37.337Z"
   },
   {
    "duration": 3,
    "start_time": "2021-06-17T12:03:37.348Z"
   },
   {
    "duration": 12,
    "start_time": "2021-06-17T12:03:37.464Z"
   },
   {
    "duration": 1451,
    "start_time": "2021-06-17T16:11:29.139Z"
   },
   {
    "duration": 5,
    "start_time": "2021-06-17T16:11:30.593Z"
   },
   {
    "duration": 67,
    "start_time": "2021-06-17T16:11:30.601Z"
   },
   {
    "duration": 17,
    "start_time": "2021-06-17T16:11:30.671Z"
   },
   {
    "duration": 8,
    "start_time": "2021-06-17T16:11:30.690Z"
   },
   {
    "duration": 23,
    "start_time": "2021-06-17T16:11:30.700Z"
   },
   {
    "duration": 11,
    "start_time": "2021-06-17T16:11:30.726Z"
   },
   {
    "duration": 13,
    "start_time": "2021-06-17T16:11:30.741Z"
   },
   {
    "duration": 14,
    "start_time": "2021-06-17T16:11:30.756Z"
   },
   {
    "duration": 52,
    "start_time": "2021-06-17T16:11:30.772Z"
   },
   {
    "duration": 10,
    "start_time": "2021-06-17T16:11:30.827Z"
   },
   {
    "duration": 27,
    "start_time": "2021-06-17T16:11:30.839Z"
   },
   {
    "duration": 19,
    "start_time": "2021-06-17T16:11:30.868Z"
   },
   {
    "duration": 12,
    "start_time": "2021-06-17T16:11:30.909Z"
   },
   {
    "duration": 12,
    "start_time": "2021-06-17T16:11:30.923Z"
   },
   {
    "duration": 30,
    "start_time": "2021-06-17T16:11:30.937Z"
   },
   {
    "duration": 70,
    "start_time": "2021-06-17T16:11:30.970Z"
   },
   {
    "duration": 516,
    "start_time": "2021-06-17T16:11:31.043Z"
   },
   {
    "duration": 412,
    "start_time": "2021-06-17T16:11:31.562Z"
   },
   {
    "duration": 558,
    "start_time": "2021-06-17T16:11:31.977Z"
   },
   {
    "duration": 2120,
    "start_time": "2021-06-17T16:11:32.538Z"
   },
   {
    "duration": 4,
    "start_time": "2021-06-17T16:11:34.660Z"
   },
   {
    "duration": 11,
    "start_time": "2021-06-17T16:11:34.668Z"
   },
   {
    "duration": 27,
    "start_time": "2021-06-17T16:11:34.682Z"
   },
   {
    "duration": 14,
    "start_time": "2021-06-17T16:11:34.712Z"
   },
   {
    "duration": 13,
    "start_time": "2021-06-17T16:11:34.728Z"
   },
   {
    "duration": 11,
    "start_time": "2021-06-17T16:11:34.743Z"
   },
   {
    "duration": 11,
    "start_time": "2021-06-17T16:11:34.756Z"
   },
   {
    "duration": 10,
    "start_time": "2021-06-17T16:11:34.770Z"
   },
   {
    "duration": 37,
    "start_time": "2021-06-17T16:11:34.782Z"
   },
   {
    "duration": 641,
    "start_time": "2021-06-17T16:11:34.822Z"
   },
   {
    "duration": 5,
    "start_time": "2021-06-17T16:11:35.465Z"
   },
   {
    "duration": 11,
    "start_time": "2021-06-17T16:11:35.474Z"
   },
   {
    "duration": 32,
    "start_time": "2021-06-17T16:11:35.488Z"
   },
   {
    "duration": 11,
    "start_time": "2021-06-17T16:11:35.523Z"
   },
   {
    "duration": 7,
    "start_time": "2021-06-17T16:11:35.537Z"
   },
   {
    "duration": 13,
    "start_time": "2021-06-17T16:11:35.546Z"
   },
   {
    "duration": 20,
    "start_time": "2021-06-17T16:11:35.562Z"
   },
   {
    "duration": 800,
    "start_time": "2021-06-17T16:11:35.584Z"
   },
   {
    "duration": 488,
    "start_time": "2021-06-17T16:11:36.387Z"
   },
   {
    "duration": 639,
    "start_time": "2021-06-17T16:11:36.878Z"
   },
   {
    "duration": 7,
    "start_time": "2021-06-17T16:11:37.520Z"
   },
   {
    "duration": 510,
    "start_time": "2021-06-17T16:11:37.529Z"
   },
   {
    "duration": 644,
    "start_time": "2021-06-17T16:11:38.041Z"
   },
   {
    "duration": 652,
    "start_time": "2021-06-17T16:11:38.689Z"
   },
   {
    "duration": 82,
    "start_time": "2021-06-17T16:11:39.344Z"
   },
   {
    "duration": 1751,
    "start_time": "2021-06-17T16:11:39.429Z"
   },
   {
    "duration": 28,
    "start_time": "2021-06-17T16:11:41.182Z"
   },
   {
    "duration": 2091,
    "start_time": "2021-06-17T16:11:41.213Z"
   },
   {
    "duration": 16,
    "start_time": "2021-06-17T16:11:43.309Z"
   },
   {
    "duration": 561,
    "start_time": "2021-06-17T16:11:43.328Z"
   },
   {
    "duration": 625,
    "start_time": "2021-06-17T16:11:43.892Z"
   },
   {
    "duration": 3,
    "start_time": "2021-06-17T16:11:44.519Z"
   },
   {
    "duration": 532,
    "start_time": "2021-06-17T16:11:44.524Z"
   },
   {
    "duration": 538,
    "start_time": "2021-06-17T16:11:45.058Z"
   },
   {
    "duration": 20,
    "start_time": "2021-06-17T16:11:45.598Z"
   },
   {
    "duration": 18,
    "start_time": "2021-06-17T16:11:45.620Z"
   },
   {
    "duration": 12,
    "start_time": "2021-06-17T16:11:45.640Z"
   },
   {
    "duration": 6,
    "start_time": "2021-06-17T16:11:45.656Z"
   },
   {
    "duration": 46,
    "start_time": "2021-06-17T16:11:45.664Z"
   },
   {
    "duration": 509,
    "start_time": "2021-06-17T16:11:45.712Z"
   },
   {
    "duration": 495,
    "start_time": "2021-06-17T16:11:46.223Z"
   },
   {
    "duration": 17,
    "start_time": "2021-06-17T16:11:46.721Z"
   },
   {
    "duration": 16,
    "start_time": "2021-06-17T16:11:46.740Z"
   },
   {
    "duration": 55,
    "start_time": "2021-06-17T16:11:46.759Z"
   },
   {
    "duration": 6,
    "start_time": "2021-06-17T16:11:46.817Z"
   },
   {
    "duration": 17,
    "start_time": "2021-06-17T16:11:46.826Z"
   },
   {
    "duration": 30,
    "start_time": "2021-06-17T16:16:50.055Z"
   },
   {
    "duration": 30,
    "start_time": "2021-06-17T16:17:49.659Z"
   },
   {
    "duration": 32,
    "start_time": "2021-06-17T16:18:10.675Z"
   },
   {
    "duration": 16,
    "start_time": "2021-06-17T16:18:14.952Z"
   },
   {
    "duration": 162,
    "start_time": "2021-06-17T16:18:42.476Z"
   },
   {
    "duration": 419,
    "start_time": "2021-06-17T16:18:53.612Z"
   },
   {
    "duration": 342,
    "start_time": "2021-06-17T16:18:57.060Z"
   },
   {
    "duration": 49,
    "start_time": "2021-06-17T16:19:02.293Z"
   },
   {
    "duration": 5,
    "start_time": "2021-06-17T16:19:12.676Z"
   },
   {
    "duration": 32,
    "start_time": "2021-06-17T16:19:16.724Z"
   },
   {
    "duration": 19,
    "start_time": "2021-06-17T16:19:24.172Z"
   },
   {
    "duration": 19,
    "start_time": "2021-06-17T16:26:38.157Z"
   },
   {
    "duration": 316,
    "start_time": "2021-06-17T16:27:36.666Z"
   },
   {
    "duration": 127,
    "start_time": "2021-06-17T16:27:44.790Z"
   },
   {
    "duration": 18,
    "start_time": "2021-06-17T16:27:46.773Z"
   },
   {
    "duration": 19,
    "start_time": "2021-06-17T16:28:14.598Z"
   },
   {
    "duration": 404,
    "start_time": "2021-06-17T16:29:52.378Z"
   },
   {
    "duration": 19,
    "start_time": "2021-06-17T16:30:15.530Z"
   },
   {
    "duration": 20,
    "start_time": "2021-06-17T16:30:16.558Z"
   },
   {
    "duration": 21,
    "start_time": "2021-06-17T16:34:08.371Z"
   },
   {
    "duration": 21,
    "start_time": "2021-06-17T16:34:14.978Z"
   },
   {
    "duration": 544,
    "start_time": "2021-06-17T16:34:20.310Z"
   },
   {
    "duration": 20,
    "start_time": "2021-06-17T16:34:25.034Z"
   },
   {
    "duration": 20,
    "start_time": "2021-06-17T16:34:51.510Z"
   },
   {
    "duration": 20,
    "start_time": "2021-06-17T16:34:52.463Z"
   },
   {
    "duration": 19,
    "start_time": "2021-06-17T16:34:53.087Z"
   },
   {
    "duration": 304,
    "start_time": "2021-06-17T17:01:07.876Z"
   },
   {
    "duration": 30,
    "start_time": "2021-06-17T17:01:44.767Z"
   },
   {
    "duration": 22,
    "start_time": "2021-06-17T17:04:11.645Z"
   },
   {
    "duration": 20,
    "start_time": "2021-06-17T17:04:12.424Z"
   },
   {
    "duration": 21,
    "start_time": "2021-06-17T17:04:12.712Z"
   },
   {
    "duration": 20,
    "start_time": "2021-06-17T17:04:46.288Z"
   },
   {
    "duration": 22,
    "start_time": "2021-06-17T17:04:46.956Z"
   },
   {
    "duration": 20,
    "start_time": "2021-06-17T17:04:47.468Z"
   },
   {
    "duration": 19,
    "start_time": "2021-06-17T17:04:52.688Z"
   },
   {
    "duration": 21,
    "start_time": "2021-06-17T17:04:58.125Z"
   },
   {
    "duration": 20,
    "start_time": "2021-06-17T17:05:02.152Z"
   },
   {
    "duration": 4,
    "start_time": "2021-06-17T17:13:25.218Z"
   },
   {
    "duration": 3,
    "start_time": "2021-06-17T17:13:25.299Z"
   },
   {
    "duration": 48,
    "start_time": "2021-06-17T17:13:25.383Z"
   },
   {
    "duration": 14,
    "start_time": "2021-06-17T17:13:25.466Z"
   },
   {
    "duration": 6,
    "start_time": "2021-06-17T17:13:25.567Z"
   },
   {
    "duration": 9,
    "start_time": "2021-06-17T17:13:25.637Z"
   },
   {
    "duration": 10,
    "start_time": "2021-06-17T17:13:25.822Z"
   },
   {
    "duration": 10,
    "start_time": "2021-06-17T17:13:25.900Z"
   },
   {
    "duration": 10,
    "start_time": "2021-06-17T17:13:26.022Z"
   },
   {
    "duration": 18,
    "start_time": "2021-06-17T17:13:26.140Z"
   },
   {
    "duration": 10,
    "start_time": "2021-06-17T17:13:26.317Z"
   },
   {
    "duration": 18,
    "start_time": "2021-06-17T17:13:26.390Z"
   },
   {
    "duration": 25,
    "start_time": "2021-06-17T17:13:26.467Z"
   },
   {
    "duration": 17,
    "start_time": "2021-06-17T17:13:26.555Z"
   },
   {
    "duration": 13,
    "start_time": "2021-06-17T17:13:26.634Z"
   },
   {
    "duration": 24,
    "start_time": "2021-06-17T17:13:26.814Z"
   },
   {
    "duration": 41,
    "start_time": "2021-06-17T17:13:26.927Z"
   },
   {
    "duration": 497,
    "start_time": "2021-06-17T17:13:27.075Z"
   },
   {
    "duration": 401,
    "start_time": "2021-06-17T17:13:27.574Z"
   },
   {
    "duration": 534,
    "start_time": "2021-06-17T17:13:27.978Z"
   },
   {
    "duration": 2234,
    "start_time": "2021-06-17T17:13:28.514Z"
   },
   {
    "duration": 4,
    "start_time": "2021-06-17T17:13:30.750Z"
   },
   {
    "duration": 34,
    "start_time": "2021-06-17T17:13:30.756Z"
   },
   {
    "duration": 27,
    "start_time": "2021-06-17T17:13:30.793Z"
   },
   {
    "duration": 28,
    "start_time": "2021-06-17T17:13:30.822Z"
   },
   {
    "duration": 32,
    "start_time": "2021-06-17T17:13:30.852Z"
   },
   {
    "duration": 10,
    "start_time": "2021-06-17T17:13:30.886Z"
   },
   {
    "duration": 21,
    "start_time": "2021-06-17T17:13:30.898Z"
   },
   {
    "duration": 15,
    "start_time": "2021-06-17T17:13:30.922Z"
   },
   {
    "duration": 16,
    "start_time": "2021-06-17T17:13:30.939Z"
   },
   {
    "duration": 556,
    "start_time": "2021-06-17T17:13:30.958Z"
   },
   {
    "duration": 3,
    "start_time": "2021-06-17T17:13:31.517Z"
   },
   {
    "duration": 52,
    "start_time": "2021-06-17T17:13:31.522Z"
   },
   {
    "duration": 56,
    "start_time": "2021-06-17T17:13:31.577Z"
   },
   {
    "duration": 17,
    "start_time": "2021-06-17T17:13:31.637Z"
   },
   {
    "duration": 9,
    "start_time": "2021-06-17T17:13:31.657Z"
   },
   {
    "duration": 62,
    "start_time": "2021-06-17T17:13:31.669Z"
   },
   {
    "duration": 30,
    "start_time": "2021-06-17T17:13:31.734Z"
   },
   {
    "duration": 928,
    "start_time": "2021-06-17T17:13:31.768Z"
   },
   {
    "duration": 500,
    "start_time": "2021-06-17T17:13:32.699Z"
   },
   {
    "duration": 642,
    "start_time": "2021-06-17T17:13:33.209Z"
   },
   {
    "duration": 7,
    "start_time": "2021-06-17T17:13:33.853Z"
   },
   {
    "duration": 505,
    "start_time": "2021-06-17T17:13:33.862Z"
   },
   {
    "duration": 645,
    "start_time": "2021-06-17T17:13:34.370Z"
   },
   {
    "duration": 665,
    "start_time": "2021-06-17T17:13:35.018Z"
   },
   {
    "duration": 79,
    "start_time": "2021-06-17T17:13:35.686Z"
   },
   {
    "duration": 1508,
    "start_time": "2021-06-17T17:13:35.768Z"
   },
   {
    "duration": 31,
    "start_time": "2021-06-17T17:13:37.278Z"
   },
   {
    "duration": 1772,
    "start_time": "2021-06-17T17:13:37.311Z"
   },
   {
    "duration": 28,
    "start_time": "2021-06-17T17:13:39.085Z"
   },
   {
    "duration": 540,
    "start_time": "2021-06-17T17:13:39.115Z"
   },
   {
    "duration": 713,
    "start_time": "2021-06-17T17:13:39.657Z"
   },
   {
    "duration": 20,
    "start_time": "2021-06-17T17:13:40.372Z"
   },
   {
    "duration": 22,
    "start_time": "2021-06-17T17:13:40.410Z"
   },
   {
    "duration": 28,
    "start_time": "2021-06-17T17:13:40.435Z"
   },
   {
    "duration": 48,
    "start_time": "2021-06-17T17:13:40.466Z"
   },
   {
    "duration": 27,
    "start_time": "2021-06-17T17:13:40.518Z"
   },
   {
    "duration": 39,
    "start_time": "2021-06-17T17:13:40.548Z"
   },
   {
    "duration": 32,
    "start_time": "2021-06-17T17:13:40.590Z"
   },
   {
    "duration": 35,
    "start_time": "2021-06-17T17:13:40.624Z"
   },
   {
    "duration": 42,
    "start_time": "2021-06-17T17:13:40.661Z"
   },
   {
    "duration": 29,
    "start_time": "2021-06-17T17:13:40.706Z"
   },
   {
    "duration": 4839,
    "start_time": "2021-06-18T10:13:42.924Z"
   },
   {
    "duration": 1338,
    "start_time": "2021-06-18T10:15:35.441Z"
   },
   {
    "duration": 4,
    "start_time": "2021-06-18T10:15:36.783Z"
   },
   {
    "duration": 51,
    "start_time": "2021-06-18T10:15:36.790Z"
   },
   {
    "duration": 4948,
    "start_time": "2021-06-18T10:15:36.844Z"
   },
   {
    "duration": 18,
    "start_time": "2021-06-18T10:15:41.794Z"
   },
   {
    "duration": 16,
    "start_time": "2021-06-18T10:15:41.814Z"
   },
   {
    "duration": 11,
    "start_time": "2021-06-18T10:15:41.833Z"
   },
   {
    "duration": 36,
    "start_time": "2021-06-18T10:15:41.847Z"
   },
   {
    "duration": 10,
    "start_time": "2021-06-18T10:15:41.889Z"
   },
   {
    "duration": 14,
    "start_time": "2021-06-18T10:15:41.903Z"
   },
   {
    "duration": 63,
    "start_time": "2021-06-18T10:15:41.920Z"
   },
   {
    "duration": 12,
    "start_time": "2021-06-18T10:15:41.985Z"
   },
   {
    "duration": 23,
    "start_time": "2021-06-18T10:15:42.000Z"
   },
   {
    "duration": 22,
    "start_time": "2021-06-18T10:15:42.026Z"
   },
   {
    "duration": 15,
    "start_time": "2021-06-18T10:15:42.084Z"
   },
   {
    "duration": 15,
    "start_time": "2021-06-18T10:15:42.102Z"
   },
   {
    "duration": 96,
    "start_time": "2021-06-18T10:15:42.119Z"
   },
   {
    "duration": -16919,
    "start_time": "2021-06-18T10:15:59.139Z"
   },
   {
    "duration": -16920,
    "start_time": "2021-06-18T10:15:59.142Z"
   },
   {
    "duration": -16921,
    "start_time": "2021-06-18T10:15:59.144Z"
   },
   {
    "duration": -16921,
    "start_time": "2021-06-18T10:15:59.146Z"
   },
   {
    "duration": -16923,
    "start_time": "2021-06-18T10:15:59.149Z"
   },
   {
    "duration": -16923,
    "start_time": "2021-06-18T10:15:59.151Z"
   },
   {
    "duration": -16939,
    "start_time": "2021-06-18T10:15:59.169Z"
   },
   {
    "duration": -16940,
    "start_time": "2021-06-18T10:15:59.171Z"
   },
   {
    "duration": -16940,
    "start_time": "2021-06-18T10:15:59.173Z"
   },
   {
    "duration": -16941,
    "start_time": "2021-06-18T10:15:59.175Z"
   },
   {
    "duration": -16942,
    "start_time": "2021-06-18T10:15:59.177Z"
   },
   {
    "duration": -16942,
    "start_time": "2021-06-18T10:15:59.179Z"
   },
   {
    "duration": -16945,
    "start_time": "2021-06-18T10:15:59.183Z"
   },
   {
    "duration": -16946,
    "start_time": "2021-06-18T10:15:59.186Z"
   },
   {
    "duration": -16953,
    "start_time": "2021-06-18T10:15:59.194Z"
   },
   {
    "duration": -16954,
    "start_time": "2021-06-18T10:15:59.197Z"
   },
   {
    "duration": -16982,
    "start_time": "2021-06-18T10:15:59.226Z"
   },
   {
    "duration": -16984,
    "start_time": "2021-06-18T10:15:59.229Z"
   },
   {
    "duration": -16984,
    "start_time": "2021-06-18T10:15:59.231Z"
   },
   {
    "duration": -16985,
    "start_time": "2021-06-18T10:15:59.233Z"
   },
   {
    "duration": -16986,
    "start_time": "2021-06-18T10:15:59.235Z"
   },
   {
    "duration": -16986,
    "start_time": "2021-06-18T10:15:59.237Z"
   },
   {
    "duration": -16987,
    "start_time": "2021-06-18T10:15:59.239Z"
   },
   {
    "duration": -16988,
    "start_time": "2021-06-18T10:15:59.241Z"
   },
   {
    "duration": -16988,
    "start_time": "2021-06-18T10:15:59.243Z"
   },
   {
    "duration": -16989,
    "start_time": "2021-06-18T10:15:59.245Z"
   },
   {
    "duration": -16994,
    "start_time": "2021-06-18T10:15:59.251Z"
   },
   {
    "duration": -16971,
    "start_time": "2021-06-18T10:15:59.254Z"
   },
   {
    "duration": -16971,
    "start_time": "2021-06-18T10:15:59.256Z"
   },
   {
    "duration": -16972,
    "start_time": "2021-06-18T10:15:59.258Z"
   },
   {
    "duration": -16973,
    "start_time": "2021-06-18T10:15:59.260Z"
   },
   {
    "duration": -16973,
    "start_time": "2021-06-18T10:15:59.262Z"
   },
   {
    "duration": -16974,
    "start_time": "2021-06-18T10:15:59.264Z"
   },
   {
    "duration": -16973,
    "start_time": "2021-06-18T10:15:59.266Z"
   },
   {
    "duration": -16974,
    "start_time": "2021-06-18T10:15:59.268Z"
   },
   {
    "duration": -16975,
    "start_time": "2021-06-18T10:15:59.270Z"
   },
   {
    "duration": -16975,
    "start_time": "2021-06-18T10:15:59.272Z"
   },
   {
    "duration": -17047,
    "start_time": "2021-06-18T10:15:59.345Z"
   },
   {
    "duration": -17153,
    "start_time": "2021-06-18T10:15:59.453Z"
   },
   {
    "duration": -17189,
    "start_time": "2021-06-18T10:15:59.490Z"
   },
   {
    "duration": -17191,
    "start_time": "2021-06-18T10:15:59.493Z"
   },
   {
    "duration": -17190,
    "start_time": "2021-06-18T10:15:59.494Z"
   },
   {
    "duration": -17191,
    "start_time": "2021-06-18T10:15:59.496Z"
   },
   {
    "duration": -17191,
    "start_time": "2021-06-18T10:15:59.498Z"
   },
   {
    "duration": -17192,
    "start_time": "2021-06-18T10:15:59.500Z"
   },
   {
    "duration": -17192,
    "start_time": "2021-06-18T10:15:59.502Z"
   },
   {
    "duration": -17197,
    "start_time": "2021-06-18T10:15:59.508Z"
   },
   {
    "duration": -17199,
    "start_time": "2021-06-18T10:15:59.511Z"
   },
   {
    "duration": -17199,
    "start_time": "2021-06-18T10:15:59.513Z"
   },
   {
    "duration": -17199,
    "start_time": "2021-06-18T10:15:59.515Z"
   },
   {
    "duration": -17200,
    "start_time": "2021-06-18T10:15:59.517Z"
   },
   {
    "duration": -17201,
    "start_time": "2021-06-18T10:15:59.520Z"
   },
   {
    "duration": -17145,
    "start_time": "2021-06-18T10:15:59.527Z"
   },
   {
    "duration": -17145,
    "start_time": "2021-06-18T10:15:59.529Z"
   },
   {
    "duration": -17146,
    "start_time": "2021-06-18T10:15:59.531Z"
   },
   {
    "duration": -17147,
    "start_time": "2021-06-18T10:15:59.533Z"
   },
   {
    "duration": -17147,
    "start_time": "2021-06-18T10:15:59.535Z"
   },
   {
    "duration": -17152,
    "start_time": "2021-06-18T10:15:59.541Z"
   },
   {
    "duration": -17153,
    "start_time": "2021-06-18T10:15:59.543Z"
   },
   {
    "duration": -17153,
    "start_time": "2021-06-18T10:15:59.545Z"
   },
   {
    "duration": -17154,
    "start_time": "2021-06-18T10:15:59.547Z"
   },
   {
    "duration": -17155,
    "start_time": "2021-06-18T10:15:59.549Z"
   },
   {
    "duration": 5,
    "start_time": "2021-06-18T10:15:48.029Z"
   },
   {
    "duration": 8,
    "start_time": "2021-06-18T10:15:48.037Z"
   },
   {
    "duration": 56,
    "start_time": "2021-06-18T10:15:48.049Z"
   },
   {
    "duration": 4812,
    "start_time": "2021-06-18T10:15:48.108Z"
   },
   {
    "duration": 17,
    "start_time": "2021-06-18T10:15:52.923Z"
   },
   {
    "duration": 5,
    "start_time": "2021-06-18T10:15:52.943Z"
   },
   {
    "duration": 12,
    "start_time": "2021-06-18T10:15:52.951Z"
   },
   {
    "duration": 9,
    "start_time": "2021-06-18T10:15:52.969Z"
   },
   {
    "duration": 11,
    "start_time": "2021-06-18T10:15:52.985Z"
   },
   {
    "duration": 14,
    "start_time": "2021-06-18T10:15:53.000Z"
   },
   {
    "duration": 21,
    "start_time": "2021-06-18T10:15:53.016Z"
   },
   {
    "duration": 50,
    "start_time": "2021-06-18T10:15:53.039Z"
   },
   {
    "duration": 20,
    "start_time": "2021-06-18T10:15:53.091Z"
   },
   {
    "duration": 18,
    "start_time": "2021-06-18T10:15:53.114Z"
   },
   {
    "duration": 13,
    "start_time": "2021-06-18T10:15:53.134Z"
   },
   {
    "duration": 45,
    "start_time": "2021-06-18T10:15:53.149Z"
   },
   {
    "duration": 715,
    "start_time": "2021-06-18T10:15:53.196Z"
   },
   {
    "duration": 27,
    "start_time": "2021-06-18T10:15:53.913Z"
   },
   {
    "duration": 66,
    "start_time": "2021-06-18T10:15:53.943Z"
   },
   {
    "duration": 485,
    "start_time": "2021-06-18T10:15:54.012Z"
   },
   {
    "duration": 402,
    "start_time": "2021-06-18T10:15:54.499Z"
   },
   {
    "duration": 587,
    "start_time": "2021-06-18T10:15:54.904Z"
   },
   {
    "duration": 2339,
    "start_time": "2021-06-18T10:15:55.498Z"
   },
   {
    "duration": 4,
    "start_time": "2021-06-18T10:15:57.841Z"
   },
   {
    "duration": 11,
    "start_time": "2021-06-18T10:15:57.848Z"
   },
   {
    "duration": 23,
    "start_time": "2021-06-18T10:15:57.862Z"
   },
   {
    "duration": 10,
    "start_time": "2021-06-18T10:15:57.888Z"
   },
   {
    "duration": 16,
    "start_time": "2021-06-18T10:15:57.901Z"
   },
   {
    "duration": 6,
    "start_time": "2021-06-18T10:15:57.919Z"
   },
   {
    "duration": 21,
    "start_time": "2021-06-18T10:15:57.929Z"
   },
   {
    "duration": 32,
    "start_time": "2021-06-18T10:15:57.953Z"
   },
   {
    "duration": 16,
    "start_time": "2021-06-18T10:15:57.987Z"
   },
   {
    "duration": 536,
    "start_time": "2021-06-18T10:15:58.005Z"
   },
   {
    "duration": 4,
    "start_time": "2021-06-18T10:15:58.544Z"
   },
   {
    "duration": 32,
    "start_time": "2021-06-18T10:15:58.551Z"
   },
   {
    "duration": 22,
    "start_time": "2021-06-18T10:15:58.585Z"
   },
   {
    "duration": 12,
    "start_time": "2021-06-18T10:15:58.610Z"
   },
   {
    "duration": 13,
    "start_time": "2021-06-18T10:15:58.624Z"
   },
   {
    "duration": 19,
    "start_time": "2021-06-18T10:15:58.640Z"
   },
   {
    "duration": 25,
    "start_time": "2021-06-18T10:15:58.661Z"
   },
   {
    "duration": 748,
    "start_time": "2021-06-18T10:15:58.689Z"
   },
   {
    "duration": 547,
    "start_time": "2021-06-18T10:15:59.439Z"
   },
   {
    "duration": 610,
    "start_time": "2021-06-18T10:15:59.988Z"
   },
   {
    "duration": 8,
    "start_time": "2021-06-18T10:16:00.600Z"
   },
   {
    "duration": 483,
    "start_time": "2021-06-18T10:16:00.610Z"
   },
   {
    "duration": 637,
    "start_time": "2021-06-18T10:16:01.096Z"
   },
   {
    "duration": 732,
    "start_time": "2021-06-18T10:16:01.735Z"
   },
   {
    "duration": 68,
    "start_time": "2021-06-18T10:16:02.470Z"
   },
   {
    "duration": 1896,
    "start_time": "2021-06-18T10:16:02.540Z"
   },
   {
    "duration": 16,
    "start_time": "2021-06-18T10:16:04.438Z"
   },
   {
    "duration": 1736,
    "start_time": "2021-06-18T10:16:04.457Z"
   },
   {
    "duration": 16,
    "start_time": "2021-06-18T10:16:06.195Z"
   },
   {
    "duration": 818,
    "start_time": "2021-06-18T10:16:06.215Z"
   },
   {
    "duration": 587,
    "start_time": "2021-06-18T10:16:07.035Z"
   },
   {
    "duration": 20,
    "start_time": "2021-06-18T10:16:07.625Z"
   },
   {
    "duration": 43,
    "start_time": "2021-06-18T10:16:07.647Z"
   },
   {
    "duration": 20,
    "start_time": "2021-06-18T10:16:07.692Z"
   },
   {
    "duration": 21,
    "start_time": "2021-06-18T10:16:07.714Z"
   },
   {
    "duration": 166,
    "start_time": "2021-06-18T10:16:07.737Z"
   },
   {
    "duration": 19,
    "start_time": "2021-06-18T10:16:07.906Z"
   },
   {
    "duration": 21,
    "start_time": "2021-06-18T10:16:07.928Z"
   },
   {
    "duration": 47,
    "start_time": "2021-06-18T10:16:07.951Z"
   },
   {
    "duration": 19,
    "start_time": "2021-06-18T10:16:08.000Z"
   },
   {
    "duration": 6,
    "start_time": "2021-06-18T10:16:08.021Z"
   },
   {
    "duration": 524,
    "start_time": "2021-06-18T10:16:08.029Z"
   },
   {
    "duration": 539,
    "start_time": "2021-06-18T10:16:08.556Z"
   },
   {
    "duration": 13,
    "start_time": "2021-06-18T10:16:09.097Z"
   },
   {
    "duration": 22,
    "start_time": "2021-06-18T10:16:09.117Z"
   },
   {
    "duration": 33,
    "start_time": "2021-06-18T10:16:09.142Z"
   },
   {
    "duration": 7,
    "start_time": "2021-06-18T10:16:09.177Z"
   },
   {
    "duration": 19,
    "start_time": "2021-06-18T10:16:09.186Z"
   },
   {
    "duration": 483,
    "start_time": "2021-06-18T10:16:09.208Z"
   },
   {
    "duration": 467,
    "start_time": "2021-06-18T10:16:09.693Z"
   },
   {
    "duration": 23,
    "start_time": "2021-06-18T10:16:10.162Z"
   },
   {
    "duration": 25,
    "start_time": "2021-06-18T10:16:10.187Z"
   },
   {
    "duration": 11,
    "start_time": "2021-06-18T10:16:10.215Z"
   },
   {
    "duration": 11,
    "start_time": "2021-06-18T10:16:10.229Z"
   },
   {
    "duration": 30,
    "start_time": "2021-06-18T10:16:10.242Z"
   },
   {
    "duration": 98,
    "start_time": "2021-06-18T10:31:53.902Z"
   },
   {
    "duration": 1407,
    "start_time": "2021-06-18T10:37:58.526Z"
   },
   {
    "duration": 1402,
    "start_time": "2021-06-18T10:56:06.481Z"
   },
   {
    "duration": 4,
    "start_time": "2021-06-18T10:56:07.886Z"
   },
   {
    "duration": 50,
    "start_time": "2021-06-18T10:56:07.892Z"
   },
   {
    "duration": 5354,
    "start_time": "2021-06-18T10:56:35.142Z"
   },
   {
    "duration": 17,
    "start_time": "2021-06-18T10:56:40.499Z"
   },
   {
    "duration": 8,
    "start_time": "2021-06-18T10:56:40.519Z"
   },
   {
    "duration": 21,
    "start_time": "2021-06-18T10:56:40.529Z"
   },
   {
    "duration": 11,
    "start_time": "2021-06-18T10:56:40.552Z"
   },
   {
    "duration": 15,
    "start_time": "2021-06-18T10:56:40.565Z"
   },
   {
    "duration": 11,
    "start_time": "2021-06-18T10:56:40.582Z"
   },
   {
    "duration": 42,
    "start_time": "2021-06-18T10:56:40.597Z"
   },
   {
    "duration": 11,
    "start_time": "2021-06-18T10:56:40.642Z"
   },
   {
    "duration": 22,
    "start_time": "2021-06-18T10:56:40.655Z"
   },
   {
    "duration": 48,
    "start_time": "2021-06-18T10:56:40.679Z"
   },
   {
    "duration": 13,
    "start_time": "2021-06-18T10:56:40.730Z"
   },
   {
    "duration": 14,
    "start_time": "2021-06-18T10:56:40.745Z"
   },
   {
    "duration": 688,
    "start_time": "2021-06-18T10:56:40.762Z"
   },
   {
    "duration": 26,
    "start_time": "2021-06-18T10:56:41.453Z"
   },
   {
    "duration": 68,
    "start_time": "2021-06-18T10:56:41.482Z"
   },
   {
    "duration": 14,
    "start_time": "2021-06-18T11:54:55.405Z"
   },
   {
    "duration": 12,
    "start_time": "2021-06-18T11:55:15.137Z"
   },
   {
    "duration": 14,
    "start_time": "2021-06-18T11:55:50.976Z"
   },
   {
    "duration": 24,
    "start_time": "2021-06-18T11:56:01.444Z"
   },
   {
    "duration": 23,
    "start_time": "2021-06-18T11:56:02.415Z"
   },
   {
    "duration": 41,
    "start_time": "2021-06-18T11:56:02.926Z"
   },
   {
    "duration": 488,
    "start_time": "2021-06-18T11:56:03.895Z"
   },
   {
    "duration": 399,
    "start_time": "2021-06-18T11:56:04.990Z"
   },
   {
    "duration": 513,
    "start_time": "2021-06-18T11:56:05.821Z"
   },
   {
    "duration": 2275,
    "start_time": "2021-06-18T11:56:06.340Z"
   },
   {
    "duration": 4,
    "start_time": "2021-06-18T11:56:13.004Z"
   },
   {
    "duration": 5,
    "start_time": "2021-06-18T11:56:13.764Z"
   },
   {
    "duration": 6,
    "start_time": "2021-06-18T11:56:14.140Z"
   },
   {
    "duration": 10,
    "start_time": "2021-06-18T11:56:14.940Z"
   },
   {
    "duration": 11,
    "start_time": "2021-06-18T11:56:15.898Z"
   },
   {
    "duration": 6,
    "start_time": "2021-06-18T11:56:16.281Z"
   },
   {
    "duration": 12,
    "start_time": "2021-06-18T11:56:17.027Z"
   },
   {
    "duration": 6,
    "start_time": "2021-06-18T11:56:18.918Z"
   },
   {
    "duration": 12,
    "start_time": "2021-06-18T11:56:40.270Z"
   },
   {
    "duration": 549,
    "start_time": "2021-06-18T11:56:40.618Z"
   },
   {
    "duration": 4,
    "start_time": "2021-06-18T11:56:41.426Z"
   },
   {
    "duration": 11,
    "start_time": "2021-06-18T11:56:41.832Z"
   },
   {
    "duration": 17,
    "start_time": "2021-06-18T11:56:42.473Z"
   },
   {
    "duration": 11,
    "start_time": "2021-06-18T11:56:42.777Z"
   },
   {
    "duration": 6,
    "start_time": "2021-06-18T11:56:43.082Z"
   },
   {
    "duration": 4,
    "start_time": "2021-06-18T11:56:43.740Z"
   },
   {
    "duration": 14,
    "start_time": "2021-06-18T11:56:44.301Z"
   },
   {
    "duration": 739,
    "start_time": "2021-06-18T11:56:53.444Z"
   },
   {
    "duration": 481,
    "start_time": "2021-06-18T11:56:55.944Z"
   },
   {
    "duration": 965,
    "start_time": "2021-06-18T11:57:18.373Z"
   },
   {
    "duration": 8,
    "start_time": "2021-06-18T11:57:27.653Z"
   },
   {
    "duration": 505,
    "start_time": "2021-06-18T11:57:28.247Z"
   },
   {
    "duration": 698,
    "start_time": "2021-06-18T11:57:28.906Z"
   },
   {
    "duration": 738,
    "start_time": "2021-06-18T11:57:36.471Z"
   },
   {
    "duration": 65,
    "start_time": "2021-06-18T11:57:37.583Z"
   },
   {
    "duration": 1896,
    "start_time": "2021-06-18T11:57:38.540Z"
   },
   {
    "duration": 15,
    "start_time": "2021-06-18T11:57:56.598Z"
   },
   {
    "duration": 1789,
    "start_time": "2021-06-18T11:58:37.746Z"
   },
   {
    "duration": 2060,
    "start_time": "2021-06-18T11:58:45.859Z"
   },
   {
    "duration": 16,
    "start_time": "2021-06-18T11:58:54.808Z"
   },
   {
    "duration": 529,
    "start_time": "2021-06-18T11:58:55.753Z"
   },
   {
    "duration": 906,
    "start_time": "2021-06-18T11:58:56.284Z"
   },
   {
    "duration": 20,
    "start_time": "2021-06-18T11:59:22.520Z"
   },
   {
    "duration": 20,
    "start_time": "2021-06-18T11:59:22.904Z"
   },
   {
    "duration": 21,
    "start_time": "2021-06-18T11:59:23.441Z"
   },
   {
    "duration": 27,
    "start_time": "2021-06-18T11:59:24.666Z"
   },
   {
    "duration": 30,
    "start_time": "2021-06-18T11:59:25.193Z"
   },
   {
    "duration": 30,
    "start_time": "2021-06-18T11:59:25.225Z"
   },
   {
    "duration": 19,
    "start_time": "2021-06-18T11:59:26.047Z"
   },
   {
    "duration": 19,
    "start_time": "2021-06-18T11:59:26.134Z"
   },
   {
    "duration": 20,
    "start_time": "2021-06-18T11:59:26.583Z"
   },
   {
    "duration": 3,
    "start_time": "2021-06-18T12:00:28.436Z"
   },
   {
    "duration": 534,
    "start_time": "2021-06-18T12:00:28.594Z"
   },
   {
    "duration": 553,
    "start_time": "2021-06-18T12:00:29.131Z"
   },
   {
    "duration": 19,
    "start_time": "2021-06-18T12:00:29.688Z"
   },
   {
    "duration": 32,
    "start_time": "2021-06-18T12:00:29.710Z"
   },
   {
    "duration": 17,
    "start_time": "2021-06-18T12:00:29.745Z"
   },
   {
    "duration": 5,
    "start_time": "2021-06-18T12:00:29.974Z"
   },
   {
    "duration": 6,
    "start_time": "2021-06-18T12:00:30.231Z"
   }
  ],
  "kernelspec": {
   "display_name": "Python 3",
   "language": "python",
   "name": "python3"
  },
  "language_info": {
   "codemirror_mode": {
    "name": "ipython",
    "version": 3
   },
   "file_extension": ".py",
   "mimetype": "text/x-python",
   "name": "python",
   "nbconvert_exporter": "python",
   "pygments_lexer": "ipython3",
   "version": "3.7.10"
  },
  "toc": {
   "base_numbering": 1,
   "nav_menu": {},
   "number_sections": true,
   "sideBar": true,
   "skip_h1_title": true,
   "title_cell": "Table of Contents",
   "title_sidebar": "Contents",
   "toc_cell": false,
   "toc_position": {},
   "toc_section_display": true,
   "toc_window_display": false
  }
 },
 "nbformat": 4,
 "nbformat_minor": 2
}
