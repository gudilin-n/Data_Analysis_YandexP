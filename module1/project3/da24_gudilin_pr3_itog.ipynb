{
 "cells": [
  {
   "cell_type": "markdown",
   "metadata": {},
   "source": [
    "<div>\n",
    "<b>Никита, привет!</b>\n",
    "\n",
    "Меня зовут Евгений Дащенко, и я буду проверять твой проект. Предлагаю общаться на «ты» 😊 Но если это не удобно - дай знать, и мы перейдем на \"вы\". \n",
    "\n",
    "Моя основная цель — не указать на совершенные тобою ошибки, а поделиться своим опытом и помочь тебе стать аналитиком данных. Ты уже проделал большую работу над проектом, но давай сделаем его еще лучше. Ниже ты найдешь мои комментарии - пожалуйста, не перемещай, не изменяй и не удаляй их. Я буду использовать цветовую разметку:\n",
    "\n",
    "<div class=\"alert alert-danger\">\n",
    "<b>Комментарий ревьюера:</b> Так выделены самые важные замечания. Без их отработки проект не будет принят. </div>\n",
    "\n",
    "<div class=\"alert alert-warning\">\n",
    "<b>Комментарий ревьюера:</b> Так выделены небольшие замечания. Одна-два таких замечания в проекте допустимы, но если их будет больше - тебе будет необходимо внести исправления. Это как тестовое задание при приеме на работу: очень много мелких ошибок могут стать причиной отказа кандидату. \n",
    "\n",
    "</div>\n",
    "\n",
    "<div class=\"alert alert-success\">\n",
    "<b>Комментарий ревьюера:</b> Так я выделяю все остальные комментарии.</div>\n",
    "\n",
    "Давай работать над проектом в диалоге: если ты что-то меняешь в проекте или отвечаешь на мои комменатри — пиши об этом. Мне будет легче отследить изменения, если ты выделишь свои комментарии:\n",
    "<div class=\"alert alert-info\"> <b>Комментарий студента:</b> Например, вот так.</div>\n",
    "\n",
    "Всё это поможет выполнить повторную проверку твоего проекта оперативнее. "
   ]
  },
  {
   "cell_type": "markdown",
   "metadata": {},
   "source": [
    "# Оглавление\n",
    "1. [Изучение данных из файла](#start)\n",
    "2. [Предобработка данных](#preprocessing)\n",
    "    1. [Вывод](#conclusion1)\n",
    "3. [Анализ данных](#data_analysis)\n",
    "    1. [Вывод](#conclusion2)\n",
    "4. [Проверка гипотез](#hypothesis_testing)\n",
    "    1. [Вывод](#conclusion3)\n",
    "5. [Общий вывод](#conclusion) "
   ]
  },
  {
   "cell_type": "markdown",
   "metadata": {},
   "source": [
    "# Описание данных"
   ]
  },
  {
   "cell_type": "markdown",
   "metadata": {},
   "source": [
    "**1. Количественные (числовые):**\n",
    "\n",
    "    1. Непрерывные\n",
    "        1. reg_date — дата подключения тарифа (день, месяц, год)\n",
    "        2. churn_date — дата прекращения пользования тарифом (если значение пропущено, то тариф ещё действовал на момент выгрузки данных)\n",
    "        3. call_date — дата звонка\n",
    "        4. message_date — дата сообщения\n",
    "        5. session_date — дата интернет-сессии\n",
    "    2. Дискретные\n",
    "        1. age — возраст пользователя (годы)\n",
    "        2. duration — длительность звонка в минутах\n",
    "        3. mb_used — объём потраченного за сессию интернет-трафика (в мегабайтах)\n",
    "        4. rub_per_message — стоимость отправки сообщения сверх тарифного пакета\n",
    "        5. rub_per_gb — стоимость дополнительного гигабайта интернет-трафика сверх тарифного пакета (1 гигабайт = 1024 мегабайта)\n",
    "        6. rub_monthly_fee — ежемесячная абонентская плата в рублях\n",
    "        7. minutes_included — количество минут разговора в месяц, включённых в абонентскую плату\n",
    "        8. messages_included — количество сообщений в месяц, включённых в абонентскую плату\n",
    "        9. mb_per_month_included — объём интернет-трафика, включённого в абонентскую плату (в мегабайтах)\n",
    "        10. rub_per_minute — стоимость минуты разговора сверх тарифного пакета (например, если в тарифе 100 минут разговора в месяц, то со 101 минуты будет взиматься плата)\n",
    "        \n",
    "**2. Категориальные (качественные):**\n",
    "* user_id — уникальный идентификатор пользователя, отправившего сообщение, сделавшего звонок\n",
    "* first_name — имя пользователя\n",
    "* last_name — фамилия пользователя\n",
    "* city — город проживания пользователя\n",
    "* tariff — название тарифного плана\n",
    "* id — уникальный номер звонка, сообщения\n",
    "* tariff_name — название тарифа\n",
    "\n",
    "\n",
    "\n",
    "**3. Логические (булевы):**\n",
    "**Отсутсвуют!**\n",
    "\n",
    "\n",
    "\n"
   ]
  },
  {
   "cell_type": "markdown",
   "metadata": {},
   "source": [
    "# Определение перспективного тарифа для телеком компании"
   ]
  },
  {
   "cell_type": "markdown",
   "metadata": {},
   "source": [
    "Вы аналитик компании «Мегалайн» — федерального оператора сотовой связи. Клиентам предлагают два тарифных плана: «Смарт» и «Ультра». Чтобы скорректировать рекламный бюджет, коммерческий департамент хочет понять, какой тариф приносит больше денег.\n",
    "Вам предстоит сделать предварительный анализ тарифов на небольшой выборке клиентов. В вашем распоряжении данные 500 пользователей «Мегалайна»: кто они, откуда, каким тарифом пользуются, сколько звонков и сообщений каждый отправил за 2018 год. Нужно проанализировать поведение клиентов и сделать вывод — какой тариф лучше."
   ]
  },
  {
   "cell_type": "markdown",
   "metadata": {},
   "source": [
    "<div class=\"alert alert-success\">\n",
    "<b>Комментарий ревьюера:</b>\n",
    "\n",
    "Здорово, когда есть вступление в сам проект, каждый сможет быстрее разобраться в концепции / деталях работы. \n",
    "\n",
    "</div>"
   ]
  },
  {
   "cell_type": "markdown",
   "metadata": {},
   "source": [
    "## Изучение данных из файла\n",
    "<a id=\"start\"></a>"
   ]
  },
  {
   "cell_type": "code",
   "execution_count": 1,
   "metadata": {},
   "outputs": [],
   "source": [
    "import numpy as np\n",
    "import pandas as pd\n",
    "import matplotlib.pyplot as plt\n",
    "from scipy import stats as st"
   ]
  },
  {
   "cell_type": "code",
   "execution_count": 2,
   "metadata": {},
   "outputs": [],
   "source": [
    "pd.set_option('display.float_format', lambda x: '%.3f' % x) # для нормального отображение вещественных чисел"
   ]
  },
  {
   "cell_type": "code",
   "execution_count": 3,
   "metadata": {},
   "outputs": [],
   "source": [
    "try:\n",
    "    df_calls = pd.read_csv('/datasets/calls.csv')\n",
    "    df_internet = pd.read_csv('/datasets/internet.csv')\n",
    "    df_messages = pd.read_csv('/datasets/messages.csv')\n",
    "    df_tariffs = pd.read_csv('/datasets/tariffs.csv')\n",
    "    df_users = pd.read_csv('/datasets/users.csv')\n",
    "except:\n",
    "    df_calls = pd.read_csv('/Users/nikitagudilin/Desktop/YANDEX_PRAKTIKUM/PROJECTS/M1/project3/calls.csv')\n",
    "    df_internet = pd.read_csv('/Users/nikitagudilin/Desktop/YANDEX_PRAKTIKUM/PROJECTS/M1/project3/internet.csv')\n",
    "    df_messages = pd.read_csv('/Users/nikitagudilin/Desktop/YANDEX_PRAKTIKUM/PROJECTS/M1/project3/messages.csv')\n",
    "    df_tariffs = pd.read_csv('/Users/nikitagudilin/Desktop/YANDEX_PRAKTIKUM/PROJECTS/M1/project3/tariffs.csv')\n",
    "    df_users = pd.read_csv('/Users/nikitagudilin/Desktop/YANDEX_PRAKTIKUM/PROJECTS/M1/project3/users.csv')"
   ]
  },
  {
   "cell_type": "markdown",
   "metadata": {},
   "source": [
    "<div class=\"alert alert-success\">\n",
    "<b>Комментарий ревьюера:</b>\n",
    "\n",
    "Отличный и безопасный способ избежать ошибки подкючения наших данных 👍\n",
    "\n",
    "</div>"
   ]
  },
  {
   "cell_type": "markdown",
   "metadata": {},
   "source": [
    "Посмотрим на таблицу с тарифами"
   ]
  },
  {
   "cell_type": "code",
   "execution_count": 4,
   "metadata": {},
   "outputs": [
    {
     "data": {
      "text/html": [
       "<div>\n",
       "<style scoped>\n",
       "    .dataframe tbody tr th:only-of-type {\n",
       "        vertical-align: middle;\n",
       "    }\n",
       "\n",
       "    .dataframe tbody tr th {\n",
       "        vertical-align: top;\n",
       "    }\n",
       "\n",
       "    .dataframe thead th {\n",
       "        text-align: right;\n",
       "    }\n",
       "</style>\n",
       "<table border=\"1\" class=\"dataframe\">\n",
       "  <thead>\n",
       "    <tr style=\"text-align: right;\">\n",
       "      <th></th>\n",
       "      <th>messages_included</th>\n",
       "      <th>mb_per_month_included</th>\n",
       "      <th>minutes_included</th>\n",
       "      <th>rub_monthly_fee</th>\n",
       "      <th>rub_per_gb</th>\n",
       "      <th>rub_per_message</th>\n",
       "      <th>rub_per_minute</th>\n",
       "      <th>tariff_name</th>\n",
       "    </tr>\n",
       "  </thead>\n",
       "  <tbody>\n",
       "    <tr>\n",
       "      <td>0</td>\n",
       "      <td>50</td>\n",
       "      <td>15360</td>\n",
       "      <td>500</td>\n",
       "      <td>550</td>\n",
       "      <td>200</td>\n",
       "      <td>3</td>\n",
       "      <td>3</td>\n",
       "      <td>smart</td>\n",
       "    </tr>\n",
       "    <tr>\n",
       "      <td>1</td>\n",
       "      <td>1000</td>\n",
       "      <td>30720</td>\n",
       "      <td>3000</td>\n",
       "      <td>1950</td>\n",
       "      <td>150</td>\n",
       "      <td>1</td>\n",
       "      <td>1</td>\n",
       "      <td>ultra</td>\n",
       "    </tr>\n",
       "  </tbody>\n",
       "</table>\n",
       "</div>"
      ],
      "text/plain": [
       "   messages_included  mb_per_month_included  minutes_included  \\\n",
       "0                 50                  15360               500   \n",
       "1               1000                  30720              3000   \n",
       "\n",
       "   rub_monthly_fee  rub_per_gb  rub_per_message  rub_per_minute tariff_name  \n",
       "0              550         200                3               3       smart  \n",
       "1             1950         150                1               1       ultra  "
      ]
     },
     "execution_count": 4,
     "metadata": {},
     "output_type": "execute_result"
    }
   ],
   "source": [
    "df_tariffs"
   ]
  },
  {
   "cell_type": "markdown",
   "metadata": {},
   "source": [
    "Посмотрим на таблицы с информацией о звонках,сообщениях, интернет-сессиях "
   ]
  },
  {
   "cell_type": "code",
   "execution_count": 5,
   "metadata": {},
   "outputs": [
    {
     "data": {
      "text/html": [
       "<div>\n",
       "<style scoped>\n",
       "    .dataframe tbody tr th:only-of-type {\n",
       "        vertical-align: middle;\n",
       "    }\n",
       "\n",
       "    .dataframe tbody tr th {\n",
       "        vertical-align: top;\n",
       "    }\n",
       "\n",
       "    .dataframe thead th {\n",
       "        text-align: right;\n",
       "    }\n",
       "</style>\n",
       "<table border=\"1\" class=\"dataframe\">\n",
       "  <thead>\n",
       "    <tr style=\"text-align: right;\">\n",
       "      <th></th>\n",
       "      <th>id</th>\n",
       "      <th>call_date</th>\n",
       "      <th>duration</th>\n",
       "      <th>user_id</th>\n",
       "    </tr>\n",
       "  </thead>\n",
       "  <tbody>\n",
       "    <tr>\n",
       "      <td>114914</td>\n",
       "      <td>1294_254</td>\n",
       "      <td>2018-09-25</td>\n",
       "      <td>15.140</td>\n",
       "      <td>1294</td>\n",
       "    </tr>\n",
       "    <tr>\n",
       "      <td>10691</td>\n",
       "      <td>1027_561</td>\n",
       "      <td>2018-04-25</td>\n",
       "      <td>9.040</td>\n",
       "      <td>1027</td>\n",
       "    </tr>\n",
       "    <tr>\n",
       "      <td>50005</td>\n",
       "      <td>1124_224</td>\n",
       "      <td>2018-11-21</td>\n",
       "      <td>12.090</td>\n",
       "      <td>1124</td>\n",
       "    </tr>\n",
       "    <tr>\n",
       "      <td>78972</td>\n",
       "      <td>1196_1204</td>\n",
       "      <td>2018-10-26</td>\n",
       "      <td>0.360</td>\n",
       "      <td>1196</td>\n",
       "    </tr>\n",
       "    <tr>\n",
       "      <td>53020</td>\n",
       "      <td>1134_81</td>\n",
       "      <td>2018-06-29</td>\n",
       "      <td>9.770</td>\n",
       "      <td>1134</td>\n",
       "    </tr>\n",
       "    <tr>\n",
       "      <td>42090</td>\n",
       "      <td>1103_48</td>\n",
       "      <td>2018-12-22</td>\n",
       "      <td>7.850</td>\n",
       "      <td>1103</td>\n",
       "    </tr>\n",
       "    <tr>\n",
       "      <td>49446</td>\n",
       "      <td>1123_465</td>\n",
       "      <td>2018-07-10</td>\n",
       "      <td>9.530</td>\n",
       "      <td>1123</td>\n",
       "    </tr>\n",
       "    <tr>\n",
       "      <td>4751</td>\n",
       "      <td>1012_225</td>\n",
       "      <td>2018-12-13</td>\n",
       "      <td>6.320</td>\n",
       "      <td>1012</td>\n",
       "    </tr>\n",
       "    <tr>\n",
       "      <td>177547</td>\n",
       "      <td>1439_94</td>\n",
       "      <td>2018-12-08</td>\n",
       "      <td>4.330</td>\n",
       "      <td>1439</td>\n",
       "    </tr>\n",
       "    <tr>\n",
       "      <td>166791</td>\n",
       "      <td>1411_206</td>\n",
       "      <td>2018-09-20</td>\n",
       "      <td>13.850</td>\n",
       "      <td>1411</td>\n",
       "    </tr>\n",
       "  </tbody>\n",
       "</table>\n",
       "</div>"
      ],
      "text/plain": [
       "               id   call_date  duration  user_id\n",
       "114914   1294_254  2018-09-25    15.140     1294\n",
       "10691    1027_561  2018-04-25     9.040     1027\n",
       "50005    1124_224  2018-11-21    12.090     1124\n",
       "78972   1196_1204  2018-10-26     0.360     1196\n",
       "53020     1134_81  2018-06-29     9.770     1134\n",
       "42090     1103_48  2018-12-22     7.850     1103\n",
       "49446    1123_465  2018-07-10     9.530     1123\n",
       "4751     1012_225  2018-12-13     6.320     1012\n",
       "177547    1439_94  2018-12-08     4.330     1439\n",
       "166791   1411_206  2018-09-20    13.850     1411"
      ]
     },
     "execution_count": 5,
     "metadata": {},
     "output_type": "execute_result"
    }
   ],
   "source": [
    "df_calls.sample(10)"
   ]
  },
  {
   "cell_type": "code",
   "execution_count": 6,
   "metadata": {},
   "outputs": [
    {
     "data": {
      "text/html": [
       "<div>\n",
       "<style scoped>\n",
       "    .dataframe tbody tr th:only-of-type {\n",
       "        vertical-align: middle;\n",
       "    }\n",
       "\n",
       "    .dataframe tbody tr th {\n",
       "        vertical-align: top;\n",
       "    }\n",
       "\n",
       "    .dataframe thead th {\n",
       "        text-align: right;\n",
       "    }\n",
       "</style>\n",
       "<table border=\"1\" class=\"dataframe\">\n",
       "  <thead>\n",
       "    <tr style=\"text-align: right;\">\n",
       "      <th></th>\n",
       "      <th>Unnamed: 0</th>\n",
       "      <th>id</th>\n",
       "      <th>mb_used</th>\n",
       "      <th>session_date</th>\n",
       "      <th>user_id</th>\n",
       "    </tr>\n",
       "  </thead>\n",
       "  <tbody>\n",
       "    <tr>\n",
       "      <td>45735</td>\n",
       "      <td>45735</td>\n",
       "      <td>1157_247</td>\n",
       "      <td>125.100</td>\n",
       "      <td>2018-04-18</td>\n",
       "      <td>1157</td>\n",
       "    </tr>\n",
       "    <tr>\n",
       "      <td>30432</td>\n",
       "      <td>30432</td>\n",
       "      <td>1106_234</td>\n",
       "      <td>0.000</td>\n",
       "      <td>2018-07-13</td>\n",
       "      <td>1106</td>\n",
       "    </tr>\n",
       "    <tr>\n",
       "      <td>29018</td>\n",
       "      <td>29018</td>\n",
       "      <td>1101_124</td>\n",
       "      <td>53.230</td>\n",
       "      <td>2018-12-17</td>\n",
       "      <td>1101</td>\n",
       "    </tr>\n",
       "    <tr>\n",
       "      <td>34635</td>\n",
       "      <td>34635</td>\n",
       "      <td>1120_207</td>\n",
       "      <td>967.030</td>\n",
       "      <td>2018-11-10</td>\n",
       "      <td>1120</td>\n",
       "    </tr>\n",
       "    <tr>\n",
       "      <td>52615</td>\n",
       "      <td>52615</td>\n",
       "      <td>1177_138</td>\n",
       "      <td>430.950</td>\n",
       "      <td>2018-10-10</td>\n",
       "      <td>1177</td>\n",
       "    </tr>\n",
       "    <tr>\n",
       "      <td>23601</td>\n",
       "      <td>23601</td>\n",
       "      <td>1079_204</td>\n",
       "      <td>0.000</td>\n",
       "      <td>2018-08-13</td>\n",
       "      <td>1079</td>\n",
       "    </tr>\n",
       "    <tr>\n",
       "      <td>47757</td>\n",
       "      <td>47757</td>\n",
       "      <td>1164_326</td>\n",
       "      <td>0.000</td>\n",
       "      <td>2018-10-19</td>\n",
       "      <td>1164</td>\n",
       "    </tr>\n",
       "    <tr>\n",
       "      <td>106400</td>\n",
       "      <td>106400</td>\n",
       "      <td>1360_20</td>\n",
       "      <td>505.450</td>\n",
       "      <td>2018-04-27</td>\n",
       "      <td>1360</td>\n",
       "    </tr>\n",
       "    <tr>\n",
       "      <td>78057</td>\n",
       "      <td>78057</td>\n",
       "      <td>1263_128</td>\n",
       "      <td>377.830</td>\n",
       "      <td>2018-11-29</td>\n",
       "      <td>1263</td>\n",
       "    </tr>\n",
       "    <tr>\n",
       "      <td>107765</td>\n",
       "      <td>107765</td>\n",
       "      <td>1366_120</td>\n",
       "      <td>123.620</td>\n",
       "      <td>2018-12-24</td>\n",
       "      <td>1366</td>\n",
       "    </tr>\n",
       "  </tbody>\n",
       "</table>\n",
       "</div>"
      ],
      "text/plain": [
       "        Unnamed: 0        id  mb_used session_date  user_id\n",
       "45735        45735  1157_247  125.100   2018-04-18     1157\n",
       "30432        30432  1106_234    0.000   2018-07-13     1106\n",
       "29018        29018  1101_124   53.230   2018-12-17     1101\n",
       "34635        34635  1120_207  967.030   2018-11-10     1120\n",
       "52615        52615  1177_138  430.950   2018-10-10     1177\n",
       "23601        23601  1079_204    0.000   2018-08-13     1079\n",
       "47757        47757  1164_326    0.000   2018-10-19     1164\n",
       "106400      106400   1360_20  505.450   2018-04-27     1360\n",
       "78057        78057  1263_128  377.830   2018-11-29     1263\n",
       "107765      107765  1366_120  123.620   2018-12-24     1366"
      ]
     },
     "execution_count": 6,
     "metadata": {},
     "output_type": "execute_result"
    }
   ],
   "source": [
    "df_internet.sample(10)"
   ]
  },
  {
   "cell_type": "code",
   "execution_count": 7,
   "metadata": {},
   "outputs": [
    {
     "data": {
      "text/html": [
       "<div>\n",
       "<style scoped>\n",
       "    .dataframe tbody tr th:only-of-type {\n",
       "        vertical-align: middle;\n",
       "    }\n",
       "\n",
       "    .dataframe tbody tr th {\n",
       "        vertical-align: top;\n",
       "    }\n",
       "\n",
       "    .dataframe thead th {\n",
       "        text-align: right;\n",
       "    }\n",
       "</style>\n",
       "<table border=\"1\" class=\"dataframe\">\n",
       "  <thead>\n",
       "    <tr style=\"text-align: right;\">\n",
       "      <th></th>\n",
       "      <th>id</th>\n",
       "      <th>message_date</th>\n",
       "      <th>user_id</th>\n",
       "    </tr>\n",
       "  </thead>\n",
       "  <tbody>\n",
       "    <tr>\n",
       "      <td>111489</td>\n",
       "      <td>1451_68</td>\n",
       "      <td>2018-10-03</td>\n",
       "      <td>1451</td>\n",
       "    </tr>\n",
       "    <tr>\n",
       "      <td>57958</td>\n",
       "      <td>1256_42</td>\n",
       "      <td>2018-10-19</td>\n",
       "      <td>1256</td>\n",
       "    </tr>\n",
       "    <tr>\n",
       "      <td>19123</td>\n",
       "      <td>1083_312</td>\n",
       "      <td>2018-09-04</td>\n",
       "      <td>1083</td>\n",
       "    </tr>\n",
       "    <tr>\n",
       "      <td>84306</td>\n",
       "      <td>1353_143</td>\n",
       "      <td>2018-06-15</td>\n",
       "      <td>1353</td>\n",
       "    </tr>\n",
       "    <tr>\n",
       "      <td>30541</td>\n",
       "      <td>1134_259</td>\n",
       "      <td>2018-11-21</td>\n",
       "      <td>1134</td>\n",
       "    </tr>\n",
       "    <tr>\n",
       "      <td>84082</td>\n",
       "      <td>1351_11</td>\n",
       "      <td>2018-12-23</td>\n",
       "      <td>1351</td>\n",
       "    </tr>\n",
       "    <tr>\n",
       "      <td>64709</td>\n",
       "      <td>1277_1386</td>\n",
       "      <td>2018-09-22</td>\n",
       "      <td>1277</td>\n",
       "    </tr>\n",
       "    <tr>\n",
       "      <td>116653</td>\n",
       "      <td>1474_39</td>\n",
       "      <td>2018-12-05</td>\n",
       "      <td>1474</td>\n",
       "    </tr>\n",
       "    <tr>\n",
       "      <td>75068</td>\n",
       "      <td>1318_97</td>\n",
       "      <td>2018-09-17</td>\n",
       "      <td>1318</td>\n",
       "    </tr>\n",
       "    <tr>\n",
       "      <td>89099</td>\n",
       "      <td>1373_111</td>\n",
       "      <td>2018-10-11</td>\n",
       "      <td>1373</td>\n",
       "    </tr>\n",
       "  </tbody>\n",
       "</table>\n",
       "</div>"
      ],
      "text/plain": [
       "               id message_date  user_id\n",
       "111489    1451_68   2018-10-03     1451\n",
       "57958     1256_42   2018-10-19     1256\n",
       "19123    1083_312   2018-09-04     1083\n",
       "84306    1353_143   2018-06-15     1353\n",
       "30541    1134_259   2018-11-21     1134\n",
       "84082     1351_11   2018-12-23     1351\n",
       "64709   1277_1386   2018-09-22     1277\n",
       "116653    1474_39   2018-12-05     1474\n",
       "75068     1318_97   2018-09-17     1318\n",
       "89099    1373_111   2018-10-11     1373"
      ]
     },
     "execution_count": 7,
     "metadata": {},
     "output_type": "execute_result"
    }
   ],
   "source": [
    "df_messages.sample(10)"
   ]
  },
  {
   "cell_type": "markdown",
   "metadata": {},
   "source": [
    "Посмотрим на таблицу с информацией о пользователях"
   ]
  },
  {
   "cell_type": "code",
   "execution_count": 8,
   "metadata": {},
   "outputs": [
    {
     "data": {
      "text/html": [
       "<div>\n",
       "<style scoped>\n",
       "    .dataframe tbody tr th:only-of-type {\n",
       "        vertical-align: middle;\n",
       "    }\n",
       "\n",
       "    .dataframe tbody tr th {\n",
       "        vertical-align: top;\n",
       "    }\n",
       "\n",
       "    .dataframe thead th {\n",
       "        text-align: right;\n",
       "    }\n",
       "</style>\n",
       "<table border=\"1\" class=\"dataframe\">\n",
       "  <thead>\n",
       "    <tr style=\"text-align: right;\">\n",
       "      <th></th>\n",
       "      <th>user_id</th>\n",
       "      <th>age</th>\n",
       "      <th>churn_date</th>\n",
       "      <th>city</th>\n",
       "      <th>first_name</th>\n",
       "      <th>last_name</th>\n",
       "      <th>reg_date</th>\n",
       "      <th>tariff</th>\n",
       "    </tr>\n",
       "  </thead>\n",
       "  <tbody>\n",
       "    <tr>\n",
       "      <td>11</td>\n",
       "      <td>1011</td>\n",
       "      <td>44</td>\n",
       "      <td>NaN</td>\n",
       "      <td>Самара</td>\n",
       "      <td>Веселина</td>\n",
       "      <td>Алёшко</td>\n",
       "      <td>2018-03-19</td>\n",
       "      <td>smart</td>\n",
       "    </tr>\n",
       "    <tr>\n",
       "      <td>351</td>\n",
       "      <td>1351</td>\n",
       "      <td>39</td>\n",
       "      <td>NaN</td>\n",
       "      <td>Казань</td>\n",
       "      <td>Анфиса</td>\n",
       "      <td>Вешнякова</td>\n",
       "      <td>2018-11-16</td>\n",
       "      <td>smart</td>\n",
       "    </tr>\n",
       "    <tr>\n",
       "      <td>359</td>\n",
       "      <td>1359</td>\n",
       "      <td>52</td>\n",
       "      <td>NaN</td>\n",
       "      <td>Москва</td>\n",
       "      <td>Константин</td>\n",
       "      <td>Абашкин</td>\n",
       "      <td>2018-07-27</td>\n",
       "      <td>smart</td>\n",
       "    </tr>\n",
       "    <tr>\n",
       "      <td>420</td>\n",
       "      <td>1420</td>\n",
       "      <td>53</td>\n",
       "      <td>NaN</td>\n",
       "      <td>Сочи</td>\n",
       "      <td>Анатолий</td>\n",
       "      <td>Корольков</td>\n",
       "      <td>2018-09-19</td>\n",
       "      <td>smart</td>\n",
       "    </tr>\n",
       "    <tr>\n",
       "      <td>302</td>\n",
       "      <td>1302</td>\n",
       "      <td>43</td>\n",
       "      <td>NaN</td>\n",
       "      <td>Уфа</td>\n",
       "      <td>Владислав</td>\n",
       "      <td>Абаимов</td>\n",
       "      <td>2018-01-23</td>\n",
       "      <td>smart</td>\n",
       "    </tr>\n",
       "    <tr>\n",
       "      <td>137</td>\n",
       "      <td>1137</td>\n",
       "      <td>64</td>\n",
       "      <td>NaN</td>\n",
       "      <td>Кемерово</td>\n",
       "      <td>Ким</td>\n",
       "      <td>Артёшин</td>\n",
       "      <td>2018-12-02</td>\n",
       "      <td>smart</td>\n",
       "    </tr>\n",
       "    <tr>\n",
       "      <td>460</td>\n",
       "      <td>1460</td>\n",
       "      <td>64</td>\n",
       "      <td>NaN</td>\n",
       "      <td>Ижевск</td>\n",
       "      <td>Арина</td>\n",
       "      <td>Абашкина</td>\n",
       "      <td>2018-04-06</td>\n",
       "      <td>smart</td>\n",
       "    </tr>\n",
       "    <tr>\n",
       "      <td>216</td>\n",
       "      <td>1216</td>\n",
       "      <td>74</td>\n",
       "      <td>NaN</td>\n",
       "      <td>Волгоград</td>\n",
       "      <td>Рустам</td>\n",
       "      <td>Малинин</td>\n",
       "      <td>2018-11-23</td>\n",
       "      <td>smart</td>\n",
       "    </tr>\n",
       "    <tr>\n",
       "      <td>50</td>\n",
       "      <td>1050</td>\n",
       "      <td>44</td>\n",
       "      <td>2018-10-03</td>\n",
       "      <td>Тюмень</td>\n",
       "      <td>Рузана</td>\n",
       "      <td>Аничкина</td>\n",
       "      <td>2018-06-16</td>\n",
       "      <td>ultra</td>\n",
       "    </tr>\n",
       "    <tr>\n",
       "      <td>57</td>\n",
       "      <td>1057</td>\n",
       "      <td>43</td>\n",
       "      <td>NaN</td>\n",
       "      <td>Москва</td>\n",
       "      <td>Динара</td>\n",
       "      <td>Дьячкова</td>\n",
       "      <td>2018-03-12</td>\n",
       "      <td>ultra</td>\n",
       "    </tr>\n",
       "  </tbody>\n",
       "</table>\n",
       "</div>"
      ],
      "text/plain": [
       "     user_id  age  churn_date       city  first_name  last_name    reg_date  \\\n",
       "11      1011   44         NaN     Самара    Веселина     Алёшко  2018-03-19   \n",
       "351     1351   39         NaN     Казань      Анфиса  Вешнякова  2018-11-16   \n",
       "359     1359   52         NaN     Москва  Константин    Абашкин  2018-07-27   \n",
       "420     1420   53         NaN       Сочи    Анатолий  Корольков  2018-09-19   \n",
       "302     1302   43         NaN        Уфа   Владислав    Абаимов  2018-01-23   \n",
       "137     1137   64         NaN   Кемерово         Ким    Артёшин  2018-12-02   \n",
       "460     1460   64         NaN     Ижевск       Арина   Абашкина  2018-04-06   \n",
       "216     1216   74         NaN  Волгоград      Рустам    Малинин  2018-11-23   \n",
       "50      1050   44  2018-10-03     Тюмень      Рузана   Аничкина  2018-06-16   \n",
       "57      1057   43         NaN     Москва      Динара   Дьячкова  2018-03-12   \n",
       "\n",
       "    tariff  \n",
       "11   smart  \n",
       "351  smart  \n",
       "359  smart  \n",
       "420  smart  \n",
       "302  smart  \n",
       "137  smart  \n",
       "460  smart  \n",
       "216  smart  \n",
       "50   ultra  \n",
       "57   ultra  "
      ]
     },
     "execution_count": 8,
     "metadata": {},
     "output_type": "execute_result"
    }
   ],
   "source": [
    "df_users.sample(10)"
   ]
  },
  {
   "cell_type": "markdown",
   "metadata": {},
   "source": [
    "Получим информацию о таблицах"
   ]
  },
  {
   "cell_type": "code",
   "execution_count": 9,
   "metadata": {
    "scrolled": true
   },
   "outputs": [
    {
     "name": "stdout",
     "output_type": "stream",
     "text": [
      "<class 'pandas.core.frame.DataFrame'>\n",
      "RangeIndex: 202607 entries, 0 to 202606\n",
      "Data columns (total 4 columns):\n",
      "id           202607 non-null object\n",
      "call_date    202607 non-null object\n",
      "duration     202607 non-null float64\n",
      "user_id      202607 non-null int64\n",
      "dtypes: float64(1), int64(1), object(2)\n",
      "memory usage: 6.2+ MB\n",
      "----------------------------------------\n",
      "<class 'pandas.core.frame.DataFrame'>\n",
      "RangeIndex: 149396 entries, 0 to 149395\n",
      "Data columns (total 5 columns):\n",
      "Unnamed: 0      149396 non-null int64\n",
      "id              149396 non-null object\n",
      "mb_used         149396 non-null float64\n",
      "session_date    149396 non-null object\n",
      "user_id         149396 non-null int64\n",
      "dtypes: float64(1), int64(2), object(2)\n",
      "memory usage: 5.7+ MB\n",
      "----------------------------------------\n",
      "<class 'pandas.core.frame.DataFrame'>\n",
      "RangeIndex: 123036 entries, 0 to 123035\n",
      "Data columns (total 3 columns):\n",
      "id              123036 non-null object\n",
      "message_date    123036 non-null object\n",
      "user_id         123036 non-null int64\n",
      "dtypes: int64(1), object(2)\n",
      "memory usage: 2.8+ MB\n",
      "----------------------------------------\n",
      "<class 'pandas.core.frame.DataFrame'>\n",
      "RangeIndex: 2 entries, 0 to 1\n",
      "Data columns (total 8 columns):\n",
      "messages_included        2 non-null int64\n",
      "mb_per_month_included    2 non-null int64\n",
      "minutes_included         2 non-null int64\n",
      "rub_monthly_fee          2 non-null int64\n",
      "rub_per_gb               2 non-null int64\n",
      "rub_per_message          2 non-null int64\n",
      "rub_per_minute           2 non-null int64\n",
      "tariff_name              2 non-null object\n",
      "dtypes: int64(7), object(1)\n",
      "memory usage: 256.0+ bytes\n",
      "----------------------------------------\n",
      "<class 'pandas.core.frame.DataFrame'>\n",
      "RangeIndex: 500 entries, 0 to 499\n",
      "Data columns (total 8 columns):\n",
      "user_id       500 non-null int64\n",
      "age           500 non-null int64\n",
      "churn_date    38 non-null object\n",
      "city          500 non-null object\n",
      "first_name    500 non-null object\n",
      "last_name     500 non-null object\n",
      "reg_date      500 non-null object\n",
      "tariff        500 non-null object\n",
      "dtypes: int64(2), object(6)\n",
      "memory usage: 31.4+ KB\n",
      "----------------------------------------\n"
     ]
    }
   ],
   "source": [
    "lst_df = [df_calls, df_internet, df_messages, df_tariffs, df_users]\n",
    "for obj in lst_df:\n",
    "    obj.info()\n",
    "    print('-'*40) "
   ]
  },
  {
   "cell_type": "markdown",
   "metadata": {},
   "source": [
    "<div class=\"alert alert-success\">\n",
    "<b>Комментарий ревьюера:</b>\n",
    "\n",
    "Здорово, что используем цикл `for` для первичного просмотра наших данных.\n",
    "    \n",
    "</div>"
   ]
  },
  {
   "cell_type": "markdown",
   "metadata": {},
   "source": [
    "1. В df_calls нужно изменить тип данных в call_date на дату, а также округлить длительность разговора (duration) в большую сторону для более удобного подсчета и изменения типа данных, поскольку «Мегалайн» всегда округляет вверх значения минут и мегабайтов\n",
    "2. В df_internet удалить неизвестынй столбец Unnamed: 0, округлить объём потраченного за сессию интернет-трафика (mb_used) в большую сторону для более удобного подсчета и изменения типа данных, нужно изменить тип данных в session_date на дату \n",
    "3. В df_messages нужно изменить тип данных в message_date на дату \n",
    "4. В df_users нужно изменить тип данных в churn_date на дату  "
   ]
  },
  {
   "cell_type": "markdown",
   "metadata": {},
   "source": [
    "Проанализируем стат.данные"
   ]
  },
  {
   "cell_type": "code",
   "execution_count": 10,
   "metadata": {},
   "outputs": [
    {
     "data": {
      "text/html": [
       "<div>\n",
       "<style scoped>\n",
       "    .dataframe tbody tr th:only-of-type {\n",
       "        vertical-align: middle;\n",
       "    }\n",
       "\n",
       "    .dataframe tbody tr th {\n",
       "        vertical-align: top;\n",
       "    }\n",
       "\n",
       "    .dataframe thead th {\n",
       "        text-align: right;\n",
       "    }\n",
       "</style>\n",
       "<table border=\"1\" class=\"dataframe\">\n",
       "  <thead>\n",
       "    <tr style=\"text-align: right;\">\n",
       "      <th></th>\n",
       "      <th>duration</th>\n",
       "      <th>user_id</th>\n",
       "    </tr>\n",
       "  </thead>\n",
       "  <tbody>\n",
       "    <tr>\n",
       "      <td>count</td>\n",
       "      <td>202607.000</td>\n",
       "      <td>202607.000</td>\n",
       "    </tr>\n",
       "    <tr>\n",
       "      <td>mean</td>\n",
       "      <td>6.756</td>\n",
       "      <td>1253.941</td>\n",
       "    </tr>\n",
       "    <tr>\n",
       "      <td>std</td>\n",
       "      <td>5.843</td>\n",
       "      <td>144.723</td>\n",
       "    </tr>\n",
       "    <tr>\n",
       "      <td>min</td>\n",
       "      <td>0.000</td>\n",
       "      <td>1000.000</td>\n",
       "    </tr>\n",
       "    <tr>\n",
       "      <td>25%</td>\n",
       "      <td>1.300</td>\n",
       "      <td>1126.000</td>\n",
       "    </tr>\n",
       "    <tr>\n",
       "      <td>50%</td>\n",
       "      <td>6.000</td>\n",
       "      <td>1260.000</td>\n",
       "    </tr>\n",
       "    <tr>\n",
       "      <td>75%</td>\n",
       "      <td>10.700</td>\n",
       "      <td>1379.000</td>\n",
       "    </tr>\n",
       "    <tr>\n",
       "      <td>max</td>\n",
       "      <td>38.000</td>\n",
       "      <td>1499.000</td>\n",
       "    </tr>\n",
       "  </tbody>\n",
       "</table>\n",
       "</div>"
      ],
      "text/plain": [
       "        duration    user_id\n",
       "count 202607.000 202607.000\n",
       "mean       6.756   1253.941\n",
       "std        5.843    144.723\n",
       "min        0.000   1000.000\n",
       "25%        1.300   1126.000\n",
       "50%        6.000   1260.000\n",
       "75%       10.700   1379.000\n",
       "max       38.000   1499.000"
      ]
     },
     "execution_count": 10,
     "metadata": {},
     "output_type": "execute_result"
    }
   ],
   "source": [
    "df_calls.describe()"
   ]
  },
  {
   "cell_type": "code",
   "execution_count": 11,
   "metadata": {},
   "outputs": [
    {
     "data": {
      "text/html": [
       "<div>\n",
       "<style scoped>\n",
       "    .dataframe tbody tr th:only-of-type {\n",
       "        vertical-align: middle;\n",
       "    }\n",
       "\n",
       "    .dataframe tbody tr th {\n",
       "        vertical-align: top;\n",
       "    }\n",
       "\n",
       "    .dataframe thead th {\n",
       "        text-align: right;\n",
       "    }\n",
       "</style>\n",
       "<table border=\"1\" class=\"dataframe\">\n",
       "  <thead>\n",
       "    <tr style=\"text-align: right;\">\n",
       "      <th></th>\n",
       "      <th>Unnamed: 0</th>\n",
       "      <th>mb_used</th>\n",
       "      <th>user_id</th>\n",
       "    </tr>\n",
       "  </thead>\n",
       "  <tbody>\n",
       "    <tr>\n",
       "      <td>count</td>\n",
       "      <td>149396.000</td>\n",
       "      <td>149396.000</td>\n",
       "      <td>149396.000</td>\n",
       "    </tr>\n",
       "    <tr>\n",
       "      <td>mean</td>\n",
       "      <td>74697.500</td>\n",
       "      <td>370.192</td>\n",
       "      <td>1252.100</td>\n",
       "    </tr>\n",
       "    <tr>\n",
       "      <td>std</td>\n",
       "      <td>43127.055</td>\n",
       "      <td>278.301</td>\n",
       "      <td>144.051</td>\n",
       "    </tr>\n",
       "    <tr>\n",
       "      <td>min</td>\n",
       "      <td>0.000</td>\n",
       "      <td>0.000</td>\n",
       "      <td>1000.000</td>\n",
       "    </tr>\n",
       "    <tr>\n",
       "      <td>25%</td>\n",
       "      <td>37348.750</td>\n",
       "      <td>138.188</td>\n",
       "      <td>1130.000</td>\n",
       "    </tr>\n",
       "    <tr>\n",
       "      <td>50%</td>\n",
       "      <td>74697.500</td>\n",
       "      <td>348.015</td>\n",
       "      <td>1251.000</td>\n",
       "    </tr>\n",
       "    <tr>\n",
       "      <td>75%</td>\n",
       "      <td>112046.250</td>\n",
       "      <td>559.553</td>\n",
       "      <td>1380.000</td>\n",
       "    </tr>\n",
       "    <tr>\n",
       "      <td>max</td>\n",
       "      <td>149395.000</td>\n",
       "      <td>1724.830</td>\n",
       "      <td>1499.000</td>\n",
       "    </tr>\n",
       "  </tbody>\n",
       "</table>\n",
       "</div>"
      ],
      "text/plain": [
       "       Unnamed: 0    mb_used    user_id\n",
       "count  149396.000 149396.000 149396.000\n",
       "mean    74697.500    370.192   1252.100\n",
       "std     43127.055    278.301    144.051\n",
       "min         0.000      0.000   1000.000\n",
       "25%     37348.750    138.188   1130.000\n",
       "50%     74697.500    348.015   1251.000\n",
       "75%    112046.250    559.553   1380.000\n",
       "max    149395.000   1724.830   1499.000"
      ]
     },
     "execution_count": 11,
     "metadata": {},
     "output_type": "execute_result"
    }
   ],
   "source": [
    "df_internet.describe() "
   ]
  },
  {
   "cell_type": "code",
   "execution_count": 12,
   "metadata": {},
   "outputs": [
    {
     "data": {
      "text/html": [
       "<div>\n",
       "<style scoped>\n",
       "    .dataframe tbody tr th:only-of-type {\n",
       "        vertical-align: middle;\n",
       "    }\n",
       "\n",
       "    .dataframe tbody tr th {\n",
       "        vertical-align: top;\n",
       "    }\n",
       "\n",
       "    .dataframe thead th {\n",
       "        text-align: right;\n",
       "    }\n",
       "</style>\n",
       "<table border=\"1\" class=\"dataframe\">\n",
       "  <thead>\n",
       "    <tr style=\"text-align: right;\">\n",
       "      <th></th>\n",
       "      <th>user_id</th>\n",
       "      <th>age</th>\n",
       "    </tr>\n",
       "  </thead>\n",
       "  <tbody>\n",
       "    <tr>\n",
       "      <td>count</td>\n",
       "      <td>500.000</td>\n",
       "      <td>500.000</td>\n",
       "    </tr>\n",
       "    <tr>\n",
       "      <td>mean</td>\n",
       "      <td>1249.500</td>\n",
       "      <td>46.588</td>\n",
       "    </tr>\n",
       "    <tr>\n",
       "      <td>std</td>\n",
       "      <td>144.482</td>\n",
       "      <td>16.668</td>\n",
       "    </tr>\n",
       "    <tr>\n",
       "      <td>min</td>\n",
       "      <td>1000.000</td>\n",
       "      <td>18.000</td>\n",
       "    </tr>\n",
       "    <tr>\n",
       "      <td>25%</td>\n",
       "      <td>1124.750</td>\n",
       "      <td>32.000</td>\n",
       "    </tr>\n",
       "    <tr>\n",
       "      <td>50%</td>\n",
       "      <td>1249.500</td>\n",
       "      <td>46.000</td>\n",
       "    </tr>\n",
       "    <tr>\n",
       "      <td>75%</td>\n",
       "      <td>1374.250</td>\n",
       "      <td>62.000</td>\n",
       "    </tr>\n",
       "    <tr>\n",
       "      <td>max</td>\n",
       "      <td>1499.000</td>\n",
       "      <td>75.000</td>\n",
       "    </tr>\n",
       "  </tbody>\n",
       "</table>\n",
       "</div>"
      ],
      "text/plain": [
       "       user_id     age\n",
       "count  500.000 500.000\n",
       "mean  1249.500  46.588\n",
       "std    144.482  16.668\n",
       "min   1000.000  18.000\n",
       "25%   1124.750  32.000\n",
       "50%   1249.500  46.000\n",
       "75%   1374.250  62.000\n",
       "max   1499.000  75.000"
      ]
     },
     "execution_count": 12,
     "metadata": {},
     "output_type": "execute_result"
    }
   ],
   "source": [
    "df_users.describe()"
   ]
  },
  {
   "cell_type": "markdown",
   "metadata": {},
   "source": [
    "В большинстве случаев mean приблизительно равен median, что говорит об незначительных выбросах "
   ]
  },
  {
   "cell_type": "markdown",
   "metadata": {},
   "source": [
    "Узнаем, присутсвуют ли дублированные записи"
   ]
  },
  {
   "cell_type": "code",
   "execution_count": 13,
   "metadata": {
    "scrolled": true
   },
   "outputs": [
    {
     "data": {
      "text/plain": [
       "0"
      ]
     },
     "execution_count": 13,
     "metadata": {},
     "output_type": "execute_result"
    }
   ],
   "source": [
    "df_calls.duplicated().sum()"
   ]
  },
  {
   "cell_type": "code",
   "execution_count": 14,
   "metadata": {},
   "outputs": [
    {
     "data": {
      "text/plain": [
       "0"
      ]
     },
     "execution_count": 14,
     "metadata": {},
     "output_type": "execute_result"
    }
   ],
   "source": [
    "df_internet.duplicated().sum()"
   ]
  },
  {
   "cell_type": "code",
   "execution_count": 15,
   "metadata": {},
   "outputs": [
    {
     "data": {
      "text/plain": [
       "0"
      ]
     },
     "execution_count": 15,
     "metadata": {},
     "output_type": "execute_result"
    }
   ],
   "source": [
    "df_messages.duplicated().sum()"
   ]
  },
  {
   "cell_type": "code",
   "execution_count": 16,
   "metadata": {},
   "outputs": [
    {
     "data": {
      "text/plain": [
       "0"
      ]
     },
     "execution_count": 16,
     "metadata": {},
     "output_type": "execute_result"
    }
   ],
   "source": [
    "df_users.duplicated().sum()"
   ]
  },
  {
   "cell_type": "markdown",
   "metadata": {},
   "source": [
    "Узнаем, присутсвуют ли пропущенные записи"
   ]
  },
  {
   "cell_type": "code",
   "execution_count": 17,
   "metadata": {
    "scrolled": true
   },
   "outputs": [
    {
     "data": {
      "text/plain": [
       "id           0\n",
       "call_date    0\n",
       "duration     0\n",
       "user_id      0\n",
       "dtype: int64"
      ]
     },
     "execution_count": 17,
     "metadata": {},
     "output_type": "execute_result"
    }
   ],
   "source": [
    "df_calls.isna().sum()"
   ]
  },
  {
   "cell_type": "code",
   "execution_count": 18,
   "metadata": {},
   "outputs": [
    {
     "data": {
      "text/plain": [
       "Unnamed: 0      0\n",
       "id              0\n",
       "mb_used         0\n",
       "session_date    0\n",
       "user_id         0\n",
       "dtype: int64"
      ]
     },
     "execution_count": 18,
     "metadata": {},
     "output_type": "execute_result"
    }
   ],
   "source": [
    "df_internet.isna().sum()"
   ]
  },
  {
   "cell_type": "code",
   "execution_count": 19,
   "metadata": {},
   "outputs": [
    {
     "data": {
      "text/plain": [
       "id              0\n",
       "message_date    0\n",
       "user_id         0\n",
       "dtype: int64"
      ]
     },
     "execution_count": 19,
     "metadata": {},
     "output_type": "execute_result"
    }
   ],
   "source": [
    "df_messages.isna().sum()"
   ]
  },
  {
   "cell_type": "code",
   "execution_count": 20,
   "metadata": {},
   "outputs": [
    {
     "data": {
      "text/plain": [
       "user_id         0\n",
       "age             0\n",
       "churn_date    462\n",
       "city            0\n",
       "first_name      0\n",
       "last_name       0\n",
       "reg_date        0\n",
       "tariff          0\n",
       "dtype: int64"
      ]
     },
     "execution_count": 20,
     "metadata": {},
     "output_type": "execute_result"
    }
   ],
   "source": [
    "df_users.isna().sum()"
   ]
  },
  {
   "cell_type": "markdown",
   "metadata": {},
   "source": [
    "Пропущены значения только в churn_date, как уточнялось, если значение пропущено, то тариф ещё действовал на момент выгрузки данных"
   ]
  },
  {
   "cell_type": "markdown",
   "metadata": {},
   "source": [
    "Построим диаграмму размаха для понимания расположения данных и для ознакомления с выбросами"
   ]
  },
  {
   "cell_type": "code",
   "execution_count": 21,
   "metadata": {},
   "outputs": [
    {
     "data": {
      "text/plain": [
       "<matplotlib.axes._subplots.AxesSubplot at 0x7ff913c43dd0>"
      ]
     },
     "execution_count": 21,
     "metadata": {},
     "output_type": "execute_result"
    },
    {
     "data": {
      "image/png": "[encoded data removed]",
      "text/plain": [
       "<Figure size 1152x576 with 1 Axes>"
      ]
     },
     "metadata": {
      "needs_background": "light"
     },
     "output_type": "display_data"
    }
   ],
   "source": [
    "df_calls.boxplot('duration', figsize=(16, 8))"
   ]
  },
  {
   "cell_type": "markdown",
   "metadata": {},
   "source": [
    "Здесь датасет немного скошен влево, и заметны выбросы"
   ]
  },
  {
   "cell_type": "code",
   "execution_count": 22,
   "metadata": {},
   "outputs": [
    {
     "data": {
      "text/plain": [
       "<matplotlib.axes._subplots.AxesSubplot at 0x7ff918235290>"
      ]
     },
     "execution_count": 22,
     "metadata": {},
     "output_type": "execute_result"
    },
    {
     "data": {
      "image/png": "[encoded data removed]",
      "text/plain": [
       "<Figure size 1152x576 with 1 Axes>"
      ]
     },
     "metadata": {
      "needs_background": "light"
     },
     "output_type": "display_data"
    }
   ],
   "source": [
    "df_internet.boxplot('mb_used', figsize=(16, 8))"
   ]
  },
  {
   "cell_type": "markdown",
   "metadata": {},
   "source": [
    "Здесь аналогичная ситуация"
   ]
  },
  {
   "cell_type": "markdown",
   "metadata": {},
   "source": [
    "Для других построить boxplot нельзя"
   ]
  },
  {
   "cell_type": "markdown",
   "metadata": {},
   "source": [
    "Теперь построим гистограммы для определения границ и обозначим mean и median для наглядности"
   ]
  },
  {
   "cell_type": "code",
   "execution_count": 23,
   "metadata": {},
   "outputs": [
    {
     "data": {
      "text/plain": [
       "<matplotlib.legend.Legend at 0x7ff915570650>"
      ]
     },
     "execution_count": 23,
     "metadata": {},
     "output_type": "execute_result"
    },
    {
     "data": {
      "image/png": "[encoded data removed]",
      "text/plain": [
       "<Figure size 432x288 with 1 Axes>"
      ]
     },
     "metadata": {
      "needs_background": "light"
     },
     "output_type": "display_data"
    }
   ],
   "source": [
    "df_internet['mb_used'].hist()\n",
    "plt.vlines(x=df_internet['mb_used'].median(), ymin=0, ymax=80000, label='median', colors='red')\n",
    "plt.vlines(x=df_internet['mb_used'].mean(), ymin=0, ymax=80000, label='mean', colors='green')\n",
    "plt.legend() "
   ]
  },
  {
   "cell_type": "markdown",
   "metadata": {},
   "source": [
    "<div class=\"alert alert-warning\">\n",
    "<b>Комментарий ревьюера:</b>\n",
    "\n",
    "Не забывай пожалуйста подписывать каждый график.\n",
    "    \n",
    "Это важный момент всего проекта, так быстрее понять о чем идёт речь на графике.\n",
    "    \n",
    "</div>"
   ]
  },
  {
   "cell_type": "code",
   "execution_count": 24,
   "metadata": {},
   "outputs": [
    {
     "data": {
      "text/plain": [
       "<matplotlib.legend.Legend at 0x7ff911ab60d0>"
      ]
     },
     "execution_count": 24,
     "metadata": {},
     "output_type": "execute_result"
    },
    {
     "data": {
      "image/png": "[encoded data removed]",
      "text/plain": [
       "<Figure size 432x288 with 1 Axes>"
      ]
     },
     "metadata": {
      "needs_background": "light"
     },
     "output_type": "display_data"
    }
   ],
   "source": [
    "df_calls['duration'].hist()\n",
    "plt.vlines(x=df_calls['duration'].median(), ymin=0, ymax=80000, label='median', colors='red')\n",
    "plt.vlines(x=df_calls['duration'].mean(), ymin=0, ymax=80000, label='mean', colors='green')\n",
    "plt.legend() "
   ]
  },
  {
   "cell_type": "markdown",
   "metadata": {},
   "source": [
    "Перед слиянием в один df необходимо сгруппировать фреймы и подсчитать необходимую информацию, что будет сделано в следующем этапе"
   ]
  },
  {
   "cell_type": "markdown",
   "metadata": {},
   "source": [
    "###  Вывод\n",
    "<a id=\"conclusion1\"></a>\n",
    "1. Перед слиянием в один df необходимо сгруппировать фреймы и подсчитать необходимую информацию.\n",
    "2. Нужно изменить тип данных в df_calls в call_date, в df_messages в message_date, в df_users в churn_date и в df_internet в session_date на дату.\n",
    "3. В df_internet удалить неизвестный столбец Unnamed: 0.\n",
    "4. Округлить объём потраченного за сессию интернет-трафика (mb_used), длительность разговора (duration) в большую сторону для более удобного подсчета и изменения типа данных.\n",
    "5. Заполнить пропуски в churn_date\n",
    "6. Отсутсвуют дублированные записи в таблицах, а также пропущенные во всех кроме df_users."
   ]
  },
  {
   "cell_type": "markdown",
   "metadata": {},
   "source": [
    "<div class=\"alert alert-success\">\n",
    "<b>Комментарий ревьюера:</b>\n",
    "\n",
    "Достаточно детально изучили наши первичные данные, давай теперь их обработаем. \n",
    "    \n",
    "В том числе можно было бы сделать функцию для проверки наших первичных данных: \n",
    "    \n",
    "- info\n",
    "- head\n",
    "- describe\n",
    "- и так далее \n",
    "    \n",
    "</div>"
   ]
  },
  {
   "cell_type": "markdown",
   "metadata": {},
   "source": [
    "## Предобработка данных\n",
    "<a id=\"preprocessing\"></a> "
   ]
  },
  {
   "cell_type": "markdown",
   "metadata": {},
   "source": [
    "Исправим возникшие ошибки и Посчитаем для каждого пользователя:\n",
    "\n",
    "    1. количество сделанных звонков и израсходованных минут разговора по месяцам;\n",
    "    2. количество отправленных сообщений по месяцам;\n",
    "    3. объем израсходованного интернет-трафика по месяцам;\n",
    "    4. помесячную выручку с каждого пользователя (вычтите бесплатный лимит из суммарного количества звонков, сообщений и интернет-трафика;остаток умножьте на значение из тарифного плана; прибавьте абонентскую плату, соответствующую тарифному плану)."
   ]
  },
  {
   "cell_type": "markdown",
   "metadata": {},
   "source": [
    "Как сообщалось в задании - длительность многих звонков — 0.0 минут. Это могут быть пропущенные звонки. Нужно решить, обрабатывать ли эти нулевые значения, как их отсутствие повлияет на результаты анализа."
   ]
  },
  {
   "cell_type": "code",
   "execution_count": 25,
   "metadata": {},
   "outputs": [
    {
     "data": {
      "text/plain": [
       "19.551644316336553"
      ]
     },
     "execution_count": 25,
     "metadata": {},
     "output_type": "execute_result"
    }
   ],
   "source": [
    "len(df_calls.query('duration == 0')) / len(df_calls['duration']) * 100"
   ]
  },
  {
   "cell_type": "markdown",
   "metadata": {},
   "source": [
    "<div class=\"alert alert-success\">\n",
    "<b>Комментарий ревьюера:</b>\n",
    "\n",
    "Отличный способ посчитать необходимую долю значений.\n",
    "\n",
    "</div>"
   ]
  },
  {
   "cell_type": "markdown",
   "metadata": {},
   "source": [
    "19.5% данных это достаточно много, эти значения удалять нельзя, оставим их и заменим на 1, поскольку звонок нулевой длины, это по факту состоявшееся соединение, которое тут же прервалось и платят за него, как за одну минуту разговора."
   ]
  },
  {
   "cell_type": "code",
   "execution_count": 26,
   "metadata": {},
   "outputs": [],
   "source": [
    "df_calls.loc[df_calls['duration'] == 0, 'duration'] = 1"
   ]
  },
  {
   "cell_type": "markdown",
   "metadata": {},
   "source": [
    "1. Изменим тип данных на Date"
   ]
  },
  {
   "cell_type": "code",
   "execution_count": 27,
   "metadata": {},
   "outputs": [],
   "source": [
    "date_format = '%Y-%m-%d'\n",
    "df_calls['call_date'] = pd.to_datetime(df_calls['call_date'], format=date_format)\n",
    "df_messages['message_date'] = pd.to_datetime(df_messages['message_date'], format=date_format)\n",
    "df_users['reg_date'] = pd.to_datetime(df_users['reg_date'], format=date_format)\n",
    "df_users['churn_date'] = pd.to_datetime(df_users['churn_date'], format=date_format)\n",
    "df_internet['session_date'] = pd.to_datetime(df_internet['session_date'], format=date_format)"
   ]
  },
  {
   "cell_type": "markdown",
   "metadata": {},
   "source": [
    "2. В df_internet удалим неизвестный столбец Unnamed: 0."
   ]
  },
  {
   "cell_type": "code",
   "execution_count": 28,
   "metadata": {},
   "outputs": [],
   "source": [
    "try:\n",
    "    df_internet = df_internet.drop('Unnamed: 0', 1)\n",
    "except:\n",
    "    print('Уже удален')"
   ]
  },
  {
   "cell_type": "markdown",
   "metadata": {},
   "source": [
    "3. Сгруппируем данные"
   ]
  },
  {
   "cell_type": "markdown",
   "metadata": {},
   "source": [
    "Перед этим добавим новый столбец с месяцами для расчетов"
   ]
  },
  {
   "cell_type": "code",
   "execution_count": 29,
   "metadata": {},
   "outputs": [],
   "source": [
    "df_internet['month'] = df_internet['session_date'].dt.month\n",
    "df_calls['month'] = df_calls['call_date'].dt.month\n",
    "df_messages['month'] = df_messages['message_date'].dt.month"
   ]
  },
  {
   "cell_type": "markdown",
   "metadata": {},
   "source": [
    "<div class=\"alert alert-warning\">\n",
    "<b>Комментарий ревьюера:</b>\n",
    "\n",
    "Лучше всего использовать месяцы в формате дат, например `yyyy-mm-dd` (2020-01-01), потому что в наших данных может быть несколько временных периодов и эти периоды будут тогда помещены в одну группу, при методе выше.\n",
    "    \n",
    "</div>"
   ]
  },
  {
   "cell_type": "markdown",
   "metadata": {},
   "source": [
    "Посчитаем объем израсходованного интернет-трафика по месяцам"
   ]
  },
  {
   "cell_type": "code",
   "execution_count": 30,
   "metadata": {},
   "outputs": [
    {
     "data": {
      "text/html": [
       "<div>\n",
       "<style scoped>\n",
       "    .dataframe tbody tr th:only-of-type {\n",
       "        vertical-align: middle;\n",
       "    }\n",
       "\n",
       "    .dataframe tbody tr th {\n",
       "        vertical-align: top;\n",
       "    }\n",
       "\n",
       "    .dataframe thead th {\n",
       "        text-align: right;\n",
       "    }\n",
       "</style>\n",
       "<table border=\"1\" class=\"dataframe\">\n",
       "  <thead>\n",
       "    <tr style=\"text-align: right;\">\n",
       "      <th></th>\n",
       "      <th>user_id</th>\n",
       "      <th>month</th>\n",
       "      <th>mb_used</th>\n",
       "    </tr>\n",
       "  </thead>\n",
       "  <tbody>\n",
       "    <tr>\n",
       "      <td>1512</td>\n",
       "      <td>1239</td>\n",
       "      <td>7</td>\n",
       "      <td>14104.530</td>\n",
       "    </tr>\n",
       "    <tr>\n",
       "      <td>1845</td>\n",
       "      <td>1292</td>\n",
       "      <td>5</td>\n",
       "      <td>28731.290</td>\n",
       "    </tr>\n",
       "    <tr>\n",
       "      <td>2311</td>\n",
       "      <td>1368</td>\n",
       "      <td>12</td>\n",
       "      <td>20475.850</td>\n",
       "    </tr>\n",
       "    <tr>\n",
       "      <td>3035</td>\n",
       "      <td>1473</td>\n",
       "      <td>9</td>\n",
       "      <td>17289.850</td>\n",
       "    </tr>\n",
       "    <tr>\n",
       "      <td>647</td>\n",
       "      <td>1101</td>\n",
       "      <td>12</td>\n",
       "      <td>8335.670</td>\n",
       "    </tr>\n",
       "    <tr>\n",
       "      <td>795</td>\n",
       "      <td>1123</td>\n",
       "      <td>10</td>\n",
       "      <td>18245.450</td>\n",
       "    </tr>\n",
       "    <tr>\n",
       "      <td>2824</td>\n",
       "      <td>1439</td>\n",
       "      <td>8</td>\n",
       "      <td>22740.500</td>\n",
       "    </tr>\n",
       "    <tr>\n",
       "      <td>2731</td>\n",
       "      <td>1427</td>\n",
       "      <td>4</td>\n",
       "      <td>13259.690</td>\n",
       "    </tr>\n",
       "    <tr>\n",
       "      <td>848</td>\n",
       "      <td>1134</td>\n",
       "      <td>4</td>\n",
       "      <td>17249.410</td>\n",
       "    </tr>\n",
       "    <tr>\n",
       "      <td>2629</td>\n",
       "      <td>1411</td>\n",
       "      <td>11</td>\n",
       "      <td>16051.490</td>\n",
       "    </tr>\n",
       "  </tbody>\n",
       "</table>\n",
       "</div>"
      ],
      "text/plain": [
       "      user_id  month   mb_used\n",
       "1512     1239      7 14104.530\n",
       "1845     1292      5 28731.290\n",
       "2311     1368     12 20475.850\n",
       "3035     1473      9 17289.850\n",
       "647      1101     12  8335.670\n",
       "795      1123     10 18245.450\n",
       "2824     1439      8 22740.500\n",
       "2731     1427      4 13259.690\n",
       "848      1134      4 17249.410\n",
       "2629     1411     11 16051.490"
      ]
     },
     "execution_count": 30,
     "metadata": {},
     "output_type": "execute_result"
    }
   ],
   "source": [
    "df_i_gr = df_internet.pivot_table(index=['user_id','month'], \n",
    "                                  values='mb_used', aggfunc=['sum']).reset_index()\n",
    "df_i_gr.columns = [item[0] for item in df_i_gr.columns]\n",
    "df_i_gr.columns = ['user_id', 'month', 'mb_used']\n",
    "df_i_gr.sample(10)"
   ]
  },
  {
   "cell_type": "markdown",
   "metadata": {},
   "source": [
    "<div class=\"alert alert-success\">\n",
    "<b>Комментарий ревьюера:</b>\n",
    "\n",
    "С группировкой данных разобрались, супер.\n",
    "    \n",
    "Этот инструмент мы будем использовать достаточно часто в нашей практике.\n",
    "    \n",
    "</div>"
   ]
  },
  {
   "cell_type": "markdown",
   "metadata": {},
   "source": [
    "Переведем mb в gb для округления "
   ]
  },
  {
   "cell_type": "code",
   "execution_count": 31,
   "metadata": {},
   "outputs": [],
   "source": [
    "df_i_gr['gb_used'] = df_i_gr['mb_used'] / 1024\n",
    "try:\n",
    "    df_i_gr = df_i_gr.drop('mb_used', 1)\n",
    "except:\n",
    "    print('Уже удален')"
   ]
  },
  {
   "cell_type": "code",
   "execution_count": 32,
   "metadata": {},
   "outputs": [
    {
     "data": {
      "text/html": [
       "<div>\n",
       "<style scoped>\n",
       "    .dataframe tbody tr th:only-of-type {\n",
       "        vertical-align: middle;\n",
       "    }\n",
       "\n",
       "    .dataframe tbody tr th {\n",
       "        vertical-align: top;\n",
       "    }\n",
       "\n",
       "    .dataframe thead th {\n",
       "        text-align: right;\n",
       "    }\n",
       "</style>\n",
       "<table border=\"1\" class=\"dataframe\">\n",
       "  <thead>\n",
       "    <tr style=\"text-align: right;\">\n",
       "      <th></th>\n",
       "      <th>user_id</th>\n",
       "      <th>month</th>\n",
       "      <th>gb_used</th>\n",
       "    </tr>\n",
       "  </thead>\n",
       "  <tbody>\n",
       "    <tr>\n",
       "      <td>1222</td>\n",
       "      <td>1189</td>\n",
       "      <td>5</td>\n",
       "      <td>18.025</td>\n",
       "    </tr>\n",
       "    <tr>\n",
       "      <td>2528</td>\n",
       "      <td>1395</td>\n",
       "      <td>8</td>\n",
       "      <td>16.416</td>\n",
       "    </tr>\n",
       "    <tr>\n",
       "      <td>488</td>\n",
       "      <td>1078</td>\n",
       "      <td>7</td>\n",
       "      <td>21.907</td>\n",
       "    </tr>\n",
       "    <tr>\n",
       "      <td>64</td>\n",
       "      <td>1009</td>\n",
       "      <td>4</td>\n",
       "      <td>14.364</td>\n",
       "    </tr>\n",
       "    <tr>\n",
       "      <td>625</td>\n",
       "      <td>1099</td>\n",
       "      <td>4</td>\n",
       "      <td>10.639</td>\n",
       "    </tr>\n",
       "    <tr>\n",
       "      <td>2231</td>\n",
       "      <td>1355</td>\n",
       "      <td>9</td>\n",
       "      <td>15.593</td>\n",
       "    </tr>\n",
       "    <tr>\n",
       "      <td>2019</td>\n",
       "      <td>1320</td>\n",
       "      <td>10</td>\n",
       "      <td>13.063</td>\n",
       "    </tr>\n",
       "    <tr>\n",
       "      <td>3033</td>\n",
       "      <td>1472</td>\n",
       "      <td>12</td>\n",
       "      <td>18.518</td>\n",
       "    </tr>\n",
       "    <tr>\n",
       "      <td>723</td>\n",
       "      <td>1113</td>\n",
       "      <td>11</td>\n",
       "      <td>14.034</td>\n",
       "    </tr>\n",
       "    <tr>\n",
       "      <td>176</td>\n",
       "      <td>1027</td>\n",
       "      <td>6</td>\n",
       "      <td>14.331</td>\n",
       "    </tr>\n",
       "  </tbody>\n",
       "</table>\n",
       "</div>"
      ],
      "text/plain": [
       "      user_id  month  gb_used\n",
       "1222     1189      5   18.025\n",
       "2528     1395      8   16.416\n",
       "488      1078      7   21.907\n",
       "64       1009      4   14.364\n",
       "625      1099      4   10.639\n",
       "2231     1355      9   15.593\n",
       "2019     1320     10   13.063\n",
       "3033     1472     12   18.518\n",
       "723      1113     11   14.034\n",
       "176      1027      6   14.331"
      ]
     },
     "execution_count": 32,
     "metadata": {},
     "output_type": "execute_result"
    }
   ],
   "source": [
    "df_i_gr.sample(10)"
   ]
  },
  {
   "cell_type": "code",
   "execution_count": 33,
   "metadata": {},
   "outputs": [
    {
     "data": {
      "text/plain": [
       "user_id    0\n",
       "month      0\n",
       "gb_used    0\n",
       "dtype: int64"
      ]
     },
     "execution_count": 33,
     "metadata": {},
     "output_type": "execute_result"
    }
   ],
   "source": [
    "df_i_gr.isna().sum()"
   ]
  },
  {
   "cell_type": "markdown",
   "metadata": {},
   "source": [
    "Посчитаем количество израсходованных минут разговора по месяцам"
   ]
  },
  {
   "cell_type": "code",
   "execution_count": 34,
   "metadata": {},
   "outputs": [
    {
     "data": {
      "text/html": [
       "<div>\n",
       "<style scoped>\n",
       "    .dataframe tbody tr th:only-of-type {\n",
       "        vertical-align: middle;\n",
       "    }\n",
       "\n",
       "    .dataframe tbody tr th {\n",
       "        vertical-align: top;\n",
       "    }\n",
       "\n",
       "    .dataframe thead th {\n",
       "        text-align: right;\n",
       "    }\n",
       "</style>\n",
       "<table border=\"1\" class=\"dataframe\">\n",
       "  <thead>\n",
       "    <tr style=\"text-align: right;\">\n",
       "      <th></th>\n",
       "      <th>user_id</th>\n",
       "      <th>month</th>\n",
       "      <th>duration</th>\n",
       "    </tr>\n",
       "  </thead>\n",
       "  <tbody>\n",
       "    <tr>\n",
       "      <td>247</td>\n",
       "      <td>1039</td>\n",
       "      <td>10</td>\n",
       "      <td>555.850</td>\n",
       "    </tr>\n",
       "    <tr>\n",
       "      <td>2148</td>\n",
       "      <td>1342</td>\n",
       "      <td>12</td>\n",
       "      <td>592.400</td>\n",
       "    </tr>\n",
       "    <tr>\n",
       "      <td>2617</td>\n",
       "      <td>1412</td>\n",
       "      <td>11</td>\n",
       "      <td>627.520</td>\n",
       "    </tr>\n",
       "    <tr>\n",
       "      <td>3139</td>\n",
       "      <td>1493</td>\n",
       "      <td>11</td>\n",
       "      <td>169.770</td>\n",
       "    </tr>\n",
       "    <tr>\n",
       "      <td>1318</td>\n",
       "      <td>1208</td>\n",
       "      <td>11</td>\n",
       "      <td>543.770</td>\n",
       "    </tr>\n",
       "    <tr>\n",
       "      <td>2665</td>\n",
       "      <td>1421</td>\n",
       "      <td>3</td>\n",
       "      <td>273.600</td>\n",
       "    </tr>\n",
       "    <tr>\n",
       "      <td>2317</td>\n",
       "      <td>1372</td>\n",
       "      <td>12</td>\n",
       "      <td>493.930</td>\n",
       "    </tr>\n",
       "    <tr>\n",
       "      <td>2652</td>\n",
       "      <td>1418</td>\n",
       "      <td>11</td>\n",
       "      <td>397.480</td>\n",
       "    </tr>\n",
       "    <tr>\n",
       "      <td>1196</td>\n",
       "      <td>1188</td>\n",
       "      <td>8</td>\n",
       "      <td>34.580</td>\n",
       "    </tr>\n",
       "    <tr>\n",
       "      <td>1463</td>\n",
       "      <td>1233</td>\n",
       "      <td>9</td>\n",
       "      <td>640.630</td>\n",
       "    </tr>\n",
       "  </tbody>\n",
       "</table>\n",
       "</div>"
      ],
      "text/plain": [
       "      user_id  month  duration\n",
       "247      1039     10   555.850\n",
       "2148     1342     12   592.400\n",
       "2617     1412     11   627.520\n",
       "3139     1493     11   169.770\n",
       "1318     1208     11   543.770\n",
       "2665     1421      3   273.600\n",
       "2317     1372     12   493.930\n",
       "2652     1418     11   397.480\n",
       "1196     1188      8    34.580\n",
       "1463     1233      9   640.630"
      ]
     },
     "execution_count": 34,
     "metadata": {},
     "output_type": "execute_result"
    }
   ],
   "source": [
    "df_c_gr = df_calls.pivot_table(index=['user_id','month'], \n",
    "                                  values='duration', aggfunc=['sum']).reset_index()\n",
    "df_c_gr.columns = [item[0] for item in df_c_gr.columns]\n",
    "df_c_gr.columns = ['user_id', 'month', 'duration']\n",
    "df_c_gr.sample(10)"
   ]
  },
  {
   "cell_type": "markdown",
   "metadata": {},
   "source": [
    "Посчитаем количество сделанных звонков по месяцам;"
   ]
  },
  {
   "cell_type": "code",
   "execution_count": 35,
   "metadata": {},
   "outputs": [],
   "source": [
    "df_c_gr1 = df_calls.pivot_table(index=['user_id','month'], \n",
    "                                  values='id', aggfunc=['count']).reset_index()\n",
    "df_c_gr1.columns = [item[0] for item in df_c_gr1.columns]\n",
    "df_c_gr1.columns = ['user_id', 'month', 'calls']"
   ]
  },
  {
   "cell_type": "code",
   "execution_count": 36,
   "metadata": {},
   "outputs": [
    {
     "data": {
      "text/plain": [
       "user_id     0\n",
       "month       0\n",
       "duration    0\n",
       "dtype: int64"
      ]
     },
     "execution_count": 36,
     "metadata": {},
     "output_type": "execute_result"
    }
   ],
   "source": [
    "df_c_gr.isna().sum()"
   ]
  },
  {
   "cell_type": "code",
   "execution_count": 37,
   "metadata": {},
   "outputs": [
    {
     "data": {
      "text/plain": [
       "user_id    0\n",
       "month      0\n",
       "calls      0\n",
       "dtype: int64"
      ]
     },
     "execution_count": 37,
     "metadata": {},
     "output_type": "execute_result"
    }
   ],
   "source": [
    "df_c_gr1.isna().sum()"
   ]
  },
  {
   "cell_type": "markdown",
   "metadata": {},
   "source": [
    "Посчитаем количество отправленных сообщений по месяцам;"
   ]
  },
  {
   "cell_type": "code",
   "execution_count": 38,
   "metadata": {},
   "outputs": [
    {
     "data": {
      "text/html": [
       "<div>\n",
       "<style scoped>\n",
       "    .dataframe tbody tr th:only-of-type {\n",
       "        vertical-align: middle;\n",
       "    }\n",
       "\n",
       "    .dataframe tbody tr th {\n",
       "        vertical-align: top;\n",
       "    }\n",
       "\n",
       "    .dataframe thead th {\n",
       "        text-align: right;\n",
       "    }\n",
       "</style>\n",
       "<table border=\"1\" class=\"dataframe\">\n",
       "  <thead>\n",
       "    <tr style=\"text-align: right;\">\n",
       "      <th></th>\n",
       "      <th>user_id</th>\n",
       "      <th>month</th>\n",
       "      <th>messages</th>\n",
       "    </tr>\n",
       "  </thead>\n",
       "  <tbody>\n",
       "    <tr>\n",
       "      <td>1852</td>\n",
       "      <td>1353</td>\n",
       "      <td>9</td>\n",
       "      <td>50</td>\n",
       "    </tr>\n",
       "    <tr>\n",
       "      <td>2155</td>\n",
       "      <td>1402</td>\n",
       "      <td>8</td>\n",
       "      <td>36</td>\n",
       "    </tr>\n",
       "    <tr>\n",
       "      <td>261</td>\n",
       "      <td>1050</td>\n",
       "      <td>6</td>\n",
       "      <td>25</td>\n",
       "    </tr>\n",
       "    <tr>\n",
       "      <td>233</td>\n",
       "      <td>1044</td>\n",
       "      <td>10</td>\n",
       "      <td>16</td>\n",
       "    </tr>\n",
       "    <tr>\n",
       "      <td>1888</td>\n",
       "      <td>1358</td>\n",
       "      <td>12</td>\n",
       "      <td>57</td>\n",
       "    </tr>\n",
       "    <tr>\n",
       "      <td>2440</td>\n",
       "      <td>1453</td>\n",
       "      <td>7</td>\n",
       "      <td>74</td>\n",
       "    </tr>\n",
       "    <tr>\n",
       "      <td>163</td>\n",
       "      <td>1030</td>\n",
       "      <td>7</td>\n",
       "      <td>101</td>\n",
       "    </tr>\n",
       "    <tr>\n",
       "      <td>791</td>\n",
       "      <td>1148</td>\n",
       "      <td>12</td>\n",
       "      <td>12</td>\n",
       "    </tr>\n",
       "    <tr>\n",
       "      <td>1844</td>\n",
       "      <td>1352</td>\n",
       "      <td>10</td>\n",
       "      <td>6</td>\n",
       "    </tr>\n",
       "    <tr>\n",
       "      <td>2583</td>\n",
       "      <td>1476</td>\n",
       "      <td>9</td>\n",
       "      <td>5</td>\n",
       "    </tr>\n",
       "  </tbody>\n",
       "</table>\n",
       "</div>"
      ],
      "text/plain": [
       "      user_id  month  messages\n",
       "1852     1353      9        50\n",
       "2155     1402      8        36\n",
       "261      1050      6        25\n",
       "233      1044     10        16\n",
       "1888     1358     12        57\n",
       "2440     1453      7        74\n",
       "163      1030      7       101\n",
       "791      1148     12        12\n",
       "1844     1352     10         6\n",
       "2583     1476      9         5"
      ]
     },
     "execution_count": 38,
     "metadata": {},
     "output_type": "execute_result"
    }
   ],
   "source": [
    "df_m_gr = df_messages.pivot_table(index=['user_id','month'], \n",
    "                                  values='id', aggfunc=['count']).reset_index()\n",
    "df_m_gr.columns = [item[0] for item in df_m_gr.columns]\n",
    "df_m_gr.columns = ['user_id', 'month', 'messages']\n",
    "df_m_gr.sample(10)"
   ]
  },
  {
   "cell_type": "code",
   "execution_count": 39,
   "metadata": {},
   "outputs": [
    {
     "data": {
      "text/plain": [
       "user_id     0\n",
       "month       0\n",
       "messages    0\n",
       "dtype: int64"
      ]
     },
     "execution_count": 39,
     "metadata": {},
     "output_type": "execute_result"
    }
   ],
   "source": [
    "df_m_gr.isna().sum()"
   ]
  },
  {
   "cell_type": "markdown",
   "metadata": {},
   "source": [
    "Cоединим таблицы с how=outer для сохранения всей информации"
   ]
  },
  {
   "cell_type": "code",
   "execution_count": 40,
   "metadata": {},
   "outputs": [
    {
     "data": {
      "text/html": [
       "<div>\n",
       "<style scoped>\n",
       "    .dataframe tbody tr th:only-of-type {\n",
       "        vertical-align: middle;\n",
       "    }\n",
       "\n",
       "    .dataframe tbody tr th {\n",
       "        vertical-align: top;\n",
       "    }\n",
       "\n",
       "    .dataframe thead th {\n",
       "        text-align: right;\n",
       "    }\n",
       "</style>\n",
       "<table border=\"1\" class=\"dataframe\">\n",
       "  <thead>\n",
       "    <tr style=\"text-align: right;\">\n",
       "      <th></th>\n",
       "      <th>user_id</th>\n",
       "      <th>month</th>\n",
       "      <th>duration</th>\n",
       "      <th>messages</th>\n",
       "      <th>gb_used</th>\n",
       "      <th>calls</th>\n",
       "      <th>age</th>\n",
       "      <th>churn_date</th>\n",
       "      <th>city</th>\n",
       "      <th>first_name</th>\n",
       "      <th>last_name</th>\n",
       "      <th>reg_date</th>\n",
       "      <th>tariff</th>\n",
       "    </tr>\n",
       "  </thead>\n",
       "  <tbody>\n",
       "    <tr>\n",
       "      <td>2108</td>\n",
       "      <td>1337</td>\n",
       "      <td>7.000</td>\n",
       "      <td>104.020</td>\n",
       "      <td>8.000</td>\n",
       "      <td>15.502</td>\n",
       "      <td>20.000</td>\n",
       "      <td>42</td>\n",
       "      <td>NaT</td>\n",
       "      <td>Вологда</td>\n",
       "      <td>Олег</td>\n",
       "      <td>Суслов</td>\n",
       "      <td>2018-01-15</td>\n",
       "      <td>smart</td>\n",
       "    </tr>\n",
       "    <tr>\n",
       "      <td>2373</td>\n",
       "      <td>1378</td>\n",
       "      <td>4.000</td>\n",
       "      <td>554.100</td>\n",
       "      <td>17.000</td>\n",
       "      <td>10.570</td>\n",
       "      <td>80.000</td>\n",
       "      <td>21</td>\n",
       "      <td>NaT</td>\n",
       "      <td>Иркутск</td>\n",
       "      <td>Евгения</td>\n",
       "      <td>Бычкова</td>\n",
       "      <td>2018-01-19</td>\n",
       "      <td>smart</td>\n",
       "    </tr>\n",
       "    <tr>\n",
       "      <td>545</td>\n",
       "      <td>1086</td>\n",
       "      <td>12.000</td>\n",
       "      <td>493.000</td>\n",
       "      <td>29.000</td>\n",
       "      <td>19.552</td>\n",
       "      <td>68.000</td>\n",
       "      <td>73</td>\n",
       "      <td>NaT</td>\n",
       "      <td>Волгоград</td>\n",
       "      <td>Ириней</td>\n",
       "      <td>Аксёнов</td>\n",
       "      <td>2018-04-26</td>\n",
       "      <td>smart</td>\n",
       "    </tr>\n",
       "    <tr>\n",
       "      <td>118</td>\n",
       "      <td>1016</td>\n",
       "      <td>12.000</td>\n",
       "      <td>93.790</td>\n",
       "      <td>103.000</td>\n",
       "      <td>18.973</td>\n",
       "      <td>16.000</td>\n",
       "      <td>58</td>\n",
       "      <td>NaT</td>\n",
       "      <td>Омск</td>\n",
       "      <td>Марица</td>\n",
       "      <td>Сазонова</td>\n",
       "      <td>2018-11-21</td>\n",
       "      <td>ultra</td>\n",
       "    </tr>\n",
       "    <tr>\n",
       "      <td>1353</td>\n",
       "      <td>1215</td>\n",
       "      <td>8.000</td>\n",
       "      <td>210.780</td>\n",
       "      <td>10.000</td>\n",
       "      <td>7.362</td>\n",
       "      <td>29.000</td>\n",
       "      <td>55</td>\n",
       "      <td>NaT</td>\n",
       "      <td>Рязань</td>\n",
       "      <td>Руслан</td>\n",
       "      <td>Алиев</td>\n",
       "      <td>2018-08-12</td>\n",
       "      <td>smart</td>\n",
       "    </tr>\n",
       "    <tr>\n",
       "      <td>3049</td>\n",
       "      <td>1478</td>\n",
       "      <td>7.000</td>\n",
       "      <td>167.300</td>\n",
       "      <td>31.000</td>\n",
       "      <td>10.653</td>\n",
       "      <td>20.000</td>\n",
       "      <td>75</td>\n",
       "      <td>NaT</td>\n",
       "      <td>Грозный</td>\n",
       "      <td>Таира</td>\n",
       "      <td>Константинова</td>\n",
       "      <td>2018-07-16</td>\n",
       "      <td>smart</td>\n",
       "    </tr>\n",
       "    <tr>\n",
       "      <td>1636</td>\n",
       "      <td>1263</td>\n",
       "      <td>7.000</td>\n",
       "      <td>636.520</td>\n",
       "      <td>6.000</td>\n",
       "      <td>14.835</td>\n",
       "      <td>95.000</td>\n",
       "      <td>32</td>\n",
       "      <td>NaT</td>\n",
       "      <td>Балашиха</td>\n",
       "      <td>Ермолай</td>\n",
       "      <td>Зайцев</td>\n",
       "      <td>2018-04-30</td>\n",
       "      <td>smart</td>\n",
       "    </tr>\n",
       "    <tr>\n",
       "      <td>870</td>\n",
       "      <td>1142</td>\n",
       "      <td>8.000</td>\n",
       "      <td>347.480</td>\n",
       "      <td>43.000</td>\n",
       "      <td>19.391</td>\n",
       "      <td>59.000</td>\n",
       "      <td>51</td>\n",
       "      <td>NaT</td>\n",
       "      <td>Новосибирск</td>\n",
       "      <td>Симона</td>\n",
       "      <td>Алешкова</td>\n",
       "      <td>2018-03-24</td>\n",
       "      <td>smart</td>\n",
       "    </tr>\n",
       "    <tr>\n",
       "      <td>1329</td>\n",
       "      <td>1210</td>\n",
       "      <td>9.000</td>\n",
       "      <td>662.260</td>\n",
       "      <td>nan</td>\n",
       "      <td>18.379</td>\n",
       "      <td>86.000</td>\n",
       "      <td>33</td>\n",
       "      <td>NaT</td>\n",
       "      <td>Севастополь</td>\n",
       "      <td>Евфросинья</td>\n",
       "      <td>Серебрякова</td>\n",
       "      <td>2018-07-29</td>\n",
       "      <td>smart</td>\n",
       "    </tr>\n",
       "    <tr>\n",
       "      <td>2326</td>\n",
       "      <td>1373</td>\n",
       "      <td>10.000</td>\n",
       "      <td>23.540</td>\n",
       "      <td>55.000</td>\n",
       "      <td>18.104</td>\n",
       "      <td>5.000</td>\n",
       "      <td>34</td>\n",
       "      <td>NaT</td>\n",
       "      <td>Улан-Удэ</td>\n",
       "      <td>Нелли</td>\n",
       "      <td>Афанасенко</td>\n",
       "      <td>2018-01-17</td>\n",
       "      <td>smart</td>\n",
       "    </tr>\n",
       "  </tbody>\n",
       "</table>\n",
       "</div>"
      ],
      "text/plain": [
       "      user_id  month  duration  messages  gb_used  calls  age churn_date  \\\n",
       "2108     1337  7.000   104.020     8.000   15.502 20.000   42        NaT   \n",
       "2373     1378  4.000   554.100    17.000   10.570 80.000   21        NaT   \n",
       "545      1086 12.000   493.000    29.000   19.552 68.000   73        NaT   \n",
       "118      1016 12.000    93.790   103.000   18.973 16.000   58        NaT   \n",
       "1353     1215  8.000   210.780    10.000    7.362 29.000   55        NaT   \n",
       "3049     1478  7.000   167.300    31.000   10.653 20.000   75        NaT   \n",
       "1636     1263  7.000   636.520     6.000   14.835 95.000   32        NaT   \n",
       "870      1142  8.000   347.480    43.000   19.391 59.000   51        NaT   \n",
       "1329     1210  9.000   662.260       nan   18.379 86.000   33        NaT   \n",
       "2326     1373 10.000    23.540    55.000   18.104  5.000   34        NaT   \n",
       "\n",
       "             city  first_name      last_name   reg_date tariff  \n",
       "2108      Вологда        Олег         Суслов 2018-01-15  smart  \n",
       "2373      Иркутск     Евгения        Бычкова 2018-01-19  smart  \n",
       "545     Волгоград      Ириней        Аксёнов 2018-04-26  smart  \n",
       "118          Омск      Марица       Сазонова 2018-11-21  ultra  \n",
       "1353       Рязань      Руслан          Алиев 2018-08-12  smart  \n",
       "3049      Грозный       Таира  Константинова 2018-07-16  smart  \n",
       "1636     Балашиха     Ермолай         Зайцев 2018-04-30  smart  \n",
       "870   Новосибирск      Симона       Алешкова 2018-03-24  smart  \n",
       "1329  Севастополь  Евфросинья    Серебрякова 2018-07-29  smart  \n",
       "2326     Улан-Удэ       Нелли     Афанасенко 2018-01-17  smart  "
      ]
     },
     "execution_count": 40,
     "metadata": {},
     "output_type": "execute_result"
    }
   ],
   "source": [
    "df = df_c_gr.merge(df_m_gr, on=['user_id', 'month'], how='outer')\n",
    "df = df.merge(df_i_gr, on=['user_id', 'month'], how='outer')\n",
    "df = df.merge(df_c_gr1, on=['user_id', 'month'], how='outer')\n",
    "df = df.merge(df_users, on=['user_id'], how='outer')\n",
    "df.sample(10)"
   ]
  },
  {
   "cell_type": "markdown",
   "metadata": {},
   "source": [
    "<div class=\"alert alert-success\">\n",
    "<b>Комментарий ревьюера:</b>\n",
    "\n",
    "В целом таблицы мы соединили верно.\n",
    "    \n",
    "Однако при их соединении мы всё таки потеряли 2–х клиентов. В данный момент для нас это не критично, но в боевой задаче мы не захотим тепять эти данные.\n",
    "    \n",
    "Но было бы здорово понять куда они делись.\n",
    "    \n",
    "</div>"
   ]
  },
  {
   "cell_type": "code",
   "execution_count": 41,
   "metadata": {
    "scrolled": true
   },
   "outputs": [
    {
     "data": {
      "text/plain": [
       "500"
      ]
     },
     "execution_count": 41,
     "metadata": {},
     "output_type": "execute_result"
    }
   ],
   "source": [
    "df.user_id.nunique()"
   ]
  },
  {
   "cell_type": "code",
   "execution_count": 42,
   "metadata": {},
   "outputs": [
    {
     "data": {
      "text/plain": [
       "user_id          0\n",
       "month            2\n",
       "duration        42\n",
       "messages       499\n",
       "gb_used         13\n",
       "calls           42\n",
       "age              0\n",
       "churn_date    3027\n",
       "city             0\n",
       "first_name       0\n",
       "last_name        0\n",
       "reg_date         0\n",
       "tariff           0\n",
       "dtype: int64"
      ]
     },
     "execution_count": 42,
     "metadata": {},
     "output_type": "execute_result"
    }
   ],
   "source": [
    "df.isna().sum()"
   ]
  },
  {
   "cell_type": "code",
   "execution_count": 43,
   "metadata": {},
   "outputs": [
    {
     "data": {
      "text/html": [
       "<div>\n",
       "<style scoped>\n",
       "    .dataframe tbody tr th:only-of-type {\n",
       "        vertical-align: middle;\n",
       "    }\n",
       "\n",
       "    .dataframe tbody tr th {\n",
       "        vertical-align: top;\n",
       "    }\n",
       "\n",
       "    .dataframe thead th {\n",
       "        text-align: right;\n",
       "    }\n",
       "</style>\n",
       "<table border=\"1\" class=\"dataframe\">\n",
       "  <thead>\n",
       "    <tr style=\"text-align: right;\">\n",
       "      <th></th>\n",
       "      <th>user_id</th>\n",
       "      <th>month</th>\n",
       "      <th>duration</th>\n",
       "      <th>messages</th>\n",
       "      <th>gb_used</th>\n",
       "      <th>calls</th>\n",
       "      <th>age</th>\n",
       "      <th>churn_date</th>\n",
       "      <th>city</th>\n",
       "      <th>first_name</th>\n",
       "      <th>last_name</th>\n",
       "      <th>reg_date</th>\n",
       "      <th>tariff</th>\n",
       "    </tr>\n",
       "  </thead>\n",
       "  <tbody>\n",
       "    <tr>\n",
       "      <td>3214</td>\n",
       "      <td>1128</td>\n",
       "      <td>nan</td>\n",
       "      <td>nan</td>\n",
       "      <td>nan</td>\n",
       "      <td>nan</td>\n",
       "      <td>nan</td>\n",
       "      <td>51</td>\n",
       "      <td>2018-12-23</td>\n",
       "      <td>Волжский</td>\n",
       "      <td>Ксения</td>\n",
       "      <td>Агаева</td>\n",
       "      <td>2018-12-15</td>\n",
       "      <td>ultra</td>\n",
       "    </tr>\n",
       "    <tr>\n",
       "      <td>3215</td>\n",
       "      <td>1371</td>\n",
       "      <td>nan</td>\n",
       "      <td>nan</td>\n",
       "      <td>nan</td>\n",
       "      <td>nan</td>\n",
       "      <td>nan</td>\n",
       "      <td>50</td>\n",
       "      <td>2018-12-30</td>\n",
       "      <td>Омск</td>\n",
       "      <td>Ириней</td>\n",
       "      <td>Трофимов</td>\n",
       "      <td>2018-12-25</td>\n",
       "      <td>smart</td>\n",
       "    </tr>\n",
       "  </tbody>\n",
       "</table>\n",
       "</div>"
      ],
      "text/plain": [
       "      user_id  month  duration  messages  gb_used  calls  age churn_date  \\\n",
       "3214     1128    nan       nan       nan      nan    nan   51 2018-12-23   \n",
       "3215     1371    nan       nan       nan      nan    nan   50 2018-12-30   \n",
       "\n",
       "          city first_name last_name   reg_date tariff  \n",
       "3214  Волжский     Ксения    Агаева 2018-12-15  ultra  \n",
       "3215      Омск     Ириней  Трофимов 2018-12-25  smart  "
      ]
     },
     "execution_count": 43,
     "metadata": {},
     "output_type": "execute_result"
    }
   ],
   "source": [
    "df.query('messages.isna() and calls.isna() and gb_used.isna()') #Посмотрим на такие строки"
   ]
  },
  {
   "cell_type": "markdown",
   "metadata": {},
   "source": [
    "<div class=\"alert alert-success\">\n",
    "<b>Комментарий ревьюера:</b>\n",
    "\n",
    "Кстати если мы используем множественную фильтрацию, то лучше применять метод  `loc`, т.к. он выглядит читабельнее и работает быстрее.\n",
    "    \n",
    "</div>"
   ]
  },
  {
   "cell_type": "code",
   "execution_count": 44,
   "metadata": {},
   "outputs": [
    {
     "data": {
      "text/plain": [
       "42"
      ]
     },
     "execution_count": 44,
     "metadata": {},
     "output_type": "execute_result"
    }
   ],
   "source": [
    "len(df.query('duration.isna() and calls.isna()')) # Пропущены в одном ли месте?"
   ]
  },
  {
   "cell_type": "markdown",
   "metadata": {},
   "source": [
    "* Удалим строки, где пропущены месяцы, т.к. этот параметр важен для анализа \n",
    "* duration и calls заполним 0 (пропущены в одном месте), поскольку выше была описана другая сиутация возникновения нулей (потом заменили на 1), а в этом случае звонков просто не было (длительность = 0 что логично)\n",
    "* gb_used и messages также заполним 0 "
   ]
  },
  {
   "cell_type": "code",
   "execution_count": 45,
   "metadata": {},
   "outputs": [],
   "source": [
    "df.dropna(subset=['month'], inplace=True)"
   ]
  },
  {
   "cell_type": "code",
   "execution_count": 46,
   "metadata": {},
   "outputs": [],
   "source": [
    "df['calls'] = df['calls'].fillna(0)\n",
    "df['duration'] = df['duration'].fillna(0)\n",
    "df['gb_used'] = df['gb_used'].fillna(0)\n",
    "df['messages'] = df['messages'].fillna(0)"
   ]
  },
  {
   "cell_type": "markdown",
   "metadata": {},
   "source": [
    "<div class=\"alert alert-success\">\n",
    "<b>Комментарий ревьюера:</b>\n",
    "\n",
    "В том числе метод `fillna` и `astype` можно применять к нескольким столбцам одновременно.\n",
    "    \n",
    "Если столбцов более 2–ух, то рекомендую применять цикл `for`.\n",
    "    \n",
    "Пример: \n",
    "    \n",
    "`df.astype({ \"col1\": \"float64\", \"col2\": \"int64\"})`\n",
    "    \n",
    "</div>"
   ]
  },
  {
   "cell_type": "markdown",
   "metadata": {},
   "source": [
    "4. Теперь округлим значения вверх"
   ]
  },
  {
   "cell_type": "code",
   "execution_count": 47,
   "metadata": {},
   "outputs": [],
   "source": [
    "df['duration'] = df['duration'].apply(np.ceil)\n",
    "df['gb_used'] = df['gb_used'].apply(np.ceil)"
   ]
  },
  {
   "cell_type": "markdown",
   "metadata": {},
   "source": [
    "<div class=\"alert alert-success\">\n",
    "<b>Комментарий ревьюера:</b>\n",
    "\n",
    "Хорошо, что учитываем условия работы оператора связи и применяем метод `np.ceil`\n",
    "    \n",
    "</div>"
   ]
  },
  {
   "cell_type": "markdown",
   "metadata": {},
   "source": [
    "<div class=\"alert alert-warning\">\n",
    "<b>Комментарий ревьюера:</b>\n",
    "\n",
    "Однако метод `np.ceil` лучше применять ко всему столбцу целиком, так вычисления будут работать быстрее.  \n",
    "    \n",
    "Вот неплохая статья по скоростям вычисления в различных способах.\n",
    "    \n",
    "https://engineering.upside.com/a-beginners-guide-to-optimizing-pandas-code-for-speed-c09ef2c6a4d6\n",
    "    \n",
    "</div>"
   ]
  },
  {
   "cell_type": "markdown",
   "metadata": {},
   "source": [
    "5. Приведем типы данных"
   ]
  },
  {
   "cell_type": "code",
   "execution_count": 48,
   "metadata": {},
   "outputs": [],
   "source": [
    "df['gb_used'] = df['gb_used'].astype(int)\n",
    "df['messages'] = df['messages'].astype(int)\n",
    "df['duration'] = df['duration'].astype(int)\n",
    "df['calls'] = df['calls'].astype(int)\n",
    "df['month'] = df['month'].astype(int)"
   ]
  },
  {
   "cell_type": "markdown",
   "metadata": {},
   "source": [
    "Посчитаем помесячную выручку с каждого пользователя"
   ]
  },
  {
   "cell_type": "code",
   "execution_count": 49,
   "metadata": {},
   "outputs": [],
   "source": [
    "def users_gain(row):\n",
    "    if row['tariff'] == 'smart':\n",
    "        sum_m = 50 - row['messages'] \n",
    "        sum_i = 15 - row['gb_used'] \n",
    "        sum_c = 500 - row['duration'] \n",
    "        if sum_m < 0:\n",
    "            sum_m = abs(sum_m) * 3\n",
    "        elif sum_m > 0:\n",
    "            sum_m = 0\n",
    "        if sum_i < 0:\n",
    "            sum_i = abs(sum_i) * 200\n",
    "        elif sum_i > 0:\n",
    "            sum_i = 0\n",
    "        if sum_c < 0:\n",
    "            sum_c = abs(sum_c) * 3\n",
    "        elif sum_c > 0:\n",
    "            sum_c = 0\n",
    "        main_sum = sum_m + sum_i + sum_c + 550\n",
    "        return main_sum\n",
    "    elif row['tariff'] == 'ultra':\n",
    "        sum_m = 1000 - row['messages'] \n",
    "        sum_i = 30 - row['gb_used'] \n",
    "        sum_c = 3000 - row['duration'] \n",
    "        if sum_m < 0:\n",
    "            sum_m = abs(sum_m) * 1\n",
    "        elif sum_m > 0:\n",
    "            sum_m = 0\n",
    "        if sum_i < 0:\n",
    "            sum_i = abs(sum_i) * 150\n",
    "        elif sum_i > 0:\n",
    "            sum_i = 0\n",
    "        if sum_c < 0:\n",
    "            sum_c = abs(sum_c) * 1\n",
    "        elif sum_c > 0:\n",
    "            sum_c = 0\n",
    "        main_sum = sum_m + sum_i + sum_c + 1950\n",
    "        return main_sum"
   ]
  },
  {
   "cell_type": "markdown",
   "metadata": {},
   "source": [
    "<div class=\"alert alert-success\">\n",
    "<b>Комментарий ревьюера:</b>\n",
    "\n",
    "Кстати можно было бы присоединить таблицу с показателями по тарифам к нашим расчетам и осуществлять нужные вычисления по столбцам.\n",
    "    \n",
    "Таким образом мы значительно бы ускорили наш расчет.\n",
    "    \n",
    "</div>"
   ]
  },
  {
   "cell_type": "code",
   "execution_count": 50,
   "metadata": {},
   "outputs": [],
   "source": [
    "df['gain'] = df.apply(users_gain, axis=1)"
   ]
  },
  {
   "cell_type": "markdown",
   "metadata": {},
   "source": [
    "<div class=\"alert alert-success\">\n",
    "<b>Комментарий ревьюера:</b>\n",
    "\n",
    "Выручка посчитана верно, теперь любая фин.отчетность нам не помеха 😊\n",
    "    \n",
    "\n",
    "    \n",
    "</div>"
   ]
  },
  {
   "cell_type": "code",
   "execution_count": 51,
   "metadata": {},
   "outputs": [
    {
     "data": {
      "text/plain": [
       "count   3214.000\n",
       "mean    1516.812\n",
       "std      795.275\n",
       "min      550.000\n",
       "25%      750.000\n",
       "50%     1610.500\n",
       "75%     1950.000\n",
       "max     6668.000\n",
       "Name: gain, dtype: float64"
      ]
     },
     "execution_count": 51,
     "metadata": {},
     "output_type": "execute_result"
    }
   ],
   "source": [
    "df['gain'].describe()"
   ]
  },
  {
   "cell_type": "code",
   "execution_count": 52,
   "metadata": {},
   "outputs": [
    {
     "data": {
      "text/html": [
       "<div>\n",
       "<style scoped>\n",
       "    .dataframe tbody tr th:only-of-type {\n",
       "        vertical-align: middle;\n",
       "    }\n",
       "\n",
       "    .dataframe tbody tr th {\n",
       "        vertical-align: top;\n",
       "    }\n",
       "\n",
       "    .dataframe thead th {\n",
       "        text-align: right;\n",
       "    }\n",
       "</style>\n",
       "<table border=\"1\" class=\"dataframe\">\n",
       "  <thead>\n",
       "    <tr style=\"text-align: right;\">\n",
       "      <th></th>\n",
       "      <th>user_id</th>\n",
       "      <th>month</th>\n",
       "      <th>duration</th>\n",
       "      <th>messages</th>\n",
       "      <th>gb_used</th>\n",
       "      <th>calls</th>\n",
       "      <th>age</th>\n",
       "      <th>churn_date</th>\n",
       "      <th>city</th>\n",
       "      <th>first_name</th>\n",
       "      <th>last_name</th>\n",
       "      <th>reg_date</th>\n",
       "      <th>tariff</th>\n",
       "      <th>gain</th>\n",
       "    </tr>\n",
       "  </thead>\n",
       "  <tbody>\n",
       "    <tr>\n",
       "      <td>2955</td>\n",
       "      <td>1465</td>\n",
       "      <td>7</td>\n",
       "      <td>650</td>\n",
       "      <td>57</td>\n",
       "      <td>16</td>\n",
       "      <td>89</td>\n",
       "      <td>41</td>\n",
       "      <td>NaT</td>\n",
       "      <td>Омск</td>\n",
       "      <td>Пётр</td>\n",
       "      <td>Ёркин</td>\n",
       "      <td>2018-04-14</td>\n",
       "      <td>smart</td>\n",
       "      <td>1221</td>\n",
       "    </tr>\n",
       "    <tr>\n",
       "      <td>2460</td>\n",
       "      <td>1390</td>\n",
       "      <td>9</td>\n",
       "      <td>190</td>\n",
       "      <td>40</td>\n",
       "      <td>19</td>\n",
       "      <td>25</td>\n",
       "      <td>56</td>\n",
       "      <td>NaT</td>\n",
       "      <td>Санкт-Петербург</td>\n",
       "      <td>Лидия</td>\n",
       "      <td>Беляева</td>\n",
       "      <td>2018-07-30</td>\n",
       "      <td>smart</td>\n",
       "      <td>1350</td>\n",
       "    </tr>\n",
       "    <tr>\n",
       "      <td>442</td>\n",
       "      <td>1068</td>\n",
       "      <td>12</td>\n",
       "      <td>508</td>\n",
       "      <td>29</td>\n",
       "      <td>16</td>\n",
       "      <td>77</td>\n",
       "      <td>34</td>\n",
       "      <td>NaT</td>\n",
       "      <td>Москва</td>\n",
       "      <td>Ким</td>\n",
       "      <td>Демьянов</td>\n",
       "      <td>2018-07-16</td>\n",
       "      <td>smart</td>\n",
       "      <td>774</td>\n",
       "    </tr>\n",
       "    <tr>\n",
       "      <td>2046</td>\n",
       "      <td>1326</td>\n",
       "      <td>11</td>\n",
       "      <td>361</td>\n",
       "      <td>25</td>\n",
       "      <td>20</td>\n",
       "      <td>45</td>\n",
       "      <td>37</td>\n",
       "      <td>NaT</td>\n",
       "      <td>Санкт-Петербург</td>\n",
       "      <td>Леонид</td>\n",
       "      <td>Барсуков</td>\n",
       "      <td>2018-05-29</td>\n",
       "      <td>smart</td>\n",
       "      <td>1550</td>\n",
       "    </tr>\n",
       "    <tr>\n",
       "      <td>3113</td>\n",
       "      <td>1487</td>\n",
       "      <td>12</td>\n",
       "      <td>147</td>\n",
       "      <td>20</td>\n",
       "      <td>12</td>\n",
       "      <td>30</td>\n",
       "      <td>72</td>\n",
       "      <td>NaT</td>\n",
       "      <td>Кострома</td>\n",
       "      <td>Рудольф</td>\n",
       "      <td>Кириллов</td>\n",
       "      <td>2018-08-13</td>\n",
       "      <td>smart</td>\n",
       "      <td>550</td>\n",
       "    </tr>\n",
       "    <tr>\n",
       "      <td>2408</td>\n",
       "      <td>1382</td>\n",
       "      <td>4</td>\n",
       "      <td>668</td>\n",
       "      <td>80</td>\n",
       "      <td>11</td>\n",
       "      <td>87</td>\n",
       "      <td>42</td>\n",
       "      <td>NaT</td>\n",
       "      <td>Самара</td>\n",
       "      <td>Оксана</td>\n",
       "      <td>Нестерова</td>\n",
       "      <td>2018-03-26</td>\n",
       "      <td>ultra</td>\n",
       "      <td>1950</td>\n",
       "    </tr>\n",
       "    <tr>\n",
       "      <td>1718</td>\n",
       "      <td>1275</td>\n",
       "      <td>9</td>\n",
       "      <td>356</td>\n",
       "      <td>22</td>\n",
       "      <td>12</td>\n",
       "      <td>54</td>\n",
       "      <td>48</td>\n",
       "      <td>NaT</td>\n",
       "      <td>Москва</td>\n",
       "      <td>Семён</td>\n",
       "      <td>Елизаров</td>\n",
       "      <td>2018-04-24</td>\n",
       "      <td>smart</td>\n",
       "      <td>550</td>\n",
       "    </tr>\n",
       "    <tr>\n",
       "      <td>1010</td>\n",
       "      <td>1161</td>\n",
       "      <td>10</td>\n",
       "      <td>300</td>\n",
       "      <td>34</td>\n",
       "      <td>21</td>\n",
       "      <td>43</td>\n",
       "      <td>65</td>\n",
       "      <td>2018-11-07</td>\n",
       "      <td>Набережные Челны</td>\n",
       "      <td>Татьяна</td>\n",
       "      <td>Голованова</td>\n",
       "      <td>2018-07-03</td>\n",
       "      <td>smart</td>\n",
       "      <td>1750</td>\n",
       "    </tr>\n",
       "    <tr>\n",
       "      <td>1411</td>\n",
       "      <td>1224</td>\n",
       "      <td>11</td>\n",
       "      <td>415</td>\n",
       "      <td>0</td>\n",
       "      <td>21</td>\n",
       "      <td>70</td>\n",
       "      <td>58</td>\n",
       "      <td>NaT</td>\n",
       "      <td>Магнитогорск</td>\n",
       "      <td>Ахмет</td>\n",
       "      <td>Тарасов</td>\n",
       "      <td>2018-04-24</td>\n",
       "      <td>smart</td>\n",
       "      <td>1750</td>\n",
       "    </tr>\n",
       "    <tr>\n",
       "      <td>415</td>\n",
       "      <td>1065</td>\n",
       "      <td>7</td>\n",
       "      <td>434</td>\n",
       "      <td>69</td>\n",
       "      <td>21</td>\n",
       "      <td>65</td>\n",
       "      <td>53</td>\n",
       "      <td>2018-12-09</td>\n",
       "      <td>Москва</td>\n",
       "      <td>Роза</td>\n",
       "      <td>Игнатова</td>\n",
       "      <td>2018-03-08</td>\n",
       "      <td>smart</td>\n",
       "      <td>1807</td>\n",
       "    </tr>\n",
       "  </tbody>\n",
       "</table>\n",
       "</div>"
      ],
      "text/plain": [
       "      user_id  month  duration  messages  gb_used  calls  age churn_date  \\\n",
       "2955     1465      7       650        57       16     89   41        NaT   \n",
       "2460     1390      9       190        40       19     25   56        NaT   \n",
       "442      1068     12       508        29       16     77   34        NaT   \n",
       "2046     1326     11       361        25       20     45   37        NaT   \n",
       "3113     1487     12       147        20       12     30   72        NaT   \n",
       "2408     1382      4       668        80       11     87   42        NaT   \n",
       "1718     1275      9       356        22       12     54   48        NaT   \n",
       "1010     1161     10       300        34       21     43   65 2018-11-07   \n",
       "1411     1224     11       415         0       21     70   58        NaT   \n",
       "415      1065      7       434        69       21     65   53 2018-12-09   \n",
       "\n",
       "                  city first_name   last_name   reg_date tariff  gain  \n",
       "2955              Омск       Пётр       Ёркин 2018-04-14  smart  1221  \n",
       "2460   Санкт-Петербург      Лидия     Беляева 2018-07-30  smart  1350  \n",
       "442             Москва        Ким    Демьянов 2018-07-16  smart   774  \n",
       "2046   Санкт-Петербург     Леонид    Барсуков 2018-05-29  smart  1550  \n",
       "3113          Кострома    Рудольф    Кириллов 2018-08-13  smart   550  \n",
       "2408            Самара     Оксана   Нестерова 2018-03-26  ultra  1950  \n",
       "1718            Москва      Семён    Елизаров 2018-04-24  smart   550  \n",
       "1010  Набережные Челны    Татьяна  Голованова 2018-07-03  smart  1750  \n",
       "1411      Магнитогорск      Ахмет     Тарасов 2018-04-24  smart  1750  \n",
       "415             Москва       Роза    Игнатова 2018-03-08  smart  1807  "
      ]
     },
     "execution_count": 52,
     "metadata": {},
     "output_type": "execute_result"
    }
   ],
   "source": [
    "df.sample(10)"
   ]
  },
  {
   "cell_type": "markdown",
   "metadata": {},
   "source": [
    "### Вывод"
   ]
  },
  {
   "cell_type": "markdown",
   "metadata": {},
   "source": [
    "1. Изменили тип данных на Date\n",
    "2. Привели все к единому датафрейму\n",
    "3. Округлили значения вверх в минутах разговора и гб трафика\n",
    "4. Удалили неизвестный столбец Unnamed: 0.\n",
    "5. Заполнили пропуски \n",
    "6. Привели столбцы с float к int\n",
    "7. Провели расчеты"
   ]
  },
  {
   "cell_type": "markdown",
   "metadata": {},
   "source": [
    "<div class=\"alert alert-success\">\n",
    "<b>Комментарий ревьюера:</b>\n",
    "\n",
    "Что ж, данные мы подготовили, теперь можем их проанализировать.\n",
    "    \n",
    "</div>"
   ]
  },
  {
   "cell_type": "markdown",
   "metadata": {},
   "source": [
    "## Анализ данных\n",
    "<a id=\"data_analysis\"></a>"
   ]
  },
  {
   "cell_type": "markdown",
   "metadata": {},
   "source": [
    "Опишем поведение клиентов оператора, исходя из выборки. Ответим на вопросы: \n",
    "1. Сколько минут разговора, сколько сообщений и какой объём интернет-трафика требуется пользователям каждого тарифа в месяц? \n",
    "2. Посчитаем среднее количество, дисперсию и стандартное отклонение. \n",
    "3. Построим гистограммы. Опишем распределения."
   ]
  },
  {
   "cell_type": "code",
   "execution_count": 53,
   "metadata": {},
   "outputs": [
    {
     "data": {
      "text/html": [
       "<div>\n",
       "<style scoped>\n",
       "    .dataframe tbody tr th:only-of-type {\n",
       "        vertical-align: middle;\n",
       "    }\n",
       "\n",
       "    .dataframe tbody tr th {\n",
       "        vertical-align: top;\n",
       "    }\n",
       "\n",
       "    .dataframe thead th {\n",
       "        text-align: right;\n",
       "    }\n",
       "</style>\n",
       "<table border=\"1\" class=\"dataframe\">\n",
       "  <thead>\n",
       "    <tr style=\"text-align: right;\">\n",
       "      <th></th>\n",
       "      <th>messages</th>\n",
       "      <th>gb_used</th>\n",
       "      <th>duration</th>\n",
       "    </tr>\n",
       "  </thead>\n",
       "  <tbody>\n",
       "    <tr>\n",
       "      <td>count</td>\n",
       "      <td>2229.000</td>\n",
       "      <td>2229.000</td>\n",
       "      <td>2229.000</td>\n",
       "    </tr>\n",
       "    <tr>\n",
       "      <td>mean</td>\n",
       "      <td>33.384</td>\n",
       "      <td>16.329</td>\n",
       "      <td>406.438</td>\n",
       "    </tr>\n",
       "    <tr>\n",
       "      <td>std</td>\n",
       "      <td>28.228</td>\n",
       "      <td>5.747</td>\n",
       "      <td>184.531</td>\n",
       "    </tr>\n",
       "    <tr>\n",
       "      <td>min</td>\n",
       "      <td>0.000</td>\n",
       "      <td>0.000</td>\n",
       "      <td>0.000</td>\n",
       "    </tr>\n",
       "    <tr>\n",
       "      <td>25%</td>\n",
       "      <td>10.000</td>\n",
       "      <td>13.000</td>\n",
       "      <td>275.000</td>\n",
       "    </tr>\n",
       "    <tr>\n",
       "      <td>50%</td>\n",
       "      <td>28.000</td>\n",
       "      <td>17.000</td>\n",
       "      <td>411.000</td>\n",
       "    </tr>\n",
       "    <tr>\n",
       "      <td>75%</td>\n",
       "      <td>51.000</td>\n",
       "      <td>20.000</td>\n",
       "      <td>530.000</td>\n",
       "    </tr>\n",
       "    <tr>\n",
       "      <td>max</td>\n",
       "      <td>143.000</td>\n",
       "      <td>38.000</td>\n",
       "      <td>1391.000</td>\n",
       "    </tr>\n",
       "  </tbody>\n",
       "</table>\n",
       "</div>"
      ],
      "text/plain": [
       "       messages  gb_used  duration\n",
       "count  2229.000 2229.000  2229.000\n",
       "mean     33.384   16.329   406.438\n",
       "std      28.228    5.747   184.531\n",
       "min       0.000    0.000     0.000\n",
       "25%      10.000   13.000   275.000\n",
       "50%      28.000   17.000   411.000\n",
       "75%      51.000   20.000   530.000\n",
       "max     143.000   38.000  1391.000"
      ]
     },
     "execution_count": 53,
     "metadata": {},
     "output_type": "execute_result"
    }
   ],
   "source": [
    "df1 = df.query('tariff == \"smart\"')\n",
    "df1[['messages', 'gb_used', 'duration']].describe()"
   ]
  },
  {
   "cell_type": "code",
   "execution_count": 54,
   "metadata": {},
   "outputs": [
    {
     "data": {
      "text/html": [
       "<div>\n",
       "<style scoped>\n",
       "    .dataframe tbody tr th:only-of-type {\n",
       "        vertical-align: middle;\n",
       "    }\n",
       "\n",
       "    .dataframe tbody tr th {\n",
       "        vertical-align: top;\n",
       "    }\n",
       "\n",
       "    .dataframe thead th {\n",
       "        text-align: right;\n",
       "    }\n",
       "</style>\n",
       "<table border=\"1\" class=\"dataframe\">\n",
       "  <thead>\n",
       "    <tr style=\"text-align: right;\">\n",
       "      <th></th>\n",
       "      <th>messages</th>\n",
       "      <th>gb_used</th>\n",
       "      <th>duration</th>\n",
       "    </tr>\n",
       "  </thead>\n",
       "  <tbody>\n",
       "    <tr>\n",
       "      <td>count</td>\n",
       "      <td>985.000</td>\n",
       "      <td>985.000</td>\n",
       "      <td>985.000</td>\n",
       "    </tr>\n",
       "    <tr>\n",
       "      <td>mean</td>\n",
       "      <td>49.363</td>\n",
       "      <td>19.494</td>\n",
       "      <td>511.704</td>\n",
       "    </tr>\n",
       "    <tr>\n",
       "      <td>std</td>\n",
       "      <td>47.804</td>\n",
       "      <td>9.854</td>\n",
       "      <td>308.057</td>\n",
       "    </tr>\n",
       "    <tr>\n",
       "      <td>min</td>\n",
       "      <td>0.000</td>\n",
       "      <td>0.000</td>\n",
       "      <td>0.000</td>\n",
       "    </tr>\n",
       "    <tr>\n",
       "      <td>25%</td>\n",
       "      <td>6.000</td>\n",
       "      <td>12.000</td>\n",
       "      <td>277.000</td>\n",
       "    </tr>\n",
       "    <tr>\n",
       "      <td>50%</td>\n",
       "      <td>38.000</td>\n",
       "      <td>19.000</td>\n",
       "      <td>503.000</td>\n",
       "    </tr>\n",
       "    <tr>\n",
       "      <td>75%</td>\n",
       "      <td>79.000</td>\n",
       "      <td>27.000</td>\n",
       "      <td>731.000</td>\n",
       "    </tr>\n",
       "    <tr>\n",
       "      <td>max</td>\n",
       "      <td>224.000</td>\n",
       "      <td>49.000</td>\n",
       "      <td>1633.000</td>\n",
       "    </tr>\n",
       "  </tbody>\n",
       "</table>\n",
       "</div>"
      ],
      "text/plain": [
       "       messages  gb_used  duration\n",
       "count   985.000  985.000   985.000\n",
       "mean     49.363   19.494   511.704\n",
       "std      47.804    9.854   308.057\n",
       "min       0.000    0.000     0.000\n",
       "25%       6.000   12.000   277.000\n",
       "50%      38.000   19.000   503.000\n",
       "75%      79.000   27.000   731.000\n",
       "max     224.000   49.000  1633.000"
      ]
     },
     "execution_count": 54,
     "metadata": {},
     "output_type": "execute_result"
    }
   ],
   "source": [
    "df2 = df.query('tariff == \"ultra\"')\n",
    "df2[['messages', 'gb_used', 'duration']].describe()"
   ]
  },
  {
   "cell_type": "markdown",
   "metadata": {},
   "source": [
    "Вычислим несмещенную оценку для дисперсий"
   ]
  },
  {
   "cell_type": "code",
   "execution_count": 55,
   "metadata": {},
   "outputs": [],
   "source": [
    "disp_1 = {'messages': np.var(df1['messages'], ddof=1),\n",
    "         'gb_used': np.var(df1['gb_used'], ddof=1),\n",
    "         'duration': np.var(df1['duration'], ddof=1),\n",
    "         }\n",
    "disp_2 = {'messages': np.var(df2['messages'], ddof=1),\n",
    "         'gb_used': np.var(df2['gb_used'], ddof=1),\n",
    "         'duration': np.var(df2['duration'], ddof=1),\n",
    "         }"
   ]
  },
  {
   "cell_type": "code",
   "execution_count": 56,
   "metadata": {},
   "outputs": [
    {
     "data": {
      "text/plain": [
       "({'messages': 796.8129584480083,\n",
       "  'gb_used': 33.02870517811161,\n",
       "  'duration': 34051.57844167748},\n",
       " {'messages': 2285.2661425446736,\n",
       "  'gb_used': 97.09168626965459,\n",
       "  'duration': 94898.83885931245})"
      ]
     },
     "execution_count": 56,
     "metadata": {},
     "output_type": "execute_result"
    }
   ],
   "source": [
    "disp_1, disp_2"
   ]
  },
  {
   "cell_type": "markdown",
   "metadata": {},
   "source": [
    "<div class=\"alert alert-success\">\n",
    "<b>Комментарий ревьюера:</b>\n",
    "\n",
    "Кстати весь этот расчет можно было сделать с помощью сводной таблицы.\n",
    "    \n",
    "Где в атрибуте `aggfunc` мы укажем нужные нам метрики – `aggfunc = [np.var, np.std,]` и т.д.\n",
    "    \n",
    "</div>"
   ]
  },
  {
   "cell_type": "markdown",
   "metadata": {},
   "source": [
    "Вычислим несмещенную оценку для стандартных отклонений"
   ]
  },
  {
   "cell_type": "code",
   "execution_count": 57,
   "metadata": {},
   "outputs": [],
   "source": [
    "std_1 = {'messages': np.std(df1['messages'], ddof=1),\n",
    "         'gb_used': np.std(df1['gb_used'], ddof=1),\n",
    "         'duration': np.std(df1['duration'], ddof=1),\n",
    "         }\n",
    "std_2 = {'messages': np.std(df2['messages'], ddof=1),\n",
    "         'gb_used': np.std(df2['gb_used'], ddof=1),\n",
    "         'duration': np.std(df2['duration'], ddof=1),\n",
    "         }"
   ]
  },
  {
   "cell_type": "code",
   "execution_count": 58,
   "metadata": {},
   "outputs": [
    {
     "data": {
      "text/plain": [
       "({'messages': 28.22787555676141,\n",
       "  'gb_used': 5.7470605685090534,\n",
       "  'duration': 184.5306978301374},\n",
       " {'messages': 47.804457350174715,\n",
       "  'gb_used': 9.853511367510293,\n",
       "  'duration': 308.0565513981361})"
      ]
     },
     "execution_count": 58,
     "metadata": {},
     "output_type": "execute_result"
    }
   ],
   "source": [
    "std_1, std_2"
   ]
  },
  {
   "cell_type": "markdown",
   "metadata": {},
   "source": [
    "Построим гистограммы"
   ]
  },
  {
   "cell_type": "code",
   "execution_count": 59,
   "metadata": {
    "scrolled": false
   },
   "outputs": [
    {
     "data": {
      "text/plain": [
       "<matplotlib.legend.Legend at 0x7ff91a3d4410>"
      ]
     },
     "execution_count": 59,
     "metadata": {},
     "output_type": "execute_result"
    },
    {
     "data": {
      "image/png": "[encoded data removed]",
      "text/plain": [
       "<Figure size 1152x576 with 1 Axes>"
      ]
     },
     "metadata": {
      "needs_background": "light"
     },
     "output_type": "display_data"
    }
   ],
   "source": [
    "df1['duration'].plot(kind='hist', bins=30, figsize=(16,8), label='smart')\n",
    "df2['duration'].plot(kind='hist', bins=30, grid=True, alpha=0.8, label='ultra')\n",
    "plt.title(\"Duration\")\n",
    "plt.legend()"
   ]
  },
  {
   "cell_type": "code",
   "execution_count": 60,
   "metadata": {},
   "outputs": [
    {
     "data": {
      "text/plain": [
       "<matplotlib.legend.Legend at 0x7ff9159b1f10>"
      ]
     },
     "execution_count": 60,
     "metadata": {},
     "output_type": "execute_result"
    },
    {
     "data": {
      "image/png": "[encoded data removed]",
      "text/plain": [
       "<Figure size 1152x576 with 1 Axes>"
      ]
     },
     "metadata": {
      "needs_background": "light"
     },
     "output_type": "display_data"
    }
   ],
   "source": [
    "df1['gb_used'].plot(kind='hist', bins=40, figsize=(16,8), label='smart')\n",
    "df2['gb_used'].plot(kind='hist', bins=40, grid=True, alpha=0.8, label='ultra')\n",
    "plt.title(\"Gb_used\")\n",
    "plt.legend()"
   ]
  },
  {
   "cell_type": "markdown",
   "metadata": {},
   "source": [
    "<div class=\"alert alert-success\">\n",
    "<b>Комментарий ревьюера:</b>\n",
    "\n",
    "Обрати внимание, что наши графики повторяются.\n",
    "    \n",
    "Это говорит о том, что мы можем создать функцию для оптимизации нашего кода. \n",
    "    \n",
    "</div>"
   ]
  },
  {
   "cell_type": "code",
   "execution_count": 61,
   "metadata": {},
   "outputs": [
    {
     "data": {
      "text/plain": [
       "<matplotlib.legend.Legend at 0x7ff915d8d690>"
      ]
     },
     "execution_count": 61,
     "metadata": {},
     "output_type": "execute_result"
    },
    {
     "data": {
      "image/png": "[encoded data removed]",
      "text/plain": [
       "<Figure size 1152x576 with 1 Axes>"
      ]
     },
     "metadata": {
      "needs_background": "light"
     },
     "output_type": "display_data"
    }
   ],
   "source": [
    "df1['messages'].plot(kind='hist', bins=40, figsize=(16,8), label='smart')\n",
    "df2['messages'].plot(kind='hist', bins=40, grid=True, alpha=0.8, label='ultra')\n",
    "plt.title(\"Messages\")\n",
    "plt.legend()"
   ]
  },
  {
   "cell_type": "markdown",
   "metadata": {},
   "source": [
    "Первые 2 гистограммы демонстрируют нормальное распределение, а последняя Пуассоновское"
   ]
  },
  {
   "cell_type": "markdown",
   "metadata": {},
   "source": [
    "### Вывод\n",
    "<a id=\"conclusion2\"></a>"
   ]
  },
  {
   "cell_type": "markdown",
   "metadata": {},
   "source": [
    "1. Сколько минут разговора, сколько сообщений и какой объём интернет-трафика требуется пользователям каждого тарифа в месяц? В среднем пользователям тарифа smart требуется 34 сообщения, 17гб и 407 минут (в тариф не укладывается интернет, следовательно, в среднем переплата у пользователей 400р из-за него), а ultra 50 сообщений 20гб интернета и 512 минут (полностью укладывается в тариф).\n",
    "2. Посчитали среднее количество, дисперсию и стандартное отклонение. \n",
    "3. Построили гистограммы. Первые 2 гистограммы из каждого датафрейма демонстрируют нормальное распределение, а последняя Пуассоновское"
   ]
  },
  {
   "cell_type": "markdown",
   "metadata": {},
   "source": [
    "<div class=\"alert alert-success\">\n",
    "<b>Комментарий ревьюера:</b>\n",
    "\n",
    "Очень детально проверили наш анализ пользователей, выводы абсолютно логичны и даже придраться не к чему 😊👍\n",
    "    \n",
    "Предлагаю приступить к проверке наших гипотез.\n",
    "    \n",
    "</div>"
   ]
  },
  {
   "cell_type": "markdown",
   "metadata": {},
   "source": [
    "## Проверка гипотез\n",
    "<a id=\"hypothesis_testing\"></a>"
   ]
  },
  {
   "cell_type": "code",
   "execution_count": 62,
   "metadata": {},
   "outputs": [],
   "source": [
    "alpha = 0.05 # критический уровень статистической значимости"
   ]
  },
  {
   "cell_type": "markdown",
   "metadata": {},
   "source": [
    "Проверить гипотезы:\n",
    "1. средняя выручка пользователей тарифов «Ультра» и «Смарт» различается;\n",
    "2. средняя выручка пользователей из Москвы отличается от выручки пользователей из других регионов;"
   ]
  },
  {
   "cell_type": "markdown",
   "metadata": {},
   "source": [
    "То есть необходимо проверить гипотезы о равенстве средних 2 генеральных совокупностей и они двусторонние"
   ]
  },
  {
   "cell_type": "markdown",
   "metadata": {},
   "source": [
    "1. В первом случае:\n",
    "    * H0 - средняя выручка пользователей тарифов «Ультра» и «Смарт» равна (т.к. H0 всегда формулируется так, чтобы использовать знак равенства), тогда \n",
    "    * H1 - средняя выручка пользователей тарифов «Ультра» и «Смарт» различается;\n",
    "2. Во втором случае:\n",
    "    * H0 - средняя выручка пользователей из Москвы равна средней выручке пользователей из других регионов;\n",
    "    * H1 - средняя выручка пользователей из Москвы отличается от выручки пользователей из других регионов;"
   ]
  },
  {
   "cell_type": "markdown",
   "metadata": {},
   "source": [
    "<div class=\"alert alert-success\">\n",
    "<b>Комментарий ревьюера:</b>\n",
    "\n",
    "Гипотезы сформулированы верно.\n",
    "    \n",
    "    \n",
    "**Best practies:**\n",
    "    \n",
    "Перед проверкой гипотезы рекомендую проверить дисперсии выборок, чтобы корректно определить атрибут `equal_val` в Т–тесте.\n",
    "    \n",
    "В том числе стоит визуализировать распределение каждой выборки, чтобы определить нормальное ли у них распределение или нет.\n",
    "    \n",
    "Так мы покажем логичность и последовательность наших действий.\n",
    "    \n",
    "</div>"
   ]
  },
  {
   "cell_type": "code",
   "execution_count": 63,
   "metadata": {},
   "outputs": [],
   "source": [
    "results1 = st.ttest_ind(df1['gain'], df2['gain'], equal_var = False) #проверка о равенстве в 1 случае"
   ]
  },
  {
   "cell_type": "code",
   "execution_count": 64,
   "metadata": {},
   "outputs": [
    {
     "data": {
      "text/plain": [
       "5.99313021868359e-263"
      ]
     },
     "execution_count": 64,
     "metadata": {},
     "output_type": "execute_result"
    }
   ],
   "source": [
    "results1.pvalue"
   ]
  },
  {
   "cell_type": "code",
   "execution_count": 65,
   "metadata": {},
   "outputs": [
    {
     "name": "stdout",
     "output_type": "stream",
     "text": [
      "Отвергаем нулевую гипотезу\n"
     ]
    }
   ],
   "source": [
    "if (results1.pvalue < alpha) and (df1['gain'].mean() < df2['gain'].mean()):\n",
    "    print('Отвергаем нулевую гипотезу')\n",
    "else:\n",
    "    print('Не получилось отвергнуть нулевую гипотезу') "
   ]
  },
  {
   "cell_type": "markdown",
   "metadata": {},
   "source": [
    "<div class=\"alert alert-warning\">\n",
    "<b>Комментарий ревьюера:</b>\n",
    "\n",
    "В конструкции `if`можно писать условие без скобок. Для логики это неважно, но чем меньше символов в коде — тем легче его читать. Чтобы продемонстрировать коллегам хороший стиль кода, привыкай писать условия без скобок.\n",
    "</div>\n"
   ]
  },
  {
   "cell_type": "code",
   "execution_count": 66,
   "metadata": {},
   "outputs": [],
   "source": [
    "results2 = st.ttest_ind(df.query('city == \"Москва\"')['gain'], \n",
    "                       df.query('city != \"Москва\"')['gain'], equal_var = False) #проверка о равенстве во 2 случае"
   ]
  },
  {
   "cell_type": "code",
   "execution_count": 67,
   "metadata": {},
   "outputs": [
    {
     "data": {
      "text/plain": [
       "0.4995403987221443"
      ]
     },
     "execution_count": 67,
     "metadata": {},
     "output_type": "execute_result"
    }
   ],
   "source": [
    "results2.pvalue"
   ]
  },
  {
   "cell_type": "code",
   "execution_count": 68,
   "metadata": {},
   "outputs": [
    {
     "name": "stdout",
     "output_type": "stream",
     "text": [
      "Не получилось отвергнуть нулевую гипотезу\n"
     ]
    }
   ],
   "source": [
    "if (results2.pvalue < alpha) and \\\n",
    "(df.query('city == \"Москва\"')['gain'].mean() < df.query('city != \"Москва\"')['gain'].mean()):\n",
    "    print('Отвергаем нулевую гипотезу')\n",
    "else:\n",
    "    print('Не получилось отвергнуть нулевую гипотезу') "
   ]
  },
  {
   "cell_type": "markdown",
   "metadata": {},
   "source": [
    "### Вывод\n",
    "<a id=\"conclusion3\"></a>"
   ]
  },
  {
   "cell_type": "markdown",
   "metadata": {},
   "source": [
    "В результате исследования в первом случае гипотеза H1 (средняя выручка пользователей тарифов «Ультра» и «Смарт» различается) не была отвергнута, а во втором случае H0 (средняя выручка пользователей из Москвы равна средней выручке пользователей из других регионов) также."
   ]
  },
  {
   "cell_type": "markdown",
   "metadata": {},
   "source": [
    "<div class=\"alert alert-success\">\n",
    "<b>Комментарий ревьюера:</b>\n",
    "\n",
    "Обрати внимание, что наши действия также повторяются с точки зрения расчетов статистических тестов, это говорит о том, что мы можем также создать здесь функцию 😊\n",
    "    \n",
    "</div>"
   ]
  },
  {
   "cell_type": "markdown",
   "metadata": {},
   "source": [
    "## Общий вывод\n",
    "<a id=\"conclusion\"></a>"
   ]
  },
  {
   "cell_type": "markdown",
   "metadata": {},
   "source": [
    "В результате проделанной работы было выполнено:"
   ]
  },
  {
   "cell_type": "markdown",
   "metadata": {},
   "source": [
    "1. Предобработали данные: \n",
    "    * Изменили тип данных на Date в df_calls в call_date, в df_messages в message_date, в df_users в churn_date и в df_internet в session_date \n",
    "    * Округлили значения вверх в минутах разговора и гб трафика\n",
    "    * Удалили неизвестный столбец Unnamed: 0.\n",
    "    * Заполнили пропуски\n",
    "2. Привели все к единому датафрейму\n",
    "3. Привели все столбцы с float к int\n",
    "4. Провели расчеты для каждого пользователя с помощью сводных таблиц:\n",
    "    * количество сделанных звонков и израсходованных минут разговора по месяцам;\n",
    "    * количество отправленных сообщений по месяцам;\n",
    "    * объем израсходованного интернет-трафика по месяцам;\n",
    "    * помесячную выручку с каждого пользователя.\n",
    "5. Вычислили среднее, несмещенную оценку для дисперсий, стандартных отклонений\n",
    "6. Построили гистограммы. Первые 2 гистограммы из каждого датафрейма демонстрируют нормальное распределение, а последняя Пуассоновское\n",
    "7. Определили сколько в среднем пользователям тарифов требуется сообщений, минут и гб интернета\n",
    "8. Отвергли гипотезу H0 (средняя выручка пользователей тарифов «Ультра» и «Смарт» равна) и H1 (средняя выручка пользователей из Москвы отличается от выручки пользователей из других регионов;\n",
    ")"
   ]
  },
  {
   "cell_type": "markdown",
   "metadata": {},
   "source": [
    "<div class=\"alert alert-success\">\n",
    "<b>Комментарий ревьюера:</b>\n",
    "\n",
    "Выводы понятны и логичны, а самое главное подкреплены выявленными фактами.\n",
    "       \n",
    "В целом сам проект выполнен на хорошем уровне! На протяжении всей работы чувствуется глубина проработки задачи и это безусловный плюс для нас. Было использовано большое количество методов, которые будут помогать тебе в дальнейших проектах.\n",
    "       \n",
    "Рекомендую посмотреть в открытом доступе на ютубе например – курс по Алгоритмам и структурам данных, эта информация поможет нам в дальнейшем при работе с данными.\n",
    "    \n",
    "Поздравляю с успешным завершением проекта 😊👍\n",
    "    \n",
    "И желаю успехов в новых работах 😊\n",
    "    \n",
    "**[общий комментарий]** Ячейки **markdown** в том числе мы можем использовать как дополнительный способ стилизации нашего проекта. Оставил ниже ссылку, с примерами стилизации.\n",
    "\n",
    "https://sqlbak.com/blog/jupyter-notebook-markdown-cheatsheet\n",
    " \n",
    "    \n",
    "</div>"
   ]
  }
 ],
 "metadata": {
  "ExecuteTimeLog": [
   {
    "duration": 1349,
    "start_time": "2021-06-08T16:17:55.502Z"
   },
   {
    "duration": 4,
    "start_time": "2021-06-08T16:18:00.131Z"
   },
   {
    "duration": 562,
    "start_time": "2021-06-08T16:18:00.772Z"
   },
   {
    "duration": 16,
    "start_time": "2021-06-08T16:18:03.841Z"
   },
   {
    "duration": 19,
    "start_time": "2021-06-08T16:18:04.675Z"
   },
   {
    "duration": 17,
    "start_time": "2021-06-08T16:18:04.758Z"
   },
   {
    "duration": 15,
    "start_time": "2021-06-08T16:18:04.838Z"
   },
   {
    "duration": 16,
    "start_time": "2021-06-08T16:18:05.006Z"
   },
   {
    "duration": 70,
    "start_time": "2021-06-08T16:18:05.174Z"
   },
   {
    "duration": 40,
    "start_time": "2021-06-08T16:18:05.424Z"
   },
   {
    "duration": 41,
    "start_time": "2021-06-08T16:18:05.514Z"
   },
   {
    "duration": 20,
    "start_time": "2021-06-08T16:18:05.600Z"
   },
   {
    "duration": 139,
    "start_time": "2021-06-08T16:18:05.845Z"
   },
   {
    "duration": 124,
    "start_time": "2021-06-08T16:18:05.987Z"
   },
   {
    "duration": 78,
    "start_time": "2021-06-08T16:18:06.114Z"
   },
   {
    "duration": 9,
    "start_time": "2021-06-08T16:18:06.195Z"
   },
   {
    "duration": 25,
    "start_time": "2021-06-08T16:18:06.261Z"
   },
   {
    "duration": 21,
    "start_time": "2021-06-08T16:18:06.349Z"
   },
   {
    "duration": 19,
    "start_time": "2021-06-08T16:18:06.430Z"
   },
   {
    "duration": 8,
    "start_time": "2021-06-08T16:18:06.513Z"
   },
   {
    "duration": 411,
    "start_time": "2021-06-08T16:18:06.765Z"
   },
   {
    "duration": 422,
    "start_time": "2021-06-08T16:18:07.179Z"
   },
   {
    "duration": 385,
    "start_time": "2021-06-08T16:18:07.603Z"
   },
   {
    "duration": 383,
    "start_time": "2021-06-08T16:18:07.991Z"
   },
   {
    "duration": 91,
    "start_time": "2021-06-08T16:18:08.716Z"
   },
   {
    "duration": 11,
    "start_time": "2021-06-08T16:18:08.881Z"
   },
   {
    "duration": 50,
    "start_time": "2021-06-08T16:18:09.551Z"
   },
   {
    "duration": 72,
    "start_time": "2021-06-08T16:18:10.735Z"
   },
   {
    "duration": 49,
    "start_time": "2021-06-08T16:18:11.150Z"
   },
   {
    "duration": 15,
    "start_time": "2021-06-08T16:18:11.789Z"
   },
   {
    "duration": 15,
    "start_time": "2021-06-08T16:18:12.133Z"
   },
   {
    "duration": 52,
    "start_time": "2021-06-08T16:18:12.566Z"
   },
   {
    "duration": 46,
    "start_time": "2021-06-08T16:18:13.034Z"
   },
   {
    "duration": 29,
    "start_time": "2021-06-08T16:18:13.559Z"
   },
   {
    "duration": 6,
    "start_time": "2021-06-08T16:18:14.603Z"
   },
   {
    "duration": 59,
    "start_time": "2021-06-08T16:18:15.486Z"
   },
   {
    "duration": 18,
    "start_time": "2021-06-08T16:18:15.777Z"
   },
   {
    "duration": 7,
    "start_time": "2021-06-08T16:18:19.920Z"
   },
   {
    "duration": 6,
    "start_time": "2021-06-08T16:18:44.495Z"
   },
   {
    "duration": 4,
    "start_time": "2021-06-08T16:18:53.660Z"
   },
   {
    "duration": 4,
    "start_time": "2021-06-08T16:18:53.768Z"
   },
   {
    "duration": 549,
    "start_time": "2021-06-08T16:18:53.827Z"
   },
   {
    "duration": 11,
    "start_time": "2021-06-08T16:18:54.379Z"
   },
   {
    "duration": 19,
    "start_time": "2021-06-08T16:18:54.393Z"
   },
   {
    "duration": 17,
    "start_time": "2021-06-08T16:18:54.415Z"
   },
   {
    "duration": 18,
    "start_time": "2021-06-08T16:18:54.435Z"
   },
   {
    "duration": 16,
    "start_time": "2021-06-08T16:18:54.506Z"
   },
   {
    "duration": 79,
    "start_time": "2021-06-08T16:18:55.128Z"
   },
   {
    "duration": 37,
    "start_time": "2021-06-08T16:18:56.403Z"
   },
   {
    "duration": 37,
    "start_time": "2021-06-08T16:18:57.067Z"
   },
   {
    "duration": 21,
    "start_time": "2021-06-08T16:18:57.568Z"
   },
   {
    "duration": 114,
    "start_time": "2021-06-08T16:18:57.819Z"
   },
   {
    "duration": 103,
    "start_time": "2021-06-08T16:18:57.936Z"
   },
   {
    "duration": 69,
    "start_time": "2021-06-08T16:18:58.042Z"
   },
   {
    "duration": 9,
    "start_time": "2021-06-08T16:18:58.114Z"
   },
   {
    "duration": 27,
    "start_time": "2021-06-08T16:18:58.238Z"
   },
   {
    "duration": 22,
    "start_time": "2021-06-08T16:18:58.325Z"
   },
   {
    "duration": 19,
    "start_time": "2021-06-08T16:18:58.405Z"
   },
   {
    "duration": 8,
    "start_time": "2021-06-08T16:18:58.490Z"
   },
   {
    "duration": 415,
    "start_time": "2021-06-08T16:18:58.743Z"
   },
   {
    "duration": 429,
    "start_time": "2021-06-08T16:18:59.160Z"
   },
   {
    "duration": 384,
    "start_time": "2021-06-08T16:18:59.591Z"
   },
   {
    "duration": 402,
    "start_time": "2021-06-08T16:18:59.978Z"
   },
   {
    "duration": 95,
    "start_time": "2021-06-08T16:19:00.521Z"
   },
   {
    "duration": 11,
    "start_time": "2021-06-08T16:19:00.847Z"
   },
   {
    "duration": 54,
    "start_time": "2021-06-08T16:19:01.014Z"
   },
   {
    "duration": 73,
    "start_time": "2021-06-08T16:19:01.571Z"
   },
   {
    "duration": 42,
    "start_time": "2021-06-08T16:19:01.870Z"
   },
   {
    "duration": 8,
    "start_time": "2021-06-08T16:19:02.238Z"
   },
   {
    "duration": 12,
    "start_time": "2021-06-08T16:19:02.659Z"
   },
   {
    "duration": 50,
    "start_time": "2021-06-08T16:19:02.878Z"
   },
   {
    "duration": 48,
    "start_time": "2021-06-08T16:19:03.279Z"
   },
   {
    "duration": 30,
    "start_time": "2021-06-08T16:19:03.697Z"
   },
   {
    "duration": 6,
    "start_time": "2021-06-08T16:19:04.522Z"
   },
   {
    "duration": 62,
    "start_time": "2021-06-08T16:19:05.169Z"
   },
   {
    "duration": 20,
    "start_time": "2021-06-08T16:19:05.668Z"
   },
   {
    "duration": 7,
    "start_time": "2021-06-08T16:19:07.273Z"
   },
   {
    "duration": 13,
    "start_time": "2021-06-08T16:19:12.270Z"
   },
   {
    "duration": 9,
    "start_time": "2021-06-08T16:19:38.861Z"
   },
   {
    "duration": 8,
    "start_time": "2021-06-08T16:19:48.883Z"
   },
   {
    "duration": 2045,
    "start_time": "2021-06-08T16:20:01.688Z"
   },
   {
    "duration": 463,
    "start_time": "2021-06-08T16:20:07.769Z"
   },
   {
    "duration": 21,
    "start_time": "2021-06-08T16:20:28.501Z"
   },
   {
    "duration": 63,
    "start_time": "2021-06-08T16:21:20.414Z"
   },
   {
    "duration": 22,
    "start_time": "2021-06-08T16:21:20.957Z"
   },
   {
    "duration": 9177,
    "start_time": "2021-06-08T16:21:23.582Z"
   },
   {
    "duration": 1376,
    "start_time": "2021-06-08T16:21:42.520Z"
   },
   {
    "duration": 5,
    "start_time": "2021-06-08T16:21:43.898Z"
   },
   {
    "duration": 537,
    "start_time": "2021-06-08T16:21:43.907Z"
   },
   {
    "duration": 16,
    "start_time": "2021-06-08T16:21:44.447Z"
   },
   {
    "duration": 25,
    "start_time": "2021-06-08T16:21:44.466Z"
   },
   {
    "duration": 16,
    "start_time": "2021-06-08T16:21:44.494Z"
   },
   {
    "duration": 16,
    "start_time": "2021-06-08T16:21:44.513Z"
   },
   {
    "duration": 16,
    "start_time": "2021-06-08T16:21:44.532Z"
   },
   {
    "duration": 71,
    "start_time": "2021-06-08T16:21:44.588Z"
   },
   {
    "duration": 55,
    "start_time": "2021-06-08T16:21:44.662Z"
   },
   {
    "duration": 37,
    "start_time": "2021-06-08T16:21:44.719Z"
   },
   {
    "duration": 41,
    "start_time": "2021-06-08T16:21:44.759Z"
   },
   {
    "duration": 142,
    "start_time": "2021-06-08T16:21:44.803Z"
   },
   {
    "duration": 109,
    "start_time": "2021-06-08T16:21:44.947Z"
   },
   {
    "duration": 72,
    "start_time": "2021-06-08T16:21:45.059Z"
   },
   {
    "duration": 9,
    "start_time": "2021-06-08T16:21:45.134Z"
   },
   {
    "duration": 47,
    "start_time": "2021-06-08T16:21:45.145Z"
   },
   {
    "duration": 21,
    "start_time": "2021-06-08T16:21:45.195Z"
   },
   {
    "duration": 19,
    "start_time": "2021-06-08T16:21:45.219Z"
   },
   {
    "duration": 7,
    "start_time": "2021-06-08T16:21:45.241Z"
   },
   {
    "duration": 455,
    "start_time": "2021-06-08T16:21:45.250Z"
   },
   {
    "duration": 423,
    "start_time": "2021-06-08T16:21:45.707Z"
   },
   {
    "duration": 368,
    "start_time": "2021-06-08T16:21:46.132Z"
   },
   {
    "duration": 387,
    "start_time": "2021-06-08T16:21:46.504Z"
   },
   {
    "duration": 113,
    "start_time": "2021-06-08T16:21:46.894Z"
   },
   {
    "duration": 12,
    "start_time": "2021-06-08T16:21:47.010Z"
   },
   {
    "duration": 69,
    "start_time": "2021-06-08T16:21:47.027Z"
   },
   {
    "duration": 86,
    "start_time": "2021-06-08T16:21:47.099Z"
   },
   {
    "duration": 51,
    "start_time": "2021-06-08T16:21:47.188Z"
   },
   {
    "duration": 16,
    "start_time": "2021-06-08T16:21:47.241Z"
   },
   {
    "duration": 33,
    "start_time": "2021-06-08T16:21:47.260Z"
   },
   {
    "duration": 54,
    "start_time": "2021-06-08T16:21:47.297Z"
   },
   {
    "duration": 79,
    "start_time": "2021-06-08T16:21:47.354Z"
   },
   {
    "duration": 56,
    "start_time": "2021-06-08T16:21:47.436Z"
   },
   {
    "duration": 6,
    "start_time": "2021-06-08T16:21:47.496Z"
   },
   {
    "duration": 51,
    "start_time": "2021-06-08T16:21:47.504Z"
   },
   {
    "duration": 44,
    "start_time": "2021-06-08T16:21:47.558Z"
   },
   {
    "duration": 459,
    "start_time": "2021-06-08T16:21:47.604Z"
   },
   {
    "duration": 9,
    "start_time": "2021-06-08T16:22:38.699Z"
   },
   {
    "duration": 46,
    "start_time": "2021-06-08T16:22:50.952Z"
   },
   {
    "duration": 13,
    "start_time": "2021-06-08T16:23:02.666Z"
   },
   {
    "duration": 13,
    "start_time": "2021-06-08T16:23:06.171Z"
   },
   {
    "duration": 9,
    "start_time": "2021-06-08T16:23:58.714Z"
   },
   {
    "duration": 4,
    "start_time": "2021-06-08T16:24:11.984Z"
   },
   {
    "duration": 5,
    "start_time": "2021-06-08T16:24:12.077Z"
   },
   {
    "duration": 506,
    "start_time": "2021-06-08T16:24:12.153Z"
   },
   {
    "duration": 11,
    "start_time": "2021-06-08T16:24:12.661Z"
   },
   {
    "duration": 22,
    "start_time": "2021-06-08T16:24:12.675Z"
   },
   {
    "duration": 17,
    "start_time": "2021-06-08T16:24:12.699Z"
   },
   {
    "duration": 17,
    "start_time": "2021-06-08T16:24:12.718Z"
   },
   {
    "duration": 17,
    "start_time": "2021-06-08T16:24:12.824Z"
   },
   {
    "duration": 82,
    "start_time": "2021-06-08T16:24:13.003Z"
   },
   {
    "duration": 36,
    "start_time": "2021-06-08T16:24:13.264Z"
   },
   {
    "duration": 36,
    "start_time": "2021-06-08T16:24:13.329Z"
   },
   {
    "duration": 22,
    "start_time": "2021-06-08T16:24:13.673Z"
   },
   {
    "duration": 112,
    "start_time": "2021-06-08T16:24:14.338Z"
   },
   {
    "duration": 100,
    "start_time": "2021-06-08T16:24:14.453Z"
   },
   {
    "duration": 72,
    "start_time": "2021-06-08T16:24:14.556Z"
   },
   {
    "duration": 9,
    "start_time": "2021-06-08T16:24:14.630Z"
   },
   {
    "duration": 27,
    "start_time": "2021-06-08T16:24:14.772Z"
   },
   {
    "duration": 23,
    "start_time": "2021-06-08T16:24:14.857Z"
   },
   {
    "duration": 19,
    "start_time": "2021-06-08T16:24:14.935Z"
   },
   {
    "duration": 10,
    "start_time": "2021-06-08T16:24:15.012Z"
   },
   {
    "duration": 412,
    "start_time": "2021-06-08T16:24:15.262Z"
   },
   {
    "duration": 417,
    "start_time": "2021-06-08T16:24:15.677Z"
   },
   {
    "duration": 388,
    "start_time": "2021-06-08T16:24:16.749Z"
   },
   {
    "duration": 383,
    "start_time": "2021-06-08T16:24:17.141Z"
   },
   {
    "duration": 99,
    "start_time": "2021-06-08T16:24:24.534Z"
   },
   {
    "duration": 11,
    "start_time": "2021-06-08T16:24:25.954Z"
   },
   {
    "duration": 54,
    "start_time": "2021-06-08T16:24:26.497Z"
   },
   {
    "duration": 74,
    "start_time": "2021-06-08T16:24:29.010Z"
   },
   {
    "duration": 41,
    "start_time": "2021-06-08T16:24:41.860Z"
   },
   {
    "duration": 9,
    "start_time": "2021-06-08T16:24:44.531Z"
   },
   {
    "duration": 13,
    "start_time": "2021-06-08T16:24:45.591Z"
   },
   {
    "duration": 49,
    "start_time": "2021-06-08T16:24:46.182Z"
   },
   {
    "duration": 44,
    "start_time": "2021-06-08T16:24:51.995Z"
   },
   {
    "duration": 29,
    "start_time": "2021-06-08T16:24:52.861Z"
   },
   {
    "duration": 6,
    "start_time": "2021-06-08T16:35:37.831Z"
   },
   {
    "duration": 52,
    "start_time": "2021-06-08T16:35:38.632Z"
   },
   {
    "duration": 20,
    "start_time": "2021-06-08T16:35:39.072Z"
   },
   {
    "duration": 350,
    "start_time": "2021-06-08T16:35:41.710Z"
   },
   {
    "duration": 340,
    "start_time": "2021-06-08T16:35:56.678Z"
   },
   {
    "duration": 8,
    "start_time": "2021-06-08T16:36:10.574Z"
   },
   {
    "duration": 9,
    "start_time": "2021-06-08T16:36:18.821Z"
   },
   {
    "duration": 8,
    "start_time": "2021-06-08T16:36:20.542Z"
   },
   {
    "duration": 4991,
    "start_time": "2021-06-08T16:36:32.621Z"
   },
   {
    "duration": 4158,
    "start_time": "2021-06-08T16:36:40.729Z"
   },
   {
    "duration": 1322,
    "start_time": "2021-06-08T16:37:13.330Z"
   },
   {
    "duration": 4,
    "start_time": "2021-06-08T16:37:14.655Z"
   },
   {
    "duration": 546,
    "start_time": "2021-06-08T16:37:14.664Z"
   },
   {
    "duration": 15,
    "start_time": "2021-06-08T16:37:15.213Z"
   },
   {
    "duration": 22,
    "start_time": "2021-06-08T16:37:15.230Z"
   },
   {
    "duration": 17,
    "start_time": "2021-06-08T16:37:15.254Z"
   },
   {
    "duration": 24,
    "start_time": "2021-06-08T16:37:15.274Z"
   },
   {
    "duration": 16,
    "start_time": "2021-06-08T16:37:15.302Z"
   },
   {
    "duration": 97,
    "start_time": "2021-06-08T16:37:15.321Z"
   },
   {
    "duration": 39,
    "start_time": "2021-06-08T16:37:15.420Z"
   },
   {
    "duration": 56,
    "start_time": "2021-06-08T16:37:15.461Z"
   },
   {
    "duration": 21,
    "start_time": "2021-06-08T16:37:15.519Z"
   },
   {
    "duration": 171,
    "start_time": "2021-06-08T16:37:15.543Z"
   },
   {
    "duration": 116,
    "start_time": "2021-06-08T16:37:15.716Z"
   },
   {
    "duration": 67,
    "start_time": "2021-06-08T16:37:15.834Z"
   },
   {
    "duration": 9,
    "start_time": "2021-06-08T16:37:15.903Z"
   },
   {
    "duration": 30,
    "start_time": "2021-06-08T16:37:15.914Z"
   },
   {
    "duration": 53,
    "start_time": "2021-06-08T16:37:15.947Z"
   },
   {
    "duration": 18,
    "start_time": "2021-06-08T16:37:16.002Z"
   },
   {
    "duration": 7,
    "start_time": "2021-06-08T16:37:16.022Z"
   },
   {
    "duration": 449,
    "start_time": "2021-06-08T16:37:16.032Z"
   },
   {
    "duration": 414,
    "start_time": "2021-06-08T16:37:16.486Z"
   },
   {
    "duration": 378,
    "start_time": "2021-06-08T16:37:16.903Z"
   },
   {
    "duration": 369,
    "start_time": "2021-06-08T16:37:17.286Z"
   },
   {
    "duration": 111,
    "start_time": "2021-06-08T16:37:17.657Z"
   },
   {
    "duration": 19,
    "start_time": "2021-06-08T16:37:17.775Z"
   },
   {
    "duration": 55,
    "start_time": "2021-06-08T16:37:17.797Z"
   },
   {
    "duration": 95,
    "start_time": "2021-06-08T16:37:17.856Z"
   },
   {
    "duration": 62,
    "start_time": "2021-06-08T16:37:17.953Z"
   },
   {
    "duration": 15,
    "start_time": "2021-06-08T16:37:18.018Z"
   },
   {
    "duration": 14,
    "start_time": "2021-06-08T16:37:18.035Z"
   },
   {
    "duration": 84,
    "start_time": "2021-06-08T16:37:18.052Z"
   },
   {
    "duration": 74,
    "start_time": "2021-06-08T16:37:18.140Z"
   },
   {
    "duration": 32,
    "start_time": "2021-06-08T16:37:18.217Z"
   },
   {
    "duration": 6,
    "start_time": "2021-06-08T16:37:18.252Z"
   },
   {
    "duration": 83,
    "start_time": "2021-06-08T16:37:18.261Z"
   },
   {
    "duration": 51,
    "start_time": "2021-06-08T16:37:18.346Z"
   },
   {
    "duration": 9,
    "start_time": "2021-06-08T16:37:18.400Z"
   },
   {
    "duration": 9,
    "start_time": "2021-06-08T16:42:26.966Z"
   },
   {
    "duration": 1358,
    "start_time": "2021-06-09T11:45:55.984Z"
   },
   {
    "duration": 5,
    "start_time": "2021-06-09T11:46:00.585Z"
   },
   {
    "duration": 503,
    "start_time": "2021-06-09T11:46:01.093Z"
   },
   {
    "duration": 15,
    "start_time": "2021-06-09T11:46:01.599Z"
   },
   {
    "duration": 23,
    "start_time": "2021-06-09T11:46:01.617Z"
   },
   {
    "duration": 17,
    "start_time": "2021-06-09T11:46:01.643Z"
   },
   {
    "duration": 33,
    "start_time": "2021-06-09T11:46:01.662Z"
   },
   {
    "duration": 16,
    "start_time": "2021-06-09T11:46:02.998Z"
   },
   {
    "duration": 66,
    "start_time": "2021-06-09T11:46:03.155Z"
   },
   {
    "duration": 37,
    "start_time": "2021-06-09T11:46:03.414Z"
   },
   {
    "duration": 36,
    "start_time": "2021-06-09T11:46:03.495Z"
   },
   {
    "duration": 20,
    "start_time": "2021-06-09T11:46:03.593Z"
   },
   {
    "duration": 122,
    "start_time": "2021-06-09T11:46:03.828Z"
   },
   {
    "duration": 94,
    "start_time": "2021-06-09T11:46:05.074Z"
   },
   {
    "duration": 60,
    "start_time": "2021-06-09T11:46:05.328Z"
   },
   {
    "duration": 10,
    "start_time": "2021-06-09T11:46:05.520Z"
   },
   {
    "duration": 25,
    "start_time": "2021-06-09T11:46:06.331Z"
   },
   {
    "duration": 21,
    "start_time": "2021-06-09T11:46:06.554Z"
   },
   {
    "duration": 17,
    "start_time": "2021-06-09T11:46:06.578Z"
   },
   {
    "duration": 6,
    "start_time": "2021-06-09T11:46:06.598Z"
   },
   {
    "duration": 376,
    "start_time": "2021-06-09T11:46:06.837Z"
   },
   {
    "duration": 402,
    "start_time": "2021-06-09T11:46:07.216Z"
   },
   {
    "duration": 345,
    "start_time": "2021-06-09T11:46:28.577Z"
   },
   {
    "duration": 359,
    "start_time": "2021-06-09T11:46:28.978Z"
   },
   {
    "duration": 90,
    "start_time": "2021-06-09T11:46:37.203Z"
   },
   {
    "duration": 9,
    "start_time": "2021-06-09T11:46:51.509Z"
   },
   {
    "duration": 11,
    "start_time": "2021-06-09T11:46:56.532Z"
   },
   {
    "duration": 48,
    "start_time": "2021-06-09T11:46:57.611Z"
   },
   {
    "duration": 68,
    "start_time": "2021-06-09T11:47:16.312Z"
   },
   {
    "duration": 46,
    "start_time": "2021-06-09T11:47:16.699Z"
   },
   {
    "duration": 11,
    "start_time": "2021-06-09T11:47:17.511Z"
   },
   {
    "duration": 12,
    "start_time": "2021-06-09T11:47:17.935Z"
   },
   {
    "duration": 51,
    "start_time": "2021-06-09T11:47:18.371Z"
   },
   {
    "duration": 44,
    "start_time": "2021-06-09T11:47:19.512Z"
   },
   {
    "duration": 33,
    "start_time": "2021-06-09T11:47:20.647Z"
   },
   {
    "duration": 5,
    "start_time": "2021-06-09T11:47:25.628Z"
   },
   {
    "duration": 50,
    "start_time": "2021-06-09T11:47:28.038Z"
   },
   {
    "duration": 25,
    "start_time": "2021-06-09T11:47:29.014Z"
   },
   {
    "duration": 10,
    "start_time": "2021-06-09T11:47:42.019Z"
   },
   {
    "duration": 9,
    "start_time": "2021-06-09T11:47:58.190Z"
   },
   {
    "duration": 12,
    "start_time": "2021-06-09T11:54:56.474Z"
   },
   {
    "duration": 10,
    "start_time": "2021-06-09T11:55:03.445Z"
   },
   {
    "duration": 8,
    "start_time": "2021-06-09T11:55:07.531Z"
   },
   {
    "duration": 8,
    "start_time": "2021-06-09T12:09:45.033Z"
   },
   {
    "duration": 25,
    "start_time": "2021-06-09T12:09:49.077Z"
   },
   {
    "duration": 33,
    "start_time": "2021-06-09T12:15:46.966Z"
   },
   {
    "duration": 391,
    "start_time": "2021-06-09T12:15:50.573Z"
   },
   {
    "duration": 269,
    "start_time": "2021-06-09T12:15:53.670Z"
   },
   {
    "duration": 14,
    "start_time": "2021-06-09T12:16:03.695Z"
   },
   {
    "duration": 14,
    "start_time": "2021-06-09T12:16:31.722Z"
   },
   {
    "duration": 14,
    "start_time": "2021-06-09T12:16:35.425Z"
   },
   {
    "duration": 13,
    "start_time": "2021-06-09T12:16:39.458Z"
   },
   {
    "duration": 5,
    "start_time": "2021-06-09T12:18:32.662Z"
   },
   {
    "duration": 19,
    "start_time": "2021-06-09T12:18:40.935Z"
   },
   {
    "duration": 24,
    "start_time": "2021-06-09T12:18:49.973Z"
   },
   {
    "duration": 5,
    "start_time": "2021-06-09T12:19:07.550Z"
   },
   {
    "duration": 22,
    "start_time": "2021-06-09T12:19:38.558Z"
   },
   {
    "duration": 23,
    "start_time": "2021-06-09T12:19:43.382Z"
   },
   {
    "duration": 13,
    "start_time": "2021-06-09T12:19:53.852Z"
   },
   {
    "duration": 14,
    "start_time": "2021-06-09T12:20:04.466Z"
   },
   {
    "duration": 18,
    "start_time": "2021-06-09T12:27:58.744Z"
   },
   {
    "duration": 12,
    "start_time": "2021-06-09T12:28:06.750Z"
   },
   {
    "duration": 4,
    "start_time": "2021-06-09T12:28:49.205Z"
   },
   {
    "duration": 4,
    "start_time": "2021-06-09T12:28:49.292Z"
   },
   {
    "duration": 499,
    "start_time": "2021-06-09T12:28:49.374Z"
   },
   {
    "duration": 11,
    "start_time": "2021-06-09T12:28:49.876Z"
   },
   {
    "duration": 20,
    "start_time": "2021-06-09T12:28:49.890Z"
   },
   {
    "duration": 15,
    "start_time": "2021-06-09T12:28:49.912Z"
   },
   {
    "duration": 17,
    "start_time": "2021-06-09T12:28:49.929Z"
   },
   {
    "duration": 16,
    "start_time": "2021-06-09T12:28:50.046Z"
   },
   {
    "duration": 73,
    "start_time": "2021-06-09T12:28:50.211Z"
   },
   {
    "duration": 34,
    "start_time": "2021-06-09T12:28:50.461Z"
   },
   {
    "duration": 35,
    "start_time": "2021-06-09T12:28:50.547Z"
   },
   {
    "duration": 21,
    "start_time": "2021-06-09T12:28:50.633Z"
   },
   {
    "duration": 115,
    "start_time": "2021-06-09T12:28:50.880Z"
   },
   {
    "duration": 112,
    "start_time": "2021-06-09T12:28:50.998Z"
   },
   {
    "duration": 69,
    "start_time": "2021-06-09T12:28:51.114Z"
   },
   {
    "duration": 9,
    "start_time": "2021-06-09T12:28:51.185Z"
   },
   {
    "duration": 24,
    "start_time": "2021-06-09T12:28:51.298Z"
   },
   {
    "duration": 22,
    "start_time": "2021-06-09T12:28:51.394Z"
   },
   {
    "duration": 17,
    "start_time": "2021-06-09T12:28:51.466Z"
   },
   {
    "duration": 8,
    "start_time": "2021-06-09T12:28:51.552Z"
   },
   {
    "duration": 376,
    "start_time": "2021-06-09T12:28:51.801Z"
   },
   {
    "duration": 386,
    "start_time": "2021-06-09T12:28:52.184Z"
   },
   {
    "duration": 362,
    "start_time": "2021-06-09T12:28:52.573Z"
   },
   {
    "duration": 348,
    "start_time": "2021-06-09T12:28:52.938Z"
   },
   {
    "duration": 15,
    "start_time": "2021-06-09T12:28:53.290Z"
   },
   {
    "duration": 86,
    "start_time": "2021-06-09T12:28:53.495Z"
   },
   {
    "duration": 10,
    "start_time": "2021-06-09T12:28:54.080Z"
   },
   {
    "duration": 50,
    "start_time": "2021-06-09T12:28:54.161Z"
   },
   {
    "duration": 68,
    "start_time": "2021-06-09T12:28:54.411Z"
   },
   {
    "duration": 46,
    "start_time": "2021-06-09T12:28:54.579Z"
   },
   {
    "duration": 8,
    "start_time": "2021-06-09T12:28:57.610Z"
   },
   {
    "duration": 13,
    "start_time": "2021-06-09T12:28:58.198Z"
   },
   {
    "duration": 50,
    "start_time": "2021-06-09T12:29:00.691Z"
   },
   {
    "duration": 44,
    "start_time": "2021-06-09T12:29:03.082Z"
   },
   {
    "duration": 32,
    "start_time": "2021-06-09T12:29:04.188Z"
   },
   {
    "duration": 6,
    "start_time": "2021-06-09T12:29:05.880Z"
   },
   {
    "duration": 51,
    "start_time": "2021-06-09T12:29:51.257Z"
   },
   {
    "duration": 18,
    "start_time": "2021-06-09T12:29:51.339Z"
   },
   {
    "duration": 10,
    "start_time": "2021-06-09T12:29:51.512Z"
   },
   {
    "duration": 13,
    "start_time": "2021-06-09T12:29:51.603Z"
   },
   {
    "duration": 10,
    "start_time": "2021-06-09T12:30:00.752Z"
   },
   {
    "duration": 14,
    "start_time": "2021-06-09T12:30:23.783Z"
   },
   {
    "duration": 14,
    "start_time": "2021-06-09T12:30:55.819Z"
   },
   {
    "duration": 18,
    "start_time": "2021-06-09T12:31:07.338Z"
   },
   {
    "duration": 17,
    "start_time": "2021-06-09T12:31:12.180Z"
   },
   {
    "duration": 19,
    "start_time": "2021-06-09T12:31:16.332Z"
   },
   {
    "duration": 17,
    "start_time": "2021-06-09T12:31:22.430Z"
   },
   {
    "duration": 17,
    "start_time": "2021-06-09T12:31:25.969Z"
   },
   {
    "duration": 17,
    "start_time": "2021-06-09T12:31:28.254Z"
   },
   {
    "duration": 17,
    "start_time": "2021-06-09T12:31:30.866Z"
   },
   {
    "duration": 17,
    "start_time": "2021-06-09T12:31:33.824Z"
   },
   {
    "duration": 16,
    "start_time": "2021-06-09T12:31:36.993Z"
   },
   {
    "duration": 17,
    "start_time": "2021-06-09T12:31:39.579Z"
   },
   {
    "duration": 16,
    "start_time": "2021-06-09T12:31:46.374Z"
   },
   {
    "duration": 17,
    "start_time": "2021-06-09T12:31:49.161Z"
   },
   {
    "duration": 17,
    "start_time": "2021-06-09T12:31:50.833Z"
   },
   {
    "duration": 15,
    "start_time": "2021-06-09T12:33:30.267Z"
   },
   {
    "duration": 12,
    "start_time": "2021-06-09T12:33:34.930Z"
   },
   {
    "duration": 32,
    "start_time": "2021-06-09T12:35:06.183Z"
   },
   {
    "duration": 12,
    "start_time": "2021-06-09T12:35:35.599Z"
   },
   {
    "duration": 33,
    "start_time": "2021-06-09T12:35:41.599Z"
   },
   {
    "duration": 268,
    "start_time": "2021-06-09T12:36:12.007Z"
   },
   {
    "duration": 4,
    "start_time": "2021-06-09T12:36:25.630Z"
   },
   {
    "duration": 4,
    "start_time": "2021-06-09T12:36:25.713Z"
   },
   {
    "duration": 613,
    "start_time": "2021-06-09T12:36:25.798Z"
   },
   {
    "duration": 13,
    "start_time": "2021-06-09T12:36:26.414Z"
   },
   {
    "duration": 17,
    "start_time": "2021-06-09T12:36:26.430Z"
   },
   {
    "duration": 16,
    "start_time": "2021-06-09T12:36:26.450Z"
   },
   {
    "duration": 24,
    "start_time": "2021-06-09T12:36:26.468Z"
   },
   {
    "duration": 19,
    "start_time": "2021-06-09T12:36:26.494Z"
   },
   {
    "duration": 123,
    "start_time": "2021-06-09T12:36:26.637Z"
   },
   {
    "duration": 45,
    "start_time": "2021-06-09T12:36:26.890Z"
   },
   {
    "duration": 49,
    "start_time": "2021-06-09T12:36:26.983Z"
   },
   {
    "duration": 22,
    "start_time": "2021-06-09T12:36:27.058Z"
   },
   {
    "duration": 126,
    "start_time": "2021-06-09T12:36:27.309Z"
   },
   {
    "duration": 96,
    "start_time": "2021-06-09T12:36:27.437Z"
   },
   {
    "duration": 66,
    "start_time": "2021-06-09T12:36:27.536Z"
   },
   {
    "duration": 13,
    "start_time": "2021-06-09T12:36:27.605Z"
   },
   {
    "duration": 31,
    "start_time": "2021-06-09T12:36:27.732Z"
   },
   {
    "duration": 23,
    "start_time": "2021-06-09T12:36:27.812Z"
   },
   {
    "duration": 19,
    "start_time": "2021-06-09T12:36:27.894Z"
   },
   {
    "duration": 9,
    "start_time": "2021-06-09T12:36:27.975Z"
   },
   {
    "duration": 380,
    "start_time": "2021-06-09T12:36:28.227Z"
   },
   {
    "duration": 521,
    "start_time": "2021-06-09T12:36:28.610Z"
   },
   {
    "duration": 386,
    "start_time": "2021-06-09T12:36:29.134Z"
   },
   {
    "duration": 394,
    "start_time": "2021-06-09T12:36:29.524Z"
   },
   {
    "duration": 14,
    "start_time": "2021-06-09T12:36:29.921Z"
   },
   {
    "duration": 115,
    "start_time": "2021-06-09T12:36:29.938Z"
   },
   {
    "duration": 10,
    "start_time": "2021-06-09T12:36:35.091Z"
   },
   {
    "duration": 51,
    "start_time": "2021-06-09T12:36:35.576Z"
   },
   {
    "duration": 67,
    "start_time": "2021-06-09T12:36:37.454Z"
   },
   {
    "duration": 40,
    "start_time": "2021-06-09T12:36:38.021Z"
   },
   {
    "duration": 7,
    "start_time": "2021-06-09T12:36:38.364Z"
   },
   {
    "duration": 13,
    "start_time": "2021-06-09T12:36:38.532Z"
   },
   {
    "duration": 45,
    "start_time": "2021-06-09T12:36:38.707Z"
   },
   {
    "duration": 64,
    "start_time": "2021-06-09T12:36:38.874Z"
   },
   {
    "duration": 40,
    "start_time": "2021-06-09T12:36:39.069Z"
   },
   {
    "duration": 7,
    "start_time": "2021-06-09T12:36:39.601Z"
   },
   {
    "duration": 50,
    "start_time": "2021-06-09T12:36:39.993Z"
   },
   {
    "duration": 20,
    "start_time": "2021-06-09T12:36:41.186Z"
   },
   {
    "duration": 11,
    "start_time": "2021-06-09T12:36:42.112Z"
   },
   {
    "duration": 33,
    "start_time": "2021-06-09T12:36:42.743Z"
   },
   {
    "duration": 260,
    "start_time": "2021-06-09T12:37:06.606Z"
   },
   {
    "duration": 55,
    "start_time": "2021-06-09T12:41:31.422Z"
   },
   {
    "duration": 8,
    "start_time": "2021-06-09T12:41:31.583Z"
   },
   {
    "duration": 15,
    "start_time": "2021-06-09T12:41:31.667Z"
   },
   {
    "duration": 59,
    "start_time": "2021-06-09T12:41:31.760Z"
   },
   {
    "duration": 63,
    "start_time": "2021-06-09T12:41:31.835Z"
   },
   {
    "duration": 29,
    "start_time": "2021-06-09T12:41:31.918Z"
   },
   {
    "duration": 5,
    "start_time": "2021-06-09T12:41:32.085Z"
   },
   {
    "duration": 50,
    "start_time": "2021-06-09T12:41:32.252Z"
   },
   {
    "duration": 25,
    "start_time": "2021-06-09T12:41:32.336Z"
   },
   {
    "duration": 16,
    "start_time": "2021-06-09T12:41:32.502Z"
   },
   {
    "duration": 31,
    "start_time": "2021-06-09T12:41:42.916Z"
   },
   {
    "duration": 8,
    "start_time": "2021-06-09T12:41:49.714Z"
   },
   {
    "duration": 298,
    "start_time": "2021-06-09T12:42:11.637Z"
   },
   {
    "duration": 330,
    "start_time": "2021-06-09T12:42:27.777Z"
   },
   {
    "duration": 4,
    "start_time": "2021-06-09T13:05:49.596Z"
   },
   {
    "duration": 4,
    "start_time": "2021-06-09T13:05:49.679Z"
   },
   {
    "duration": 509,
    "start_time": "2021-06-09T13:05:49.763Z"
   },
   {
    "duration": 13,
    "start_time": "2021-06-09T13:05:50.275Z"
   },
   {
    "duration": 24,
    "start_time": "2021-06-09T13:05:50.746Z"
   },
   {
    "duration": 17,
    "start_time": "2021-06-09T13:05:50.833Z"
   },
   {
    "duration": 20,
    "start_time": "2021-06-09T13:05:50.918Z"
   },
   {
    "duration": 21,
    "start_time": "2021-06-09T13:05:51.078Z"
   },
   {
    "duration": 79,
    "start_time": "2021-06-09T13:05:51.247Z"
   },
   {
    "duration": 35,
    "start_time": "2021-06-09T13:05:51.500Z"
   },
   {
    "duration": 37,
    "start_time": "2021-06-09T13:05:51.595Z"
   },
   {
    "duration": 22,
    "start_time": "2021-06-09T13:05:51.661Z"
   },
   {
    "duration": 112,
    "start_time": "2021-06-09T13:05:51.921Z"
   },
   {
    "duration": 112,
    "start_time": "2021-06-09T13:05:52.036Z"
   },
   {
    "duration": 74,
    "start_time": "2021-06-09T13:05:52.151Z"
   },
   {
    "duration": 9,
    "start_time": "2021-06-09T13:05:52.228Z"
   },
   {
    "duration": 30,
    "start_time": "2021-06-09T13:05:52.486Z"
   },
   {
    "duration": 24,
    "start_time": "2021-06-09T13:05:52.649Z"
   },
   {
    "duration": 20,
    "start_time": "2021-06-09T13:05:52.804Z"
   },
   {
    "duration": 8,
    "start_time": "2021-06-09T13:05:52.972Z"
   },
   {
    "duration": 405,
    "start_time": "2021-06-09T13:05:53.479Z"
   },
   {
    "duration": 523,
    "start_time": "2021-06-09T13:05:53.888Z"
   },
   {
    "duration": 349,
    "start_time": "2021-06-09T13:05:54.642Z"
   },
   {
    "duration": 472,
    "start_time": "2021-06-09T13:05:54.994Z"
   },
   {
    "duration": 14,
    "start_time": "2021-06-09T13:05:57.914Z"
   },
   {
    "duration": 2021,
    "start_time": "2021-06-09T13:13:18.148Z"
   },
   {
    "duration": 12,
    "start_time": "2021-06-09T13:13:28.676Z"
   },
   {
    "duration": 4,
    "start_time": "2021-06-09T13:13:47.102Z"
   },
   {
    "duration": 9,
    "start_time": "2021-06-09T13:13:47.109Z"
   },
   {
    "duration": 553,
    "start_time": "2021-06-09T13:13:47.121Z"
   },
   {
    "duration": 13,
    "start_time": "2021-06-09T13:13:47.677Z"
   },
   {
    "duration": 21,
    "start_time": "2021-06-09T13:13:47.693Z"
   },
   {
    "duration": 19,
    "start_time": "2021-06-09T13:13:47.716Z"
   },
   {
    "duration": 49,
    "start_time": "2021-06-09T13:13:47.737Z"
   },
   {
    "duration": 27,
    "start_time": "2021-06-09T13:13:47.793Z"
   },
   {
    "duration": 101,
    "start_time": "2021-06-09T13:13:47.823Z"
   },
   {
    "duration": 34,
    "start_time": "2021-06-09T13:13:47.926Z"
   },
   {
    "duration": 57,
    "start_time": "2021-06-09T13:13:47.963Z"
   },
   {
    "duration": 21,
    "start_time": "2021-06-09T13:13:48.022Z"
   },
   {
    "duration": 149,
    "start_time": "2021-06-09T13:13:48.045Z"
   },
   {
    "duration": 136,
    "start_time": "2021-06-09T13:13:48.197Z"
   },
   {
    "duration": 70,
    "start_time": "2021-06-09T13:13:48.336Z"
   },
   {
    "duration": 9,
    "start_time": "2021-06-09T13:13:48.408Z"
   },
   {
    "duration": 27,
    "start_time": "2021-06-09T13:13:48.420Z"
   },
   {
    "duration": 55,
    "start_time": "2021-06-09T13:13:48.449Z"
   },
   {
    "duration": 19,
    "start_time": "2021-06-09T13:13:48.506Z"
   },
   {
    "duration": 8,
    "start_time": "2021-06-09T13:13:48.527Z"
   },
   {
    "duration": 490,
    "start_time": "2021-06-09T13:13:48.538Z"
   },
   {
    "duration": 539,
    "start_time": "2021-06-09T13:13:49.031Z"
   },
   {
    "duration": 521,
    "start_time": "2021-06-09T13:13:49.576Z"
   },
   {
    "duration": 433,
    "start_time": "2021-06-09T13:13:50.100Z"
   },
   {
    "duration": 17,
    "start_time": "2021-06-09T13:13:50.537Z"
   },
   {
    "duration": 32,
    "start_time": "2021-06-09T13:13:50.557Z"
   },
   {
    "duration": 11,
    "start_time": "2021-06-09T13:14:28.460Z"
   },
   {
    "duration": 9,
    "start_time": "2021-06-09T13:14:30.089Z"
   },
   {
    "duration": 95,
    "start_time": "2021-06-09T13:14:31.119Z"
   },
   {
    "duration": 6,
    "start_time": "2021-06-09T13:14:52.635Z"
   },
   {
    "duration": 8,
    "start_time": "2021-06-09T13:40:07.096Z"
   },
   {
    "duration": 23,
    "start_time": "2021-06-09T13:40:08.330Z"
   },
   {
    "duration": 10,
    "start_time": "2021-06-09T13:40:09.050Z"
   },
   {
    "duration": 66,
    "start_time": "2021-06-09T13:40:16.167Z"
   },
   {
    "duration": 44,
    "start_time": "2021-06-09T13:40:22.369Z"
   },
   {
    "duration": 6,
    "start_time": "2021-06-09T13:40:45.485Z"
   },
   {
    "duration": 9,
    "start_time": "2021-06-09T13:41:20.720Z"
   },
   {
    "duration": 13,
    "start_time": "2021-06-09T13:41:25.736Z"
   },
   {
    "duration": 49,
    "start_time": "2021-06-09T13:41:48.070Z"
   },
   {
    "duration": 50,
    "start_time": "2021-06-09T13:42:19.290Z"
   },
   {
    "duration": 45,
    "start_time": "2021-06-09T13:42:22.227Z"
   },
   {
    "duration": 12,
    "start_time": "2021-06-09T13:42:31.000Z"
   },
   {
    "duration": 39,
    "start_time": "2021-06-09T13:42:39.609Z"
   },
   {
    "duration": 8,
    "start_time": "2021-06-09T13:42:42.967Z"
   },
   {
    "duration": 10,
    "start_time": "2021-06-09T13:42:43.122Z"
   },
   {
    "duration": 42,
    "start_time": "2021-06-09T13:42:43.273Z"
   },
   {
    "duration": 42,
    "start_time": "2021-06-09T13:42:43.969Z"
   },
   {
    "duration": 28,
    "start_time": "2021-06-09T13:42:44.723Z"
   },
   {
    "duration": 4,
    "start_time": "2021-06-09T13:43:46.465Z"
   },
   {
    "duration": 18,
    "start_time": "2021-06-09T13:43:46.471Z"
   },
   {
    "duration": 500,
    "start_time": "2021-06-09T13:43:46.492Z"
   },
   {
    "duration": 11,
    "start_time": "2021-06-09T13:43:46.995Z"
   },
   {
    "duration": 23,
    "start_time": "2021-06-09T13:43:47.008Z"
   },
   {
    "duration": 18,
    "start_time": "2021-06-09T13:43:47.033Z"
   },
   {
    "duration": 43,
    "start_time": "2021-06-09T13:43:47.053Z"
   },
   {
    "duration": 17,
    "start_time": "2021-06-09T13:43:47.101Z"
   },
   {
    "duration": 92,
    "start_time": "2021-06-09T13:43:47.121Z"
   },
   {
    "duration": 35,
    "start_time": "2021-06-09T13:43:47.216Z"
   },
   {
    "duration": 61,
    "start_time": "2021-06-09T13:43:47.254Z"
   },
   {
    "duration": 21,
    "start_time": "2021-06-09T13:43:47.317Z"
   },
   {
    "duration": 148,
    "start_time": "2021-06-09T13:43:47.341Z"
   },
   {
    "duration": 99,
    "start_time": "2021-06-09T13:43:47.492Z"
   },
   {
    "duration": 53,
    "start_time": "2021-06-09T13:43:47.594Z"
   },
   {
    "duration": 34,
    "start_time": "2021-06-09T13:43:47.649Z"
   },
   {
    "duration": 25,
    "start_time": "2021-06-09T13:43:47.686Z"
   },
   {
    "duration": 21,
    "start_time": "2021-06-09T13:43:47.714Z"
   },
   {
    "duration": 47,
    "start_time": "2021-06-09T13:43:47.738Z"
   },
   {
    "duration": 9,
    "start_time": "2021-06-09T13:43:47.787Z"
   },
   {
    "duration": 402,
    "start_time": "2021-06-09T13:43:47.798Z"
   },
   {
    "duration": 404,
    "start_time": "2021-06-09T13:43:48.202Z"
   },
   {
    "duration": 368,
    "start_time": "2021-06-09T13:43:48.611Z"
   },
   {
    "duration": 379,
    "start_time": "2021-06-09T13:43:48.984Z"
   },
   {
    "duration": 20,
    "start_time": "2021-06-09T13:43:49.365Z"
   },
   {
    "duration": 10,
    "start_time": "2021-06-09T13:43:49.388Z"
   },
   {
    "duration": 123,
    "start_time": "2021-06-09T13:43:49.401Z"
   },
   {
    "duration": 11,
    "start_time": "2021-06-09T13:43:49.527Z"
   },
   {
    "duration": 88,
    "start_time": "2021-06-09T13:43:49.540Z"
   },
   {
    "duration": 56,
    "start_time": "2021-06-09T13:43:49.630Z"
   },
   {
    "duration": 9,
    "start_time": "2021-06-09T13:43:49.689Z"
   },
   {
    "duration": 15,
    "start_time": "2021-06-09T13:43:49.701Z"
   },
   {
    "duration": 73,
    "start_time": "2021-06-09T13:43:49.719Z"
   },
   {
    "duration": 43,
    "start_time": "2021-06-09T13:43:56.866Z"
   },
   {
    "duration": 45,
    "start_time": "2021-06-09T13:43:58.177Z"
   },
   {
    "duration": 28,
    "start_time": "2021-06-09T13:44:10.774Z"
   },
   {
    "duration": 8,
    "start_time": "2021-06-09T13:44:17.381Z"
   },
   {
    "duration": 20,
    "start_time": "2021-06-09T13:45:13.440Z"
   },
   {
    "duration": 17,
    "start_time": "2021-06-09T13:45:32.959Z"
   },
   {
    "duration": 8,
    "start_time": "2021-06-09T13:46:11.911Z"
   },
   {
    "duration": 8,
    "start_time": "2021-06-09T14:00:20.799Z"
   },
   {
    "duration": 8,
    "start_time": "2021-06-09T14:00:39.417Z"
   },
   {
    "duration": 8,
    "start_time": "2021-06-09T14:00:52.381Z"
   },
   {
    "duration": 16,
    "start_time": "2021-06-09T14:00:52.995Z"
   },
   {
    "duration": 8,
    "start_time": "2021-06-09T14:01:41.278Z"
   },
   {
    "duration": 7,
    "start_time": "2021-06-09T14:01:46.995Z"
   },
   {
    "duration": 7,
    "start_time": "2021-06-09T14:01:48.228Z"
   },
   {
    "duration": 1357,
    "start_time": "2021-06-09T14:02:25.807Z"
   },
   {
    "duration": 5,
    "start_time": "2021-06-09T14:02:27.167Z"
   },
   {
    "duration": 510,
    "start_time": "2021-06-09T14:02:27.184Z"
   },
   {
    "duration": 21,
    "start_time": "2021-06-09T14:02:27.697Z"
   },
   {
    "duration": 22,
    "start_time": "2021-06-09T14:02:27.721Z"
   },
   {
    "duration": 42,
    "start_time": "2021-06-09T14:02:27.746Z"
   },
   {
    "duration": 15,
    "start_time": "2021-06-09T14:02:27.790Z"
   },
   {
    "duration": 16,
    "start_time": "2021-06-09T14:02:27.809Z"
   },
   {
    "duration": 104,
    "start_time": "2021-06-09T14:02:27.828Z"
   },
   {
    "duration": 55,
    "start_time": "2021-06-09T14:02:27.934Z"
   },
   {
    "duration": 37,
    "start_time": "2021-06-09T14:02:27.992Z"
   },
   {
    "duration": 21,
    "start_time": "2021-06-09T14:02:28.031Z"
   },
   {
    "duration": 143,
    "start_time": "2021-06-09T14:02:29.400Z"
   },
   {
    "duration": 119,
    "start_time": "2021-06-09T14:02:29.546Z"
   },
   {
    "duration": 62,
    "start_time": "2021-06-09T14:02:29.668Z"
   },
   {
    "duration": 9,
    "start_time": "2021-06-09T14:02:29.732Z"
   },
   {
    "duration": 26,
    "start_time": "2021-06-09T14:02:29.817Z"
   },
   {
    "duration": 23,
    "start_time": "2021-06-09T14:02:29.890Z"
   },
   {
    "duration": 20,
    "start_time": "2021-06-09T14:02:29.996Z"
   },
   {
    "duration": 10,
    "start_time": "2021-06-09T14:02:30.059Z"
   },
   {
    "duration": 374,
    "start_time": "2021-06-09T14:02:30.311Z"
   },
   {
    "duration": 416,
    "start_time": "2021-06-09T14:02:30.688Z"
   },
   {
    "duration": 384,
    "start_time": "2021-06-09T14:02:31.556Z"
   },
   {
    "duration": 386,
    "start_time": "2021-06-09T14:02:31.943Z"
   },
   {
    "duration": 153,
    "start_time": "2021-06-09T14:02:32.333Z"
   },
   {
    "duration": 8,
    "start_time": "2021-06-09T14:02:32.489Z"
   },
   {
    "duration": 106,
    "start_time": "2021-06-09T14:02:32.500Z"
   },
   {
    "duration": 11,
    "start_time": "2021-06-09T14:02:32.697Z"
   },
   {
    "duration": 83,
    "start_time": "2021-06-09T14:02:32.920Z"
   },
   {
    "duration": 47,
    "start_time": "2021-06-09T14:02:33.012Z"
   },
   {
    "duration": 10,
    "start_time": "2021-06-09T14:02:33.149Z"
   },
   {
    "duration": 12,
    "start_time": "2021-06-09T14:02:33.233Z"
   },
   {
    "duration": 8,
    "start_time": "2021-06-09T14:02:33.313Z"
   },
   {
    "duration": 51,
    "start_time": "2021-06-09T14:02:33.401Z"
   },
   {
    "duration": 56,
    "start_time": "2021-06-09T14:02:33.564Z"
   },
   {
    "duration": 9,
    "start_time": "2021-06-09T14:02:33.649Z"
   },
   {
    "duration": 9,
    "start_time": "2021-06-09T14:02:33.730Z"
   },
   {
    "duration": 47,
    "start_time": "2021-06-09T14:02:33.816Z"
   },
   {
    "duration": 9,
    "start_time": "2021-06-09T14:02:33.911Z"
   },
   {
    "duration": 35,
    "start_time": "2021-06-09T14:02:33.990Z"
   },
   {
    "duration": 40,
    "start_time": "2021-06-09T14:03:15.374Z"
   },
   {
    "duration": 8,
    "start_time": "2021-06-09T14:03:17.723Z"
   },
   {
    "duration": 10,
    "start_time": "2021-06-09T14:03:17.945Z"
   },
   {
    "duration": 86,
    "start_time": "2021-06-09T14:03:44.250Z"
   },
   {
    "duration": 44,
    "start_time": "2021-06-09T14:03:50.637Z"
   },
   {
    "duration": 58,
    "start_time": "2021-06-09T14:04:43.983Z"
   },
   {
    "duration": 7,
    "start_time": "2021-06-09T14:04:44.151Z"
   },
   {
    "duration": 8,
    "start_time": "2021-06-09T14:04:44.307Z"
   },
   {
    "duration": 61,
    "start_time": "2021-06-09T14:04:44.649Z"
   },
   {
    "duration": 10,
    "start_time": "2021-06-09T14:04:45.190Z"
   },
   {
    "duration": 8,
    "start_time": "2021-06-09T14:05:17.008Z"
   },
   {
    "duration": 18,
    "start_time": "2021-06-09T14:05:29.192Z"
   },
   {
    "duration": 499,
    "start_time": "2021-06-09T14:05:37.844Z"
   },
   {
    "duration": 16,
    "start_time": "2021-06-09T14:05:41.084Z"
   },
   {
    "duration": 1332,
    "start_time": "2021-06-09T14:32:34.123Z"
   },
   {
    "duration": 4,
    "start_time": "2021-06-09T14:32:35.457Z"
   },
   {
    "duration": 530,
    "start_time": "2021-06-09T14:32:35.464Z"
   },
   {
    "duration": 15,
    "start_time": "2021-06-09T14:32:35.997Z"
   },
   {
    "duration": 21,
    "start_time": "2021-06-09T14:32:36.014Z"
   },
   {
    "duration": 16,
    "start_time": "2021-06-09T14:32:36.038Z"
   },
   {
    "duration": 36,
    "start_time": "2021-06-09T14:32:36.056Z"
   },
   {
    "duration": 17,
    "start_time": "2021-06-09T14:32:36.095Z"
   },
   {
    "duration": 121,
    "start_time": "2021-06-09T14:32:36.114Z"
   },
   {
    "duration": 38,
    "start_time": "2021-06-09T14:32:36.302Z"
   },
   {
    "duration": 77,
    "start_time": "2021-06-09T14:32:36.343Z"
   },
   {
    "duration": 20,
    "start_time": "2021-06-09T14:32:36.423Z"
   },
   {
    "duration": 172,
    "start_time": "2021-06-09T14:32:36.446Z"
   },
   {
    "duration": 117,
    "start_time": "2021-06-09T14:32:36.620Z"
   },
   {
    "duration": 63,
    "start_time": "2021-06-09T14:32:36.739Z"
   },
   {
    "duration": 9,
    "start_time": "2021-06-09T14:32:36.805Z"
   },
   {
    "duration": 31,
    "start_time": "2021-06-09T14:32:36.818Z"
   },
   {
    "duration": 45,
    "start_time": "2021-06-09T14:32:36.852Z"
   },
   {
    "duration": 21,
    "start_time": "2021-06-09T14:32:36.900Z"
   },
   {
    "duration": 17,
    "start_time": "2021-06-09T14:32:36.924Z"
   },
   {
    "duration": 405,
    "start_time": "2021-06-09T14:32:36.943Z"
   },
   {
    "duration": 403,
    "start_time": "2021-06-09T14:32:37.351Z"
   },
   {
    "duration": 367,
    "start_time": "2021-06-09T14:32:37.756Z"
   },
   {
    "duration": 382,
    "start_time": "2021-06-09T14:32:38.125Z"
   },
   {
    "duration": 21,
    "start_time": "2021-06-09T14:32:38.511Z"
   },
   {
    "duration": 11,
    "start_time": "2021-06-09T14:32:38.536Z"
   },
   {
    "duration": 121,
    "start_time": "2021-06-09T14:32:38.549Z"
   },
   {
    "duration": 11,
    "start_time": "2021-06-09T14:32:47.827Z"
   },
   {
    "duration": 76,
    "start_time": "2021-06-09T14:32:48.354Z"
   },
   {
    "duration": 57,
    "start_time": "2021-06-09T14:32:48.674Z"
   },
   {
    "duration": 9,
    "start_time": "2021-06-09T14:32:49.014Z"
   },
   {
    "duration": 12,
    "start_time": "2021-06-09T14:32:49.189Z"
   },
   {
    "duration": 7,
    "start_time": "2021-06-09T14:32:49.369Z"
   },
   {
    "duration": 51,
    "start_time": "2021-06-09T14:32:49.718Z"
   },
   {
    "duration": 57,
    "start_time": "2021-06-09T14:32:50.073Z"
   },
   {
    "duration": 8,
    "start_time": "2021-06-09T14:32:50.248Z"
   },
   {
    "duration": 10,
    "start_time": "2021-06-09T14:32:50.411Z"
   },
   {
    "duration": 47,
    "start_time": "2021-06-09T14:32:50.766Z"
   },
   {
    "duration": 7,
    "start_time": "2021-06-09T14:32:50.948Z"
   },
   {
    "duration": 50,
    "start_time": "2021-06-09T14:32:51.577Z"
   },
   {
    "duration": 11,
    "start_time": "2021-06-09T14:33:03.741Z"
   },
   {
    "duration": 5,
    "start_time": "2021-06-09T14:33:54.743Z"
   },
   {
    "duration": 7,
    "start_time": "2021-06-09T14:33:56.385Z"
   },
   {
    "duration": 7,
    "start_time": "2021-06-09T14:33:58.764Z"
   },
   {
    "duration": 1209,
    "start_time": "2021-06-09T14:34:28.215Z"
   },
   {
    "duration": 4,
    "start_time": "2021-06-09T14:34:29.426Z"
   },
   {
    "duration": 508,
    "start_time": "2021-06-09T14:34:29.433Z"
   },
   {
    "duration": 15,
    "start_time": "2021-06-09T14:34:29.944Z"
   },
   {
    "duration": 21,
    "start_time": "2021-06-09T14:34:29.961Z"
   },
   {
    "duration": 15,
    "start_time": "2021-06-09T14:34:29.984Z"
   },
   {
    "duration": 14,
    "start_time": "2021-06-09T14:34:30.002Z"
   },
   {
    "duration": 17,
    "start_time": "2021-06-09T14:34:30.019Z"
   },
   {
    "duration": 105,
    "start_time": "2021-06-09T14:34:30.039Z"
   },
   {
    "duration": 56,
    "start_time": "2021-06-09T14:34:30.146Z"
   },
   {
    "duration": 37,
    "start_time": "2021-06-09T14:34:30.204Z"
   },
   {
    "duration": 42,
    "start_time": "2021-06-09T14:34:30.243Z"
   },
   {
    "duration": 148,
    "start_time": "2021-06-09T14:34:30.288Z"
   },
   {
    "duration": 113,
    "start_time": "2021-06-09T14:34:30.438Z"
   },
   {
    "duration": 71,
    "start_time": "2021-06-09T14:34:30.554Z"
   },
   {
    "duration": 9,
    "start_time": "2021-06-09T14:34:30.627Z"
   },
   {
    "duration": 25,
    "start_time": "2021-06-09T14:34:31.003Z"
   },
   {
    "duration": 22,
    "start_time": "2021-06-09T14:34:31.510Z"
   },
   {
    "duration": 18,
    "start_time": "2021-06-09T14:34:31.585Z"
   },
   {
    "duration": 8,
    "start_time": "2021-06-09T14:34:31.669Z"
   },
   {
    "duration": 383,
    "start_time": "2021-06-09T14:34:31.923Z"
   },
   {
    "duration": 403,
    "start_time": "2021-06-09T14:34:32.308Z"
   },
   {
    "duration": 369,
    "start_time": "2021-06-09T14:34:32.714Z"
   },
   {
    "duration": 350,
    "start_time": "2021-06-09T14:34:33.085Z"
   },
   {
    "duration": 21,
    "start_time": "2021-06-09T14:34:33.438Z"
   },
   {
    "duration": 29,
    "start_time": "2021-06-09T14:34:33.462Z"
   },
   {
    "duration": 112,
    "start_time": "2021-06-09T14:34:33.494Z"
   },
   {
    "duration": 12,
    "start_time": "2021-06-09T14:34:33.609Z"
   },
   {
    "duration": 68,
    "start_time": "2021-06-09T14:34:33.769Z"
   },
   {
    "duration": 46,
    "start_time": "2021-06-09T14:34:33.938Z"
   },
   {
    "duration": 9,
    "start_time": "2021-06-09T14:34:34.100Z"
   },
   {
    "duration": 12,
    "start_time": "2021-06-09T14:34:34.189Z"
   },
   {
    "duration": 7,
    "start_time": "2021-06-09T14:34:34.269Z"
   },
   {
    "duration": 49,
    "start_time": "2021-06-09T14:34:34.438Z"
   },
   {
    "duration": 55,
    "start_time": "2021-06-09T14:34:34.607Z"
   },
   {
    "duration": 8,
    "start_time": "2021-06-09T14:34:34.689Z"
   },
   {
    "duration": 8,
    "start_time": "2021-06-09T14:34:35.042Z"
   },
   {
    "duration": 47,
    "start_time": "2021-06-09T14:34:35.439Z"
   },
   {
    "duration": 8,
    "start_time": "2021-06-09T14:34:35.602Z"
   },
   {
    "duration": 48,
    "start_time": "2021-06-09T14:34:35.922Z"
   },
   {
    "duration": 9,
    "start_time": "2021-06-09T14:34:36.318Z"
   },
   {
    "duration": 6,
    "start_time": "2021-06-09T14:34:36.426Z"
   },
   {
    "duration": 25,
    "start_time": "2021-06-09T14:34:40.480Z"
   },
   {
    "duration": 8,
    "start_time": "2021-06-09T14:34:43.408Z"
   },
   {
    "duration": 6,
    "start_time": "2021-06-09T14:35:00.297Z"
   },
   {
    "duration": 10,
    "start_time": "2021-06-09T14:35:01.396Z"
   },
   {
    "duration": 6,
    "start_time": "2021-06-09T14:35:56.395Z"
   },
   {
    "duration": 9,
    "start_time": "2021-06-09T14:35:57.523Z"
   },
   {
    "duration": 5,
    "start_time": "2021-06-09T14:35:59.231Z"
   },
   {
    "duration": 11,
    "start_time": "2021-06-09T14:36:00.284Z"
   },
   {
    "duration": 9,
    "start_time": "2021-06-09T14:36:19.594Z"
   },
   {
    "duration": 8,
    "start_time": "2021-06-09T14:40:58.875Z"
   },
   {
    "duration": 9,
    "start_time": "2021-06-09T14:41:00.253Z"
   },
   {
    "duration": 10,
    "start_time": "2021-06-09T14:42:14.828Z"
   },
   {
    "duration": 9,
    "start_time": "2021-06-09T14:42:21.698Z"
   },
   {
    "duration": 20,
    "start_time": "2021-06-09T14:42:22.078Z"
   },
   {
    "duration": 13,
    "start_time": "2021-06-09T14:48:58.930Z"
   },
   {
    "duration": 13,
    "start_time": "2021-06-09T14:51:45.119Z"
   },
   {
    "duration": 14,
    "start_time": "2021-06-09T14:52:00.047Z"
   },
   {
    "duration": 14,
    "start_time": "2021-06-09T14:52:05.560Z"
   },
   {
    "duration": 14,
    "start_time": "2021-06-09T14:52:14.799Z"
   },
   {
    "duration": 12,
    "start_time": "2021-06-09T14:52:34.536Z"
   },
   {
    "duration": 20,
    "start_time": "2021-06-09T14:53:21.757Z"
   },
   {
    "duration": 8,
    "start_time": "2021-06-09T14:55:32.785Z"
   },
   {
    "duration": 9,
    "start_time": "2021-06-09T14:55:39.357Z"
   },
   {
    "duration": 9,
    "start_time": "2021-06-09T14:55:42.395Z"
   },
   {
    "duration": 7,
    "start_time": "2021-06-09T15:07:47.857Z"
   },
   {
    "duration": 10,
    "start_time": "2021-06-09T15:07:51.257Z"
   },
   {
    "duration": 24,
    "start_time": "2021-06-09T15:08:00.831Z"
   },
   {
    "duration": 8,
    "start_time": "2021-06-09T15:08:23.576Z"
   },
   {
    "duration": 18,
    "start_time": "2021-06-09T15:08:25.440Z"
   },
   {
    "duration": 10,
    "start_time": "2021-06-09T15:09:26.504Z"
   },
   {
    "duration": 12,
    "start_time": "2021-06-09T15:10:28.857Z"
   },
   {
    "duration": 8,
    "start_time": "2021-06-09T15:11:21.207Z"
   },
   {
    "duration": 7,
    "start_time": "2021-06-09T15:28:47.986Z"
   },
   {
    "duration": 944,
    "start_time": "2021-06-09T15:28:54.984Z"
   },
   {
    "duration": 231,
    "start_time": "2021-06-09T15:29:15.272Z"
   },
   {
    "duration": 31,
    "start_time": "2021-06-09T15:29:22.591Z"
   },
   {
    "duration": 23,
    "start_time": "2021-06-09T15:32:34.656Z"
   },
   {
    "duration": 9,
    "start_time": "2021-06-09T15:46:16.668Z"
   },
   {
    "duration": 9,
    "start_time": "2021-06-09T15:46:22.729Z"
   },
   {
    "duration": 191,
    "start_time": "2021-06-09T15:46:23.297Z"
   },
   {
    "duration": 22,
    "start_time": "2021-06-09T15:46:24.573Z"
   },
   {
    "duration": 9,
    "start_time": "2021-06-09T15:48:10.493Z"
   },
   {
    "duration": 193,
    "start_time": "2021-06-09T15:48:10.576Z"
   },
   {
    "duration": 22,
    "start_time": "2021-06-09T15:48:10.802Z"
   },
   {
    "duration": 9,
    "start_time": "2021-06-09T15:48:56.145Z"
   },
   {
    "duration": 182,
    "start_time": "2021-06-09T15:48:56.605Z"
   },
   {
    "duration": 21,
    "start_time": "2021-06-09T15:48:57.039Z"
   },
   {
    "duration": 1220,
    "start_time": "2021-06-09T16:07:34.507Z"
   },
   {
    "duration": 4,
    "start_time": "2021-06-09T16:07:40.371Z"
   },
   {
    "duration": 539,
    "start_time": "2021-06-09T16:07:40.694Z"
   },
   {
    "duration": 17,
    "start_time": "2021-06-09T16:07:41.642Z"
   },
   {
    "duration": 19,
    "start_time": "2021-06-09T16:07:42.498Z"
   },
   {
    "duration": 17,
    "start_time": "2021-06-09T16:07:42.829Z"
   },
   {
    "duration": 15,
    "start_time": "2021-06-09T16:07:43.037Z"
   },
   {
    "duration": 16,
    "start_time": "2021-06-09T16:07:43.441Z"
   },
   {
    "duration": 68,
    "start_time": "2021-06-09T16:08:01.072Z"
   },
   {
    "duration": 37,
    "start_time": "2021-06-09T16:08:03.722Z"
   },
   {
    "duration": 41,
    "start_time": "2021-06-09T16:08:04.015Z"
   },
   {
    "duration": 21,
    "start_time": "2021-06-09T16:08:04.196Z"
   },
   {
    "duration": 130,
    "start_time": "2021-06-09T16:08:05.154Z"
   },
   {
    "duration": 172,
    "start_time": "2021-06-09T16:14:45.816Z"
   },
   {
    "duration": 123,
    "start_time": "2021-06-09T16:14:45.992Z"
   },
   {
    "duration": 74,
    "start_time": "2021-06-09T16:14:46.118Z"
   },
   {
    "duration": 10,
    "start_time": "2021-06-09T16:14:46.195Z"
   },
   {
    "duration": 27,
    "start_time": "2021-06-09T16:14:46.254Z"
   },
   {
    "duration": 31,
    "start_time": "2021-06-09T16:14:46.365Z"
   },
   {
    "duration": 29,
    "start_time": "2021-06-09T16:14:46.408Z"
   },
   {
    "duration": 8,
    "start_time": "2021-06-09T16:14:46.488Z"
   },
   {
    "duration": 414,
    "start_time": "2021-06-09T16:14:51.618Z"
   },
   {
    "duration": 407,
    "start_time": "2021-06-09T16:14:52.898Z"
   },
   {
    "duration": 359,
    "start_time": "2021-06-09T16:14:54.271Z"
   },
   {
    "duration": 409,
    "start_time": "2021-06-09T16:14:54.633Z"
   },
   {
    "duration": 20,
    "start_time": "2021-06-09T16:14:59.300Z"
   },
   {
    "duration": 9,
    "start_time": "2021-06-09T16:15:03.869Z"
   },
   {
    "duration": 98,
    "start_time": "2021-06-09T16:15:06.000Z"
   },
   {
    "duration": 11,
    "start_time": "2021-06-09T16:15:06.166Z"
   },
   {
    "duration": 89,
    "start_time": "2021-06-09T16:15:06.429Z"
   },
   {
    "duration": 48,
    "start_time": "2021-06-09T16:15:06.597Z"
   },
   {
    "duration": 8,
    "start_time": "2021-06-09T16:15:06.754Z"
   },
   {
    "duration": 11,
    "start_time": "2021-06-09T16:15:06.836Z"
   },
   {
    "duration": 8,
    "start_time": "2021-06-09T16:15:06.921Z"
   },
   {
    "duration": 51,
    "start_time": "2021-06-09T16:15:07.086Z"
   },
   {
    "duration": 62,
    "start_time": "2021-06-09T16:15:07.260Z"
   },
   {
    "duration": 8,
    "start_time": "2021-06-09T16:15:07.337Z"
   },
   {
    "duration": 10,
    "start_time": "2021-06-09T16:15:07.434Z"
   },
   {
    "duration": 50,
    "start_time": "2021-06-09T16:15:18.953Z"
   },
   {
    "duration": 8,
    "start_time": "2021-06-09T16:15:19.933Z"
   },
   {
    "duration": 367,
    "start_time": "2021-06-09T16:15:29.218Z"
   },
   {
    "duration": 11,
    "start_time": "2021-06-09T16:15:33.056Z"
   },
   {
    "duration": 64,
    "start_time": "2021-06-09T16:15:57.676Z"
   },
   {
    "duration": 10,
    "start_time": "2021-06-09T16:15:59.901Z"
   },
   {
    "duration": 29,
    "start_time": "2021-06-09T16:16:02.948Z"
   },
   {
    "duration": 13,
    "start_time": "2021-06-09T16:16:33.935Z"
   },
   {
    "duration": 9,
    "start_time": "2021-06-09T16:17:13.028Z"
   },
   {
    "duration": 9,
    "start_time": "2021-06-09T16:17:14.001Z"
   },
   {
    "duration": 6,
    "start_time": "2021-06-09T16:17:15.143Z"
   },
   {
    "duration": 9,
    "start_time": "2021-06-09T16:17:20.597Z"
   },
   {
    "duration": 20,
    "start_time": "2021-06-09T16:17:23.562Z"
   },
   {
    "duration": 9,
    "start_time": "2021-06-09T16:17:29.239Z"
   },
   {
    "duration": 176,
    "start_time": "2021-06-09T16:24:15.957Z"
   },
   {
    "duration": 23,
    "start_time": "2021-06-09T16:24:16.828Z"
   },
   {
    "duration": 17,
    "start_time": "2021-06-09T16:30:25.343Z"
   },
   {
    "duration": 257,
    "start_time": "2021-06-09T16:30:51.852Z"
   },
   {
    "duration": 32,
    "start_time": "2021-06-09T16:30:57.918Z"
   },
   {
    "duration": 49,
    "start_time": "2021-06-09T16:31:08.173Z"
   },
   {
    "duration": 43,
    "start_time": "2021-06-09T16:31:19.442Z"
   },
   {
    "duration": 31,
    "start_time": "2021-06-09T16:32:41.508Z"
   },
   {
    "duration": 31,
    "start_time": "2021-06-09T16:33:00.452Z"
   },
   {
    "duration": 688,
    "start_time": "2021-06-09T16:34:16.540Z"
   },
   {
    "duration": 620,
    "start_time": "2021-06-09T16:34:40.013Z"
   },
   {
    "duration": 943,
    "start_time": "2021-06-09T16:35:03.746Z"
   },
   {
    "duration": 868,
    "start_time": "2021-06-09T16:35:13.824Z"
   },
   {
    "duration": 8,
    "start_time": "2021-06-09T16:46:00.335Z"
   },
   {
    "duration": 27,
    "start_time": "2021-06-09T16:46:06.205Z"
   },
   {
    "duration": 28,
    "start_time": "2021-06-09T16:46:13.403Z"
   },
   {
    "duration": 34,
    "start_time": "2021-06-09T16:46:27.988Z"
   },
   {
    "duration": 34,
    "start_time": "2021-06-09T16:47:06.529Z"
   },
   {
    "duration": 28,
    "start_time": "2021-06-09T16:47:18.367Z"
   },
   {
    "duration": 29,
    "start_time": "2021-06-09T16:47:24.829Z"
   },
   {
    "duration": 5,
    "start_time": "2021-06-09T16:47:48.129Z"
   },
   {
    "duration": 5,
    "start_time": "2021-06-09T16:47:54.820Z"
   },
   {
    "duration": 6,
    "start_time": "2021-06-09T16:48:03.592Z"
   },
   {
    "duration": 7,
    "start_time": "2021-06-09T16:48:43.897Z"
   },
   {
    "duration": 6,
    "start_time": "2021-06-09T16:48:45.358Z"
   },
   {
    "duration": 4,
    "start_time": "2021-06-09T16:48:55.110Z"
   },
   {
    "duration": 5,
    "start_time": "2021-06-09T16:48:56.353Z"
   },
   {
    "duration": 9,
    "start_time": "2021-06-09T16:51:19.467Z"
   },
   {
    "duration": 9,
    "start_time": "2021-06-09T16:53:06.812Z"
   },
   {
    "duration": 258,
    "start_time": "2021-06-09T16:53:10.441Z"
   },
   {
    "duration": 7,
    "start_time": "2021-06-09T16:53:14.681Z"
   },
   {
    "duration": 7,
    "start_time": "2021-06-09T16:53:54.118Z"
   },
   {
    "duration": 6,
    "start_time": "2021-06-09T16:53:55.228Z"
   },
   {
    "duration": 564,
    "start_time": "2021-06-09T16:53:59.057Z"
   },
   {
    "duration": 6,
    "start_time": "2021-06-09T16:54:03.717Z"
   },
   {
    "duration": 8,
    "start_time": "2021-06-09T16:59:05.062Z"
   },
   {
    "duration": 6,
    "start_time": "2021-06-09T16:59:17.775Z"
   },
   {
    "duration": 4,
    "start_time": "2021-06-09T17:03:49.954Z"
   },
   {
    "duration": 4,
    "start_time": "2021-06-09T17:03:50.035Z"
   },
   {
    "duration": 491,
    "start_time": "2021-06-09T17:03:50.123Z"
   },
   {
    "duration": 11,
    "start_time": "2021-06-09T17:03:50.616Z"
   },
   {
    "duration": 21,
    "start_time": "2021-06-09T17:03:50.629Z"
   },
   {
    "duration": 18,
    "start_time": "2021-06-09T17:03:50.653Z"
   },
   {
    "duration": 18,
    "start_time": "2021-06-09T17:03:50.673Z"
   },
   {
    "duration": 17,
    "start_time": "2021-06-09T17:03:50.796Z"
   },
   {
    "duration": 66,
    "start_time": "2021-06-09T17:03:50.962Z"
   },
   {
    "duration": 35,
    "start_time": "2021-06-09T17:03:51.208Z"
   },
   {
    "duration": 35,
    "start_time": "2021-06-09T17:03:51.314Z"
   },
   {
    "duration": 21,
    "start_time": "2021-06-09T17:03:51.373Z"
   },
   {
    "duration": 121,
    "start_time": "2021-06-09T17:03:51.659Z"
   },
   {
    "duration": 101,
    "start_time": "2021-06-09T17:03:51.783Z"
   },
   {
    "duration": 54,
    "start_time": "2021-06-09T17:03:51.887Z"
   },
   {
    "duration": 9,
    "start_time": "2021-06-09T17:03:51.943Z"
   },
   {
    "duration": 24,
    "start_time": "2021-06-09T17:03:52.058Z"
   },
   {
    "duration": 22,
    "start_time": "2021-06-09T17:03:52.128Z"
   },
   {
    "duration": 17,
    "start_time": "2021-06-09T17:03:52.241Z"
   },
   {
    "duration": 7,
    "start_time": "2021-06-09T17:03:52.299Z"
   },
   {
    "duration": 368,
    "start_time": "2021-06-09T17:03:52.547Z"
   },
   {
    "duration": 394,
    "start_time": "2021-06-09T17:03:52.918Z"
   },
   {
    "duration": 359,
    "start_time": "2021-06-09T17:03:53.315Z"
   },
   {
    "duration": 359,
    "start_time": "2021-06-09T17:03:53.683Z"
   },
   {
    "duration": 14,
    "start_time": "2021-06-09T17:03:54.045Z"
   },
   {
    "duration": 25,
    "start_time": "2021-06-09T17:03:54.062Z"
   },
   {
    "duration": 103,
    "start_time": "2021-06-09T17:03:54.090Z"
   },
   {
    "duration": 9,
    "start_time": "2021-06-09T17:03:54.196Z"
   },
   {
    "duration": 68,
    "start_time": "2021-06-09T17:03:54.400Z"
   },
   {
    "duration": 43,
    "start_time": "2021-06-09T17:03:54.554Z"
   },
   {
    "duration": 8,
    "start_time": "2021-06-09T17:03:54.723Z"
   },
   {
    "duration": 11,
    "start_time": "2021-06-09T17:03:54.805Z"
   },
   {
    "duration": 8,
    "start_time": "2021-06-09T17:03:54.898Z"
   },
   {
    "duration": 45,
    "start_time": "2021-06-09T17:03:55.056Z"
   },
   {
    "duration": 54,
    "start_time": "2021-06-09T17:03:55.224Z"
   },
   {
    "duration": 8,
    "start_time": "2021-06-09T17:03:55.305Z"
   },
   {
    "duration": 9,
    "start_time": "2021-06-09T17:03:55.393Z"
   },
   {
    "duration": 42,
    "start_time": "2021-06-09T17:03:55.561Z"
   },
   {
    "duration": 8,
    "start_time": "2021-06-09T17:03:55.667Z"
   },
   {
    "duration": 51,
    "start_time": "2021-06-09T17:03:55.809Z"
   },
   {
    "duration": 10,
    "start_time": "2021-06-09T17:03:55.894Z"
   },
   {
    "duration": 26,
    "start_time": "2021-06-09T17:03:55.982Z"
   },
   {
    "duration": 12,
    "start_time": "2021-06-09T17:03:56.060Z"
   },
   {
    "duration": 9,
    "start_time": "2021-06-09T17:03:56.229Z"
   },
   {
    "duration": 9,
    "start_time": "2021-06-09T17:03:56.309Z"
   },
   {
    "duration": 6,
    "start_time": "2021-06-09T17:03:56.476Z"
   },
   {
    "duration": 10,
    "start_time": "2021-06-09T17:03:56.643Z"
   },
   {
    "duration": 9,
    "start_time": "2021-06-09T17:03:56.816Z"
   },
   {
    "duration": 176,
    "start_time": "2021-06-09T17:03:56.897Z"
   },
   {
    "duration": 22,
    "start_time": "2021-06-09T17:03:57.076Z"
   },
   {
    "duration": 29,
    "start_time": "2021-06-09T17:03:57.397Z"
   },
   {
    "duration": 28,
    "start_time": "2021-06-09T17:03:57.498Z"
   },
   {
    "duration": 8,
    "start_time": "2021-06-09T17:03:57.656Z"
   },
   {
    "duration": 5,
    "start_time": "2021-06-09T17:03:58.502Z"
   },
   {
    "duration": 8,
    "start_time": "2021-06-09T17:03:59.177Z"
   },
   {
    "duration": 6,
    "start_time": "2021-06-09T17:03:59.402Z"
   },
   {
    "duration": 803,
    "start_time": "2021-06-09T17:03:59.980Z"
   },
   {
    "duration": 968,
    "start_time": "2021-06-09T17:05:39.424Z"
   },
   {
    "duration": 872,
    "start_time": "2021-06-09T17:05:45.232Z"
   },
   {
    "duration": 253,
    "start_time": "2021-06-09T17:07:29.454Z"
   },
   {
    "duration": 28,
    "start_time": "2021-06-09T17:07:31.895Z"
   },
   {
    "duration": 11,
    "start_time": "2021-06-09T17:55:19.909Z"
   },
   {
    "duration": 12,
    "start_time": "2021-06-09T17:57:59.215Z"
   },
   {
    "duration": 848,
    "start_time": "2021-06-09T19:12:45.442Z"
   },
   {
    "duration": 860,
    "start_time": "2021-06-09T19:12:59.475Z"
   },
   {
    "duration": 1857,
    "start_time": "2021-06-09T19:13:30.646Z"
   },
   {
    "duration": 1731,
    "start_time": "2021-06-09T19:13:39.620Z"
   },
   {
    "duration": 920,
    "start_time": "2021-06-09T19:13:53.293Z"
   },
   {
    "duration": 277,
    "start_time": "2021-06-09T19:15:15.490Z"
   },
   {
    "duration": -114,
    "start_time": "2021-06-09T19:17:03.010Z"
   },
   {
    "duration": -63,
    "start_time": "2021-06-09T19:20:00.280Z"
   },
   {
    "duration": 47963,
    "start_time": "2021-06-09T19:20:01.613Z"
   },
   {
    "duration": 94,
    "start_time": "2021-06-09T19:22:17.871Z"
   },
   {
    "duration": 5592,
    "start_time": "2021-06-09T19:22:21.868Z"
   },
   {
    "duration": 36559,
    "start_time": "2021-06-09T19:22:37.279Z"
   },
   {
    "duration": 298,
    "start_time": "2021-06-09T19:23:34.101Z"
   },
   {
    "duration": 424,
    "start_time": "2021-06-09T19:23:43.328Z"
   },
   {
    "duration": 37,
    "start_time": "2021-06-09T19:25:18.068Z"
   },
   {
    "duration": 31,
    "start_time": "2021-06-09T19:25:19.048Z"
   },
   {
    "duration": 9,
    "start_time": "2021-06-09T19:25:23.002Z"
   },
   {
    "duration": 7,
    "start_time": "2021-06-09T19:25:23.365Z"
   },
   {
    "duration": 8,
    "start_time": "2021-06-09T19:25:23.989Z"
   },
   {
    "duration": 6,
    "start_time": "2021-06-09T19:25:24.446Z"
   },
   {
    "duration": 889,
    "start_time": "2021-06-09T19:25:26.916Z"
   },
   {
    "duration": 1031,
    "start_time": "2021-06-09T19:25:27.808Z"
   },
   {
    "duration": 323,
    "start_time": "2021-06-09T19:25:30.853Z"
   },
   {
    "duration": 459,
    "start_time": "2021-06-09T19:25:41.437Z"
   },
   {
    "duration": 662,
    "start_time": "2021-06-09T19:25:55.596Z"
   },
   {
    "duration": 831,
    "start_time": "2021-06-09T19:26:04.715Z"
   },
   {
    "duration": 424,
    "start_time": "2021-06-09T19:28:00.916Z"
   },
   {
    "duration": 448,
    "start_time": "2021-06-09T19:28:23.348Z"
   },
   {
    "duration": 546,
    "start_time": "2021-06-09T19:28:40.616Z"
   },
   {
    "duration": 444,
    "start_time": "2021-06-09T19:28:49.439Z"
   },
   {
    "duration": 438,
    "start_time": "2021-06-09T19:28:56.513Z"
   },
   {
    "duration": 611,
    "start_time": "2021-06-09T19:29:16.293Z"
   },
   {
    "duration": 601,
    "start_time": "2021-06-09T19:29:21.513Z"
   },
   {
    "duration": 685,
    "start_time": "2021-06-09T19:29:41.932Z"
   },
   {
    "duration": 645,
    "start_time": "2021-06-09T19:29:51.571Z"
   },
   {
    "duration": 624,
    "start_time": "2021-06-09T19:30:21.254Z"
   },
   {
    "duration": 1860,
    "start_time": "2021-06-09T19:30:25.342Z"
   },
   {
    "duration": 627,
    "start_time": "2021-06-09T19:30:32.334Z"
   },
   {
    "duration": 582,
    "start_time": "2021-06-09T19:31:05.048Z"
   },
   {
    "duration": 596,
    "start_time": "2021-06-09T19:31:12.495Z"
   },
   {
    "duration": 608,
    "start_time": "2021-06-09T19:31:16.667Z"
   },
   {
    "duration": 548,
    "start_time": "2021-06-09T19:32:09.967Z"
   },
   {
    "duration": 642,
    "start_time": "2021-06-09T19:32:59.953Z"
   },
   {
    "duration": 630,
    "start_time": "2021-06-09T19:33:14.741Z"
   },
   {
    "duration": 697,
    "start_time": "2021-06-09T19:33:57.291Z"
   },
   {
    "duration": 690,
    "start_time": "2021-06-09T19:34:07.570Z"
   },
   {
    "duration": 742,
    "start_time": "2021-06-09T19:35:00.025Z"
   },
   {
    "duration": 684,
    "start_time": "2021-06-09T19:35:09.310Z"
   },
   {
    "duration": 693,
    "start_time": "2021-06-09T19:35:12.845Z"
   },
   {
    "duration": 876,
    "start_time": "2021-06-09T19:35:46.801Z"
   },
   {
    "duration": 711,
    "start_time": "2021-06-09T19:36:08.090Z"
   },
   {
    "duration": 758,
    "start_time": "2021-06-09T19:38:00.378Z"
   },
   {
    "duration": 903,
    "start_time": "2021-06-09T19:38:42.061Z"
   },
   {
    "duration": 893,
    "start_time": "2021-06-09T19:38:58.191Z"
   },
   {
    "duration": 881,
    "start_time": "2021-06-09T19:39:07.176Z"
   },
   {
    "duration": 866,
    "start_time": "2021-06-09T19:39:56.055Z"
   },
   {
    "duration": 889,
    "start_time": "2021-06-09T19:40:01.294Z"
   },
   {
    "duration": 753,
    "start_time": "2021-06-09T19:40:07.084Z"
   },
   {
    "duration": 977,
    "start_time": "2021-06-09T19:40:19.283Z"
   },
   {
    "duration": 6,
    "start_time": "2021-06-09T19:40:45.792Z"
   },
   {
    "duration": 6,
    "start_time": "2021-06-09T19:40:48.150Z"
   },
   {
    "duration": 5,
    "start_time": "2021-06-09T19:40:52.541Z"
   },
   {
    "duration": 62,
    "start_time": "2021-06-09T19:40:54.606Z"
   },
   {
    "duration": 942,
    "start_time": "2021-06-09T19:42:01.518Z"
   },
   {
    "duration": 692,
    "start_time": "2021-06-09T19:42:17.744Z"
   },
   {
    "duration": 714,
    "start_time": "2021-06-09T19:42:28.358Z"
   },
   {
    "duration": 892,
    "start_time": "2021-06-09T19:44:37.026Z"
   },
   {
    "duration": 869,
    "start_time": "2021-06-09T19:44:46.961Z"
   },
   {
    "duration": 765,
    "start_time": "2021-06-09T19:46:12.334Z"
   },
   {
    "duration": 882,
    "start_time": "2021-06-09T19:46:54.336Z"
   },
   {
    "duration": 5,
    "start_time": "2021-06-09T19:47:46.374Z"
   },
   {
    "duration": 6,
    "start_time": "2021-06-09T19:47:55.978Z"
   },
   {
    "duration": 6,
    "start_time": "2021-06-09T19:47:58.887Z"
   },
   {
    "duration": 7,
    "start_time": "2021-06-09T19:48:04.114Z"
   },
   {
    "duration": 805,
    "start_time": "2021-06-09T19:50:22.101Z"
   },
   {
    "duration": 707,
    "start_time": "2021-06-09T19:50:40.202Z"
   },
   {
    "duration": 682,
    "start_time": "2021-06-09T19:51:00.471Z"
   },
   {
    "duration": 779,
    "start_time": "2021-06-09T19:51:07.209Z"
   },
   {
    "duration": 726,
    "start_time": "2021-06-09T19:51:20.987Z"
   },
   {
    "duration": 847,
    "start_time": "2021-06-09T19:51:35.168Z"
   },
   {
    "duration": 916,
    "start_time": "2021-06-09T19:51:41.603Z"
   },
   {
    "duration": 750,
    "start_time": "2021-06-09T19:51:48.682Z"
   },
   {
    "duration": 770,
    "start_time": "2021-06-09T19:51:59.053Z"
   },
   {
    "duration": 3,
    "start_time": "2021-06-09T19:53:31.699Z"
   },
   {
    "duration": 473,
    "start_time": "2021-06-09T20:10:54.950Z"
   },
   {
    "duration": 39,
    "start_time": "2021-06-09T20:11:09.794Z"
   },
   {
    "duration": 29,
    "start_time": "2021-06-09T20:11:12.364Z"
   },
   {
    "duration": 6,
    "start_time": "2021-06-09T20:11:35.326Z"
   },
   {
    "duration": 6,
    "start_time": "2021-06-09T20:11:49.771Z"
   },
   {
    "duration": 4,
    "start_time": "2021-06-09T20:12:16.253Z"
   },
   {
    "duration": 6,
    "start_time": "2021-06-09T20:12:31.611Z"
   },
   {
    "duration": 6,
    "start_time": "2021-06-09T20:12:57.835Z"
   },
   {
    "duration": 7,
    "start_time": "2021-06-09T20:13:01.369Z"
   },
   {
    "duration": 9,
    "start_time": "2021-06-09T20:15:01.886Z"
   },
   {
    "duration": 5,
    "start_time": "2021-06-09T20:15:14.119Z"
   },
   {
    "duration": 33,
    "start_time": "2021-06-09T20:16:37.560Z"
   },
   {
    "duration": 42,
    "start_time": "2021-06-09T20:16:59.063Z"
   },
   {
    "duration": 14,
    "start_time": "2021-06-09T20:17:18.803Z"
   },
   {
    "duration": 5,
    "start_time": "2021-06-09T20:17:20.876Z"
   },
   {
    "duration": 12,
    "start_time": "2021-06-09T20:17:45.352Z"
   },
   {
    "duration": 5,
    "start_time": "2021-06-09T20:17:47.266Z"
   },
   {
    "duration": 7,
    "start_time": "2021-06-09T20:17:50.207Z"
   },
   {
    "duration": 6,
    "start_time": "2021-06-09T20:18:14.301Z"
   },
   {
    "duration": 6,
    "start_time": "2021-06-09T20:18:26.771Z"
   },
   {
    "duration": 5,
    "start_time": "2021-06-09T20:18:38.444Z"
   },
   {
    "duration": 5,
    "start_time": "2021-06-09T20:18:45.776Z"
   },
   {
    "duration": 5,
    "start_time": "2021-06-09T20:18:49.850Z"
   },
   {
    "duration": 5,
    "start_time": "2021-06-09T20:18:53.645Z"
   },
   {
    "duration": 12,
    "start_time": "2021-06-09T20:19:00.724Z"
   },
   {
    "duration": 12,
    "start_time": "2021-06-09T20:19:07.931Z"
   },
   {
    "duration": 6,
    "start_time": "2021-06-09T20:19:15.151Z"
   },
   {
    "duration": 244,
    "start_time": "2021-06-09T20:19:47.295Z"
   },
   {
    "duration": 6,
    "start_time": "2021-06-09T20:19:51.637Z"
   },
   {
    "duration": 5,
    "start_time": "2021-06-09T20:19:58.226Z"
   },
   {
    "duration": 5,
    "start_time": "2021-06-09T20:20:02.166Z"
   },
   {
    "duration": 6,
    "start_time": "2021-06-09T20:20:05.165Z"
   },
   {
    "duration": 15,
    "start_time": "2021-06-09T20:30:18.248Z"
   },
   {
    "duration": 5,
    "start_time": "2021-06-09T20:30:18.666Z"
   },
   {
    "duration": 5,
    "start_time": "2021-06-09T20:30:36.353Z"
   },
   {
    "duration": 5,
    "start_time": "2021-06-09T20:30:36.763Z"
   },
   {
    "duration": 8,
    "start_time": "2021-06-09T20:30:39.000Z"
   },
   {
    "duration": 12,
    "start_time": "2021-06-09T20:30:39.869Z"
   },
   {
    "duration": 7,
    "start_time": "2021-06-09T20:30:40.317Z"
   },
   {
    "duration": 6,
    "start_time": "2021-06-09T20:30:41.064Z"
   },
   {
    "duration": 7,
    "start_time": "2021-06-09T20:30:53.995Z"
   },
   {
    "duration": 12,
    "start_time": "2021-06-09T20:31:03.967Z"
   },
   {
    "duration": 9,
    "start_time": "2021-06-09T20:31:04.687Z"
   },
   {
    "duration": 13,
    "start_time": "2021-06-09T20:31:12.851Z"
   },
   {
    "duration": 6,
    "start_time": "2021-06-09T20:31:12.867Z"
   },
   {
    "duration": 5,
    "start_time": "2021-06-09T20:31:17.040Z"
   },
   {
    "duration": 1419,
    "start_time": "2021-06-10T09:13:34.014Z"
   },
   {
    "duration": 4,
    "start_time": "2021-06-10T09:13:35.436Z"
   },
   {
    "duration": 590,
    "start_time": "2021-06-10T09:13:35.443Z"
   },
   {
    "duration": 16,
    "start_time": "2021-06-10T09:13:36.036Z"
   },
   {
    "duration": 51,
    "start_time": "2021-06-10T09:13:36.054Z"
   },
   {
    "duration": 23,
    "start_time": "2021-06-10T09:13:36.108Z"
   },
   {
    "duration": 25,
    "start_time": "2021-06-10T09:13:36.133Z"
   },
   {
    "duration": 31,
    "start_time": "2021-06-10T09:13:36.161Z"
   },
   {
    "duration": 109,
    "start_time": "2021-06-10T09:13:36.196Z"
   },
   {
    "duration": 48,
    "start_time": "2021-06-10T09:13:36.308Z"
   },
   {
    "duration": 52,
    "start_time": "2021-06-10T09:13:36.361Z"
   },
   {
    "duration": 49,
    "start_time": "2021-06-10T09:13:36.416Z"
   },
   {
    "duration": 168,
    "start_time": "2021-06-10T09:13:36.468Z"
   },
   {
    "duration": 128,
    "start_time": "2021-06-10T09:13:36.639Z"
   },
   {
    "duration": 87,
    "start_time": "2021-06-10T09:13:36.770Z"
   },
   {
    "duration": 12,
    "start_time": "2021-06-10T09:13:36.861Z"
   },
   {
    "duration": 40,
    "start_time": "2021-06-10T09:13:36.877Z"
   },
   {
    "duration": 53,
    "start_time": "2021-06-10T09:13:36.919Z"
   },
   {
    "duration": 26,
    "start_time": "2021-06-10T09:13:36.977Z"
   },
   {
    "duration": 8,
    "start_time": "2021-06-10T09:13:37.005Z"
   },
   {
    "duration": 484,
    "start_time": "2021-06-10T09:13:37.015Z"
   },
   {
    "duration": 455,
    "start_time": "2021-06-10T09:13:37.501Z"
   },
   {
    "duration": 411,
    "start_time": "2021-06-10T09:13:37.961Z"
   },
   {
    "duration": 426,
    "start_time": "2021-06-10T09:13:38.375Z"
   },
   {
    "duration": 17,
    "start_time": "2021-06-10T09:13:38.803Z"
   },
   {
    "duration": 46,
    "start_time": "2021-06-10T09:13:38.823Z"
   },
   {
    "duration": 102,
    "start_time": "2021-06-10T09:13:38.883Z"
   },
   {
    "duration": 11,
    "start_time": "2021-06-10T09:13:38.992Z"
   },
   {
    "duration": 95,
    "start_time": "2021-06-10T09:13:39.006Z"
   },
   {
    "duration": 55,
    "start_time": "2021-06-10T09:13:39.104Z"
   },
   {
    "duration": 15,
    "start_time": "2021-06-10T09:13:39.162Z"
   },
   {
    "duration": 28,
    "start_time": "2021-06-10T09:13:39.181Z"
   },
   {
    "duration": 8,
    "start_time": "2021-06-10T09:13:39.211Z"
   },
   {
    "duration": 93,
    "start_time": "2021-06-10T09:13:39.221Z"
   },
   {
    "duration": 54,
    "start_time": "2021-06-10T09:13:39.316Z"
   },
   {
    "duration": 9,
    "start_time": "2021-06-10T09:13:39.373Z"
   },
   {
    "duration": 13,
    "start_time": "2021-06-10T09:13:39.387Z"
   },
   {
    "duration": 83,
    "start_time": "2021-06-10T09:13:39.403Z"
   },
   {
    "duration": 10,
    "start_time": "2021-06-10T09:13:39.489Z"
   },
   {
    "duration": 86,
    "start_time": "2021-06-10T09:13:39.502Z"
   },
   {
    "duration": 11,
    "start_time": "2021-06-10T09:13:39.591Z"
   },
   {
    "duration": 55,
    "start_time": "2021-06-10T09:13:39.606Z"
   },
   {
    "duration": 26,
    "start_time": "2021-06-10T09:13:39.664Z"
   },
   {
    "duration": 10,
    "start_time": "2021-06-10T09:13:39.697Z"
   },
   {
    "duration": 20,
    "start_time": "2021-06-10T09:13:39.710Z"
   },
   {
    "duration": 32,
    "start_time": "2021-06-10T09:13:39.733Z"
   },
   {
    "duration": 22,
    "start_time": "2021-06-10T09:13:39.768Z"
   },
   {
    "duration": 14,
    "start_time": "2021-06-10T09:13:39.793Z"
   },
   {
    "duration": 241,
    "start_time": "2021-06-10T09:13:39.809Z"
   },
   {
    "duration": 35,
    "start_time": "2021-06-10T09:13:40.054Z"
   },
   {
    "duration": 34,
    "start_time": "2021-06-10T09:13:40.093Z"
   },
   {
    "duration": 60,
    "start_time": "2021-06-10T09:13:40.130Z"
   },
   {
    "duration": 8,
    "start_time": "2021-06-10T09:13:40.193Z"
   },
   {
    "duration": 16,
    "start_time": "2021-06-10T09:13:40.204Z"
   },
   {
    "duration": 9,
    "start_time": "2021-06-10T09:13:40.222Z"
   },
   {
    "duration": 32,
    "start_time": "2021-06-10T09:13:40.233Z"
   },
   {
    "duration": 760,
    "start_time": "2021-06-10T09:13:40.281Z"
   },
   {
    "duration": 866,
    "start_time": "2021-06-10T09:13:41.043Z"
   },
   {
    "duration": 919,
    "start_time": "2021-06-10T09:13:41.912Z"
   },
   {
    "duration": 5,
    "start_time": "2021-06-10T09:13:42.834Z"
   },
   {
    "duration": 7,
    "start_time": "2021-06-10T09:13:42.857Z"
   },
   {
    "duration": 23,
    "start_time": "2021-06-10T09:13:42.867Z"
   },
   {
    "duration": 8,
    "start_time": "2021-06-10T09:13:42.894Z"
   },
   {
    "duration": 18,
    "start_time": "2021-06-10T09:13:42.905Z"
   },
   {
    "duration": 46,
    "start_time": "2021-06-10T09:13:42.926Z"
   },
   {
    "duration": 14,
    "start_time": "2021-06-10T09:13:42.977Z"
   },
   {
    "duration": 6,
    "start_time": "2021-06-10T09:51:28.579Z"
   },
   {
    "duration": 95,
    "start_time": "2021-06-10T09:55:05.034Z"
   },
   {
    "duration": 11,
    "start_time": "2021-06-10T09:55:08.002Z"
   }
  ],
  "kernelspec": {
   "display_name": "Python 3",
   "language": "python",
   "name": "python3"
  },
  "language_info": {
   "codemirror_mode": {
    "name": "ipython",
    "version": 3
   },
   "file_extension": ".py",
   "mimetype": "text/x-python",
   "name": "python",
   "nbconvert_exporter": "python",
   "pygments_lexer": "ipython3",
   "version": "3.7.10"
  },
  "toc": {
   "base_numbering": 1,
   "nav_menu": {},
   "number_sections": true,
   "sideBar": true,
   "skip_h1_title": true,
   "title_cell": "Table of Contents",
   "title_sidebar": "Contents",
   "toc_cell": false,
   "toc_position": {},
   "toc_section_display": true,
   "toc_window_display": false
  }
 },
 "nbformat": 4,
 "nbformat_minor": 2
}
