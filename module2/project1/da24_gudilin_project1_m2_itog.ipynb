{
 "cells": [
  {
   "cell_type": "markdown",
   "metadata": {},
   "source": [
    "<img src=https://kto-ozvuchival.ru/wp-content/uploads/2017/12/kto-ozvuchivaet-toni-starka-na-russkom-800x500.jpg><br>\n",
    "<hr style=\"border: 10px solid green;\" />\n",
    "\n",
    "## <span style=\"color:green\">Финальный комментарий<span>\n",
    "Спасибо за проделанную работу🤝\n",
    "\n",
    "Никита, спасибо за доработки, всё принято!\n",
    "\n",
    "Поздравляю, проект принят👍"
   ]
  },
  {
   "cell_type": "markdown",
   "metadata": {},
   "source": [
    "<hr style=\"border: 2px solid green;\" />\n",
    "\n",
    "## Комментарий ревьювера\n",
    "\n",
    "Никита, привет! \n",
    "\n",
    "🤚Меня зовут, Олег Юрьев, я буду проверять твой проект. Если не против, я буду обращаться к тебе на _ТЫ_ . Если это неприемлемо, обязательно напиши мне в комментариях - мы перейдем на _ВЫ_ .\n",
    "\n",
    "🤝Спасибо, что сдал проект вовремя. Тобой проделана большая работа, молодец! \n",
    "\n",
    "✏️В этой тетрадке ты найдешь мои комментарии.\n",
    "\n",
    "Комментарии будут выделены:\n",
    "\n",
    "<div style=\"border:solid green 2px; padding: 20px\"> <b>Отличная работа</b><br>\n",
    "    Безупречная работа</div>       \n",
    "<br>\n",
    "<div style=\"border:solid orange 2px; padding: 20px\"> <b>Что можно улучшить</b><br>\n",
    "    Ничего дорабатывать не надо, данные пункты работают нормально, но есть способы улучшить. Несколько таких комментариев допустимы, но более - придется некоторые доработать. Большое кол-во мелких замечаний и помарок сказываются на общем впечатлении от работы.</div>   \n",
    "<br>\n",
    "<div style=\"border:solid red 2px; padding: 20px\"> <b>Что необходимо доработать</b><br>\n",
    "    Такие пункты необходимо исправить в первую очередь, чтобы я смог принять проект.</div>\n",
    " \n",
    "Не удаляй комментарии, так будем следить за динамикой 📈\n",
    "   \n",
    "Давай будем в диалоге - основные цели в диалоге:\n",
    "- обмен опытом (да я тоже учусь у студентов👨‍🎓)\n",
    "- выполнить проект еще лучше\n",
    "- помочь тебе стать аналитиком\n",
    "\n",
    "Поэтому чтобы мне проще было проверять повторно, а тебе контролировать процесс ревью, оставляй свои комментарии и выделяй их. \n",
    "    \n",
    "<div class=\"alert alert-info\" style=\"border:solid blue 2px; padding: 20px\"> <b>Комментарий студента:</b> Например, вот так.</div>\n",
    "   \n",
    "Поехали! :)\n",
    "\n",
    "<hr style=\"border: 2px solid green;\" />"
   ]
  },
  {
   "cell_type": "markdown",
   "metadata": {},
   "source": [
    "# Описание проекта\n",
    "Вы аналитик компании «F9» — это российская авиакомпания, выполняющая внутренние пассажирские авиаперевозки. Сотни перелётов каждый день. Важно понять предпочтения пользователей, покупающих билеты на те или иные направления.\n",
    "Вам предстоит изучить базу данных и проанализировать спрос пассажиров на рейсы в города, где проходят крупнейшие фестивали."
   ]
  },
  {
   "cell_type": "markdown",
   "metadata": {},
   "source": [
    "# Поставленные задачи\n",
    "1. импортировать файлы и изучить данные в них;\n",
    "2. проверить типы данных на корректность;\n",
    "3. выбрать топ-10 городов по количеству рейсов и построить графики: модели самолетов и количество рейсов, города и количество рейсов, топ-10 городов и количество рейсов;\n",
    "4. сделать выводы по каждому из графиков, пояснить результат."
   ]
  },
  {
   "cell_type": "markdown",
   "metadata": {},
   "source": [
    "# Оглавление\n",
    "1. [Изучение данных из файла](#start)\n",
    "2. [Анализ данных](#data_analysis)\n",
    "    1. [Вывод](#conclusion2)\n",
    "3. [Общий вывод](#conclusion) "
   ]
  },
  {
   "cell_type": "markdown",
   "metadata": {},
   "source": [
    "## Изучение данных из файла\n",
    "<a id=\"start\"></a>"
   ]
  },
  {
   "cell_type": "code",
   "execution_count": 1,
   "metadata": {},
   "outputs": [],
   "source": [
    "import pandas as pd\n",
    "import matplotlib.pyplot as plt\n",
    "%matplotlib inline"
   ]
  },
  {
   "cell_type": "code",
   "execution_count": 2,
   "metadata": {},
   "outputs": [],
   "source": [
    "try:\n",
    "    query1 = pd.read_csv('/datasets/query_1.csv')\n",
    "    query3 = pd.read_csv('/datasets/query_3.csv')\n",
    "except:\n",
    "    query1 = pd.read_csv('/Users/nikitagudilin/Desktop/YANDEX_PRAKTIKUM/PROJECTS/M2/project1/query_1.csv')\n",
    "    query3 = pd.read_csv('/Users/nikitagudilin/Desktop/YANDEX_PRAKTIKUM/PROJECTS/M2/project1/query_3.csv')"
   ]
  },
  {
   "cell_type": "markdown",
   "metadata": {},
   "source": [
    "<div style=\"border:solid green 2px; padding: 20px\"> <b>Отличная работа</b><br>\n",
    "Отличный лайфхак👍<br>\n",
    "Более грамотное решение - использование библиотеки <a href=\"https://docs.python.org/3/library/os.html\">os</a> и ее метода <a href=\"https://www.geeksforgeeks.org/python-os-path-exists-method/\">os.path.exists</a></div> <br>"
   ]
  },
  {
   "cell_type": "code",
   "execution_count": 3,
   "metadata": {},
   "outputs": [
    {
     "data": {
      "text/html": [
       "<div>\n",
       "<style scoped>\n",
       "    .dataframe tbody tr th:only-of-type {\n",
       "        vertical-align: middle;\n",
       "    }\n",
       "\n",
       "    .dataframe tbody tr th {\n",
       "        vertical-align: top;\n",
       "    }\n",
       "\n",
       "    .dataframe thead th {\n",
       "        text-align: right;\n",
       "    }\n",
       "</style>\n",
       "<table border=\"1\" class=\"dataframe\">\n",
       "  <thead>\n",
       "    <tr style=\"text-align: right;\">\n",
       "      <th></th>\n",
       "      <th>model</th>\n",
       "      <th>flights_amount</th>\n",
       "    </tr>\n",
       "  </thead>\n",
       "  <tbody>\n",
       "    <tr>\n",
       "      <td>0</td>\n",
       "      <td>Airbus A319-100</td>\n",
       "      <td>607</td>\n",
       "    </tr>\n",
       "    <tr>\n",
       "      <td>1</td>\n",
       "      <td>Airbus A321-200</td>\n",
       "      <td>960</td>\n",
       "    </tr>\n",
       "    <tr>\n",
       "      <td>2</td>\n",
       "      <td>Boeing 737-300</td>\n",
       "      <td>630</td>\n",
       "    </tr>\n",
       "    <tr>\n",
       "      <td>3</td>\n",
       "      <td>Boeing 767-300</td>\n",
       "      <td>600</td>\n",
       "    </tr>\n",
       "    <tr>\n",
       "      <td>4</td>\n",
       "      <td>Boeing 777-300</td>\n",
       "      <td>300</td>\n",
       "    </tr>\n",
       "    <tr>\n",
       "      <td>5</td>\n",
       "      <td>Bombardier CRJ-200</td>\n",
       "      <td>4446</td>\n",
       "    </tr>\n",
       "    <tr>\n",
       "      <td>6</td>\n",
       "      <td>Cessna 208 Caravan</td>\n",
       "      <td>4557</td>\n",
       "    </tr>\n",
       "    <tr>\n",
       "      <td>7</td>\n",
       "      <td>Sukhoi SuperJet-100</td>\n",
       "      <td>4185</td>\n",
       "    </tr>\n",
       "  </tbody>\n",
       "</table>\n",
       "</div>"
      ],
      "text/plain": [
       "                 model  flights_amount\n",
       "0      Airbus A319-100             607\n",
       "1      Airbus A321-200             960\n",
       "2       Boeing 737-300             630\n",
       "3       Boeing 767-300             600\n",
       "4       Boeing 777-300             300\n",
       "5   Bombardier CRJ-200            4446\n",
       "6   Cessna 208 Caravan            4557\n",
       "7  Sukhoi SuperJet-100            4185"
      ]
     },
     "execution_count": 3,
     "metadata": {},
     "output_type": "execute_result"
    }
   ],
   "source": [
    "query1 # посмотрим на таблицу"
   ]
  },
  {
   "cell_type": "markdown",
   "metadata": {},
   "source": [
    "**Проверим типы данных на корректность в query1**"
   ]
  },
  {
   "cell_type": "code",
   "execution_count": 4,
   "metadata": {},
   "outputs": [
    {
     "name": "stdout",
     "output_type": "stream",
     "text": [
      "<class 'pandas.core.frame.DataFrame'>\n",
      "RangeIndex: 8 entries, 0 to 7\n",
      "Data columns (total 2 columns):\n",
      "model             8 non-null object\n",
      "flights_amount    8 non-null int64\n",
      "dtypes: int64(1), object(1)\n",
      "memory usage: 256.0+ bytes\n"
     ]
    }
   ],
   "source": [
    "query1.info() # выведем общую информацию"
   ]
  },
  {
   "cell_type": "code",
   "execution_count": 5,
   "metadata": {},
   "outputs": [
    {
     "data": {
      "text/plain": [
       "Index(['model', 'flights_amount'], dtype='object')"
      ]
     },
     "execution_count": 5,
     "metadata": {},
     "output_type": "execute_result"
    }
   ],
   "source": [
    "query1.columns # посмотрим на названия столбцов"
   ]
  },
  {
   "cell_type": "markdown",
   "metadata": {},
   "source": [
    "**Все типы в норме: модель самолета (model) - object,т.к. string, а кол-во рейсов (flights_amount) - int**"
   ]
  },
  {
   "cell_type": "code",
   "execution_count": 6,
   "metadata": {},
   "outputs": [
    {
     "data": {
      "text/html": [
       "<div>\n",
       "<style scoped>\n",
       "    .dataframe tbody tr th:only-of-type {\n",
       "        vertical-align: middle;\n",
       "    }\n",
       "\n",
       "    .dataframe tbody tr th {\n",
       "        vertical-align: top;\n",
       "    }\n",
       "\n",
       "    .dataframe thead th {\n",
       "        text-align: right;\n",
       "    }\n",
       "</style>\n",
       "<table border=\"1\" class=\"dataframe\">\n",
       "  <thead>\n",
       "    <tr style=\"text-align: right;\">\n",
       "      <th></th>\n",
       "      <th>city</th>\n",
       "      <th>average_flights</th>\n",
       "    </tr>\n",
       "  </thead>\n",
       "  <tbody>\n",
       "    <tr>\n",
       "      <td>0</td>\n",
       "      <td>Абакан</td>\n",
       "      <td>3.870968</td>\n",
       "    </tr>\n",
       "    <tr>\n",
       "      <td>1</td>\n",
       "      <td>Анадырь</td>\n",
       "      <td>1.000000</td>\n",
       "    </tr>\n",
       "    <tr>\n",
       "      <td>2</td>\n",
       "      <td>Анапа</td>\n",
       "      <td>2.161290</td>\n",
       "    </tr>\n",
       "    <tr>\n",
       "      <td>3</td>\n",
       "      <td>Архангельск</td>\n",
       "      <td>5.354839</td>\n",
       "    </tr>\n",
       "    <tr>\n",
       "      <td>4</td>\n",
       "      <td>Астрахань</td>\n",
       "      <td>2.451613</td>\n",
       "    </tr>\n",
       "    <tr>\n",
       "      <td>...</td>\n",
       "      <td>...</td>\n",
       "      <td>...</td>\n",
       "    </tr>\n",
       "    <tr>\n",
       "      <td>96</td>\n",
       "      <td>Чита</td>\n",
       "      <td>1.580645</td>\n",
       "    </tr>\n",
       "    <tr>\n",
       "      <td>97</td>\n",
       "      <td>Элиста</td>\n",
       "      <td>4.870968</td>\n",
       "    </tr>\n",
       "    <tr>\n",
       "      <td>98</td>\n",
       "      <td>Южно-Сахалинск</td>\n",
       "      <td>4.290323</td>\n",
       "    </tr>\n",
       "    <tr>\n",
       "      <td>99</td>\n",
       "      <td>Якутск</td>\n",
       "      <td>2.741935</td>\n",
       "    </tr>\n",
       "    <tr>\n",
       "      <td>100</td>\n",
       "      <td>Ярославль</td>\n",
       "      <td>1.322581</td>\n",
       "    </tr>\n",
       "  </tbody>\n",
       "</table>\n",
       "<p>101 rows × 2 columns</p>\n",
       "</div>"
      ],
      "text/plain": [
       "               city  average_flights\n",
       "0            Абакан         3.870968\n",
       "1           Анадырь         1.000000\n",
       "2             Анапа         2.161290\n",
       "3       Архангельск         5.354839\n",
       "4         Астрахань         2.451613\n",
       "..              ...              ...\n",
       "96             Чита         1.580645\n",
       "97           Элиста         4.870968\n",
       "98   Южно-Сахалинск         4.290323\n",
       "99           Якутск         2.741935\n",
       "100       Ярославль         1.322581\n",
       "\n",
       "[101 rows x 2 columns]"
      ]
     },
     "execution_count": 6,
     "metadata": {},
     "output_type": "execute_result"
    }
   ],
   "source": [
    "query3 # посмотрим на таблицу"
   ]
  },
  {
   "cell_type": "code",
   "execution_count": 7,
   "metadata": {},
   "outputs": [
    {
     "data": {
      "text/plain": [
       "Index(['city', 'average_flights'], dtype='object')"
      ]
     },
     "execution_count": 7,
     "metadata": {},
     "output_type": "execute_result"
    }
   ],
   "source": [
    "query3.columns # посмотрим на названия столбцов"
   ]
  },
  {
   "cell_type": "code",
   "execution_count": 8,
   "metadata": {},
   "outputs": [
    {
     "data": {
      "text/html": [
       "<div>\n",
       "<style scoped>\n",
       "    .dataframe tbody tr th:only-of-type {\n",
       "        vertical-align: middle;\n",
       "    }\n",
       "\n",
       "    .dataframe tbody tr th {\n",
       "        vertical-align: top;\n",
       "    }\n",
       "\n",
       "    .dataframe thead th {\n",
       "        text-align: right;\n",
       "    }\n",
       "</style>\n",
       "<table border=\"1\" class=\"dataframe\">\n",
       "  <thead>\n",
       "    <tr style=\"text-align: right;\">\n",
       "      <th></th>\n",
       "      <th>city</th>\n",
       "      <th>average_flights</th>\n",
       "    </tr>\n",
       "  </thead>\n",
       "  <tbody>\n",
       "    <tr>\n",
       "      <td>64</td>\n",
       "      <td>Петрозаводск</td>\n",
       "      <td>5.870968</td>\n",
       "    </tr>\n",
       "    <tr>\n",
       "      <td>85</td>\n",
       "      <td>Урай</td>\n",
       "      <td>2.000000</td>\n",
       "    </tr>\n",
       "    <tr>\n",
       "      <td>14</td>\n",
       "      <td>Волгоград</td>\n",
       "      <td>5.129032</td>\n",
       "    </tr>\n",
       "    <tr>\n",
       "      <td>79</td>\n",
       "      <td>Тамбов</td>\n",
       "      <td>4.000000</td>\n",
       "    </tr>\n",
       "    <tr>\n",
       "      <td>28</td>\n",
       "      <td>Кемерово</td>\n",
       "      <td>2.000000</td>\n",
       "    </tr>\n",
       "    <tr>\n",
       "      <td>99</td>\n",
       "      <td>Якутск</td>\n",
       "      <td>2.741935</td>\n",
       "    </tr>\n",
       "    <tr>\n",
       "      <td>70</td>\n",
       "      <td>Санкт-Петербург</td>\n",
       "      <td>31.161290</td>\n",
       "    </tr>\n",
       "    <tr>\n",
       "      <td>98</td>\n",
       "      <td>Южно-Сахалинск</td>\n",
       "      <td>4.290323</td>\n",
       "    </tr>\n",
       "    <tr>\n",
       "      <td>89</td>\n",
       "      <td>Уфа</td>\n",
       "      <td>6.290323</td>\n",
       "    </tr>\n",
       "    <tr>\n",
       "      <td>30</td>\n",
       "      <td>Когалым</td>\n",
       "      <td>3.161290</td>\n",
       "    </tr>\n",
       "    <tr>\n",
       "      <td>27</td>\n",
       "      <td>Калуга</td>\n",
       "      <td>2.032258</td>\n",
       "    </tr>\n",
       "    <tr>\n",
       "      <td>72</td>\n",
       "      <td>Саратов</td>\n",
       "      <td>4.000000</td>\n",
       "    </tr>\n",
       "    <tr>\n",
       "      <td>93</td>\n",
       "      <td>Чебоксары</td>\n",
       "      <td>5.000000</td>\n",
       "    </tr>\n",
       "    <tr>\n",
       "      <td>53</td>\n",
       "      <td>Новокузнецк</td>\n",
       "      <td>6.032258</td>\n",
       "    </tr>\n",
       "    <tr>\n",
       "      <td>57</td>\n",
       "      <td>Ноябрьск</td>\n",
       "      <td>3.000000</td>\n",
       "    </tr>\n",
       "  </tbody>\n",
       "</table>\n",
       "</div>"
      ],
      "text/plain": [
       "               city  average_flights\n",
       "64     Петрозаводск         5.870968\n",
       "85             Урай         2.000000\n",
       "14        Волгоград         5.129032\n",
       "79           Тамбов         4.000000\n",
       "28         Кемерово         2.000000\n",
       "99           Якутск         2.741935\n",
       "70  Санкт-Петербург        31.161290\n",
       "98   Южно-Сахалинск         4.290323\n",
       "89              Уфа         6.290323\n",
       "30          Когалым         3.161290\n",
       "27           Калуга         2.032258\n",
       "72          Саратов         4.000000\n",
       "93        Чебоксары         5.000000\n",
       "53      Новокузнецк         6.032258\n",
       "57         Ноябрьск         3.000000"
      ]
     },
     "execution_count": 8,
     "metadata": {},
     "output_type": "execute_result"
    }
   ],
   "source": [
    "query3.sample(15)"
   ]
  },
  {
   "cell_type": "markdown",
   "metadata": {},
   "source": [
    "<div style=\"border:solid orange 2px; padding: 20px\"> <b>Что можно улучшить</b><br>\n",
    "При использовании метода df.sample(N) - отображается N случайных строк из датасета. Дело в том, что их индексы генерируются случайно, а ты можешь увидеть что-то необычное в данных (аномалии\\выбросы\\некие особенности), но при последующем запуске повторения не будет. Для того, чтобы результаты были повторяемыми есть параметр random_state - если его задать, то результат всегда будет одним и тем же. Сравни примеры кода ниже\n",
    "</div> <br>"
   ]
  },
  {
   "cell_type": "code",
   "execution_count": 9,
   "metadata": {},
   "outputs": [
    {
     "data": {
      "text/html": [
       "<style  type=\"text/css\" >\n",
       "</style><table id=\"T_b99de5d2_e39c_11eb_abcd_02420a399353\" ><caption>Without random_state</caption><thead>    <tr>        <th class=\"blank level0\" ></th>        <th class=\"col_heading level0 col0\" >city</th>        <th class=\"col_heading level0 col1\" >average_flights</th>    </tr></thead><tbody>\n",
       "                <tr>\n",
       "                        <th id=\"T_b99de5d2_e39c_11eb_abcd_02420a399353level0_row0\" class=\"row_heading level0 row0\" >17</th>\n",
       "                        <td id=\"T_b99de5d2_e39c_11eb_abcd_02420a399353row0_col0\" class=\"data row0 col0\" >Геленджик</td>\n",
       "                        <td id=\"T_b99de5d2_e39c_11eb_abcd_02420a399353row0_col1\" class=\"data row0 col1\" >2.59091</td>\n",
       "            </tr>\n",
       "            <tr>\n",
       "                        <th id=\"T_b99de5d2_e39c_11eb_abcd_02420a399353level0_row1\" class=\"row_heading level0 row1\" >25</th>\n",
       "                        <td id=\"T_b99de5d2_e39c_11eb_abcd_02420a399353row1_col0\" class=\"data row1 col0\" >Казань</td>\n",
       "                        <td id=\"T_b99de5d2_e39c_11eb_abcd_02420a399353row1_col1\" class=\"data row1 col1\" >7.74194</td>\n",
       "            </tr>\n",
       "            <tr>\n",
       "                        <th id=\"T_b99de5d2_e39c_11eb_abcd_02420a399353level0_row2\" class=\"row_heading level0 row2\" >20</th>\n",
       "                        <td id=\"T_b99de5d2_e39c_11eb_abcd_02420a399353row2_col0\" class=\"data row2 col0\" >Екатеринбург</td>\n",
       "                        <td id=\"T_b99de5d2_e39c_11eb_abcd_02420a399353row2_col1\" class=\"data row2 col1\" >11.3226</td>\n",
       "            </tr>\n",
       "    </tbody></table>"
      ],
      "text/plain": [
       "<pandas.io.formats.style.Styler at 0x7fb7ab506ad0>"
      ]
     },
     "metadata": {},
     "output_type": "display_data"
    },
    {
     "data": {
      "text/html": [
       "<style  type=\"text/css\" >\n",
       "</style><table id=\"T_b99f01e2_e39c_11eb_abcd_02420a399353\" ><caption>With random_state</caption><thead>    <tr>        <th class=\"blank level0\" ></th>        <th class=\"col_heading level0 col0\" >city</th>        <th class=\"col_heading level0 col1\" >average_flights</th>    </tr></thead><tbody>\n",
       "                <tr>\n",
       "                        <th id=\"T_b99f01e2_e39c_11eb_abcd_02420a399353level0_row0\" class=\"row_heading level0 row0\" >0</th>\n",
       "                        <td id=\"T_b99f01e2_e39c_11eb_abcd_02420a399353row0_col0\" class=\"data row0 col0\" >Калининград</td>\n",
       "                        <td id=\"T_b99f01e2_e39c_11eb_abcd_02420a399353row0_col1\" class=\"data row0 col1\" >2.58065</td>\n",
       "            </tr>\n",
       "            <tr>\n",
       "                        <th id=\"T_b99f01e2_e39c_11eb_abcd_02420a399353level0_row1\" class=\"row_heading level0 row1\" >1</th>\n",
       "                        <td id=\"T_b99f01e2_e39c_11eb_abcd_02420a399353row1_col0\" class=\"data row1 col0\" >Калининград</td>\n",
       "                        <td id=\"T_b99f01e2_e39c_11eb_abcd_02420a399353row1_col1\" class=\"data row1 col1\" >2.58065</td>\n",
       "            </tr>\n",
       "            <tr>\n",
       "                        <th id=\"T_b99f01e2_e39c_11eb_abcd_02420a399353level0_row2\" class=\"row_heading level0 row2\" >2</th>\n",
       "                        <td id=\"T_b99f01e2_e39c_11eb_abcd_02420a399353row2_col0\" class=\"data row2 col0\" >Калининград</td>\n",
       "                        <td id=\"T_b99f01e2_e39c_11eb_abcd_02420a399353row2_col1\" class=\"data row2 col1\" >2.58065</td>\n",
       "            </tr>\n",
       "    </tbody></table>"
      ],
      "text/plain": [
       "<pandas.io.formats.style.Styler at 0x7fb7ab3a73d0>"
      ]
     },
     "metadata": {},
     "output_type": "display_data"
    }
   ],
   "source": [
    "\n",
    "display(pd.concat([query3.sample(1) for _ in range(3)])\\\n",
    "    .style\\\n",
    "    .set_caption('Without random_state'))\n",
    "\t\n",
    "display(pd.concat([query3.sample(1, random_state=0) for _ in range(3)])\\\n",
    "    .reset_index(drop=True)\\\n",
    "    .style\\\n",
    "    .set_caption('With random_state'))"
   ]
  },
  {
   "cell_type": "markdown",
   "metadata": {},
   "source": [
    "<div class=\"alert alert-info\" style=\"border:solid blue 2px; padding: 20px\"> <b>Комментарий студента:</b> \n",
    " Спасибо! Замечательный способ, дальше буду использовать его</div>"
   ]
  },
  {
   "cell_type": "markdown",
   "metadata": {},
   "source": [
    "<hr style=\"border: 2px solid orange;\" />"
   ]
  },
  {
   "cell_type": "markdown",
   "metadata": {},
   "source": [
    "**Проверим типы данных на корректность в query3**"
   ]
  },
  {
   "cell_type": "code",
   "execution_count": 10,
   "metadata": {},
   "outputs": [
    {
     "name": "stdout",
     "output_type": "stream",
     "text": [
      "<class 'pandas.core.frame.DataFrame'>\n",
      "RangeIndex: 101 entries, 0 to 100\n",
      "Data columns (total 2 columns):\n",
      "city               101 non-null object\n",
      "average_flights    101 non-null float64\n",
      "dtypes: float64(1), object(1)\n",
      "memory usage: 1.7+ KB\n"
     ]
    }
   ],
   "source": [
    "query3.info()  # выведем общую информацию"
   ]
  },
  {
   "cell_type": "markdown",
   "metadata": {},
   "source": [
    "**Все типы в норме: город (city) - object, т.к. string, а среднее кол-во рейсов (average_flights) - float**"
   ]
  },
  {
   "cell_type": "code",
   "execution_count": 11,
   "metadata": {},
   "outputs": [
    {
     "data": {
      "text/plain": [
       "Новосибирск    1\n",
       "Хабаровск      1\n",
       "Ульяновск      1\n",
       "Новокузнецк    1\n",
       "Нижнекамск     1\n",
       "              ..\n",
       "Йошкар-Ола     1\n",
       "Нарьян-Мар     1\n",
       "Элиста         1\n",
       "Владивосток    1\n",
       "Нефтеюганск    1\n",
       "Name: city, Length: 101, dtype: int64"
      ]
     },
     "execution_count": 11,
     "metadata": {},
     "output_type": "execute_result"
    }
   ],
   "source": [
    "query3['city'].value_counts()"
   ]
  },
  {
   "cell_type": "code",
   "execution_count": 12,
   "metadata": {},
   "outputs": [
    {
     "data": {
      "text/html": [
       "<div>\n",
       "<style scoped>\n",
       "    .dataframe tbody tr th:only-of-type {\n",
       "        vertical-align: middle;\n",
       "    }\n",
       "\n",
       "    .dataframe tbody tr th {\n",
       "        vertical-align: top;\n",
       "    }\n",
       "\n",
       "    .dataframe thead th {\n",
       "        text-align: right;\n",
       "    }\n",
       "</style>\n",
       "<table border=\"1\" class=\"dataframe\">\n",
       "  <thead>\n",
       "    <tr style=\"text-align: right;\">\n",
       "      <th></th>\n",
       "      <th>average_flights</th>\n",
       "    </tr>\n",
       "  </thead>\n",
       "  <tbody>\n",
       "    <tr>\n",
       "      <td>count</td>\n",
       "      <td>101.000000</td>\n",
       "    </tr>\n",
       "    <tr>\n",
       "      <td>mean</td>\n",
       "      <td>5.494189</td>\n",
       "    </tr>\n",
       "    <tr>\n",
       "      <td>std</td>\n",
       "      <td>13.119790</td>\n",
       "    </tr>\n",
       "    <tr>\n",
       "      <td>min</td>\n",
       "      <td>1.000000</td>\n",
       "    </tr>\n",
       "    <tr>\n",
       "      <td>25%</td>\n",
       "      <td>2.000000</td>\n",
       "    </tr>\n",
       "    <tr>\n",
       "      <td>50%</td>\n",
       "      <td>3.000000</td>\n",
       "    </tr>\n",
       "    <tr>\n",
       "      <td>75%</td>\n",
       "      <td>5.870968</td>\n",
       "    </tr>\n",
       "    <tr>\n",
       "      <td>max</td>\n",
       "      <td>129.774194</td>\n",
       "    </tr>\n",
       "  </tbody>\n",
       "</table>\n",
       "</div>"
      ],
      "text/plain": [
       "       average_flights\n",
       "count       101.000000\n",
       "mean          5.494189\n",
       "std          13.119790\n",
       "min           1.000000\n",
       "25%           2.000000\n",
       "50%           3.000000\n",
       "75%           5.870968\n",
       "max         129.774194"
      ]
     },
     "execution_count": 12,
     "metadata": {},
     "output_type": "execute_result"
    }
   ],
   "source": [
    "query3.describe()  # выведем статистическую информацию"
   ]
  },
  {
   "cell_type": "code",
   "execution_count": 13,
   "metadata": {},
   "outputs": [
    {
     "data": {
      "text/plain": [
       "<matplotlib.legend.Legend at 0x7fb7f548bc50>"
      ]
     },
     "execution_count": 13,
     "metadata": {},
     "output_type": "execute_result"
    },
    {
     "data": {
      "image/png": "[encoded data removed]",
      "text/plain": [
       "<Figure size 1152x576 with 1 Axes>"
      ]
     },
     "metadata": {
      "needs_background": "light"
     },
     "output_type": "display_data"
    }
   ],
   "source": [
    "query1['flights_amount'].hist(figsize=(16,8), bins=10) # обозначим на гистограмме median и mean в query1\n",
    "plt.vlines(x=query1['flights_amount'].median(), ymin=0, ymax=70, label='median', colors='red')\n",
    "plt.vlines(x=query1['flights_amount'].mean(), ymin=0, ymax=70, label='mean', colors='green')\n",
    "plt.legend() "
   ]
  },
  {
   "cell_type": "code",
   "execution_count": 14,
   "metadata": {},
   "outputs": [
    {
     "data": {
      "text/plain": [
       "<matplotlib.legend.Legend at 0x7fb7f54ac490>"
      ]
     },
     "execution_count": 14,
     "metadata": {},
     "output_type": "execute_result"
    },
    {
     "data": {
      "image/png": "[encoded data removed]",
      "text/plain": [
       "<Figure size 1152x576 with 1 Axes>"
      ]
     },
     "metadata": {
      "needs_background": "light"
     },
     "output_type": "display_data"
    }
   ],
   "source": [
    "query3['average_flights'].hist(figsize=(16,8), bins=40) # обозначим на гистограмме median и mean в query3\n",
    "plt.vlines(x=query3['average_flights'].median(), ymin=0, ymax=70, label='median', colors='red')\n",
    "plt.vlines(x=query3['average_flights'].mean(), ymin=0, ymax=70, label='mean', colors='green')\n",
    "plt.legend() "
   ]
  },
  {
   "cell_type": "code",
   "execution_count": 15,
   "metadata": {},
   "outputs": [
    {
     "data": {
      "text/plain": [
       "0"
      ]
     },
     "execution_count": 15,
     "metadata": {},
     "output_type": "execute_result"
    }
   ],
   "source": [
    "query3.duplicated().sum()# посмотрим на дублированные записи"
   ]
  },
  {
   "cell_type": "code",
   "execution_count": 16,
   "metadata": {},
   "outputs": [
    {
     "data": {
      "text/html": [
       "<style  type=\"text/css\" >\n",
       "    #T_ba203c3a_e39c_11eb_abcd_02420a399353row0_col0 {\n",
       "            background-color:  #3b4cc0;\n",
       "            color:  #f1f1f1;\n",
       "        }    #T_ba203c3a_e39c_11eb_abcd_02420a399353row1_col0 {\n",
       "            background-color:  #3b4cc0;\n",
       "            color:  #f1f1f1;\n",
       "        }</style><table id=\"T_ba203c3a_e39c_11eb_abcd_02420a399353\" ><thead>    <tr>        <th class=\"blank level0\" ></th>        <th class=\"col_heading level0 col0\" >0</th>    </tr></thead><tbody>\n",
       "                <tr>\n",
       "                        <th id=\"T_ba203c3a_e39c_11eb_abcd_02420a399353level0_row0\" class=\"row_heading level0 row0\" >city</th>\n",
       "                        <td id=\"T_ba203c3a_e39c_11eb_abcd_02420a399353row0_col0\" class=\"data row0 col0\" >0</td>\n",
       "            </tr>\n",
       "            <tr>\n",
       "                        <th id=\"T_ba203c3a_e39c_11eb_abcd_02420a399353level0_row1\" class=\"row_heading level0 row1\" >average_flights</th>\n",
       "                        <td id=\"T_ba203c3a_e39c_11eb_abcd_02420a399353row1_col0\" class=\"data row1 col0\" >0</td>\n",
       "            </tr>\n",
       "    </tbody></table>"
      ],
      "text/plain": [
       "<pandas.io.formats.style.Styler at 0x7fb7f5404590>"
      ]
     },
     "execution_count": 16,
     "metadata": {},
     "output_type": "execute_result"
    }
   ],
   "source": [
    "(query3.isna().mean() * 100).to_frame().style.background_gradient(cmap='coolwarm')  # посмотрим на пустые записи"
   ]
  },
  {
   "cell_type": "code",
   "execution_count": 17,
   "metadata": {},
   "outputs": [
    {
     "data": {
      "text/plain": [
       "<matplotlib.axes._subplots.AxesSubplot at 0x7fb7f535c290>"
      ]
     },
     "execution_count": 17,
     "metadata": {},
     "output_type": "execute_result"
    },
    {
     "data": {
      "image/png": "[encoded data removed]",
      "text/plain": [
       "<Figure size 1152x576 with 1 Axes>"
      ]
     },
     "metadata": {
      "needs_background": "light"
     },
     "output_type": "display_data"
    }
   ],
   "source": [
    "query1.boxplot('flights_amount', figsize=(16, 8))  # посмотрим на разброс значений: видим 3 выброса\n",
    "# Датасет скошен вправо, т.к. расстояние между первым квартилем и медианой заметно меньше, \n",
    "# чем расстояние между медианой и третьим квартилем."
   ]
  },
  {
   "cell_type": "code",
   "execution_count": 18,
   "metadata": {},
   "outputs": [
    {
     "data": {
      "text/plain": [
       "<matplotlib.axes._subplots.AxesSubplot at 0x7fb7f52c32d0>"
      ]
     },
     "execution_count": 18,
     "metadata": {},
     "output_type": "execute_result"
    },
    {
     "data": {
      "image/png": "[encoded data removed]",
      "text/plain": [
       "<Figure size 1152x576 with 1 Axes>"
      ]
     },
     "metadata": {
      "needs_background": "light"
     },
     "output_type": "display_data"
    }
   ],
   "source": [
    "query3.boxplot('average_flights', figsize=(16, 8))  # посмотрим на разброс значений: видим 3 выброса\n",
    "# Датасет скошен вправо, т.к. расстояние между первым квартилем и медианой заметно меньше, \n",
    "# чем расстояние между медианой и третьим квартилем."
   ]
  },
  {
   "cell_type": "markdown",
   "metadata": {},
   "source": [
    "**Вывод:**\n",
    "1. Все типы данных в надлежащем виде\n",
    "2. Нет пропущенных и дублированных значений в query1 и query3\n",
    "3. Обнаружили 3 выброса на разбросе значений в query3\n",
    "4. Названия столбцов в query1 и query3 в правильном виде"
   ]
  },
  {
   "cell_type": "markdown",
   "metadata": {},
   "source": [
    "<div style=\"border:solid green 2px; padding: 20px\"> <b>Отличная работа</b><br>\n",
    "Обзор данных выполнен отлично👍</div> <br>"
   ]
  },
  {
   "cell_type": "markdown",
   "metadata": {},
   "source": [
    "## Анализ данных\n",
    "<a id=\"data_analysis\"></a>"
   ]
  },
  {
   "cell_type": "markdown",
   "metadata": {},
   "source": [
    "Выберем топ-10 городов по количеству рейсов"
   ]
  },
  {
   "cell_type": "code",
   "execution_count": 19,
   "metadata": {},
   "outputs": [
    {
     "data": {
      "text/html": [
       "<div>\n",
       "<style scoped>\n",
       "    .dataframe tbody tr th:only-of-type {\n",
       "        vertical-align: middle;\n",
       "    }\n",
       "\n",
       "    .dataframe tbody tr th {\n",
       "        vertical-align: top;\n",
       "    }\n",
       "\n",
       "    .dataframe thead th {\n",
       "        text-align: right;\n",
       "    }\n",
       "</style>\n",
       "<table border=\"1\" class=\"dataframe\">\n",
       "  <thead>\n",
       "    <tr style=\"text-align: right;\">\n",
       "      <th></th>\n",
       "      <th>city</th>\n",
       "      <th>average_flights</th>\n",
       "    </tr>\n",
       "  </thead>\n",
       "  <tbody>\n",
       "    <tr>\n",
       "      <td>43</td>\n",
       "      <td>Москва</td>\n",
       "      <td>129.774194</td>\n",
       "    </tr>\n",
       "    <tr>\n",
       "      <td>70</td>\n",
       "      <td>Санкт-Петербург</td>\n",
       "      <td>31.161290</td>\n",
       "    </tr>\n",
       "    <tr>\n",
       "      <td>54</td>\n",
       "      <td>Новосибирск</td>\n",
       "      <td>17.322581</td>\n",
       "    </tr>\n",
       "    <tr>\n",
       "      <td>33</td>\n",
       "      <td>Красноярск</td>\n",
       "      <td>11.580645</td>\n",
       "    </tr>\n",
       "    <tr>\n",
       "      <td>20</td>\n",
       "      <td>Екатеринбург</td>\n",
       "      <td>11.322581</td>\n",
       "    </tr>\n",
       "    <tr>\n",
       "      <td>67</td>\n",
       "      <td>Ростов-на-Дону</td>\n",
       "      <td>10.193548</td>\n",
       "    </tr>\n",
       "    <tr>\n",
       "      <td>63</td>\n",
       "      <td>Пермь</td>\n",
       "      <td>10.129032</td>\n",
       "    </tr>\n",
       "    <tr>\n",
       "      <td>10</td>\n",
       "      <td>Брянск</td>\n",
       "      <td>10.000000</td>\n",
       "    </tr>\n",
       "    <tr>\n",
       "      <td>74</td>\n",
       "      <td>Сочи</td>\n",
       "      <td>9.612903</td>\n",
       "    </tr>\n",
       "    <tr>\n",
       "      <td>84</td>\n",
       "      <td>Ульяновск</td>\n",
       "      <td>9.580645</td>\n",
       "    </tr>\n",
       "  </tbody>\n",
       "</table>\n",
       "</div>"
      ],
      "text/plain": [
       "               city  average_flights\n",
       "43           Москва       129.774194\n",
       "70  Санкт-Петербург        31.161290\n",
       "54      Новосибирск        17.322581\n",
       "33       Красноярск        11.580645\n",
       "20     Екатеринбург        11.322581\n",
       "67   Ростов-на-Дону        10.193548\n",
       "63            Пермь        10.129032\n",
       "10           Брянск        10.000000\n",
       "74             Сочи         9.612903\n",
       "84        Ульяновск         9.580645"
      ]
     },
     "execution_count": 19,
     "metadata": {},
     "output_type": "execute_result"
    }
   ],
   "source": [
    "top10 = query3.sort_values(by=['average_flights'], ascending=False).head(10)\n",
    "top10"
   ]
  },
  {
   "cell_type": "markdown",
   "metadata": {},
   "source": [
    "Построим графики: модели самолетов и количество рейсов, города и количество рейсов, топ-10 городов и количество рейсов"
   ]
  },
  {
   "cell_type": "markdown",
   "metadata": {},
   "source": [
    "**модели самолетов и количество рейсов**"
   ]
  },
  {
   "cell_type": "code",
   "execution_count": 20,
   "metadata": {},
   "outputs": [
    {
     "data": {
      "text/plain": [
       "<matplotlib.axes._subplots.AxesSubplot at 0x7fb7f52aab10>"
      ]
     },
     "execution_count": 20,
     "metadata": {},
     "output_type": "execute_result"
    },
    {
     "data": {
      "image/png": "[encoded data removed]",
      "text/plain": [
       "<Figure size 1152x576 with 1 Axes>"
      ]
     },
     "metadata": {
      "needs_background": "light"
     },
     "output_type": "display_data"
    }
   ],
   "source": [
    "query1.sort_values(by='flights_amount', ascending=False).plot(kind='bar', x='model', y='flights_amount', figsize=(16,8), grid=True,\n",
    "title='модели самолетов и количество рейсов c помощью bar')"
   ]
  },
  {
   "cell_type": "markdown",
   "metadata": {},
   "source": [
    "Больше всего рейсов было совершенно на следующих моделях (они составляют более 75% полетов):\n",
    "1. Cessna 208 Caravan\n",
    "2. Bombardier CRJ-200\n",
    "3. Sukhoi SuperJet-100\n",
    "* (На остальных приблизительно одинаково)"
   ]
  },
  {
   "cell_type": "markdown",
   "metadata": {},
   "source": [
    "<div style=\"border:solid orange 2px; padding: 20px\"> <b>Что можно улучшить</b><br>\n",
    "Александр Богачев в книге <a href=\"https://ru.bookmate.com/books/pfLCYNJM\">Графики, которые убеждают всех</a> так описывает применение круговых диаграмм:<br>\n",
    "<code>...одна из важных характеристик типа визуализации данных – то, насколько точно он позволяет раскодировать значения, записанные с помощью геометрических фигур и их свойств.\n",
    "Проводились исследования на эту тему. Оказалось, что точнее всего позволяют считывать значения точечная и столбиковая диаграммы. А именно – сочетание длины столбика с его расположением относительно базовой (общей) линии. Угол, в частности сектор в круговой диаграмме, считывается значительно хуже. Еще расплывчатее показывают значения разные оттенки насыщенности цвета и объемные фигуры\n",
    "</code><br>\n",
    "<code>...передать ощущение части и целого нужно гораздо реже, чем мы думаем. Чаще всего мы хотим сравнить компоненты целого между собой. А это круговая диаграмма делает плохо. Она предлагает нашему мозгу сравнивать либо углы секторов, либо визуальную площадь этих секторов. И то, и другое мозг делает плохо – нам гораздо проще сравнить длину столбиков.\n",
    "</code><br>\n",
    "Рекомендую круговую диаграмму применять только в крайней случае для не более 2-3 сильно различающихся категорий. Круговая диаграмма хорошо заменяется столбчатой без каких-либо потерь!</div> <br>"
   ]
  },
  {
   "cell_type": "markdown",
   "metadata": {},
   "source": [
    "<div class=\"alert alert-info\" style=\"border:solid blue 2px; padding: 20px\"> <b>Комментарий студента:</b> \n",
    "    Удалил круговую диаграмму, изменил порядок сортировки</div>"
   ]
  },
  {
   "cell_type": "markdown",
   "metadata": {},
   "source": [
    "<div style=\"border:solid green 2px; padding: 20px\"> <b>Отличная работа 2</b><br>👍</div> "
   ]
  },
  {
   "cell_type": "markdown",
   "metadata": {},
   "source": [
    "**города и количество рейсов**"
   ]
  },
  {
   "cell_type": "code",
   "execution_count": 21,
   "metadata": {},
   "outputs": [
    {
     "data": {
      "text/plain": [
       "<matplotlib.axes._subplots.AxesSubplot at 0x7fb7f51e8410>"
      ]
     },
     "execution_count": 21,
     "metadata": {},
     "output_type": "execute_result"
    },
    {
     "data": {
      "image/png": "[encoded data removed]",
      "text/plain": [
       "<Figure size 1152x1296 with 1 Axes>"
      ]
     },
     "metadata": {
      "needs_background": "light"
     },
     "output_type": "display_data"
    }
   ],
   "source": [
    "query3.sort_values(by='average_flights').plot(kind='barh', x='city', y='average_flights', figsize=(16,18), grid=True,\n",
    "title='города и количество рейсов')"
   ]
  },
  {
   "cell_type": "markdown",
   "metadata": {},
   "source": [
    "<div style=\"border:solid red 2px; padding: 20px\"> <b>Что необходимо доработать</b><br>\n",
    "Как ты думаешь, насколько информативен график выше? можно ли из него что-то понять?<br>\n",
    "Полагаю, что он кандидат на удаление из работы, достаточно столбчатой диаграммы</div><br>"
   ]
  },
  {
   "cell_type": "markdown",
   "metadata": {},
   "source": [
    "<div class=\"alert alert-info\" style=\"border:solid blue 2px; padding: 20px\"> <b>Комментарий студента:</b> \n",
    "    Удалил круговую диаграмму</div>"
   ]
  },
  {
   "cell_type": "markdown",
   "metadata": {},
   "source": [
    "Самые популярные города для рейсов:\n",
    "1. Москва составляют около 25% от всех рейсов\n",
    "2. Санкт-Петербург\n",
    "3. Новосибирск"
   ]
  },
  {
   "cell_type": "markdown",
   "metadata": {},
   "source": [
    "**топ-10 городов и количество рейсов**"
   ]
  },
  {
   "cell_type": "code",
   "execution_count": 22,
   "metadata": {},
   "outputs": [
    {
     "data": {
      "text/plain": [
       "<matplotlib.axes._subplots.AxesSubplot at 0x7fb7f46d8750>"
      ]
     },
     "execution_count": 22,
     "metadata": {},
     "output_type": "execute_result"
    },
    {
     "data": {
      "image/png": "[encoded data removed]",
      "text/plain": [
       "<Figure size 1152x576 with 1 Axes>"
      ]
     },
     "metadata": {
      "needs_background": "light"
     },
     "output_type": "display_data"
    }
   ],
   "source": [
    "top10.sort_values(by='average_flights', ascending=False).plot(kind='bar', x='city', y='average_flights', figsize=(16,8), grid=True,\n",
    "title='топ-10 городов и количество рейсов c помощью bar')"
   ]
  },
  {
   "cell_type": "markdown",
   "metadata": {},
   "source": [
    "<div style=\"border:solid red 2px; padding: 20px\"> <b>Что необходимо доработать</b><br>\n",
    "Строить круговую диаграмму для топ-10 городов не корректно, так они не составляют единое целое и часть отображаемая на диаграмме ошибочна<br>\n",
    "тоже кандидат на удаление</div><br>\n",
    "<div style=\"border:solid orange 2px; padding: 20px\"> <b>Что можно улучшить</b><br>\n",
    "Хорошей практикой является использование привычной сортировки - по убыванию слева на право или сверху вниз - мы так привыкли читать текст, поэтому не возникнет проблем  и с визуализациями</div> <br>"
   ]
  },
  {
   "cell_type": "markdown",
   "metadata": {},
   "source": [
    "<div class=\"alert alert-info\" style=\"border:solid blue 2px; padding: 20px\"> <b>Комментарий студента:</b> \n",
    "    Удалил круговую диаграмму, изменил порядок сортировки</div>"
   ]
  },
  {
   "cell_type": "markdown",
   "metadata": {},
   "source": [
    "<div style=\"border:solid green 2px; padding: 20px\"> <b>Отличная работа 2</b><br>👍</div> "
   ]
  },
  {
   "cell_type": "markdown",
   "metadata": {},
   "source": [
    "Самые популярные города для рейсов топ-10:\n",
    "1. Москва составляет около 50% от всех рейсов\n",
    "2. Санкт-Петербург\n",
    "3. Новосибирск"
   ]
  },
  {
   "cell_type": "markdown",
   "metadata": {},
   "source": [
    "### Вывод\n",
    "<a id=\"conclusion2\"></a>\n",
    "Больше всего рейсов было совершенно на следующих моделях (они составляют более 75% полетов):\n",
    "1. Cessna 208 Caravan\n",
    "2. Bombardier CRJ-200\n",
    "3. Sukhoi SuperJet-100\n",
    "* (На остальных приблизительно одинаково)"
   ]
  },
  {
   "cell_type": "markdown",
   "metadata": {},
   "source": [
    "Самые популярные города для рейсов:\n",
    "1. Москва составляет около 25% от всех рейсов\n",
    "2. Санкт-Петербург\n",
    "3. Новосибирск"
   ]
  },
  {
   "cell_type": "markdown",
   "metadata": {},
   "source": [
    "Самые популярные города для рейсов топ-10:\n",
    "1. Москва составляет около 50% от всех рейсов\n",
    "2. Санкт-Петербург\n",
    "3. Новосибирск"
   ]
  },
  {
   "cell_type": "markdown",
   "metadata": {},
   "source": [
    "## Общий вывод\n",
    "<a id=\"conclusion\"></a>"
   ]
  },
  {
   "cell_type": "markdown",
   "metadata": {},
   "source": [
    "**Изучение данных:**\n",
    "1. Все типы данных в надлежащем виде\n",
    "2. Нет пропущенных и дублированных значений в query1 и query3\n",
    "3. Обнаружили 3 выброса на разбросе значений в query3\n",
    "4. Названия столбцов в query1 и query3 в правильном виде"
   ]
  },
  {
   "cell_type": "markdown",
   "metadata": {},
   "source": [
    "**Построение графиков:**\n",
    "1. Больше всего рейсов было совершенно на следующих моделях (они составляют более 75% полетов):\n",
    "    1. Cessna 208 Caravan\n",
    "    2. Bombardier CRJ-200\n",
    "    3. Sukhoi SuperJet-100\n",
    "    * (На остальных приблизительно одинаково)\n",
    "2. Самые популярные города для рейсов:\n",
    "    1. Москва составляет около 25% от всех рейсов\n",
    "    2. Санкт-Петербург\n",
    "    3. Новосибирск\n",
    "3. Самые популярные города для рейсов топ-10:\n",
    "    1. Москва составляет около 50% от всех рейсов\n",
    "    2. Санкт-Петербург\n",
    "    3. Новосибирск"
   ]
  },
  {
   "cell_type": "markdown",
   "metadata": {},
   "source": [
    "<hr style=\"border: 2px solid green;\" />\n",
    "\n",
    "## Общий комментарий\n",
    "Спасибо за проделанную работу🤝\n",
    "\n",
    "Никита, работа требует доработок в части визуализации:\n",
    "- убрать лишние круговые диаграммы\n",
    "- отсортировать данные на графиках в привычном виде. Дополнительно для повышения читаемости можно графики с малым кол-вом данных (модели и топ-10) расположить вертикально, чтобы названия моделей и городов располагались горизонтально и их было легко читать\n",
    "\n",
    "Исправляй и отправляй на проверку🛠"
   ]
  }
 ],
 "metadata": {
  "ExecuteTimeLog": [
   {
    "duration": 1012,
    "start_time": "2021-07-10T12:28:17.187Z"
   },
   {
    "duration": 121,
    "start_time": "2021-07-10T12:28:32.383Z"
   },
   {
    "duration": 108,
    "start_time": "2021-07-10T12:28:34.647Z"
   },
   {
    "duration": 116,
    "start_time": "2021-07-10T12:29:07.961Z"
   },
   {
    "duration": 111,
    "start_time": "2021-07-10T12:29:10.796Z"
   },
   {
    "duration": 115,
    "start_time": "2021-07-10T12:29:29.381Z"
   },
   {
    "duration": 17,
    "start_time": "2021-07-10T12:29:35.088Z"
   },
   {
    "duration": 37,
    "start_time": "2021-07-10T12:31:35.886Z"
   },
   {
    "duration": 19,
    "start_time": "2021-07-10T12:32:00.738Z"
   },
   {
    "duration": 13,
    "start_time": "2021-07-10T12:32:05.769Z"
   },
   {
    "duration": 120,
    "start_time": "2021-07-10T12:39:52.933Z"
   },
   {
    "duration": 10,
    "start_time": "2021-07-10T12:40:19.045Z"
   },
   {
    "duration": 9,
    "start_time": "2021-07-10T12:40:22.187Z"
   },
   {
    "duration": 8,
    "start_time": "2021-07-10T12:40:40.194Z"
   },
   {
    "duration": 16,
    "start_time": "2021-07-10T12:41:36.496Z"
   },
   {
    "duration": 17,
    "start_time": "2021-07-10T12:42:24.747Z"
   },
   {
    "duration": 7,
    "start_time": "2021-07-10T12:42:44.583Z"
   },
   {
    "duration": 8,
    "start_time": "2021-07-10T12:42:51.990Z"
   },
   {
    "duration": 9,
    "start_time": "2021-07-10T12:43:10.827Z"
   },
   {
    "duration": 466,
    "start_time": "2021-07-10T12:44:04.723Z"
   },
   {
    "duration": 321,
    "start_time": "2021-07-10T12:44:06.786Z"
   },
   {
    "duration": 3,
    "start_time": "2021-07-10T12:44:36.405Z"
   },
   {
    "duration": 418,
    "start_time": "2021-07-10T12:46:19.822Z"
   },
   {
    "duration": 355,
    "start_time": "2021-07-10T12:46:31.658Z"
   },
   {
    "duration": 600,
    "start_time": "2021-07-10T12:46:53.579Z"
   },
   {
    "duration": 719,
    "start_time": "2021-07-10T12:47:11.121Z"
   },
   {
    "duration": 744,
    "start_time": "2021-07-10T12:47:21.404Z"
   },
   {
    "duration": 570,
    "start_time": "2021-07-10T12:47:25.280Z"
   },
   {
    "duration": 585,
    "start_time": "2021-07-10T12:47:30.732Z"
   },
   {
    "duration": 612,
    "start_time": "2021-07-10T12:47:46.829Z"
   },
   {
    "duration": 7,
    "start_time": "2021-07-10T12:48:52.202Z"
   },
   {
    "duration": 5,
    "start_time": "2021-07-10T12:49:07.930Z"
   },
   {
    "duration": 6,
    "start_time": "2021-07-10T12:49:16.864Z"
   },
   {
    "duration": 11,
    "start_time": "2021-07-10T12:49:32.854Z"
   },
   {
    "duration": 446,
    "start_time": "2021-07-10T12:49:51.046Z"
   },
   {
    "duration": 11,
    "start_time": "2021-07-10T12:50:00.601Z"
   },
   {
    "duration": 738,
    "start_time": "2021-07-10T12:53:28.120Z"
   },
   {
    "duration": 13,
    "start_time": "2021-07-10T12:55:55.686Z"
   },
   {
    "duration": 12,
    "start_time": "2021-07-10T12:55:58.200Z"
   },
   {
    "duration": 15,
    "start_time": "2021-07-10T12:56:00.668Z"
   },
   {
    "duration": 16,
    "start_time": "2021-07-10T12:56:02.666Z"
   },
   {
    "duration": 15,
    "start_time": "2021-07-10T12:56:04.103Z"
   },
   {
    "duration": 17,
    "start_time": "2021-07-10T12:56:10.828Z"
   },
   {
    "duration": 12,
    "start_time": "2021-07-10T12:56:12.628Z"
   },
   {
    "duration": 12,
    "start_time": "2021-07-10T13:03:12.296Z"
   },
   {
    "duration": 11,
    "start_time": "2021-07-10T13:03:23.725Z"
   },
   {
    "duration": 13,
    "start_time": "2021-07-10T13:03:26.710Z"
   },
   {
    "duration": 16,
    "start_time": "2021-07-10T13:03:29.715Z"
   },
   {
    "duration": 636,
    "start_time": "2021-07-10T16:42:42.044Z"
   },
   {
    "duration": 29,
    "start_time": "2021-07-10T16:42:42.681Z"
   },
   {
    "duration": 11,
    "start_time": "2021-07-10T16:42:42.712Z"
   },
   {
    "duration": 6,
    "start_time": "2021-07-10T16:48:37.762Z"
   },
   {
    "duration": 4,
    "start_time": "2021-07-10T16:48:38.159Z"
   },
   {
    "duration": 9,
    "start_time": "2021-07-10T16:48:43.252Z"
   },
   {
    "duration": 4,
    "start_time": "2021-07-10T16:48:43.797Z"
   },
   {
    "duration": 7,
    "start_time": "2021-07-10T16:48:44.217Z"
   },
   {
    "duration": 6,
    "start_time": "2021-07-10T16:48:56.889Z"
   },
   {
    "duration": 341,
    "start_time": "2021-07-10T16:57:16.651Z"
   },
   {
    "duration": 217,
    "start_time": "2021-07-10T16:57:50.756Z"
   },
   {
    "duration": 2,
    "start_time": "2021-07-10T17:04:47.356Z"
   },
   {
    "duration": 27,
    "start_time": "2021-07-10T17:04:47.441Z"
   },
   {
    "duration": 6,
    "start_time": "2021-07-10T17:04:47.524Z"
   },
   {
    "duration": 6,
    "start_time": "2021-07-10T17:04:47.690Z"
   },
   {
    "duration": 4,
    "start_time": "2021-07-10T17:04:47.774Z"
   },
   {
    "duration": 13,
    "start_time": "2021-07-10T17:04:47.942Z"
   },
   {
    "duration": 4,
    "start_time": "2021-07-10T17:04:48.024Z"
   },
   {
    "duration": 8,
    "start_time": "2021-07-10T17:04:48.426Z"
   },
   {
    "duration": 5,
    "start_time": "2021-07-10T17:04:48.794Z"
   },
   {
    "duration": 6,
    "start_time": "2021-07-10T17:04:49.138Z"
   },
   {
    "duration": 11,
    "start_time": "2021-07-10T17:04:49.342Z"
   },
   {
    "duration": 323,
    "start_time": "2021-07-10T17:04:49.526Z"
   },
   {
    "duration": 5,
    "start_time": "2021-07-10T17:04:51.164Z"
   },
   {
    "duration": 692,
    "start_time": "2021-07-10T17:04:51.171Z"
   },
   {
    "duration": 232,
    "start_time": "2021-07-10T17:04:51.865Z"
   },
   {
    "duration": 3,
    "start_time": "2021-07-10T17:05:10.827Z"
   },
   {
    "duration": 29,
    "start_time": "2021-07-10T17:05:10.896Z"
   },
   {
    "duration": 7,
    "start_time": "2021-07-10T17:05:10.978Z"
   },
   {
    "duration": 6,
    "start_time": "2021-07-10T17:05:11.148Z"
   },
   {
    "duration": 4,
    "start_time": "2021-07-10T17:05:11.229Z"
   },
   {
    "duration": 9,
    "start_time": "2021-07-10T17:05:11.416Z"
   },
   {
    "duration": 4,
    "start_time": "2021-07-10T17:05:11.481Z"
   },
   {
    "duration": 8,
    "start_time": "2021-07-10T17:05:11.564Z"
   },
   {
    "duration": 6,
    "start_time": "2021-07-10T17:05:11.742Z"
   },
   {
    "duration": 6,
    "start_time": "2021-07-10T17:05:11.899Z"
   },
   {
    "duration": 10,
    "start_time": "2021-07-10T17:05:11.984Z"
   },
   {
    "duration": 326,
    "start_time": "2021-07-10T17:05:12.200Z"
   },
   {
    "duration": 12,
    "start_time": "2021-07-10T17:05:12.528Z"
   },
   {
    "duration": 10,
    "start_time": "2021-07-10T17:05:12.542Z"
   },
   {
    "duration": 214,
    "start_time": "2021-07-10T17:05:12.694Z"
   },
   {
    "duration": 2,
    "start_time": "2021-07-10T17:17:25.744Z"
   },
   {
    "duration": 7,
    "start_time": "2021-07-10T17:17:54.839Z"
   },
   {
    "duration": 84,
    "start_time": "2021-07-10T17:17:54.965Z"
   },
   {
    "duration": 5,
    "start_time": "2021-07-10T17:18:16.955Z"
   },
   {
    "duration": 3301,
    "start_time": "2021-07-10T17:18:24.611Z"
   },
   {
    "duration": 5,
    "start_time": "2021-07-10T17:18:29.524Z"
   },
   {
    "duration": 8,
    "start_time": "2021-07-10T17:20:17.263Z"
   },
   {
    "duration": 8,
    "start_time": "2021-07-10T17:20:25.610Z"
   },
   {
    "duration": 251,
    "start_time": "2021-07-10T17:21:36.236Z"
   },
   {
    "duration": 267,
    "start_time": "2021-07-10T17:21:53.872Z"
   },
   {
    "duration": 8,
    "start_time": "2021-07-10T17:22:12.430Z"
   },
   {
    "duration": 286,
    "start_time": "2021-07-10T17:23:02.900Z"
   },
   {
    "duration": 218,
    "start_time": "2021-07-10T17:23:14.657Z"
   },
   {
    "duration": 4,
    "start_time": "2021-07-10T17:28:10.807Z"
   },
   {
    "duration": 8,
    "start_time": "2021-07-10T17:28:13.882Z"
   },
   {
    "duration": 3,
    "start_time": "2021-07-10T17:28:23.910Z"
   },
   {
    "duration": 3,
    "start_time": "2021-07-10T17:28:24.444Z"
   },
   {
    "duration": 155,
    "start_time": "2021-07-10T17:28:45.411Z"
   },
   {
    "duration": 165,
    "start_time": "2021-07-10T17:29:03.496Z"
   },
   {
    "duration": 159,
    "start_time": "2021-07-10T17:29:14.614Z"
   },
   {
    "duration": 170,
    "start_time": "2021-07-10T17:29:52.353Z"
   },
   {
    "duration": 178,
    "start_time": "2021-07-10T17:30:17.408Z"
   },
   {
    "duration": 239,
    "start_time": "2021-07-10T17:31:16.696Z"
   },
   {
    "duration": 194,
    "start_time": "2021-07-10T17:31:22.018Z"
   },
   {
    "duration": 117,
    "start_time": "2021-07-10T17:32:53.353Z"
   },
   {
    "duration": 126,
    "start_time": "2021-07-10T17:32:58.873Z"
   },
   {
    "duration": 4,
    "start_time": "2021-07-10T17:33:17.082Z"
   },
   {
    "duration": 3,
    "start_time": "2021-07-10T17:33:20.409Z"
   },
   {
    "duration": 3,
    "start_time": "2021-07-10T17:33:23.745Z"
   },
   {
    "duration": 4,
    "start_time": "2021-07-10T17:33:25.954Z"
   },
   {
    "duration": 200,
    "start_time": "2021-07-10T17:35:25.892Z"
   },
   {
    "duration": 271,
    "start_time": "2021-07-10T17:35:35.933Z"
   },
   {
    "duration": 271,
    "start_time": "2021-07-10T17:35:41.488Z"
   },
   {
    "duration": 203,
    "start_time": "2021-07-10T17:37:03.665Z"
   },
   {
    "duration": 1000,
    "start_time": "2021-07-10T17:37:20.398Z"
   },
   {
    "duration": 987,
    "start_time": "2021-07-10T17:37:33.299Z"
   },
   {
    "duration": 192,
    "start_time": "2021-07-10T17:37:42.287Z"
   },
   {
    "duration": 194,
    "start_time": "2021-07-10T17:39:29.573Z"
   },
   {
    "duration": 1421,
    "start_time": "2021-07-10T17:40:24.559Z"
   },
   {
    "duration": 180,
    "start_time": "2021-07-10T17:40:40.859Z"
   },
   {
    "duration": 194,
    "start_time": "2021-07-10T17:40:51.424Z"
   },
   {
    "duration": 219,
    "start_time": "2021-07-10T17:43:25.953Z"
   },
   {
    "duration": 220,
    "start_time": "2021-07-10T17:43:43.633Z"
   },
   {
    "duration": 6,
    "start_time": "2021-07-10T17:44:46.957Z"
   },
   {
    "duration": 264,
    "start_time": "2021-07-10T17:45:01.415Z"
   },
   {
    "duration": 248,
    "start_time": "2021-07-10T17:45:17.302Z"
   },
   {
    "duration": 209,
    "start_time": "2021-07-10T17:46:26.348Z"
   },
   {
    "duration": 203,
    "start_time": "2021-07-10T17:46:28.199Z"
   },
   {
    "duration": 1448,
    "start_time": "2021-07-10T17:47:34.277Z"
   },
   {
    "duration": 1368,
    "start_time": "2021-07-10T17:47:36.198Z"
   },
   {
    "duration": 257,
    "start_time": "2021-07-10T18:00:20.619Z"
   },
   {
    "duration": 1363,
    "start_time": "2021-07-10T18:00:42.432Z"
   },
   {
    "duration": 1392,
    "start_time": "2021-07-10T18:00:43.797Z"
   },
   {
    "duration": 484,
    "start_time": "2021-07-10T18:01:43.697Z"
   },
   {
    "duration": 575,
    "start_time": "2021-07-10T18:01:49.867Z"
   },
   {
    "duration": 1477,
    "start_time": "2021-07-10T18:02:01.781Z"
   },
   {
    "duration": 651,
    "start_time": "2021-07-11T10:49:07.058Z"
   },
   {
    "duration": 31,
    "start_time": "2021-07-11T10:49:07.711Z"
   },
   {
    "duration": 9,
    "start_time": "2021-07-11T10:49:09.388Z"
   },
   {
    "duration": 5,
    "start_time": "2021-07-11T10:49:11.515Z"
   },
   {
    "duration": 4,
    "start_time": "2021-07-11T10:49:12.298Z"
   },
   {
    "duration": 9,
    "start_time": "2021-07-11T10:49:17.810Z"
   },
   {
    "duration": 4,
    "start_time": "2021-07-11T10:49:19.702Z"
   },
   {
    "duration": 8,
    "start_time": "2021-07-11T10:49:20.979Z"
   },
   {
    "duration": 6,
    "start_time": "2021-07-11T10:49:21.683Z"
   },
   {
    "duration": 7,
    "start_time": "2021-07-11T10:49:22.482Z"
   },
   {
    "duration": 11,
    "start_time": "2021-07-11T10:49:22.862Z"
   },
   {
    "duration": 332,
    "start_time": "2021-07-11T10:49:23.228Z"
   },
   {
    "duration": 4,
    "start_time": "2021-07-11T10:49:23.726Z"
   },
   {
    "duration": 525,
    "start_time": "2021-07-11T10:49:24.614Z"
   },
   {
    "duration": 220,
    "start_time": "2021-07-11T10:49:25.511Z"
   },
   {
    "duration": 204,
    "start_time": "2021-07-11T10:50:07.454Z"
   },
   {
    "duration": 8,
    "start_time": "2021-07-11T10:54:14.444Z"
   },
   {
    "duration": 321,
    "start_time": "2021-07-11T10:54:37.024Z"
   },
   {
    "duration": 264,
    "start_time": "2021-07-11T10:54:42.698Z"
   },
   {
    "duration": 202,
    "start_time": "2021-07-11T10:59:08.054Z"
   },
   {
    "duration": 363,
    "start_time": "2021-07-11T10:59:20.913Z"
   },
   {
    "duration": 384,
    "start_time": "2021-07-11T10:59:30.094Z"
   },
   {
    "duration": 205,
    "start_time": "2021-07-11T10:59:35.692Z"
   },
   {
    "duration": 276,
    "start_time": "2021-07-11T11:31:20.425Z"
   },
   {
    "duration": 274,
    "start_time": "2021-07-11T11:33:14.376Z"
   },
   {
    "duration": 273,
    "start_time": "2021-07-11T11:33:29.206Z"
   },
   {
    "duration": 327,
    "start_time": "2021-07-11T11:33:47.913Z"
   },
   {
    "duration": 545,
    "start_time": "2021-07-11T11:34:22.745Z"
   },
   {
    "duration": 272,
    "start_time": "2021-07-11T11:34:27.086Z"
   },
   {
    "duration": 279,
    "start_time": "2021-07-11T11:34:47.791Z"
   },
   {
    "duration": 220,
    "start_time": "2021-07-11T11:37:08.723Z"
   },
   {
    "duration": 83,
    "start_time": "2021-07-11T11:38:24.702Z"
   },
   {
    "duration": 239,
    "start_time": "2021-07-11T11:38:38.203Z"
   },
   {
    "duration": 8,
    "start_time": "2021-07-11T11:39:31.628Z"
   },
   {
    "duration": 297,
    "start_time": "2021-07-11T11:39:38.145Z"
   },
   {
    "duration": 223,
    "start_time": "2021-07-11T11:39:38.444Z"
   },
   {
    "duration": 1352,
    "start_time": "2021-07-11T11:39:38.669Z"
   },
   {
    "duration": 1636,
    "start_time": "2021-07-11T11:39:40.023Z"
   },
   {
    "duration": 315,
    "start_time": "2021-07-11T11:39:41.661Z"
   },
   {
    "duration": 229,
    "start_time": "2021-07-11T11:39:41.977Z"
   },
   {
    "duration": 220,
    "start_time": "2021-07-11T11:40:07.478Z"
   },
   {
    "duration": 1416,
    "start_time": "2021-07-11T11:40:45.107Z"
   },
   {
    "duration": 1528,
    "start_time": "2021-07-11T11:41:19.584Z"
   },
   {
    "duration": 1351,
    "start_time": "2021-07-11T11:41:58.554Z"
   },
   {
    "duration": 1530,
    "start_time": "2021-07-11T11:42:10.571Z"
   },
   {
    "duration": 1516,
    "start_time": "2021-07-11T11:44:31.658Z"
   },
   {
    "duration": 1589,
    "start_time": "2021-07-11T11:44:44.884Z"
   },
   {
    "duration": 1656,
    "start_time": "2021-07-11T11:44:49.230Z"
   },
   {
    "duration": 48,
    "start_time": "2021-07-11T12:20:48.008Z"
   },
   {
    "duration": 815,
    "start_time": "2021-07-11T17:54:46.445Z"
   },
   {
    "duration": 863,
    "start_time": "2021-07-11T17:54:54.878Z"
   },
   {
    "duration": 269,
    "start_time": "2021-07-11T17:55:00.373Z"
   },
   {
    "duration": 270,
    "start_time": "2021-07-11T17:55:06.018Z"
   },
   {
    "duration": 250,
    "start_time": "2021-07-11T17:55:10.102Z"
   },
   {
    "duration": 290,
    "start_time": "2021-07-11T18:04:55.436Z"
   },
   {
    "duration": 247,
    "start_time": "2021-07-11T18:05:09.295Z"
   },
   {
    "duration": 262,
    "start_time": "2021-07-11T18:05:13.018Z"
   },
   {
    "duration": 248,
    "start_time": "2021-07-11T18:05:17.600Z"
   },
   {
    "duration": 243,
    "start_time": "2021-07-11T18:05:25.106Z"
   },
   {
    "duration": 389,
    "start_time": "2021-07-11T18:55:11.374Z"
   },
   {
    "duration": 5,
    "start_time": "2021-07-11T18:55:26.226Z"
   },
   {
    "duration": 30,
    "start_time": "2021-07-11T18:55:26.342Z"
   },
   {
    "duration": 502,
    "start_time": "2021-07-11T18:55:29.954Z"
   },
   {
    "duration": 486,
    "start_time": "2021-07-11T18:55:40.470Z"
   },
   {
    "duration": 236,
    "start_time": "2021-07-11T18:57:32.082Z"
   },
   {
    "duration": 490,
    "start_time": "2021-07-11T18:57:36.100Z"
   },
   {
    "duration": 393,
    "start_time": "2021-07-11T18:58:29.601Z"
   },
   {
    "duration": 475,
    "start_time": "2021-07-11T18:58:40.800Z"
   },
   {
    "duration": 253,
    "start_time": "2021-07-11T18:58:53.296Z"
   },
   {
    "duration": 391,
    "start_time": "2021-07-11T18:58:58.052Z"
   },
   {
    "duration": 543,
    "start_time": "2021-07-11T18:59:08.580Z"
   },
   {
    "duration": 804,
    "start_time": "2021-07-11T18:59:28.291Z"
   },
   {
    "duration": 552,
    "start_time": "2021-07-11T18:59:34.127Z"
   },
   {
    "duration": 494,
    "start_time": "2021-07-11T18:59:47.746Z"
   },
   {
    "duration": 561,
    "start_time": "2021-07-11T18:59:53.432Z"
   },
   {
    "duration": 357,
    "start_time": "2021-07-11T22:10:14.992Z"
   },
   {
    "duration": 341,
    "start_time": "2021-07-11T22:10:26.559Z"
   },
   {
    "duration": 309,
    "start_time": "2021-07-11T22:10:39.761Z"
   },
   {
    "duration": 287,
    "start_time": "2021-07-11T22:10:42.962Z"
   },
   {
    "duration": 864,
    "start_time": "2021-07-11T22:10:47.202Z"
   },
   {
    "duration": 34,
    "start_time": "2021-07-11T22:10:48.069Z"
   },
   {
    "duration": 15,
    "start_time": "2021-07-11T22:10:48.106Z"
   },
   {
    "duration": 8,
    "start_time": "2021-07-11T22:10:48.124Z"
   },
   {
    "duration": 8,
    "start_time": "2021-07-11T22:10:48.134Z"
   },
   {
    "duration": 12,
    "start_time": "2021-07-11T22:10:48.145Z"
   },
   {
    "duration": 12,
    "start_time": "2021-07-11T22:10:48.159Z"
   },
   {
    "duration": 10,
    "start_time": "2021-07-11T22:10:48.187Z"
   },
   {
    "duration": 9,
    "start_time": "2021-07-11T22:10:48.199Z"
   },
   {
    "duration": 9,
    "start_time": "2021-07-11T22:10:48.291Z"
   },
   {
    "duration": 17,
    "start_time": "2021-07-11T22:10:48.380Z"
   },
   {
    "duration": 551,
    "start_time": "2021-07-11T22:10:48.457Z"
   },
   {
    "duration": 687,
    "start_time": "2021-07-11T22:10:49.011Z"
   },
   {
    "duration": 8,
    "start_time": "2021-07-11T22:10:49.701Z"
   },
   {
    "duration": 769,
    "start_time": "2021-07-11T22:10:49.712Z"
   },
   {
    "duration": 543,
    "start_time": "2021-07-11T22:10:50.484Z"
   },
   {
    "duration": 442,
    "start_time": "2021-07-11T22:10:51.030Z"
   },
   {
    "duration": 22,
    "start_time": "2021-07-11T22:10:51.475Z"
   },
   {
    "duration": 601,
    "start_time": "2021-07-11T22:10:51.501Z"
   },
   {
    "duration": 449,
    "start_time": "2021-07-11T22:10:52.105Z"
   },
   {
    "duration": 3297,
    "start_time": "2021-07-11T22:10:52.557Z"
   },
   {
    "duration": 3765,
    "start_time": "2021-07-11T22:10:55.856Z"
   },
   {
    "duration": 615,
    "start_time": "2021-07-11T22:10:59.624Z"
   },
   {
    "duration": 462,
    "start_time": "2021-07-11T22:11:00.242Z"
   },
   {
    "duration": 266,
    "start_time": "2021-07-11T22:11:00.706Z"
   },
   {
    "duration": 549,
    "start_time": "2021-07-11T22:11:00.975Z"
   },
   {
    "duration": 246,
    "start_time": "2021-07-11T22:11:39.474Z"
   },
   {
    "duration": 647,
    "start_time": "2021-07-11T22:11:57.772Z"
   },
   {
    "duration": 795,
    "start_time": "2021-07-11T22:12:13.290Z"
   },
   {
    "duration": 643,
    "start_time": "2021-07-11T22:12:21.916Z"
   },
   {
    "duration": 702,
    "start_time": "2021-07-11T22:12:27.954Z"
   },
   {
    "duration": 301,
    "start_time": "2021-07-11T22:12:35.717Z"
   },
   {
    "duration": 5,
    "start_time": "2021-07-11T22:22:49.157Z"
   },
   {
    "duration": 100,
    "start_time": "2021-07-11T22:26:15.971Z"
   },
   {
    "duration": 142,
    "start_time": "2021-07-11T22:26:29.741Z"
   },
   {
    "duration": 137,
    "start_time": "2021-07-11T22:26:47.613Z"
   },
   {
    "duration": 147,
    "start_time": "2021-07-11T22:26:51.410Z"
   },
   {
    "duration": 136,
    "start_time": "2021-07-11T22:27:03.338Z"
   },
   {
    "duration": 139,
    "start_time": "2021-07-11T22:27:08.195Z"
   },
   {
    "duration": 142,
    "start_time": "2021-07-11T22:27:22.053Z"
   },
   {
    "duration": 144,
    "start_time": "2021-07-11T22:27:25.940Z"
   },
   {
    "duration": 201,
    "start_time": "2021-07-11T22:27:34.555Z"
   },
   {
    "duration": 99,
    "start_time": "2021-07-11T22:27:40.602Z"
   },
   {
    "duration": 115,
    "start_time": "2021-07-11T22:27:43.992Z"
   },
   {
    "duration": 145,
    "start_time": "2021-07-11T22:27:47.966Z"
   },
   {
    "duration": 449,
    "start_time": "2021-07-11T22:28:15.449Z"
   },
   {
    "duration": 332,
    "start_time": "2021-07-11T22:28:52.917Z"
   },
   {
    "duration": 141,
    "start_time": "2021-07-11T22:28:58.828Z"
   },
   {
    "duration": 7974,
    "start_time": "2021-07-11T22:31:43.700Z"
   },
   {
    "duration": 605,
    "start_time": "2021-07-11T22:31:53.337Z"
   },
   {
    "duration": 277,
    "start_time": "2021-07-11T22:31:59.535Z"
   },
   {
    "duration": 394,
    "start_time": "2021-07-11T22:32:14.966Z"
   },
   {
    "duration": 320,
    "start_time": "2021-07-11T22:32:23.231Z"
   },
   {
    "duration": 260,
    "start_time": "2021-07-11T22:32:31.238Z"
   },
   {
    "duration": 10,
    "start_time": "2021-07-11T22:37:34.749Z"
   },
   {
    "duration": 555,
    "start_time": "2021-07-11T22:40:42.436Z"
   },
   {
    "duration": 668,
    "start_time": "2021-07-11T22:40:47.674Z"
   },
   {
    "duration": 4013,
    "start_time": "2021-07-11T22:45:56.197Z"
   },
   {
    "duration": 294,
    "start_time": "2021-07-11T22:47:47.335Z"
   },
   {
    "duration": 1194,
    "start_time": "2021-07-11T22:47:50.913Z"
   },
   {
    "duration": 516,
    "start_time": "2021-07-11T22:48:01.802Z"
   },
   {
    "duration": 828,
    "start_time": "2021-07-11T22:48:11.925Z"
   },
   {
    "duration": 652,
    "start_time": "2021-07-11T22:48:20.838Z"
   },
   {
    "duration": 538,
    "start_time": "2021-07-11T22:48:52.588Z"
   },
   {
    "duration": 3870,
    "start_time": "2021-07-12T05:18:24.394Z"
   },
   {
    "duration": 34,
    "start_time": "2021-07-12T05:18:28.267Z"
   },
   {
    "duration": 20,
    "start_time": "2021-07-12T05:18:28.304Z"
   },
   {
    "duration": 20,
    "start_time": "2021-07-12T05:18:28.327Z"
   },
   {
    "duration": 7,
    "start_time": "2021-07-12T05:18:28.349Z"
   },
   {
    "duration": 15,
    "start_time": "2021-07-12T05:18:28.358Z"
   },
   {
    "duration": 10,
    "start_time": "2021-07-12T05:18:28.375Z"
   },
   {
    "duration": 21,
    "start_time": "2021-07-12T05:18:28.388Z"
   },
   {
    "duration": 10,
    "start_time": "2021-07-12T05:18:28.412Z"
   },
   {
    "duration": 9,
    "start_time": "2021-07-12T05:18:28.454Z"
   },
   {
    "duration": 21,
    "start_time": "2021-07-12T05:18:28.465Z"
   },
   {
    "duration": 556,
    "start_time": "2021-07-12T05:18:28.489Z"
   },
   {
    "duration": 664,
    "start_time": "2021-07-12T05:18:29.055Z"
   },
   {
    "duration": 8,
    "start_time": "2021-07-12T05:18:29.722Z"
   },
   {
    "duration": 40903,
    "start_time": "2021-07-12T05:18:29.732Z"
   },
   {
    "duration": 421,
    "start_time": "2021-07-12T05:19:10.639Z"
   },
   {
    "duration": 429,
    "start_time": "2021-07-12T05:19:11.063Z"
   },
   {
    "duration": 14,
    "start_time": "2021-07-12T05:19:11.495Z"
   },
   {
    "duration": 589,
    "start_time": "2021-07-12T05:19:11.512Z"
   },
   {
    "duration": 438,
    "start_time": "2021-07-12T05:19:12.104Z"
   },
   {
    "duration": 3132,
    "start_time": "2021-07-12T05:19:12.545Z"
   },
   {
    "duration": 3733,
    "start_time": "2021-07-12T05:19:15.680Z"
   },
   {
    "duration": 590,
    "start_time": "2021-07-12T05:19:19.417Z"
   },
   {
    "duration": 441,
    "start_time": "2021-07-12T05:19:20.009Z"
   },
   {
    "duration": 540,
    "start_time": "2021-07-12T05:22:30.621Z"
   },
   {
    "duration": 20,
    "start_time": "2021-07-12T05:22:39.607Z"
   },
   {
    "duration": 950,
    "start_time": "2021-07-12T06:36:07.408Z"
   },
   {
    "duration": 27,
    "start_time": "2021-07-12T06:36:08.361Z"
   },
   {
    "duration": 16,
    "start_time": "2021-07-12T06:36:27.395Z"
   },
   {
    "duration": 8,
    "start_time": "2021-07-12T06:36:27.551Z"
   },
   {
    "duration": 6,
    "start_time": "2021-07-12T06:36:27.645Z"
   },
   {
    "duration": 14,
    "start_time": "2021-07-12T06:36:27.991Z"
   },
   {
    "duration": 6,
    "start_time": "2021-07-12T06:36:28.206Z"
   },
   {
    "duration": 12,
    "start_time": "2021-07-12T06:36:28.400Z"
   },
   {
    "duration": 131,
    "start_time": "2021-07-12T06:36:51.922Z"
   },
   {
    "duration": 1160,
    "start_time": "2021-07-12T06:36:55.220Z"
   },
   {
    "duration": 28,
    "start_time": "2021-07-12T06:38:14.068Z"
   },
   {
    "duration": 9,
    "start_time": "2021-07-12T06:38:14.740Z"
   },
   {
    "duration": 14,
    "start_time": "2021-07-12T06:38:14.906Z"
   },
   {
    "duration": 27,
    "start_time": "2021-07-12T06:38:14.993Z"
   },
   {
    "duration": 633,
    "start_time": "2021-07-12T06:38:15.710Z"
   },
   {
    "duration": 704,
    "start_time": "2021-07-12T06:38:16.346Z"
   },
   {
    "duration": 8,
    "start_time": "2021-07-12T06:38:17.052Z"
   },
   {
    "duration": 80,
    "start_time": "2021-07-12T06:38:17.544Z"
   },
   {
    "duration": 415,
    "start_time": "2021-07-12T06:38:17.978Z"
   },
   {
    "duration": 639,
    "start_time": "2021-07-12T06:38:18.599Z"
   },
   {
    "duration": 13,
    "start_time": "2021-07-12T06:38:24.109Z"
   },
   {
    "duration": 577,
    "start_time": "2021-07-12T06:38:25.148Z"
   },
   {
    "duration": 457,
    "start_time": "2021-07-12T06:38:25.728Z"
   },
   {
    "duration": 3427,
    "start_time": "2021-07-12T06:39:09.424Z"
   },
   {
    "duration": 3950,
    "start_time": "2021-07-12T06:39:12.853Z"
   },
   {
    "duration": 25,
    "start_time": "2021-07-12T06:46:46.208Z"
   },
   {
    "duration": 28,
    "start_time": "2021-07-12T06:46:48.395Z"
   },
   {
    "duration": 588,
    "start_time": "2021-07-12T06:47:18.006Z"
   },
   {
    "duration": 13,
    "start_time": "2021-07-12T06:47:21.359Z"
   },
   {
    "duration": 13,
    "start_time": "2021-07-12T06:47:23.916Z"
   },
   {
    "duration": 13,
    "start_time": "2021-07-12T06:47:25.160Z"
   },
   {
    "duration": 117,
    "start_time": "2021-07-12T06:54:50.665Z"
   },
   {
    "duration": 104,
    "start_time": "2021-07-12T06:54:54.886Z"
   },
   {
    "duration": 572,
    "start_time": "2021-07-12T07:04:41.319Z"
   },
   {
    "duration": 599,
    "start_time": "2021-07-12T07:04:48.515Z"
   },
   {
    "duration": 556,
    "start_time": "2021-07-12T07:05:00.312Z"
   },
   {
    "duration": 567,
    "start_time": "2021-07-13T05:12:52.328Z"
   },
   {
    "duration": 39,
    "start_time": "2021-07-13T05:12:52.896Z"
   },
   {
    "duration": 8,
    "start_time": "2021-07-13T05:12:52.937Z"
   },
   {
    "duration": 7,
    "start_time": "2021-07-13T05:12:52.947Z"
   },
   {
    "duration": 6,
    "start_time": "2021-07-13T05:12:52.955Z"
   },
   {
    "duration": 14,
    "start_time": "2021-07-13T05:12:52.962Z"
   },
   {
    "duration": 8,
    "start_time": "2021-07-13T05:12:52.977Z"
   },
   {
    "duration": 8,
    "start_time": "2021-07-13T05:12:52.987Z"
   },
   {
    "duration": 30001,
    "start_time": "2021-07-13T05:12:52.997Z"
   },
   {
    "duration": -1,
    "start_time": "2021-07-13T05:13:23.001Z"
   },
   {
    "duration": -88,
    "start_time": "2021-07-13T05:13:23.089Z"
   },
   {
    "duration": -97,
    "start_time": "2021-07-13T05:13:23.099Z"
   },
   {
    "duration": -98,
    "start_time": "2021-07-13T05:13:23.101Z"
   },
   {
    "duration": -101,
    "start_time": "2021-07-13T05:13:23.105Z"
   },
   {
    "duration": -103,
    "start_time": "2021-07-13T05:13:23.108Z"
   },
   {
    "duration": -107,
    "start_time": "2021-07-13T05:13:23.112Z"
   },
   {
    "duration": -111,
    "start_time": "2021-07-13T05:13:23.117Z"
   },
   {
    "duration": -115,
    "start_time": "2021-07-13T05:13:23.122Z"
   },
   {
    "duration": -119,
    "start_time": "2021-07-13T05:13:23.127Z"
   },
   {
    "duration": -122,
    "start_time": "2021-07-13T05:13:23.131Z"
   },
   {
    "duration": -125,
    "start_time": "2021-07-13T05:13:23.135Z"
   },
   {
    "duration": -128,
    "start_time": "2021-07-13T05:13:23.139Z"
   },
   {
    "duration": 27,
    "start_time": "2021-07-13T05:22:49.800Z"
   },
   {
    "duration": 8,
    "start_time": "2021-07-13T05:22:54.310Z"
   },
   {
    "duration": 7,
    "start_time": "2021-07-13T05:22:54.625Z"
   },
   {
    "duration": 13,
    "start_time": "2021-07-13T05:22:54.780Z"
   },
   {
    "duration": 366,
    "start_time": "2021-07-13T05:22:54.940Z"
   },
   {
    "duration": 402,
    "start_time": "2021-07-13T05:22:55.308Z"
   },
   {
    "duration": 5,
    "start_time": "2021-07-13T05:22:55.712Z"
   },
   {
    "duration": 17,
    "start_time": "2021-07-13T05:22:55.719Z"
   },
   {
    "duration": 232,
    "start_time": "2021-07-13T05:22:55.999Z"
   },
   {
    "duration": 236,
    "start_time": "2021-07-13T05:22:56.635Z"
   },
   {
    "duration": 8,
    "start_time": "2021-07-13T05:22:58.135Z"
   },
   {
    "duration": 306,
    "start_time": "2021-07-13T05:22:58.635Z"
   },
   {
    "duration": 1667,
    "start_time": "2021-07-13T05:23:15.725Z"
   },
   {
    "duration": 302,
    "start_time": "2021-07-13T05:23:21.500Z"
   },
   {
    "duration": 640,
    "start_time": "2021-07-13T05:39:11.673Z"
   },
   {
    "duration": 29,
    "start_time": "2021-07-13T05:39:12.314Z"
   },
   {
    "duration": 16,
    "start_time": "2021-07-13T05:39:12.345Z"
   },
   {
    "duration": 8,
    "start_time": "2021-07-13T05:39:12.363Z"
   },
   {
    "duration": 8,
    "start_time": "2021-07-13T05:39:12.372Z"
   },
   {
    "duration": 11,
    "start_time": "2021-07-13T05:39:12.381Z"
   },
   {
    "duration": 8,
    "start_time": "2021-07-13T05:39:12.394Z"
   },
   {
    "duration": 12,
    "start_time": "2021-07-13T05:39:12.404Z"
   },
   {
    "duration": 30939,
    "start_time": "2021-07-13T05:39:12.418Z"
   },
   {
    "duration": 6,
    "start_time": "2021-07-13T05:39:43.358Z"
   },
   {
    "duration": 8,
    "start_time": "2021-07-13T05:39:43.366Z"
   },
   {
    "duration": 20,
    "start_time": "2021-07-13T05:39:43.375Z"
   },
   {
    "duration": 343,
    "start_time": "2021-07-13T05:39:43.397Z"
   },
   {
    "duration": 353,
    "start_time": "2021-07-13T05:39:43.741Z"
   },
   {
    "duration": 4,
    "start_time": "2021-07-13T05:39:44.096Z"
   },
   {
    "duration": 101,
    "start_time": "2021-07-13T05:39:44.102Z"
   },
   {
    "duration": 209,
    "start_time": "2021-07-13T05:39:44.205Z"
   },
   {
    "duration": 229,
    "start_time": "2021-07-13T05:39:44.416Z"
   },
   {
    "duration": 8,
    "start_time": "2021-07-13T05:39:44.646Z"
   },
   {
    "duration": 306,
    "start_time": "2021-07-13T05:39:44.655Z"
   },
   {
    "duration": 1683,
    "start_time": "2021-07-13T05:39:44.963Z"
   },
   {
    "duration": 322,
    "start_time": "2021-07-13T05:39:46.647Z"
   }
  ],
  "kernelspec": {
   "display_name": "Python 3",
   "language": "python",
   "name": "python3"
  },
  "language_info": {
   "codemirror_mode": {
    "name": "ipython",
    "version": 3
   },
   "file_extension": ".py",
   "mimetype": "text/x-python",
   "name": "python",
   "nbconvert_exporter": "python",
   "pygments_lexer": "ipython3",
   "version": "3.7.8"
  },
  "toc": {
   "base_numbering": 1,
   "nav_menu": {},
   "number_sections": true,
   "sideBar": true,
   "skip_h1_title": true,
   "title_cell": "Table of Contents",
   "title_sidebar": "Contents",
   "toc_cell": false,
   "toc_position": {},
   "toc_section_display": true,
   "toc_window_display": false
  }
 },
 "nbformat": 4,
 "nbformat_minor": 2
}
